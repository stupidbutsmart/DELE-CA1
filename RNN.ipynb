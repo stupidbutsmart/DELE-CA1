{
 "cells": [
  {
   "cell_type": "markdown",
   "id": "91a774b5",
   "metadata": {},
   "source": [
    "### Section B CA1 RNN\n",
    "\n",
    "Name: Jovan Heng Ghim Hong\n",
    "\n",
    "Class: DAAA/2B/22\n",
    "\n",
    "Admin No: 2401418"
   ]
  },
  {
   "cell_type": "code",
   "execution_count": 1,
   "id": "1bbc81c8",
   "metadata": {},
   "outputs": [],
   "source": [
    "import tensorflow as tf\n",
    "\n",
    "gpus = tf.config.experimental.list_physical_devices('GPU')\n",
    "if gpus:\n",
    "    try:\n",
    "        for gpu in gpus:\n",
    "            tf.config.experimental.set_memory_growth(gpu, True)\n",
    "    except RuntimeError as e:\n",
    "        print(e)"
   ]
  },
  {
   "cell_type": "code",
   "execution_count": null,
   "id": "6e7e9031",
   "metadata": {},
   "outputs": [
    {
     "ename": "KeyboardInterrupt",
     "evalue": "",
     "output_type": "error",
     "traceback": [
      "\u001b[1;31m---------------------------------------------------------------------------\u001b[0m",
      "\u001b[1;31mKeyboardInterrupt\u001b[0m                         Traceback (most recent call last)",
      "Cell \u001b[1;32mIn[3], line 11\u001b[0m\n\u001b[0;32m      8\u001b[0m \u001b[38;5;28;01mimport\u001b[39;00m \u001b[38;5;21;01mre\u001b[39;00m\n\u001b[0;32m      9\u001b[0m \u001b[38;5;28;01mimport\u001b[39;00m \u001b[38;5;21;01mmath\u001b[39;00m\n\u001b[1;32m---> 11\u001b[0m \u001b[38;5;28;01mfrom\u001b[39;00m \u001b[38;5;21;01mtensorflow\u001b[39;00m\u001b[38;5;21;01m.\u001b[39;00m\u001b[38;5;21;01mkeras\u001b[39;00m\u001b[38;5;21;01m.\u001b[39;00m\u001b[38;5;21;01mpreprocessing\u001b[39;00m\u001b[38;5;21;01m.\u001b[39;00m\u001b[38;5;21;01msequence\u001b[39;00m \u001b[38;5;28;01mimport\u001b[39;00m pad_sequences\n\u001b[0;32m     12\u001b[0m \u001b[38;5;28;01mfrom\u001b[39;00m \u001b[38;5;21;01mtensorflow\u001b[39;00m\u001b[38;5;21;01m.\u001b[39;00m\u001b[38;5;21;01mkeras\u001b[39;00m\u001b[38;5;21;01m.\u001b[39;00m\u001b[38;5;21;01mpreprocessing\u001b[39;00m\u001b[38;5;21;01m.\u001b[39;00m\u001b[38;5;21;01mtext\u001b[39;00m \u001b[38;5;28;01mimport\u001b[39;00m Tokenizer\n\u001b[0;32m     13\u001b[0m \u001b[38;5;28;01mfrom\u001b[39;00m \u001b[38;5;21;01mtensorflow\u001b[39;00m\u001b[38;5;21;01m.\u001b[39;00m\u001b[38;5;21;01mkeras\u001b[39;00m\u001b[38;5;21;01m.\u001b[39;00m\u001b[38;5;21;01mlayers\u001b[39;00m \u001b[38;5;28;01mimport\u001b[39;00m Dense , Dropout, LSTM, GRU, SimpleRNN, Embedding\n",
      "File \u001b[1;32mc:\\Users\\JOVAN\\anaconda3\\envs\\gpu_env2\\lib\\site-packages\\tensorflow\\__init__.py:37\u001b[0m\n\u001b[0;32m     34\u001b[0m \u001b[38;5;28;01mimport\u001b[39;00m \u001b[38;5;21;01msys\u001b[39;00m \u001b[38;5;28;01mas\u001b[39;00m \u001b[38;5;21;01m_sys\u001b[39;00m\n\u001b[0;32m     35\u001b[0m \u001b[38;5;28;01mimport\u001b[39;00m \u001b[38;5;21;01mtyping\u001b[39;00m \u001b[38;5;28;01mas\u001b[39;00m \u001b[38;5;21;01m_typing\u001b[39;00m\n\u001b[1;32m---> 37\u001b[0m \u001b[38;5;28;01mfrom\u001b[39;00m \u001b[38;5;21;01mtensorflow\u001b[39;00m\u001b[38;5;21;01m.\u001b[39;00m\u001b[38;5;21;01mpython\u001b[39;00m\u001b[38;5;21;01m.\u001b[39;00m\u001b[38;5;21;01mtools\u001b[39;00m \u001b[38;5;28;01mimport\u001b[39;00m module_util \u001b[38;5;28;01mas\u001b[39;00m _module_util\n\u001b[0;32m     38\u001b[0m \u001b[38;5;28;01mfrom\u001b[39;00m \u001b[38;5;21;01mtensorflow\u001b[39;00m\u001b[38;5;21;01m.\u001b[39;00m\u001b[38;5;21;01mpython\u001b[39;00m\u001b[38;5;21;01m.\u001b[39;00m\u001b[38;5;21;01mutil\u001b[39;00m\u001b[38;5;21;01m.\u001b[39;00m\u001b[38;5;21;01mlazy_loader\u001b[39;00m \u001b[38;5;28;01mimport\u001b[39;00m LazyLoader \u001b[38;5;28;01mas\u001b[39;00m _LazyLoader\n\u001b[0;32m     40\u001b[0m \u001b[38;5;66;03m# Make sure code inside the TensorFlow codebase can use tf2.enabled() at import.\u001b[39;00m\n",
      "File \u001b[1;32mc:\\Users\\JOVAN\\anaconda3\\envs\\gpu_env2\\lib\\site-packages\\tensorflow\\python\\__init__.py:45\u001b[0m\n\u001b[0;32m     43\u001b[0m \u001b[38;5;28;01mfrom\u001b[39;00m \u001b[38;5;21;01mtensorflow\u001b[39;00m\u001b[38;5;21;01m.\u001b[39;00m\u001b[38;5;21;01mpython\u001b[39;00m \u001b[38;5;28;01mimport\u001b[39;00m distribute\n\u001b[0;32m     44\u001b[0m \u001b[38;5;66;03m# from tensorflow.python import keras\u001b[39;00m\n\u001b[1;32m---> 45\u001b[0m \u001b[38;5;28;01mfrom\u001b[39;00m \u001b[38;5;21;01mtensorflow\u001b[39;00m\u001b[38;5;21;01m.\u001b[39;00m\u001b[38;5;21;01mpython\u001b[39;00m\u001b[38;5;21;01m.\u001b[39;00m\u001b[38;5;21;01mfeature_column\u001b[39;00m \u001b[38;5;28;01mimport\u001b[39;00m feature_column_lib \u001b[38;5;28;01mas\u001b[39;00m feature_column\n\u001b[0;32m     46\u001b[0m \u001b[38;5;66;03m# from tensorflow.python.layers import layers\u001b[39;00m\n\u001b[0;32m     47\u001b[0m \u001b[38;5;28;01mfrom\u001b[39;00m \u001b[38;5;21;01mtensorflow\u001b[39;00m\u001b[38;5;21;01m.\u001b[39;00m\u001b[38;5;21;01mpython\u001b[39;00m\u001b[38;5;21;01m.\u001b[39;00m\u001b[38;5;21;01mmodule\u001b[39;00m \u001b[38;5;28;01mimport\u001b[39;00m module\n",
      "File \u001b[1;32mc:\\Users\\JOVAN\\anaconda3\\envs\\gpu_env2\\lib\\site-packages\\tensorflow\\python\\feature_column\\feature_column_lib.py:18\u001b[0m\n\u001b[0;32m     15\u001b[0m \u001b[38;5;124;03m\"\"\"FeatureColumns: tools for ingesting and representing features.\"\"\"\u001b[39;00m\n\u001b[0;32m     17\u001b[0m \u001b[38;5;66;03m# pylint: disable=unused-import,line-too-long,wildcard-import,g-bad-import-order\u001b[39;00m\n\u001b[1;32m---> 18\u001b[0m \u001b[38;5;28;01mfrom\u001b[39;00m \u001b[38;5;21;01mtensorflow\u001b[39;00m\u001b[38;5;21;01m.\u001b[39;00m\u001b[38;5;21;01mpython\u001b[39;00m\u001b[38;5;21;01m.\u001b[39;00m\u001b[38;5;21;01mfeature_column\u001b[39;00m\u001b[38;5;21;01m.\u001b[39;00m\u001b[38;5;21;01mfeature_column\u001b[39;00m \u001b[38;5;28;01mimport\u001b[39;00m \u001b[38;5;241m*\u001b[39m\n\u001b[0;32m     19\u001b[0m \u001b[38;5;28;01mfrom\u001b[39;00m \u001b[38;5;21;01mtensorflow\u001b[39;00m\u001b[38;5;21;01m.\u001b[39;00m\u001b[38;5;21;01mpython\u001b[39;00m\u001b[38;5;21;01m.\u001b[39;00m\u001b[38;5;21;01mfeature_column\u001b[39;00m\u001b[38;5;21;01m.\u001b[39;00m\u001b[38;5;21;01mfeature_column_v2\u001b[39;00m \u001b[38;5;28;01mimport\u001b[39;00m \u001b[38;5;241m*\u001b[39m\n\u001b[0;32m     20\u001b[0m \u001b[38;5;28;01mfrom\u001b[39;00m \u001b[38;5;21;01mtensorflow\u001b[39;00m\u001b[38;5;21;01m.\u001b[39;00m\u001b[38;5;21;01mpython\u001b[39;00m\u001b[38;5;21;01m.\u001b[39;00m\u001b[38;5;21;01mfeature_column\u001b[39;00m\u001b[38;5;21;01m.\u001b[39;00m\u001b[38;5;21;01msequence_feature_column\u001b[39;00m \u001b[38;5;28;01mimport\u001b[39;00m \u001b[38;5;241m*\u001b[39m\n",
      "File \u001b[1;32mc:\\Users\\JOVAN\\anaconda3\\envs\\gpu_env2\\lib\\site-packages\\tensorflow\\python\\feature_column\\feature_column.py:143\u001b[0m\n\u001b[0;32m    141\u001b[0m \u001b[38;5;28;01mfrom\u001b[39;00m \u001b[38;5;21;01mtensorflow\u001b[39;00m\u001b[38;5;21;01m.\u001b[39;00m\u001b[38;5;21;01mpython\u001b[39;00m\u001b[38;5;21;01m.\u001b[39;00m\u001b[38;5;21;01mframework\u001b[39;00m \u001b[38;5;28;01mimport\u001b[39;00m sparse_tensor \u001b[38;5;28;01mas\u001b[39;00m sparse_tensor_lib\n\u001b[0;32m    142\u001b[0m \u001b[38;5;28;01mfrom\u001b[39;00m \u001b[38;5;21;01mtensorflow\u001b[39;00m\u001b[38;5;21;01m.\u001b[39;00m\u001b[38;5;21;01mpython\u001b[39;00m\u001b[38;5;21;01m.\u001b[39;00m\u001b[38;5;21;01mframework\u001b[39;00m \u001b[38;5;28;01mimport\u001b[39;00m tensor_shape\n\u001b[1;32m--> 143\u001b[0m \u001b[38;5;28;01mfrom\u001b[39;00m \u001b[38;5;21;01mtensorflow\u001b[39;00m\u001b[38;5;21;01m.\u001b[39;00m\u001b[38;5;21;01mpython\u001b[39;00m\u001b[38;5;21;01m.\u001b[39;00m\u001b[38;5;21;01mlayers\u001b[39;00m \u001b[38;5;28;01mimport\u001b[39;00m base\n\u001b[0;32m    144\u001b[0m \u001b[38;5;28;01mfrom\u001b[39;00m \u001b[38;5;21;01mtensorflow\u001b[39;00m\u001b[38;5;21;01m.\u001b[39;00m\u001b[38;5;21;01mpython\u001b[39;00m\u001b[38;5;21;01m.\u001b[39;00m\u001b[38;5;21;01mops\u001b[39;00m \u001b[38;5;28;01mimport\u001b[39;00m array_ops\n\u001b[0;32m    145\u001b[0m \u001b[38;5;28;01mfrom\u001b[39;00m \u001b[38;5;21;01mtensorflow\u001b[39;00m\u001b[38;5;21;01m.\u001b[39;00m\u001b[38;5;21;01mpython\u001b[39;00m\u001b[38;5;21;01m.\u001b[39;00m\u001b[38;5;21;01mops\u001b[39;00m \u001b[38;5;28;01mimport\u001b[39;00m check_ops\n",
      "File \u001b[1;32mc:\\Users\\JOVAN\\anaconda3\\envs\\gpu_env2\\lib\\site-packages\\tensorflow\\python\\layers\\base.py:16\u001b[0m\n\u001b[0;32m      1\u001b[0m \u001b[38;5;66;03m# Copyright 2015 The TensorFlow Authors. All Rights Reserved.\u001b[39;00m\n\u001b[0;32m      2\u001b[0m \u001b[38;5;66;03m#\u001b[39;00m\n\u001b[0;32m      3\u001b[0m \u001b[38;5;66;03m# Licensed under the Apache License, Version 2.0 (the \"License\");\u001b[39;00m\n\u001b[1;32m   (...)\u001b[0m\n\u001b[0;32m     13\u001b[0m \u001b[38;5;66;03m# limitations under the License.\u001b[39;00m\n\u001b[0;32m     14\u001b[0m \u001b[38;5;66;03m# =============================================================================\u001b[39;00m\n\u001b[0;32m     15\u001b[0m \u001b[38;5;124;03m\"\"\"Contains the base Layer class, from which all layers inherit.\"\"\"\u001b[39;00m\n\u001b[1;32m---> 16\u001b[0m \u001b[38;5;28;01mfrom\u001b[39;00m \u001b[38;5;21;01mtensorflow\u001b[39;00m\u001b[38;5;21;01m.\u001b[39;00m\u001b[38;5;21;01mpython\u001b[39;00m\u001b[38;5;21;01m.\u001b[39;00m\u001b[38;5;21;01mkeras\u001b[39;00m\u001b[38;5;21;01m.\u001b[39;00m\u001b[38;5;21;01mlegacy_tf_layers\u001b[39;00m \u001b[38;5;28;01mimport\u001b[39;00m base\n\u001b[0;32m     18\u001b[0m InputSpec \u001b[38;5;241m=\u001b[39m base\u001b[38;5;241m.\u001b[39mInputSpec\n\u001b[0;32m     20\u001b[0m keras_style_scope \u001b[38;5;241m=\u001b[39m base\u001b[38;5;241m.\u001b[39mkeras_style_scope\n",
      "File \u001b[1;32mc:\\Users\\JOVAN\\anaconda3\\envs\\gpu_env2\\lib\\site-packages\\tensorflow\\python\\keras\\__init__.py:25\u001b[0m\n\u001b[0;32m     22\u001b[0m \u001b[38;5;28;01mfrom\u001b[39;00m \u001b[38;5;21;01mtensorflow\u001b[39;00m\u001b[38;5;21;01m.\u001b[39;00m\u001b[38;5;21;01mpython\u001b[39;00m\u001b[38;5;21;01m.\u001b[39;00m\u001b[38;5;21;01mkeras\u001b[39;00m \u001b[38;5;28;01mimport\u001b[39;00m distribute\n\u001b[0;32m     24\u001b[0m \u001b[38;5;66;03m# See b/110718070#comment18 for more details about this import.\u001b[39;00m\n\u001b[1;32m---> 25\u001b[0m \u001b[38;5;28;01mfrom\u001b[39;00m \u001b[38;5;21;01mtensorflow\u001b[39;00m\u001b[38;5;21;01m.\u001b[39;00m\u001b[38;5;21;01mpython\u001b[39;00m\u001b[38;5;21;01m.\u001b[39;00m\u001b[38;5;21;01mkeras\u001b[39;00m \u001b[38;5;28;01mimport\u001b[39;00m models\n\u001b[0;32m     27\u001b[0m \u001b[38;5;28;01mfrom\u001b[39;00m \u001b[38;5;21;01mtensorflow\u001b[39;00m\u001b[38;5;21;01m.\u001b[39;00m\u001b[38;5;21;01mpython\u001b[39;00m\u001b[38;5;21;01m.\u001b[39;00m\u001b[38;5;21;01mkeras\u001b[39;00m\u001b[38;5;21;01m.\u001b[39;00m\u001b[38;5;21;01mengine\u001b[39;00m\u001b[38;5;21;01m.\u001b[39;00m\u001b[38;5;21;01minput_layer\u001b[39;00m \u001b[38;5;28;01mimport\u001b[39;00m Input\n\u001b[0;32m     28\u001b[0m \u001b[38;5;28;01mfrom\u001b[39;00m \u001b[38;5;21;01mtensorflow\u001b[39;00m\u001b[38;5;21;01m.\u001b[39;00m\u001b[38;5;21;01mpython\u001b[39;00m\u001b[38;5;21;01m.\u001b[39;00m\u001b[38;5;21;01mkeras\u001b[39;00m\u001b[38;5;21;01m.\u001b[39;00m\u001b[38;5;21;01mengine\u001b[39;00m\u001b[38;5;21;01m.\u001b[39;00m\u001b[38;5;21;01msequential\u001b[39;00m \u001b[38;5;28;01mimport\u001b[39;00m Sequential\n",
      "File \u001b[1;32mc:\\Users\\JOVAN\\anaconda3\\envs\\gpu_env2\\lib\\site-packages\\tensorflow\\python\\keras\\models.py:20\u001b[0m\n\u001b[0;32m     18\u001b[0m \u001b[38;5;28;01mfrom\u001b[39;00m \u001b[38;5;21;01mtensorflow\u001b[39;00m\u001b[38;5;21;01m.\u001b[39;00m\u001b[38;5;21;01mpython\u001b[39;00m\u001b[38;5;21;01m.\u001b[39;00m\u001b[38;5;21;01mframework\u001b[39;00m \u001b[38;5;28;01mimport\u001b[39;00m ops\n\u001b[0;32m     19\u001b[0m \u001b[38;5;28;01mfrom\u001b[39;00m \u001b[38;5;21;01mtensorflow\u001b[39;00m\u001b[38;5;21;01m.\u001b[39;00m\u001b[38;5;21;01mpython\u001b[39;00m\u001b[38;5;21;01m.\u001b[39;00m\u001b[38;5;21;01mkeras\u001b[39;00m \u001b[38;5;28;01mimport\u001b[39;00m backend\n\u001b[1;32m---> 20\u001b[0m \u001b[38;5;28;01mfrom\u001b[39;00m \u001b[38;5;21;01mtensorflow\u001b[39;00m\u001b[38;5;21;01m.\u001b[39;00m\u001b[38;5;21;01mpython\u001b[39;00m\u001b[38;5;21;01m.\u001b[39;00m\u001b[38;5;21;01mkeras\u001b[39;00m \u001b[38;5;28;01mimport\u001b[39;00m metrics \u001b[38;5;28;01mas\u001b[39;00m metrics_module\n\u001b[0;32m     21\u001b[0m \u001b[38;5;28;01mfrom\u001b[39;00m \u001b[38;5;21;01mtensorflow\u001b[39;00m\u001b[38;5;21;01m.\u001b[39;00m\u001b[38;5;21;01mpython\u001b[39;00m\u001b[38;5;21;01m.\u001b[39;00m\u001b[38;5;21;01mkeras\u001b[39;00m \u001b[38;5;28;01mimport\u001b[39;00m optimizer_v1\n\u001b[0;32m     22\u001b[0m \u001b[38;5;28;01mfrom\u001b[39;00m \u001b[38;5;21;01mtensorflow\u001b[39;00m\u001b[38;5;21;01m.\u001b[39;00m\u001b[38;5;21;01mpython\u001b[39;00m\u001b[38;5;21;01m.\u001b[39;00m\u001b[38;5;21;01mkeras\u001b[39;00m\u001b[38;5;21;01m.\u001b[39;00m\u001b[38;5;21;01mengine\u001b[39;00m \u001b[38;5;28;01mimport\u001b[39;00m functional\n",
      "File \u001b[1;32mc:\\Users\\JOVAN\\anaconda3\\envs\\gpu_env2\\lib\\site-packages\\tensorflow\\python\\keras\\metrics.py:34\u001b[0m\n\u001b[0;32m     32\u001b[0m \u001b[38;5;28;01mfrom\u001b[39;00m \u001b[38;5;21;01mtensorflow\u001b[39;00m\u001b[38;5;21;01m.\u001b[39;00m\u001b[38;5;21;01mpython\u001b[39;00m\u001b[38;5;21;01m.\u001b[39;00m\u001b[38;5;21;01mframework\u001b[39;00m \u001b[38;5;28;01mimport\u001b[39;00m ops\n\u001b[0;32m     33\u001b[0m \u001b[38;5;28;01mfrom\u001b[39;00m \u001b[38;5;21;01mtensorflow\u001b[39;00m\u001b[38;5;21;01m.\u001b[39;00m\u001b[38;5;21;01mpython\u001b[39;00m\u001b[38;5;21;01m.\u001b[39;00m\u001b[38;5;21;01mframework\u001b[39;00m \u001b[38;5;28;01mimport\u001b[39;00m tensor_shape\n\u001b[1;32m---> 34\u001b[0m \u001b[38;5;28;01mfrom\u001b[39;00m \u001b[38;5;21;01mtensorflow\u001b[39;00m\u001b[38;5;21;01m.\u001b[39;00m\u001b[38;5;21;01mpython\u001b[39;00m\u001b[38;5;21;01m.\u001b[39;00m\u001b[38;5;21;01mkeras\u001b[39;00m \u001b[38;5;28;01mimport\u001b[39;00m activations\n\u001b[0;32m     35\u001b[0m \u001b[38;5;28;01mfrom\u001b[39;00m \u001b[38;5;21;01mtensorflow\u001b[39;00m\u001b[38;5;21;01m.\u001b[39;00m\u001b[38;5;21;01mpython\u001b[39;00m\u001b[38;5;21;01m.\u001b[39;00m\u001b[38;5;21;01mkeras\u001b[39;00m \u001b[38;5;28;01mimport\u001b[39;00m backend\n\u001b[0;32m     36\u001b[0m \u001b[38;5;28;01mfrom\u001b[39;00m \u001b[38;5;21;01mtensorflow\u001b[39;00m\u001b[38;5;21;01m.\u001b[39;00m\u001b[38;5;21;01mpython\u001b[39;00m\u001b[38;5;21;01m.\u001b[39;00m\u001b[38;5;21;01mkeras\u001b[39;00m\u001b[38;5;21;01m.\u001b[39;00m\u001b[38;5;21;01mengine\u001b[39;00m \u001b[38;5;28;01mimport\u001b[39;00m base_layer\n",
      "File \u001b[1;32mc:\\Users\\JOVAN\\anaconda3\\envs\\gpu_env2\\lib\\site-packages\\tensorflow\\python\\keras\\activations.py:18\u001b[0m\n\u001b[0;32m     15\u001b[0m \u001b[38;5;124;03m\"\"\"Built-in activation functions.\"\"\"\u001b[39;00m\n\u001b[0;32m     17\u001b[0m \u001b[38;5;28;01mfrom\u001b[39;00m \u001b[38;5;21;01mtensorflow\u001b[39;00m\u001b[38;5;21;01m.\u001b[39;00m\u001b[38;5;21;01mpython\u001b[39;00m\u001b[38;5;21;01m.\u001b[39;00m\u001b[38;5;21;01mkeras\u001b[39;00m \u001b[38;5;28;01mimport\u001b[39;00m backend\n\u001b[1;32m---> 18\u001b[0m \u001b[38;5;28;01mfrom\u001b[39;00m \u001b[38;5;21;01mtensorflow\u001b[39;00m\u001b[38;5;21;01m.\u001b[39;00m\u001b[38;5;21;01mpython\u001b[39;00m\u001b[38;5;21;01m.\u001b[39;00m\u001b[38;5;21;01mkeras\u001b[39;00m\u001b[38;5;21;01m.\u001b[39;00m\u001b[38;5;21;01mlayers\u001b[39;00m \u001b[38;5;28;01mimport\u001b[39;00m advanced_activations\n\u001b[0;32m     19\u001b[0m \u001b[38;5;28;01mfrom\u001b[39;00m \u001b[38;5;21;01mtensorflow\u001b[39;00m\u001b[38;5;21;01m.\u001b[39;00m\u001b[38;5;21;01mpython\u001b[39;00m\u001b[38;5;21;01m.\u001b[39;00m\u001b[38;5;21;01mkeras\u001b[39;00m\u001b[38;5;21;01m.\u001b[39;00m\u001b[38;5;21;01mutils\u001b[39;00m\u001b[38;5;21;01m.\u001b[39;00m\u001b[38;5;21;01mgeneric_utils\u001b[39;00m \u001b[38;5;28;01mimport\u001b[39;00m deserialize_keras_object\n\u001b[0;32m     20\u001b[0m \u001b[38;5;28;01mfrom\u001b[39;00m \u001b[38;5;21;01mtensorflow\u001b[39;00m\u001b[38;5;21;01m.\u001b[39;00m\u001b[38;5;21;01mpython\u001b[39;00m\u001b[38;5;21;01m.\u001b[39;00m\u001b[38;5;21;01mkeras\u001b[39;00m\u001b[38;5;21;01m.\u001b[39;00m\u001b[38;5;21;01mutils\u001b[39;00m\u001b[38;5;21;01m.\u001b[39;00m\u001b[38;5;21;01mgeneric_utils\u001b[39;00m \u001b[38;5;28;01mimport\u001b[39;00m serialize_keras_object\n",
      "File \u001b[1;32mc:\\Users\\JOVAN\\anaconda3\\envs\\gpu_env2\\lib\\site-packages\\tensorflow\\python\\keras\\layers\\__init__.py:68\u001b[0m\n\u001b[0;32m     65\u001b[0m \u001b[38;5;28;01mfrom\u001b[39;00m \u001b[38;5;21;01mtensorflow\u001b[39;00m\u001b[38;5;21;01m.\u001b[39;00m\u001b[38;5;21;01mpython\u001b[39;00m\u001b[38;5;21;01m.\u001b[39;00m\u001b[38;5;21;01mkeras\u001b[39;00m\u001b[38;5;21;01m.\u001b[39;00m\u001b[38;5;21;01mlayers\u001b[39;00m\u001b[38;5;21;01m.\u001b[39;00m\u001b[38;5;21;01mconvolutional\u001b[39;00m \u001b[38;5;28;01mimport\u001b[39;00m Cropping3D\n\u001b[0;32m     67\u001b[0m \u001b[38;5;66;03m# Core layers.\u001b[39;00m\n\u001b[1;32m---> 68\u001b[0m \u001b[38;5;28;01mfrom\u001b[39;00m \u001b[38;5;21;01mtensorflow\u001b[39;00m\u001b[38;5;21;01m.\u001b[39;00m\u001b[38;5;21;01mpython\u001b[39;00m\u001b[38;5;21;01m.\u001b[39;00m\u001b[38;5;21;01mkeras\u001b[39;00m\u001b[38;5;21;01m.\u001b[39;00m\u001b[38;5;21;01mlayers\u001b[39;00m\u001b[38;5;21;01m.\u001b[39;00m\u001b[38;5;21;01mcore\u001b[39;00m \u001b[38;5;28;01mimport\u001b[39;00m Masking\n\u001b[0;32m     69\u001b[0m \u001b[38;5;28;01mfrom\u001b[39;00m \u001b[38;5;21;01mtensorflow\u001b[39;00m\u001b[38;5;21;01m.\u001b[39;00m\u001b[38;5;21;01mpython\u001b[39;00m\u001b[38;5;21;01m.\u001b[39;00m\u001b[38;5;21;01mkeras\u001b[39;00m\u001b[38;5;21;01m.\u001b[39;00m\u001b[38;5;21;01mlayers\u001b[39;00m\u001b[38;5;21;01m.\u001b[39;00m\u001b[38;5;21;01mcore\u001b[39;00m \u001b[38;5;28;01mimport\u001b[39;00m Dropout\n\u001b[0;32m     70\u001b[0m \u001b[38;5;28;01mfrom\u001b[39;00m \u001b[38;5;21;01mtensorflow\u001b[39;00m\u001b[38;5;21;01m.\u001b[39;00m\u001b[38;5;21;01mpython\u001b[39;00m\u001b[38;5;21;01m.\u001b[39;00m\u001b[38;5;21;01mkeras\u001b[39;00m\u001b[38;5;21;01m.\u001b[39;00m\u001b[38;5;21;01mlayers\u001b[39;00m\u001b[38;5;21;01m.\u001b[39;00m\u001b[38;5;21;01mcore\u001b[39;00m \u001b[38;5;28;01mimport\u001b[39;00m SpatialDropout1D\n",
      "File \u001b[1;32mc:\\Users\\JOVAN\\anaconda3\\envs\\gpu_env2\\lib\\site-packages\\tensorflow\\python\\keras\\layers\\core.py:54\u001b[0m\n\u001b[0;32m     52\u001b[0m \u001b[38;5;28;01mfrom\u001b[39;00m \u001b[38;5;21;01mtensorflow\u001b[39;00m\u001b[38;5;21;01m.\u001b[39;00m\u001b[38;5;21;01mpython\u001b[39;00m\u001b[38;5;21;01m.\u001b[39;00m\u001b[38;5;21;01mops\u001b[39;00m \u001b[38;5;28;01mimport\u001b[39;00m nn_ops\n\u001b[0;32m     53\u001b[0m \u001b[38;5;28;01mfrom\u001b[39;00m \u001b[38;5;21;01mtensorflow\u001b[39;00m\u001b[38;5;21;01m.\u001b[39;00m\u001b[38;5;21;01mpython\u001b[39;00m\u001b[38;5;21;01m.\u001b[39;00m\u001b[38;5;21;01mops\u001b[39;00m \u001b[38;5;28;01mimport\u001b[39;00m sparse_ops\n\u001b[1;32m---> 54\u001b[0m \u001b[38;5;28;01mfrom\u001b[39;00m \u001b[38;5;21;01mtensorflow\u001b[39;00m\u001b[38;5;21;01m.\u001b[39;00m\u001b[38;5;21;01mpython\u001b[39;00m\u001b[38;5;21;01m.\u001b[39;00m\u001b[38;5;21;01mops\u001b[39;00m \u001b[38;5;28;01mimport\u001b[39;00m standard_ops\n\u001b[0;32m     55\u001b[0m \u001b[38;5;28;01mfrom\u001b[39;00m \u001b[38;5;21;01mtensorflow\u001b[39;00m\u001b[38;5;21;01m.\u001b[39;00m\u001b[38;5;21;01mpython\u001b[39;00m\u001b[38;5;21;01m.\u001b[39;00m\u001b[38;5;21;01mops\u001b[39;00m \u001b[38;5;28;01mimport\u001b[39;00m variable_scope\n\u001b[0;32m     56\u001b[0m \u001b[38;5;28;01mfrom\u001b[39;00m \u001b[38;5;21;01mtensorflow\u001b[39;00m\u001b[38;5;21;01m.\u001b[39;00m\u001b[38;5;21;01mpython\u001b[39;00m\u001b[38;5;21;01m.\u001b[39;00m\u001b[38;5;21;01mops\u001b[39;00m\u001b[38;5;21;01m.\u001b[39;00m\u001b[38;5;21;01mragged\u001b[39;00m \u001b[38;5;28;01mimport\u001b[39;00m ragged_getitem\n",
      "File \u001b[1;32mc:\\Users\\JOVAN\\anaconda3\\envs\\gpu_env2\\lib\\site-packages\\tensorflow\\python\\ops\\standard_ops.py:75\u001b[0m\n\u001b[0;32m     73\u001b[0m \u001b[38;5;28;01mfrom\u001b[39;00m \u001b[38;5;21;01mtensorflow\u001b[39;00m\u001b[38;5;21;01m.\u001b[39;00m\u001b[38;5;21;01mpython\u001b[39;00m\u001b[38;5;21;01m.\u001b[39;00m\u001b[38;5;21;01mops\u001b[39;00m\u001b[38;5;21;01m.\u001b[39;00m\u001b[38;5;21;01mpartitioned_variables\u001b[39;00m \u001b[38;5;28;01mimport\u001b[39;00m \u001b[38;5;241m*\u001b[39m\n\u001b[0;32m     74\u001b[0m \u001b[38;5;28;01mfrom\u001b[39;00m \u001b[38;5;21;01mtensorflow\u001b[39;00m\u001b[38;5;21;01m.\u001b[39;00m\u001b[38;5;21;01mpython\u001b[39;00m\u001b[38;5;21;01m.\u001b[39;00m\u001b[38;5;21;01mops\u001b[39;00m\u001b[38;5;21;01m.\u001b[39;00m\u001b[38;5;21;01mproto_ops\u001b[39;00m \u001b[38;5;28;01mimport\u001b[39;00m \u001b[38;5;241m*\u001b[39m\n\u001b[1;32m---> 75\u001b[0m \u001b[38;5;28;01mfrom\u001b[39;00m \u001b[38;5;21;01mtensorflow\u001b[39;00m\u001b[38;5;21;01m.\u001b[39;00m\u001b[38;5;21;01mpython\u001b[39;00m\u001b[38;5;21;01m.\u001b[39;00m\u001b[38;5;21;01mops\u001b[39;00m\u001b[38;5;21;01m.\u001b[39;00m\u001b[38;5;21;01mragged\u001b[39;00m \u001b[38;5;28;01mimport\u001b[39;00m ragged_dispatch \u001b[38;5;28;01mas\u001b[39;00m _ragged_dispatch\n\u001b[0;32m     76\u001b[0m \u001b[38;5;28;01mfrom\u001b[39;00m \u001b[38;5;21;01mtensorflow\u001b[39;00m\u001b[38;5;21;01m.\u001b[39;00m\u001b[38;5;21;01mpython\u001b[39;00m\u001b[38;5;21;01m.\u001b[39;00m\u001b[38;5;21;01mops\u001b[39;00m\u001b[38;5;21;01m.\u001b[39;00m\u001b[38;5;21;01mragged\u001b[39;00m \u001b[38;5;28;01mimport\u001b[39;00m ragged_operators \u001b[38;5;28;01mas\u001b[39;00m _ragged_operators\n\u001b[0;32m     77\u001b[0m \u001b[38;5;28;01mfrom\u001b[39;00m \u001b[38;5;21;01mtensorflow\u001b[39;00m\u001b[38;5;21;01m.\u001b[39;00m\u001b[38;5;21;01mpython\u001b[39;00m\u001b[38;5;21;01m.\u001b[39;00m\u001b[38;5;21;01mops\u001b[39;00m\u001b[38;5;21;01m.\u001b[39;00m\u001b[38;5;21;01mrandom_ops\u001b[39;00m \u001b[38;5;28;01mimport\u001b[39;00m \u001b[38;5;241m*\u001b[39m\n",
      "File \u001b[1;32mc:\\Users\\JOVAN\\anaconda3\\envs\\gpu_env2\\lib\\site-packages\\tensorflow\\python\\ops\\ragged\\ragged_dispatch.py:29\u001b[0m\n\u001b[0;32m     24\u001b[0m \u001b[38;5;28;01mfrom\u001b[39;00m \u001b[38;5;21;01mtensorflow\u001b[39;00m\u001b[38;5;21;01m.\u001b[39;00m\u001b[38;5;21;01mpython\u001b[39;00m\u001b[38;5;21;01m.\u001b[39;00m\u001b[38;5;21;01mutil\u001b[39;00m \u001b[38;5;28;01mimport\u001b[39;00m tf_export\n\u001b[0;32m     25\u001b[0m \u001b[38;5;28;01mfrom\u001b[39;00m \u001b[38;5;21;01mtensorflow\u001b[39;00m\u001b[38;5;21;01m.\u001b[39;00m\u001b[38;5;21;01mpython\u001b[39;00m\u001b[38;5;21;01m.\u001b[39;00m\u001b[38;5;21;01mutil\u001b[39;00m \u001b[38;5;28;01mimport\u001b[39;00m tf_inspect\n\u001b[0;32m     28\u001b[0m \u001b[38;5;129;43m@dispatch\u001b[39;49m\u001b[38;5;241;43m.\u001b[39;49m\u001b[43mdispatch_for_unary_elementwise_apis\u001b[49m\u001b[43m(\u001b[49m\u001b[43mragged_tensor\u001b[49m\u001b[38;5;241;43m.\u001b[39;49m\u001b[43mRagged\u001b[49m\u001b[43m)\u001b[49m\n\u001b[1;32m---> 29\u001b[0m \u001b[38;5;28;43;01mdef\u001b[39;49;00m\u001b[43m \u001b[49m\u001b[38;5;21;43mragged_unary_elementwise_op\u001b[39;49m\u001b[43m(\u001b[49m\u001b[43mop\u001b[49m\u001b[43m,\u001b[49m\u001b[43m \u001b[49m\u001b[43mx\u001b[49m\u001b[43m)\u001b[49m\u001b[43m:\u001b[49m\n\u001b[0;32m     30\u001b[0m \u001b[38;5;250;43m  \u001b[39;49m\u001b[38;5;124;43;03m\"\"\"Unary elementwise api handler for RaggedTensors.\"\"\"\u001b[39;49;00m\n\u001b[0;32m     31\u001b[0m \u001b[43m  \u001b[49m\u001b[43mx\u001b[49m\u001b[43m \u001b[49m\u001b[38;5;241;43m=\u001b[39;49m\u001b[43m \u001b[49m\u001b[43mragged_tensor\u001b[49m\u001b[38;5;241;43m.\u001b[39;49m\u001b[43mconvert_to_tensor_or_ragged_tensor\u001b[49m\u001b[43m(\u001b[49m\u001b[43mx\u001b[49m\u001b[43m)\u001b[49m\n",
      "File \u001b[1;32mc:\\Users\\JOVAN\\anaconda3\\envs\\gpu_env2\\lib\\site-packages\\tensorflow\\python\\util\\dispatch.py:787\u001b[0m, in \u001b[0;36mdispatch_for_unary_elementwise_apis.<locals>.decorator\u001b[1;34m(handler)\u001b[0m\n\u001b[0;32m    785\u001b[0m _ELEMENTWISE_API_HANDLERS[(x_type,)] \u001b[38;5;241m=\u001b[39m handler\n\u001b[0;32m    786\u001b[0m \u001b[38;5;28;01mfor\u001b[39;00m api \u001b[38;5;129;01min\u001b[39;00m _UNARY_ELEMENTWISE_APIS:\n\u001b[1;32m--> 787\u001b[0m   \u001b[43m_add_dispatch_for_unary_elementwise_api\u001b[49m\u001b[43m(\u001b[49m\u001b[43mapi\u001b[49m\u001b[43m,\u001b[49m\u001b[43m \u001b[49m\u001b[43mx_type\u001b[49m\u001b[43m,\u001b[49m\u001b[43m \u001b[49m\u001b[43mhandler\u001b[49m\u001b[43m)\u001b[49m\n\u001b[0;32m    789\u001b[0m \u001b[38;5;28;01mreturn\u001b[39;00m handler\n",
      "File \u001b[1;32mc:\\Users\\JOVAN\\anaconda3\\envs\\gpu_env2\\lib\\site-packages\\tensorflow\\python\\util\\dispatch.py:981\u001b[0m, in \u001b[0;36m_add_dispatch_for_unary_elementwise_api\u001b[1;34m(api, x_type, elementwise_api_handler)\u001b[0m\n\u001b[0;32m    974\u001b[0m name_index \u001b[38;5;241m=\u001b[39m _find_name_index(api_signature)\n\u001b[0;32m    976\u001b[0m need_to_bind_api_args \u001b[38;5;241m=\u001b[39m (\n\u001b[0;32m    977\u001b[0m     \u001b[38;5;28mlen\u001b[39m(api_signature\u001b[38;5;241m.\u001b[39mparameters) \u001b[38;5;241m>\u001b[39m \u001b[38;5;241m2\u001b[39m \u001b[38;5;129;01mor\u001b[39;00m\n\u001b[0;32m    978\u001b[0m     \u001b[38;5;124m\"\u001b[39m\u001b[38;5;124mname\u001b[39m\u001b[38;5;124m\"\u001b[39m \u001b[38;5;129;01mnot\u001b[39;00m \u001b[38;5;129;01min\u001b[39;00m api_signature\u001b[38;5;241m.\u001b[39mparameters)\n\u001b[0;32m    980\u001b[0m \u001b[43m\u001b[49m\u001b[38;5;129;43m@dispatch_for_api\u001b[39;49m\u001b[43m(\u001b[49m\u001b[43mapi\u001b[49m\u001b[43m,\u001b[49m\u001b[43m \u001b[49m\u001b[43m{\u001b[49m\u001b[43mx_name\u001b[49m\u001b[43m:\u001b[49m\u001b[43m \u001b[49m\u001b[43mx_type\u001b[49m\u001b[43m}\u001b[49m\u001b[43m)\u001b[49m\n\u001b[1;32m--> 981\u001b[0m \u001b[43m\u001b[49m\u001b[38;5;28;43;01mdef\u001b[39;49;00m\u001b[43m \u001b[49m\u001b[38;5;21;43mdispatch_target\u001b[39;49m\u001b[43m(\u001b[49m\u001b[38;5;241;43m*\u001b[39;49m\u001b[43margs\u001b[49m\u001b[43m,\u001b[49m\u001b[43m \u001b[49m\u001b[38;5;241;43m*\u001b[39;49m\u001b[38;5;241;43m*\u001b[39;49m\u001b[43mkwargs\u001b[49m\u001b[43m)\u001b[49m\u001b[43m:\u001b[49m\n\u001b[0;32m    982\u001b[0m \u001b[43m  \u001b[49m\u001b[43margs\u001b[49m\u001b[43m,\u001b[49m\u001b[43m \u001b[49m\u001b[43mkwargs\u001b[49m\u001b[43m,\u001b[49m\u001b[43m \u001b[49m\u001b[43mname\u001b[49m\u001b[43m \u001b[49m\u001b[38;5;241;43m=\u001b[39;49m\u001b[43m \u001b[49m\u001b[43m_extract_name_arg\u001b[49m\u001b[43m(\u001b[49m\u001b[43margs\u001b[49m\u001b[43m,\u001b[49m\u001b[43m \u001b[49m\u001b[43mkwargs\u001b[49m\u001b[43m,\u001b[49m\u001b[43m \u001b[49m\u001b[43mname_index\u001b[49m\u001b[43m)\u001b[49m\n\u001b[0;32m    983\u001b[0m \u001b[43m  \u001b[49m\u001b[38;5;28;43;01mif\u001b[39;49;00m\u001b[43m \u001b[49m\u001b[43margs\u001b[49m\u001b[43m:\u001b[49m\n",
      "File \u001b[1;32mc:\\Users\\JOVAN\\anaconda3\\envs\\gpu_env2\\lib\\site-packages\\tensorflow\\python\\util\\dispatch.py:350\u001b[0m, in \u001b[0;36mdispatch_for_api.<locals>.decorator\u001b[1;34m(dispatch_target)\u001b[0m\n\u001b[0;32m    347\u001b[0m \u001b[38;5;28;01mif\u001b[39;00m \u001b[38;5;129;01mnot\u001b[39;00m \u001b[38;5;28mcallable\u001b[39m(dispatch_target):\n\u001b[0;32m    348\u001b[0m   \u001b[38;5;28;01mraise\u001b[39;00m \u001b[38;5;167;01mTypeError\u001b[39;00m(\u001b[38;5;124m\"\u001b[39m\u001b[38;5;124mExpected dispatch_target to be callable; \u001b[39m\u001b[38;5;124m\"\u001b[39m\n\u001b[0;32m    349\u001b[0m                   \u001b[38;5;124mf\u001b[39m\u001b[38;5;124m\"\u001b[39m\u001b[38;5;124mgot \u001b[39m\u001b[38;5;132;01m{\u001b[39;00mdispatch_target\u001b[38;5;132;01m!r}\u001b[39;00m\u001b[38;5;124m\"\u001b[39m)\n\u001b[1;32m--> 350\u001b[0m dispatch_target \u001b[38;5;241m=\u001b[39m \u001b[43m_add_name_scope_wrapper\u001b[49m\u001b[43m(\u001b[49m\u001b[43mdispatch_target\u001b[49m\u001b[43m,\u001b[49m\u001b[43m \u001b[49m\u001b[43mapi_signature\u001b[49m\u001b[43m)\u001b[49m\n\u001b[0;32m    351\u001b[0m _check_signature(api_signature, dispatch_target)\n\u001b[0;32m    353\u001b[0m \u001b[38;5;28;01mfor\u001b[39;00m signature_checker \u001b[38;5;129;01min\u001b[39;00m signature_checkers:\n",
      "File \u001b[1;32mc:\\Users\\JOVAN\\anaconda3\\envs\\gpu_env2\\lib\\site-packages\\tensorflow\\python\\util\\dispatch.py:442\u001b[0m, in \u001b[0;36m_add_name_scope_wrapper\u001b[1;34m(func, api_signature)\u001b[0m\n\u001b[0;32m    439\u001b[0m \u001b[38;5;28;01mif\u001b[39;00m \u001b[38;5;124m\"\u001b[39m\u001b[38;5;124mname\u001b[39m\u001b[38;5;124m\"\u001b[39m \u001b[38;5;129;01mnot\u001b[39;00m \u001b[38;5;129;01min\u001b[39;00m api_signature\u001b[38;5;241m.\u001b[39mparameters:\n\u001b[0;32m    440\u001b[0m   \u001b[38;5;28;01mreturn\u001b[39;00m func  \u001b[38;5;66;03m# no wrapping needed (API has no name parameter).\u001b[39;00m\n\u001b[1;32m--> 442\u001b[0m func_signature \u001b[38;5;241m=\u001b[39m \u001b[43mtf_inspect\u001b[49m\u001b[38;5;241;43m.\u001b[39;49m\u001b[43msignature\u001b[49m\u001b[43m(\u001b[49m\u001b[43mfunc\u001b[49m\u001b[43m)\u001b[49m\n\u001b[0;32m    443\u001b[0m func_argspec \u001b[38;5;241m=\u001b[39m tf_inspect\u001b[38;5;241m.\u001b[39mgetargspec(func)\n\u001b[0;32m    444\u001b[0m \u001b[38;5;28;01mif\u001b[39;00m \u001b[38;5;124m\"\u001b[39m\u001b[38;5;124mname\u001b[39m\u001b[38;5;124m\"\u001b[39m \u001b[38;5;129;01min\u001b[39;00m func_signature\u001b[38;5;241m.\u001b[39mparameters \u001b[38;5;129;01mor\u001b[39;00m func_argspec\u001b[38;5;241m.\u001b[39mkeywords \u001b[38;5;129;01mis\u001b[39;00m \u001b[38;5;129;01mnot\u001b[39;00m \u001b[38;5;28;01mNone\u001b[39;00m:\n",
      "File \u001b[1;32mc:\\Users\\JOVAN\\anaconda3\\envs\\gpu_env2\\lib\\site-packages\\tensorflow\\python\\util\\tf_inspect.py:31\u001b[0m, in \u001b[0;36msignature\u001b[1;34m(obj, follow_wrapped)\u001b[0m\n\u001b[0;32m     29\u001b[0m \u001b[38;5;28;01mdef\u001b[39;00m \u001b[38;5;21msignature\u001b[39m(obj, \u001b[38;5;241m*\u001b[39m, follow_wrapped\u001b[38;5;241m=\u001b[39m\u001b[38;5;28;01mTrue\u001b[39;00m):\n\u001b[0;32m     30\u001b[0m \u001b[38;5;250m  \u001b[39m\u001b[38;5;124;03m\"\"\"TFDecorator-aware replacement for inspect.signature.\"\"\"\u001b[39;00m\n\u001b[1;32m---> 31\u001b[0m   \u001b[38;5;28;01mreturn\u001b[39;00m \u001b[43m_inspect\u001b[49m\u001b[38;5;241;43m.\u001b[39;49m\u001b[43msignature\u001b[49m\u001b[43m(\u001b[49m\n\u001b[0;32m     32\u001b[0m \u001b[43m      \u001b[49m\u001b[43mtf_decorator\u001b[49m\u001b[38;5;241;43m.\u001b[39;49m\u001b[43munwrap\u001b[49m\u001b[43m(\u001b[49m\u001b[43mobj\u001b[49m\u001b[43m)\u001b[49m\u001b[43m[\u001b[49m\u001b[38;5;241;43m1\u001b[39;49m\u001b[43m]\u001b[49m\u001b[43m,\u001b[49m\u001b[43m \u001b[49m\u001b[43mfollow_wrapped\u001b[49m\u001b[38;5;241;43m=\u001b[39;49m\u001b[43mfollow_wrapped\u001b[49m\u001b[43m)\u001b[49m\n",
      "File \u001b[1;32mc:\\Users\\JOVAN\\anaconda3\\envs\\gpu_env2\\lib\\inspect.py:3105\u001b[0m, in \u001b[0;36msignature\u001b[1;34m(obj, follow_wrapped)\u001b[0m\n\u001b[0;32m   3103\u001b[0m \u001b[38;5;28;01mdef\u001b[39;00m \u001b[38;5;21msignature\u001b[39m(obj, \u001b[38;5;241m*\u001b[39m, follow_wrapped\u001b[38;5;241m=\u001b[39m\u001b[38;5;28;01mTrue\u001b[39;00m):\n\u001b[0;32m   3104\u001b[0m \u001b[38;5;250m    \u001b[39m\u001b[38;5;124;03m\"\"\"Get a signature object for the passed callable.\"\"\"\u001b[39;00m\n\u001b[1;32m-> 3105\u001b[0m     \u001b[38;5;28;01mreturn\u001b[39;00m \u001b[43mSignature\u001b[49m\u001b[38;5;241;43m.\u001b[39;49m\u001b[43mfrom_callable\u001b[49m\u001b[43m(\u001b[49m\u001b[43mobj\u001b[49m\u001b[43m,\u001b[49m\u001b[43m \u001b[49m\u001b[43mfollow_wrapped\u001b[49m\u001b[38;5;241;43m=\u001b[39;49m\u001b[43mfollow_wrapped\u001b[49m\u001b[43m)\u001b[49m\n",
      "File \u001b[1;32mc:\\Users\\JOVAN\\anaconda3\\envs\\gpu_env2\\lib\\inspect.py:2854\u001b[0m, in \u001b[0;36mSignature.from_callable\u001b[1;34m(cls, obj, follow_wrapped)\u001b[0m\n\u001b[0;32m   2851\u001b[0m \u001b[38;5;129m@classmethod\u001b[39m\n\u001b[0;32m   2852\u001b[0m \u001b[38;5;28;01mdef\u001b[39;00m \u001b[38;5;21mfrom_callable\u001b[39m(\u001b[38;5;28mcls\u001b[39m, obj, \u001b[38;5;241m*\u001b[39m, follow_wrapped\u001b[38;5;241m=\u001b[39m\u001b[38;5;28;01mTrue\u001b[39;00m):\n\u001b[0;32m   2853\u001b[0m \u001b[38;5;250m    \u001b[39m\u001b[38;5;124;03m\"\"\"Constructs Signature for the given callable object.\"\"\"\u001b[39;00m\n\u001b[1;32m-> 2854\u001b[0m     \u001b[38;5;28;01mreturn\u001b[39;00m \u001b[43m_signature_from_callable\u001b[49m\u001b[43m(\u001b[49m\u001b[43mobj\u001b[49m\u001b[43m,\u001b[49m\u001b[43m \u001b[49m\u001b[43msigcls\u001b[49m\u001b[38;5;241;43m=\u001b[39;49m\u001b[38;5;28;43mcls\u001b[39;49m\u001b[43m,\u001b[49m\n\u001b[0;32m   2855\u001b[0m \u001b[43m                                    \u001b[49m\u001b[43mfollow_wrapper_chains\u001b[49m\u001b[38;5;241;43m=\u001b[39;49m\u001b[43mfollow_wrapped\u001b[49m\u001b[43m)\u001b[49m\n",
      "File \u001b[1;32mc:\\Users\\JOVAN\\anaconda3\\envs\\gpu_env2\\lib\\inspect.py:2304\u001b[0m, in \u001b[0;36m_signature_from_callable\u001b[1;34m(obj, follow_wrapper_chains, skip_bound_arg, sigcls)\u001b[0m\n\u001b[0;32m   2299\u001b[0m             \u001b[38;5;28;01mreturn\u001b[39;00m sig\u001b[38;5;241m.\u001b[39mreplace(parameters\u001b[38;5;241m=\u001b[39mnew_params)\n\u001b[0;32m   2301\u001b[0m \u001b[38;5;28;01mif\u001b[39;00m isfunction(obj) \u001b[38;5;129;01mor\u001b[39;00m _signature_is_functionlike(obj):\n\u001b[0;32m   2302\u001b[0m     \u001b[38;5;66;03m# If it's a pure Python function, or an object that is duck type\u001b[39;00m\n\u001b[0;32m   2303\u001b[0m     \u001b[38;5;66;03m# of a Python function (Cython functions, for instance), then:\u001b[39;00m\n\u001b[1;32m-> 2304\u001b[0m     \u001b[38;5;28;01mreturn\u001b[39;00m \u001b[43m_signature_from_function\u001b[49m\u001b[43m(\u001b[49m\u001b[43msigcls\u001b[49m\u001b[43m,\u001b[49m\u001b[43m \u001b[49m\u001b[43mobj\u001b[49m\u001b[43m,\u001b[49m\n\u001b[0;32m   2305\u001b[0m \u001b[43m                                    \u001b[49m\u001b[43mskip_bound_arg\u001b[49m\u001b[38;5;241;43m=\u001b[39;49m\u001b[43mskip_bound_arg\u001b[49m\u001b[43m)\u001b[49m\n\u001b[0;32m   2307\u001b[0m \u001b[38;5;28;01mif\u001b[39;00m _signature_is_builtin(obj):\n\u001b[0;32m   2308\u001b[0m     \u001b[38;5;28;01mreturn\u001b[39;00m _signature_from_builtin(sigcls, obj,\n\u001b[0;32m   2309\u001b[0m                                    skip_bound_arg\u001b[38;5;241m=\u001b[39mskip_bound_arg)\n",
      "File \u001b[1;32mc:\\Users\\JOVAN\\anaconda3\\envs\\gpu_env2\\lib\\inspect.py:2208\u001b[0m, in \u001b[0;36m_signature_from_function\u001b[1;34m(cls, func, skip_bound_arg)\u001b[0m\n\u001b[0;32m   2206\u001b[0m     name \u001b[38;5;241m=\u001b[39m arg_names[index]\n\u001b[0;32m   2207\u001b[0m     annotation \u001b[38;5;241m=\u001b[39m annotations\u001b[38;5;241m.\u001b[39mget(name, _empty)\n\u001b[1;32m-> 2208\u001b[0m     parameters\u001b[38;5;241m.\u001b[39mappend(\u001b[43mParameter\u001b[49m\u001b[43m(\u001b[49m\u001b[43mname\u001b[49m\u001b[43m,\u001b[49m\u001b[43m \u001b[49m\u001b[43mannotation\u001b[49m\u001b[38;5;241;43m=\u001b[39;49m\u001b[43mannotation\u001b[49m\u001b[43m,\u001b[49m\n\u001b[0;32m   2209\u001b[0m \u001b[43m                                \u001b[49m\u001b[43mkind\u001b[49m\u001b[38;5;241;43m=\u001b[39;49m\u001b[43m_VAR_KEYWORD\u001b[49m\u001b[43m)\u001b[49m)\n\u001b[0;32m   2211\u001b[0m \u001b[38;5;66;03m# Is 'func' is a pure Python function - don't validate the\u001b[39;00m\n\u001b[0;32m   2212\u001b[0m \u001b[38;5;66;03m# parameters list (for correct order and defaults), it should be OK.\u001b[39;00m\n\u001b[0;32m   2213\u001b[0m \u001b[38;5;28;01mreturn\u001b[39;00m \u001b[38;5;28mcls\u001b[39m(parameters,\n\u001b[0;32m   2214\u001b[0m            return_annotation\u001b[38;5;241m=\u001b[39mannotations\u001b[38;5;241m.\u001b[39mget(\u001b[38;5;124m'\u001b[39m\u001b[38;5;124mreturn\u001b[39m\u001b[38;5;124m'\u001b[39m, _empty),\n\u001b[0;32m   2215\u001b[0m            __validate_parameters__\u001b[38;5;241m=\u001b[39mis_duck_function)\n",
      "File \u001b[1;32mc:\\Users\\JOVAN\\anaconda3\\envs\\gpu_env2\\lib\\inspect.py:2491\u001b[0m, in \u001b[0;36mParameter.__init__\u001b[1;34m(self, name, kind, default, annotation)\u001b[0m\n\u001b[0;32m   2489\u001b[0m \u001b[38;5;28;01mdef\u001b[39;00m \u001b[38;5;21m__init__\u001b[39m(\u001b[38;5;28mself\u001b[39m, name, kind, \u001b[38;5;241m*\u001b[39m, default\u001b[38;5;241m=\u001b[39m_empty, annotation\u001b[38;5;241m=\u001b[39m_empty):\n\u001b[0;32m   2490\u001b[0m     \u001b[38;5;28;01mtry\u001b[39;00m:\n\u001b[1;32m-> 2491\u001b[0m         \u001b[38;5;28mself\u001b[39m\u001b[38;5;241m.\u001b[39m_kind \u001b[38;5;241m=\u001b[39m \u001b[43m_ParameterKind\u001b[49m\u001b[43m(\u001b[49m\u001b[43mkind\u001b[49m\u001b[43m)\u001b[49m\n\u001b[0;32m   2492\u001b[0m     \u001b[38;5;28;01mexcept\u001b[39;00m \u001b[38;5;167;01mValueError\u001b[39;00m:\n\u001b[0;32m   2493\u001b[0m         \u001b[38;5;28;01mraise\u001b[39;00m \u001b[38;5;167;01mValueError\u001b[39;00m(\u001b[38;5;124mf\u001b[39m\u001b[38;5;124m'\u001b[39m\u001b[38;5;124mvalue \u001b[39m\u001b[38;5;132;01m{\u001b[39;00mkind\u001b[38;5;132;01m!r}\u001b[39;00m\u001b[38;5;124m is not a valid Parameter.kind\u001b[39m\u001b[38;5;124m'\u001b[39m)\n",
      "File \u001b[1;32mc:\\Users\\JOVAN\\anaconda3\\envs\\gpu_env2\\lib\\enum.py:339\u001b[0m, in \u001b[0;36mEnumMeta.__call__\u001b[1;34m(cls, value, names, module, qualname, type, start)\u001b[0m\n\u001b[0;32m    314\u001b[0m \u001b[38;5;250m\u001b[39m\u001b[38;5;124;03m\"\"\"\u001b[39;00m\n\u001b[0;32m    315\u001b[0m \u001b[38;5;124;03mEither returns an existing member, or creates a new enum class.\u001b[39;00m\n\u001b[0;32m    316\u001b[0m \n\u001b[1;32m   (...)\u001b[0m\n\u001b[0;32m    336\u001b[0m \u001b[38;5;124;03m`type`, if set, will be mixed in as the first base class.\u001b[39;00m\n\u001b[0;32m    337\u001b[0m \u001b[38;5;124;03m\"\"\"\u001b[39;00m\n\u001b[0;32m    338\u001b[0m \u001b[38;5;28;01mif\u001b[39;00m names \u001b[38;5;129;01mis\u001b[39;00m \u001b[38;5;28;01mNone\u001b[39;00m:  \u001b[38;5;66;03m# simple value lookup\u001b[39;00m\n\u001b[1;32m--> 339\u001b[0m     \u001b[38;5;28;01mreturn\u001b[39;00m \u001b[38;5;28;43mcls\u001b[39;49m\u001b[38;5;241;43m.\u001b[39;49m\u001b[38;5;21;43m__new__\u001b[39;49m(\u001b[38;5;28mcls\u001b[39m, value)\n\u001b[0;32m    340\u001b[0m \u001b[38;5;66;03m# otherwise, functional API: we're creating a new Enum type\u001b[39;00m\n\u001b[0;32m    341\u001b[0m \u001b[38;5;28;01mreturn\u001b[39;00m \u001b[38;5;28mcls\u001b[39m\u001b[38;5;241m.\u001b[39m_create_(\n\u001b[0;32m    342\u001b[0m         value,\n\u001b[0;32m    343\u001b[0m         names,\n\u001b[1;32m   (...)\u001b[0m\n\u001b[0;32m    347\u001b[0m         start\u001b[38;5;241m=\u001b[39mstart,\n\u001b[0;32m    348\u001b[0m         )\n",
      "\u001b[1;31mKeyboardInterrupt\u001b[0m: "
     ]
    }
   ],
   "source": [
    "import os\n",
    "import pandas as pd\n",
    "import numpy as np\n",
    "import pickle\n",
    "import matplotlib.pyplot as plt\n",
    "import warnings\n",
    "import random\n",
    "import re\n",
    "import math\n",
    "\n",
    "from tensorflow.keras.preprocessing.sequence import pad_sequences\n",
    "from tensorflow.keras.preprocessing.text import Tokenizer\n",
    "from tensorflow.keras.layers import Dense , Dropout, LSTM, GRU, SimpleRNN, Embedding\n",
    "from tensorflow.keras.optimizers import Adam\n",
    "from tensorflow.keras.callbacks import EarlyStopping\n",
    "from tensorflow.keras.models import Sequential\n",
    "from tensorflow.keras import backend as K\n",
    "from sklearn.model_selection import train_test_split, ParameterGrid\n",
    "from sklearn.feature_extraction.text import TfidfVectorizer\n",
    "from sklearn.cluster import KMeans\n",
    "from sklearn.decomposition import PCA\n",
    "\n",
    "import nltk\n",
    "from nltk.stem import WordNetLemmatizer\n",
    "from nltk.tokenize import word_tokenize\n",
    "from nltk import pos_tag\n",
    "from nltk.corpus import wordnet\n",
    "from nltk.tokenize.treebank import TreebankWordDetokenizer\n",
    "from scipy.sparse  import hstack\n",
    "\n",
    "nltk.download('punkt_tab')\n",
    "nltk.download('wordnet')\n",
    "nltk.download('averaged_perceptron_tagger')\n",
    "nltk.download('omw-1.4')\n",
    "\n",
    "np.random.seed(42)\n",
    "tf.random.set_seed(42)\n",
    "random.seed(42)\n",
    "warnings.filterwarnings('ignore')"
   ]
  },
  {
   "cell_type": "code",
   "execution_count": 3,
   "id": "0f17b707",
   "metadata": {},
   "outputs": [],
   "source": [
    "df = pd.read_csv(os.path.join('datasets' , 'Movie reviews.csv'))"
   ]
  },
  {
   "cell_type": "markdown",
   "id": "67b8cd6a",
   "metadata": {},
   "source": [
    "##### Basic Data Exploration"
   ]
  },
  {
   "cell_type": "code",
   "execution_count": 4,
   "id": "737850fc",
   "metadata": {},
   "outputs": [
    {
     "data": {
      "application/vnd.microsoft.datawrangler.viewer.v0+json": {
       "columns": [
        {
         "name": "index",
         "rawType": "int64",
         "type": "integer"
        },
        {
         "name": "Review",
         "rawType": "object",
         "type": "string"
        },
        {
         "name": "Score",
         "rawType": "float64",
         "type": "float"
        },
        {
         "name": "Are there ways for you to generate more data? Spliting up sentences, would that help?",
         "rawType": "float64",
         "type": "float"
        },
        {
         "name": "Language",
         "rawType": "object",
         "type": "string"
        }
       ],
       "conversionMethod": "pd.DataFrame",
       "ref": "41732e3a-cb98-48e1-ade0-73503a719216",
       "rows": [
        [
         "0",
         "Filem ini hebat! Aksi yang mendebarkan dan plot yang mengejutkan.",
         "0.1",
         null,
         "Malay"
        ],
        [
         "1",
         "Filem ini hebat! Aksi yang mendebarkan dan plot yang mengejutkan.",
         "0.9",
         null,
         "Malay"
        ],
        [
         "2",
         "Filem ini hebat! Aksi yang mendebarkan dan plot yang mengejutkan.",
         "0.5",
         null,
         "Malay"
        ],
        [
         "3",
         "Sayang sekali, pelakon tidak memberikan persembahan terbaik. Kurang puas hati.",
         "0.8",
         null,
         "Malay"
        ],
        [
         "4",
         "Jalan cerita yang kompleks dan penuh emosi. Sungguh menghiburkan!",
         "0.2",
         null,
         "Malay"
        ],
        [
         "5",
         "Pembuat filem berjaya memberikan pengalaman yang tidak terlupakan. Sungguh memukau!",
         "0.05",
         null,
         "Malay"
        ],
        [
         "6",
         "Adegan aksi yang terlalu banyak dan mengejutkan. Terkadang agak terlalu banyak.",
         "0.4",
         null,
         "Malay"
        ],
        [
         "7",
         "Saya teruja sepanjang filem. Penceritaan yang menarik!",
         "0.15",
         null,
         "Malay"
        ],
        [
         "8",
         "Avengers: Endgame mengecewakan dan membosankan. Terlalu banyak klise.",
         "0.85",
         null,
         "Malay"
        ],
        [
         "9",
         "Integrasi elemen fiksyen sains sangat menarik. Saya suka!",
         "0.25",
         null,
         "Malay"
        ],
        [
         "10",
         "Filem ini mengujakan dengan nuansa emosi yang mendalam.",
         "0.12",
         null,
         "Malay"
        ],
        [
         "11",
         "Secara keseluruhan, pengalaman sinematik yang luar biasa. Saya kagum!",
         "0.08",
         null,
         "Malay"
        ],
        [
         "12",
         "Saya kira filem ini tidak sehebat yang diperkatakan. Rasa kurang puas hati.",
         "0.7",
         null,
         "Malay"
        ],
        [
         "13",
         "Aksi yang menakjubkan dan plot yang penuh kejutan. Saya kagum!",
         "0.12",
         null,
         "Malay"
        ],
        [
         "14",
         "Kualiti visual filem ini sungguh mengagumkan. Saya teruja!",
         "0.15",
         null,
         "Malay"
        ],
        [
         "15",
         "Saya kurang suka cara pelakon utama menyampaikan dialog. Kurang menyakinkan.",
         "0.75",
         null,
         "Malay"
        ],
        [
         "16",
         "Jalan cerita yang rumit tetapi sangat menarik. Saya suka!",
         "0.2",
         null,
         "Malay"
        ],
        [
         "17",
         "Adegan aksi yang terlalu dramatik dan berlebihan. Tidak realistik.",
         "0.6",
         null,
         "Malay"
        ],
        [
         "18",
         "Filem ini benar-benar membuat saya terbawa suasana. Saya kagum dengan keseluruhan produksi.",
         "0.1",
         null,
         "Malay"
        ],
        [
         "19",
         "Pelakon memberikan persembahan yang hebat. Saya suka cerita ini!",
         "0.15",
         null,
         "Malay"
        ],
        [
         "20",
         "Saya tidak faham dengan plot filem ini. Terlalu kompleks.",
         "0.7",
         null,
         "Malay"
        ],
        [
         "21",
         "Kejutan besar dalam plot! Aksi yang memukau sepanjang filem.",
         "0.1",
         null,
         "Malay"
        ],
        [
         "22",
         "Visual effects hebat tetapi plot kurang menarik. Saya rasa bosan.",
         "0.6",
         null,
         "Malay"
        ],
        [
         "23",
         "Saya tidak suka bagaimana filem ini berakhir. Tidak memuaskan.",
         "0.8",
         null,
         "Malay"
        ],
        [
         "24",
         "Filem ini membuat saya gelak dan menangis. Suka dengan perasaan yang disampaikan.",
         "0.15",
         null,
         "Malay"
        ],
        [
         "25",
         "Pelakon tidak berjaya membawa watak dengan baik. Kurang kredibel.",
         "0.7",
         null,
         "Malay"
        ],
        [
         "26",
         "Keseluruhan, filem ini hebat! Saya akan menontonnya lagi.",
         "0.08",
         null,
         "Malay"
        ],
        [
         "27",
         "Adegan aksi yang luar biasa. Saya rasa teruja sepanjang masa.",
         "0.12",
         null,
         "Malay"
        ],
        [
         "28",
         "Sayang sekali, plot filem ini terlalu terbuka. Tidak ada penyelesaian yang memuaskan.",
         "0.7",
         null,
         "Malay"
        ],
        [
         "29",
         "Saya suka cara filem ini menggabungkan komedi dengan aksi. Sangat menghiburkan.",
         "0.15",
         null,
         "Malay"
        ],
        [
         "30",
         "Kualiti visual dan efek khas filem ini luar biasa. Saya terkesan!",
         "0.1",
         null,
         "Malay"
        ],
        [
         "31",
         "Pelakon memberikan persembahan yang sangat baik. Saya suka jalan ceritanya.",
         "0.15",
         null,
         "Malay"
        ],
        [
         "32",
         "Filem ini sangat mengecewakan. Tidak sepadan dengan hype.",
         "0.8",
         null,
         "Malay"
        ],
        [
         "33",
         "Plot yang rumit tetapi menarik. Adegan akhir yang epik!",
         "0.1",
         null,
         "Malay"
        ],
        [
         "34",
         "Adegan aksi yang terlalu berlebihan. Terlalu banyak efek khas.",
         "0.6",
         null,
         "Malay"
        ],
        [
         "35",
         "Saya tidak faham dengan twist dalam plot. Sedikit keliru.",
         "0.7",
         null,
         "Malay"
        ],
        [
         "36",
         "Filem ini benar-benar menggetarkan perasaan. Saya suka sekali!",
         "0.12",
         null,
         "Malay"
        ],
        [
         "37",
         "Visual effects filem ini luar biasa. Teruja dengan kehebatan teknikal.",
         "0.1",
         null,
         "Malay"
        ],
        [
         "38",
         "Kurangnya pengembangan watak membuatkan filem ini lemah. Tidak memuaskan.",
         "0.75",
         null,
         "Malay"
        ],
        [
         "39",
         "Saya teruja dengan cara filem ini menggabungkan elemen fiksyen sains.",
         "0.2",
         null,
         "Malay"
        ],
        [
         "40",
         "Plot yang menarik dan penuh kejutan. Saya suka twist dalam cerita.",
         "0.15",
         null,
         "Malay"
        ],
        [
         "41",
         "Filem ini mempunyai kekuatan emosional yang besar. Menyentuh hati!",
         "0.12",
         null,
         "Malay"
        ],
        [
         "42",
         "Pelakon memberikan persembahan yang tidak memuaskan. Tidak kredibel.",
         "0.75",
         null,
         "Malay"
        ],
        [
         "43",
         "Jalan cerita yang agak biasa tetapi dihidupkan dengan aksi yang hebat.",
         "0.25",
         null,
         "Malay"
        ],
        [
         "44",
         "Adegan akhir yang sangat epik! Saya teruja dengan penutupan trilogi ini.",
         "0.08",
         null,
         "Malay"
        ],
        [
         "45",
         "Filem ini hebat! Saya suka dengan pengembangan watak.",
         "0.1",
         null,
         "Malay"
        ],
        [
         "46",
         "Saya tidak suka dengan jalan cerita yang terlalu kompleks. Tidak dapat diikuti.",
         "0.7",
         null,
         "Malay"
        ],
        [
         "47",
         "Sangat gembira dengan filem ini. Aksi yang mengagumkan!",
         "0.12",
         null,
         "Malay"
        ],
        [
         "48",
         "Plot yang rumit tetapi sangat menarik. Kejutan besar di penghujung!",
         "0.08",
         null,
         "Malay"
        ],
        [
         "49",
         "Visual effects filem ini benar-benar luar biasa. Saya terkesan!",
         "0.1",
         null,
         "Malay"
        ]
       ],
       "shape": {
        "columns": 4,
        "rows": 527
       }
      },
      "text/html": [
       "<div>\n",
       "<style scoped>\n",
       "    .dataframe tbody tr th:only-of-type {\n",
       "        vertical-align: middle;\n",
       "    }\n",
       "\n",
       "    .dataframe tbody tr th {\n",
       "        vertical-align: top;\n",
       "    }\n",
       "\n",
       "    .dataframe thead th {\n",
       "        text-align: right;\n",
       "    }\n",
       "</style>\n",
       "<table border=\"1\" class=\"dataframe\">\n",
       "  <thead>\n",
       "    <tr style=\"text-align: right;\">\n",
       "      <th></th>\n",
       "      <th>Review</th>\n",
       "      <th>Score</th>\n",
       "      <th>Are there ways for you to generate more data? Spliting up sentences, would that help?</th>\n",
       "      <th>Language</th>\n",
       "    </tr>\n",
       "  </thead>\n",
       "  <tbody>\n",
       "    <tr>\n",
       "      <th>0</th>\n",
       "      <td>Filem ini hebat! Aksi yang mendebarkan dan plo...</td>\n",
       "      <td>0.1</td>\n",
       "      <td>NaN</td>\n",
       "      <td>Malay</td>\n",
       "    </tr>\n",
       "    <tr>\n",
       "      <th>1</th>\n",
       "      <td>Filem ini hebat! Aksi yang mendebarkan dan plo...</td>\n",
       "      <td>0.9</td>\n",
       "      <td>NaN</td>\n",
       "      <td>Malay</td>\n",
       "    </tr>\n",
       "    <tr>\n",
       "      <th>2</th>\n",
       "      <td>Filem ini hebat! Aksi yang mendebarkan dan plo...</td>\n",
       "      <td>0.5</td>\n",
       "      <td>NaN</td>\n",
       "      <td>Malay</td>\n",
       "    </tr>\n",
       "    <tr>\n",
       "      <th>3</th>\n",
       "      <td>Sayang sekali, pelakon tidak memberikan persem...</td>\n",
       "      <td>0.8</td>\n",
       "      <td>NaN</td>\n",
       "      <td>Malay</td>\n",
       "    </tr>\n",
       "    <tr>\n",
       "      <th>4</th>\n",
       "      <td>Jalan cerita yang kompleks dan penuh emosi. Su...</td>\n",
       "      <td>0.2</td>\n",
       "      <td>NaN</td>\n",
       "      <td>Malay</td>\n",
       "    </tr>\n",
       "    <tr>\n",
       "      <th>...</th>\n",
       "      <td>...</td>\n",
       "      <td>...</td>\n",
       "      <td>...</td>\n",
       "      <td>...</td>\n",
       "    </tr>\n",
       "    <tr>\n",
       "      <th>522</th>\n",
       "      <td>Pening</td>\n",
       "      <td>0.7</td>\n",
       "      <td>NaN</td>\n",
       "      <td>Malay</td>\n",
       "    </tr>\n",
       "    <tr>\n",
       "      <th>523</th>\n",
       "      <td>Berkesan</td>\n",
       "      <td>0.2</td>\n",
       "      <td>NaN</td>\n",
       "      <td>Malay</td>\n",
       "    </tr>\n",
       "    <tr>\n",
       "      <th>524</th>\n",
       "      <td>Mengujakan</td>\n",
       "      <td>0.1</td>\n",
       "      <td>NaN</td>\n",
       "      <td>Malay</td>\n",
       "    </tr>\n",
       "    <tr>\n",
       "      <th>525</th>\n",
       "      <td>Sederhana and teruk</td>\n",
       "      <td>0.6</td>\n",
       "      <td>NaN</td>\n",
       "      <td>Malay</td>\n",
       "    </tr>\n",
       "    <tr>\n",
       "      <th>526</th>\n",
       "      <td>Sempurna</td>\n",
       "      <td>0.1</td>\n",
       "      <td>NaN</td>\n",
       "      <td>Malay</td>\n",
       "    </tr>\n",
       "  </tbody>\n",
       "</table>\n",
       "<p>527 rows × 4 columns</p>\n",
       "</div>"
      ],
      "text/plain": [
       "                                                Review  Score  \\\n",
       "0    Filem ini hebat! Aksi yang mendebarkan dan plo...    0.1   \n",
       "1    Filem ini hebat! Aksi yang mendebarkan dan plo...    0.9   \n",
       "2    Filem ini hebat! Aksi yang mendebarkan dan plo...    0.5   \n",
       "3    Sayang sekali, pelakon tidak memberikan persem...    0.8   \n",
       "4    Jalan cerita yang kompleks dan penuh emosi. Su...    0.2   \n",
       "..                                                 ...    ...   \n",
       "522                                             Pening    0.7   \n",
       "523                                           Berkesan    0.2   \n",
       "524                                         Mengujakan    0.1   \n",
       "525                                Sederhana and teruk    0.6   \n",
       "526                                           Sempurna    0.1   \n",
       "\n",
       "     Are there ways for you to generate more data? Spliting up sentences, would that help?  \\\n",
       "0                                                  NaN                                       \n",
       "1                                                  NaN                                       \n",
       "2                                                  NaN                                       \n",
       "3                                                  NaN                                       \n",
       "4                                                  NaN                                       \n",
       "..                                                 ...                                       \n",
       "522                                                NaN                                       \n",
       "523                                                NaN                                       \n",
       "524                                                NaN                                       \n",
       "525                                                NaN                                       \n",
       "526                                                NaN                                       \n",
       "\n",
       "    Language  \n",
       "0      Malay  \n",
       "1      Malay  \n",
       "2      Malay  \n",
       "3      Malay  \n",
       "4      Malay  \n",
       "..       ...  \n",
       "522    Malay  \n",
       "523    Malay  \n",
       "524    Malay  \n",
       "525    Malay  \n",
       "526    Malay  \n",
       "\n",
       "[527 rows x 4 columns]"
      ]
     },
     "execution_count": 4,
     "metadata": {},
     "output_type": "execute_result"
    }
   ],
   "source": [
    "df"
   ]
  },
  {
   "cell_type": "code",
   "execution_count": 5,
   "id": "3faaa598",
   "metadata": {},
   "outputs": [
    {
     "name": "stdout",
     "output_type": "stream",
     "text": [
      "<class 'pandas.core.frame.DataFrame'>\n",
      "RangeIndex: 527 entries, 0 to 526\n",
      "Data columns (total 4 columns):\n",
      " #   Column                                                                                 Non-Null Count  Dtype  \n",
      "---  ------                                                                                 --------------  -----  \n",
      " 0   Review                                                                                 527 non-null    object \n",
      " 1   Score                                                                                  525 non-null    float64\n",
      " 2   Are there ways for you to generate more data? Spliting up sentences, would that help?  0 non-null      float64\n",
      " 3   Language                                                                               527 non-null    object \n",
      "dtypes: float64(2), object(2)\n",
      "memory usage: 16.6+ KB\n"
     ]
    }
   ],
   "source": [
    "df.info()"
   ]
  },
  {
   "cell_type": "markdown",
   "id": "07f2509a",
   "metadata": {},
   "source": [
    "Col index 2 is a hint not actual usable data\n",
    "\n",
    "Hint: **Are there ways for you to generate more data? Spliting up sentences, would that help?**"
   ]
  },
  {
   "cell_type": "code",
   "execution_count": 6,
   "id": "7af6385a",
   "metadata": {},
   "outputs": [],
   "source": [
    "df.drop(columns='Are there ways for you to generate more data? Spliting up sentences, would that help?', inplace=True)"
   ]
  },
  {
   "cell_type": "code",
   "execution_count": 7,
   "id": "ef0044fb",
   "metadata": {},
   "outputs": [
    {
     "data": {
      "text/plain": [
       "array(['Malay', 'English', 'Chinese', 'Nippon'], dtype=object)"
      ]
     },
     "execution_count": 7,
     "metadata": {},
     "output_type": "execute_result"
    }
   ],
   "source": [
    "df['Language'].unique()"
   ]
  },
  {
   "cell_type": "code",
   "execution_count": 8,
   "id": "caf7f3b0",
   "metadata": {},
   "outputs": [
    {
     "data": {
      "application/vnd.microsoft.datawrangler.viewer.v0+json": {
       "columns": [
        {
         "name": "index",
         "rawType": "int64",
         "type": "integer"
        },
        {
         "name": "Review",
         "rawType": "object",
         "type": "string"
        },
        {
         "name": "Score",
         "rawType": "float64",
         "type": "float"
        },
        {
         "name": "Language",
         "rawType": "object",
         "type": "string"
        }
       ],
       "conversionMethod": "pd.DataFrame",
       "ref": "89b0e7a2-c2d5-4b51-b10a-ac4755d2a894",
       "rows": [
        [
         "484",
         "Nani kore",
         "0.997413",
         "Nippon"
        ]
       ],
       "shape": {
        "columns": 3,
        "rows": 1
       }
      },
      "text/html": [
       "<div>\n",
       "<style scoped>\n",
       "    .dataframe tbody tr th:only-of-type {\n",
       "        vertical-align: middle;\n",
       "    }\n",
       "\n",
       "    .dataframe tbody tr th {\n",
       "        vertical-align: top;\n",
       "    }\n",
       "\n",
       "    .dataframe thead th {\n",
       "        text-align: right;\n",
       "    }\n",
       "</style>\n",
       "<table border=\"1\" class=\"dataframe\">\n",
       "  <thead>\n",
       "    <tr style=\"text-align: right;\">\n",
       "      <th></th>\n",
       "      <th>Review</th>\n",
       "      <th>Score</th>\n",
       "      <th>Language</th>\n",
       "    </tr>\n",
       "  </thead>\n",
       "  <tbody>\n",
       "    <tr>\n",
       "      <th>484</th>\n",
       "      <td>Nani kore</td>\n",
       "      <td>0.997413</td>\n",
       "      <td>Nippon</td>\n",
       "    </tr>\n",
       "  </tbody>\n",
       "</table>\n",
       "</div>"
      ],
      "text/plain": [
       "        Review     Score Language\n",
       "484  Nani kore  0.997413   Nippon"
      ]
     },
     "execution_count": 8,
     "metadata": {},
     "output_type": "execute_result"
    }
   ],
   "source": [
    "# Note sure what Nippon is\n",
    "df[df['Language'] == 'Nippon']"
   ]
  },
  {
   "cell_type": "markdown",
   "id": "38dd26c4",
   "metadata": {},
   "source": [
    "Looks like **Nippon** is **Japanese**, **Nani Kore** roughly translating to **What's This?** (condescendingly)"
   ]
  },
  {
   "cell_type": "code",
   "execution_count": 9,
   "id": "07ca1b10",
   "metadata": {},
   "outputs": [
    {
     "data": {
      "application/vnd.microsoft.datawrangler.viewer.v0+json": {
       "columns": [
        {
         "name": "index",
         "rawType": "int64",
         "type": "integer"
        },
        {
         "name": "Review",
         "rawType": "object",
         "type": "string"
        },
        {
         "name": "Score",
         "rawType": "float64",
         "type": "float"
        },
        {
         "name": "Language",
         "rawType": "object",
         "type": "string"
        }
       ],
       "conversionMethod": "pd.DataFrame",
       "ref": "d19a1c38-48fb-4ea4-a8b2-af021a971fc0",
       "rows": [
        [
         "0",
         "Filem ini hebat! Aksi yang mendebarkan dan plot yang mengejutkan.",
         "0.1",
         "Malay"
        ],
        [
         "1",
         "Filem ini hebat! Aksi yang mendebarkan dan plot yang mengejutkan.",
         "0.9",
         "Malay"
        ],
        [
         "2",
         "Filem ini hebat! Aksi yang mendebarkan dan plot yang mengejutkan.",
         "0.5",
         "Malay"
        ]
       ],
       "shape": {
        "columns": 3,
        "rows": 3
       }
      },
      "text/html": [
       "<div>\n",
       "<style scoped>\n",
       "    .dataframe tbody tr th:only-of-type {\n",
       "        vertical-align: middle;\n",
       "    }\n",
       "\n",
       "    .dataframe tbody tr th {\n",
       "        vertical-align: top;\n",
       "    }\n",
       "\n",
       "    .dataframe thead th {\n",
       "        text-align: right;\n",
       "    }\n",
       "</style>\n",
       "<table border=\"1\" class=\"dataframe\">\n",
       "  <thead>\n",
       "    <tr style=\"text-align: right;\">\n",
       "      <th></th>\n",
       "      <th>Review</th>\n",
       "      <th>Score</th>\n",
       "      <th>Language</th>\n",
       "    </tr>\n",
       "  </thead>\n",
       "  <tbody>\n",
       "    <tr>\n",
       "      <th>0</th>\n",
       "      <td>Filem ini hebat! Aksi yang mendebarkan dan plo...</td>\n",
       "      <td>0.1</td>\n",
       "      <td>Malay</td>\n",
       "    </tr>\n",
       "    <tr>\n",
       "      <th>1</th>\n",
       "      <td>Filem ini hebat! Aksi yang mendebarkan dan plo...</td>\n",
       "      <td>0.9</td>\n",
       "      <td>Malay</td>\n",
       "    </tr>\n",
       "    <tr>\n",
       "      <th>2</th>\n",
       "      <td>Filem ini hebat! Aksi yang mendebarkan dan plo...</td>\n",
       "      <td>0.5</td>\n",
       "      <td>Malay</td>\n",
       "    </tr>\n",
       "  </tbody>\n",
       "</table>\n",
       "</div>"
      ],
      "text/plain": [
       "                                              Review  Score Language\n",
       "0  Filem ini hebat! Aksi yang mendebarkan dan plo...    0.1    Malay\n",
       "1  Filem ini hebat! Aksi yang mendebarkan dan plo...    0.9    Malay\n",
       "2  Filem ini hebat! Aksi yang mendebarkan dan plo...    0.5    Malay"
      ]
     },
     "execution_count": 9,
     "metadata": {},
     "output_type": "execute_result"
    }
   ],
   "source": [
    "df.iloc[0:3]\n",
    "           "
   ]
  },
  {
   "cell_type": "markdown",
   "id": "4fd923bb",
   "metadata": {},
   "source": [
    "These 3 have the same review but different score"
   ]
  },
  {
   "cell_type": "code",
   "execution_count": 10,
   "id": "2144e82e",
   "metadata": {},
   "outputs": [
    {
     "data": {
      "text/plain": [
       "'Filem ini hebat! Aksi yang mendebarkan dan plot yang mengejutkan.'"
      ]
     },
     "execution_count": 10,
     "metadata": {},
     "output_type": "execute_result"
    }
   ],
   "source": [
    "df.iloc[0]['Review']"
   ]
  },
  {
   "cell_type": "markdown",
   "id": "23106c1a",
   "metadata": {},
   "source": [
    "Acoording to **Google Translate** this roughly translates to _This movie is great! Thrilling action and a surprising plot_"
   ]
  },
  {
   "cell_type": "markdown",
   "id": "f475db6a",
   "metadata": {},
   "source": [
    "##### Trying to figure out what **Score** means"
   ]
  },
  {
   "cell_type": "code",
   "execution_count": 11,
   "id": "12d119ab",
   "metadata": {},
   "outputs": [
    {
     "data": {
      "application/vnd.microsoft.datawrangler.viewer.v0+json": {
       "columns": [
        {
         "name": "index",
         "rawType": "int64",
         "type": "integer"
        },
        {
         "name": "Review",
         "rawType": "object",
         "type": "string"
        },
        {
         "name": "Score",
         "rawType": "float64",
         "type": "float"
        },
        {
         "name": "Language",
         "rawType": "object",
         "type": "string"
        }
       ],
       "conversionMethod": "pd.DataFrame",
       "ref": "0136c452-1aa8-4053-b8dc-6fbb5799cf71",
       "rows": [
        [
         "212",
         "Avengers: Endgame is disappointing and too cliché. Not enjoyable.",
         "0.85",
         "English"
        ],
        [
         "219",
         "I'm not satisfied with how the main actors deliver their lines. Not convincing.",
         "0.8",
         "English"
        ],
        [
         "236",
         "This film is very disappointing. Not worth the hype.",
         "0.8",
         "English"
        ],
        [
         "262",
         "Lack of character development makes this film weak. Not satisfying.",
         "0.8",
         "English"
        ],
        [
         "294",
         "This film is highly disappointing. It fails to live up to the hype.",
         "0.8",
         "English"
        ],
        [
         "430",
         "Disappointing",
         "0.8",
         "English"
        ],
        [
         "472",
         "Disappointing resolution",
         "0.8",
         "English"
        ]
       ],
       "shape": {
        "columns": 3,
        "rows": 7
       }
      },
      "text/html": [
       "<div>\n",
       "<style scoped>\n",
       "    .dataframe tbody tr th:only-of-type {\n",
       "        vertical-align: middle;\n",
       "    }\n",
       "\n",
       "    .dataframe tbody tr th {\n",
       "        vertical-align: top;\n",
       "    }\n",
       "\n",
       "    .dataframe thead th {\n",
       "        text-align: right;\n",
       "    }\n",
       "</style>\n",
       "<table border=\"1\" class=\"dataframe\">\n",
       "  <thead>\n",
       "    <tr style=\"text-align: right;\">\n",
       "      <th></th>\n",
       "      <th>Review</th>\n",
       "      <th>Score</th>\n",
       "      <th>Language</th>\n",
       "    </tr>\n",
       "  </thead>\n",
       "  <tbody>\n",
       "    <tr>\n",
       "      <th>212</th>\n",
       "      <td>Avengers: Endgame is disappointing and too cli...</td>\n",
       "      <td>0.85</td>\n",
       "      <td>English</td>\n",
       "    </tr>\n",
       "    <tr>\n",
       "      <th>219</th>\n",
       "      <td>I'm not satisfied with how the main actors del...</td>\n",
       "      <td>0.80</td>\n",
       "      <td>English</td>\n",
       "    </tr>\n",
       "    <tr>\n",
       "      <th>236</th>\n",
       "      <td>This film is very disappointing. Not worth the...</td>\n",
       "      <td>0.80</td>\n",
       "      <td>English</td>\n",
       "    </tr>\n",
       "    <tr>\n",
       "      <th>262</th>\n",
       "      <td>Lack of character development makes this film ...</td>\n",
       "      <td>0.80</td>\n",
       "      <td>English</td>\n",
       "    </tr>\n",
       "    <tr>\n",
       "      <th>294</th>\n",
       "      <td>This film is highly disappointing. It fails to...</td>\n",
       "      <td>0.80</td>\n",
       "      <td>English</td>\n",
       "    </tr>\n",
       "    <tr>\n",
       "      <th>430</th>\n",
       "      <td>Disappointing</td>\n",
       "      <td>0.80</td>\n",
       "      <td>English</td>\n",
       "    </tr>\n",
       "    <tr>\n",
       "      <th>472</th>\n",
       "      <td>Disappointing resolution</td>\n",
       "      <td>0.80</td>\n",
       "      <td>English</td>\n",
       "    </tr>\n",
       "  </tbody>\n",
       "</table>\n",
       "</div>"
      ],
      "text/plain": [
       "                                                Review  Score Language\n",
       "212  Avengers: Endgame is disappointing and too cli...   0.85  English\n",
       "219  I'm not satisfied with how the main actors del...   0.80  English\n",
       "236  This film is very disappointing. Not worth the...   0.80  English\n",
       "262  Lack of character development makes this film ...   0.80  English\n",
       "294  This film is highly disappointing. It fails to...   0.80  English\n",
       "430                                      Disappointing   0.80  English\n",
       "472                           Disappointing resolution   0.80  English"
      ]
     },
     "execution_count": 11,
     "metadata": {},
     "output_type": "execute_result"
    }
   ],
   "source": [
    "df[(df['Language'] == 'English') & (df['Score'] > 0.75)]"
   ]
  },
  {
   "cell_type": "code",
   "execution_count": 12,
   "id": "e11ef21a",
   "metadata": {},
   "outputs": [
    {
     "data": {
      "application/vnd.microsoft.datawrangler.viewer.v0+json": {
       "columns": [
        {
         "name": "index",
         "rawType": "int64",
         "type": "integer"
        },
        {
         "name": "Review",
         "rawType": "object",
         "type": "string"
        },
        {
         "name": "Score",
         "rawType": "float64",
         "type": "float"
        },
        {
         "name": "Language",
         "rawType": "object",
         "type": "string"
        }
       ],
       "conversionMethod": "pd.DataFrame",
       "ref": "f7f308c7-00c3-476b-b2b6-ae9bc5fb9eac",
       "rows": [
        [
         "206",
         "This movie is amazing! The action is breathtaking, and the plot is intriguing.",
         "0.08",
         "English"
        ],
        [
         "208",
         "The storyline is touching and full of emotion. I love it!",
         "0.12",
         "English"
        ],
        [
         "209",
         "This movie delivers an outstanding experience. Truly captivating!",
         "0.05",
         "English"
        ],
        [
         "211",
         "I'm thrilled throughout the movie. Engaging storytelling!",
         "0.15",
         "English"
        ],
        [
         "214",
         "This film is truly impressive with deep emotional tones.",
         "0.12",
         "English"
        ],
        [
         "215",
         "A cinematic experience that is unforgettable. I'm impressed!",
         "0.1",
         "English"
        ],
        [
         "217",
         "Amazing action and a plot full of surprises. I'm impressed!",
         "0.12",
         "English"
        ],
        [
         "218",
         "The visual quality of this film is astonishing. Excited about its special effects!",
         "0.1",
         "English"
        ],
        [
         "220",
         "The storyline is complex but very interesting. I like it!",
         "0.2",
         "English"
        ],
        [
         "222",
         "This film captivates with the atmosphere it creates. I'm impressed!",
         "0.1",
         "English"
        ],
        [
         "223",
         "The actors give excellent performances. I like this story!",
         "0.15",
         "English"
        ],
        [
         "225",
         "A big surprise in the plot! Thrilling action throughout.",
         "0.1",
         "English"
        ],
        [
         "226",
         "The visual effects of this film are truly captivating. I'm impressed!",
         "0.1",
         "English"
        ],
        [
         "228",
         "This film makes me laugh and cry. Love the emotions conveyed.",
         "0.15",
         "English"
        ],
        [
         "230",
         "Overall, this film is great! I would watch it again.",
         "0.08",
         "English"
        ],
        [
         "231",
         "Outstanding action scenes. Excited about the trilogy's conclusion.",
         "0.12",
         "English"
        ],
        [
         "233",
         "I like how this film combines comedy with action. Highly entertaining.",
         "0.15",
         "English"
        ],
        [
         "234",
         "The visual effects and animation in this film are amazing. Impressed!",
         "0.1",
         "English"
        ],
        [
         "235",
         "The actors give a very good performance. I like the story.",
         "0.12",
         "English"
        ],
        [
         "237",
         "Complex but very interesting plot. Big twist at the end!",
         "0.1",
         "English"
        ],
        [
         "240",
         "This film is interesting and provides a deep experience. I like it!",
         "0.12",
         "English"
        ],
        [
         "241",
         "The visual effects of this film are outstanding. Excited about the technical brilliance!",
         "0.1",
         "English"
        ],
        [
         "243",
         "I'm thrilled with how this film incorporates elements of science fiction.",
         "0.2",
         "English"
        ],
        [
         "244",
         "Interesting and surprising plot. Love the twist in the story.",
         "0.15",
         "English"
        ],
        [
         "245",
         "This film has a great emotional impact. Touching!",
         "0.12",
         "English"
        ],
        [
         "246",
         "The actors give a very good performance. I like the character development.",
         "0.12",
         "English"
        ],
        [
         "248",
         "An extremely epic ending! Thrilled with the trilogy's conclusion.",
         "0.08",
         "English"
        ],
        [
         "249",
         "This film is great! I like the character development.",
         "0.1",
         "English"
        ],
        [
         "251",
         "Very pleased with this film. Amazing action!",
         "0.12",
         "English"
        ],
        [
         "252",
         "Complex but very interesting plot. Big surprise at the end!",
         "0.08",
         "English"
        ],
        [
         "253",
         "The visual effects of this film are truly astonishing. Impressed!",
         "0.1",
         "English"
        ],
        [
         "254",
         "Deep emotional impact in this film makes me teary-eyed. I like it!",
         "0.12",
         "English"
        ],
        [
         "256",
         "This film provides answers to many questions. Love the twist!",
         "0.15",
         "English"
        ],
        [
         "257",
         "A big surprise in the middle of the film! Thrilling action!",
         "0.12",
         "English"
        ],
        [
         "258",
         "The visual effects and animation in this film are truly amazing. Impressed!",
         "0.1",
         "English"
        ],
        [
         "259",
         "The actors give an outstanding performance. I like this story!",
         "0.12",
         "English"
        ],
        [
         "261",
         "I'm thrilled with how this film brings back elements from previous movies.",
         "0.15",
         "English"
        ],
        [
         "263",
         "The visual effects and animation in this film are amazing. Impressed!",
         "0.05",
         "English"
        ],
        [
         "264",
         "This film is a masterpiece! The storytelling is exceptional, and the performances are outstanding.",
         "0.05",
         "English"
        ],
        [
         "266",
         "The emotional depth of the characters and the engaging plot make it a must-watch! Highly recommended.",
         "0.1",
         "English"
        ],
        [
         "267",
         "A cinematic marvel! The visuals are breathtaking, and the narrative is spellbinding.",
         "0.08",
         "English"
        ],
        [
         "269",
         "I'm captivated from start to finish. The storytelling is compelling!",
         "0.12",
         "English"
        ],
        [
         "271",
         "The fusion of science fiction elements adds a unique and intriguing dimension. Fascinating!",
         "0.15",
         "English"
        ],
        [
         "272",
         "This film resonates with profound emotions. A truly remarkable experience.",
         "0.1",
         "English"
        ],
        [
         "273",
         "A visual spectacle that leaves a lasting impression. Absolutely mesmerizing!",
         "0.06",
         "English"
        ],
        [
         "275",
         "The action sequences are mind-blowing, and the plot twists keep you on the edge of your seat!",
         "0.1",
         "English"
        ],
        [
         "276",
         "The visual quality is top-notch, creating a visual feast for the audience. Impressive special effects!",
         "0.08",
         "English"
        ],
        [
         "278",
         "The intricate storyline adds depth to the narrative. A genuinely captivating experience!",
         "0.13",
         "English"
        ],
        [
         "280",
         "The film creates an immersive atmosphere that is both captivating and emotionally resonant. Impressive!",
         "0.08",
         "English"
        ],
        [
         "281",
         "Outstanding performances from the cast. The narrative is enriched with character development.",
         "0.12",
         "English"
        ]
       ],
       "shape": {
        "columns": 3,
        "rows": 201
       }
      },
      "text/html": [
       "<div>\n",
       "<style scoped>\n",
       "    .dataframe tbody tr th:only-of-type {\n",
       "        vertical-align: middle;\n",
       "    }\n",
       "\n",
       "    .dataframe tbody tr th {\n",
       "        vertical-align: top;\n",
       "    }\n",
       "\n",
       "    .dataframe thead th {\n",
       "        text-align: right;\n",
       "    }\n",
       "</style>\n",
       "<table border=\"1\" class=\"dataframe\">\n",
       "  <thead>\n",
       "    <tr style=\"text-align: right;\">\n",
       "      <th></th>\n",
       "      <th>Review</th>\n",
       "      <th>Score</th>\n",
       "      <th>Language</th>\n",
       "    </tr>\n",
       "  </thead>\n",
       "  <tbody>\n",
       "    <tr>\n",
       "      <th>206</th>\n",
       "      <td>This movie is amazing! The action is breathtak...</td>\n",
       "      <td>0.08</td>\n",
       "      <td>English</td>\n",
       "    </tr>\n",
       "    <tr>\n",
       "      <th>208</th>\n",
       "      <td>The storyline is touching and full of emotion....</td>\n",
       "      <td>0.12</td>\n",
       "      <td>English</td>\n",
       "    </tr>\n",
       "    <tr>\n",
       "      <th>209</th>\n",
       "      <td>This movie delivers an outstanding experience....</td>\n",
       "      <td>0.05</td>\n",
       "      <td>English</td>\n",
       "    </tr>\n",
       "    <tr>\n",
       "      <th>211</th>\n",
       "      <td>I'm thrilled throughout the movie. Engaging st...</td>\n",
       "      <td>0.15</td>\n",
       "      <td>English</td>\n",
       "    </tr>\n",
       "    <tr>\n",
       "      <th>214</th>\n",
       "      <td>This film is truly impressive with deep emotio...</td>\n",
       "      <td>0.12</td>\n",
       "      <td>English</td>\n",
       "    </tr>\n",
       "    <tr>\n",
       "      <th>...</th>\n",
       "      <td>...</td>\n",
       "      <td>...</td>\n",
       "      <td>...</td>\n",
       "    </tr>\n",
       "    <tr>\n",
       "      <th>501</th>\n",
       "      <td>Visually stunning, emotionally resonant journey</td>\n",
       "      <td>0.08</td>\n",
       "      <td>English</td>\n",
       "    </tr>\n",
       "    <tr>\n",
       "      <th>502</th>\n",
       "      <td>Compelling story, outstanding performances</td>\n",
       "      <td>0.12</td>\n",
       "      <td>English</td>\n",
       "    </tr>\n",
       "    <tr>\n",
       "      <th>503</th>\n",
       "      <td>Intricate plot, unexpected twists</td>\n",
       "      <td>0.10</td>\n",
       "      <td>English</td>\n",
       "    </tr>\n",
       "    <tr>\n",
       "      <th>505</th>\n",
       "      <td>Breathtaking visuals, engaging narrative</td>\n",
       "      <td>0.08</td>\n",
       "      <td>English</td>\n",
       "    </tr>\n",
       "    <tr>\n",
       "      <th>506</th>\n",
       "      <td>Top-notch effects, captivating storytelling</td>\n",
       "      <td>0.08</td>\n",
       "      <td>English</td>\n",
       "    </tr>\n",
       "  </tbody>\n",
       "</table>\n",
       "<p>201 rows × 3 columns</p>\n",
       "</div>"
      ],
      "text/plain": [
       "                                                Review  Score Language\n",
       "206  This movie is amazing! The action is breathtak...   0.08  English\n",
       "208  The storyline is touching and full of emotion....   0.12  English\n",
       "209  This movie delivers an outstanding experience....   0.05  English\n",
       "211  I'm thrilled throughout the movie. Engaging st...   0.15  English\n",
       "214  This film is truly impressive with deep emotio...   0.12  English\n",
       "..                                                 ...    ...      ...\n",
       "501    Visually stunning, emotionally resonant journey   0.08  English\n",
       "502         Compelling story, outstanding performances   0.12  English\n",
       "503                  Intricate plot, unexpected twists   0.10  English\n",
       "505           Breathtaking visuals, engaging narrative   0.08  English\n",
       "506        Top-notch effects, captivating storytelling   0.08  English\n",
       "\n",
       "[201 rows x 3 columns]"
      ]
     },
     "execution_count": 12,
     "metadata": {},
     "output_type": "execute_result"
    }
   ],
   "source": [
    "df[(df['Language'] == 'English') & (df['Score'] < 0.25)]"
   ]
  },
  {
   "cell_type": "markdown",
   "id": "02fcdbc2",
   "metadata": {},
   "source": [
    "Contrary to what may be expected, **a lower score actually represents more positive reviews**\n",
    "\n",
    "Therefore score can roughly be defined as **How much I dislike this movie**.\n",
    "\n",
    "Likewise rows with missing scores can be infered as **un-sentimental review** (like just stopwords or generic words)"
   ]
  },
  {
   "cell_type": "code",
   "execution_count": 13,
   "id": "c8c7009e",
   "metadata": {},
   "outputs": [
    {
     "data": {
      "application/vnd.microsoft.datawrangler.viewer.v0+json": {
       "columns": [
        {
         "name": "index",
         "rawType": "int64",
         "type": "integer"
        },
        {
         "name": "Review",
         "rawType": "object",
         "type": "string"
        },
        {
         "name": "Score",
         "rawType": "float64",
         "type": "float"
        },
        {
         "name": "Language",
         "rawType": "object",
         "type": "string"
        }
       ],
       "conversionMethod": "pd.DataFrame",
       "ref": "5fd6ecce-1044-48c0-8730-f67bb6f73ef9",
       "rows": [
        [
         "426",
         "Ni hao",
         null,
         "Chinese"
        ],
        [
         "493",
         "Diabolic",
         null,
         "English"
        ]
       ],
       "shape": {
        "columns": 3,
        "rows": 2
       }
      },
      "text/html": [
       "<div>\n",
       "<style scoped>\n",
       "    .dataframe tbody tr th:only-of-type {\n",
       "        vertical-align: middle;\n",
       "    }\n",
       "\n",
       "    .dataframe tbody tr th {\n",
       "        vertical-align: top;\n",
       "    }\n",
       "\n",
       "    .dataframe thead th {\n",
       "        text-align: right;\n",
       "    }\n",
       "</style>\n",
       "<table border=\"1\" class=\"dataframe\">\n",
       "  <thead>\n",
       "    <tr style=\"text-align: right;\">\n",
       "      <th></th>\n",
       "      <th>Review</th>\n",
       "      <th>Score</th>\n",
       "      <th>Language</th>\n",
       "    </tr>\n",
       "  </thead>\n",
       "  <tbody>\n",
       "    <tr>\n",
       "      <th>426</th>\n",
       "      <td>Ni hao</td>\n",
       "      <td>NaN</td>\n",
       "      <td>Chinese</td>\n",
       "    </tr>\n",
       "    <tr>\n",
       "      <th>493</th>\n",
       "      <td>Diabolic</td>\n",
       "      <td>NaN</td>\n",
       "      <td>English</td>\n",
       "    </tr>\n",
       "  </tbody>\n",
       "</table>\n",
       "</div>"
      ],
      "text/plain": [
       "       Review  Score Language\n",
       "426    Ni hao    NaN  Chinese\n",
       "493  Diabolic    NaN  English"
      ]
     },
     "execution_count": 13,
     "metadata": {},
     "output_type": "execute_result"
    }
   ],
   "source": [
    "df[df['Score'].isnull()]"
   ]
  },
  {
   "cell_type": "code",
   "execution_count": 14,
   "id": "7cb3669a",
   "metadata": {},
   "outputs": [
    {
     "name": "stdout",
     "output_type": "stream",
     "text": [
      "<class 'pandas.core.frame.DataFrame'>\n",
      "Index: 525 entries, 0 to 526\n",
      "Data columns (total 3 columns):\n",
      " #   Column    Non-Null Count  Dtype  \n",
      "---  ------    --------------  -----  \n",
      " 0   Review    525 non-null    object \n",
      " 1   Score     525 non-null    float64\n",
      " 2   Language  525 non-null    object \n",
      "dtypes: float64(1), object(2)\n",
      "memory usage: 16.4+ KB\n"
     ]
    }
   ],
   "source": [
    "# We can drop the missing score cols\n",
    "df.dropna(inplace=True)\n",
    "df.info()"
   ]
  },
  {
   "cell_type": "code",
   "execution_count": 15,
   "id": "24761cd8",
   "metadata": {},
   "outputs": [
    {
     "data": {
      "application/vnd.microsoft.datawrangler.viewer.v0+json": {
       "columns": [
        {
         "name": "index",
         "rawType": "int64",
         "type": "integer"
        },
        {
         "name": "Review",
         "rawType": "object",
         "type": "string"
        },
        {
         "name": "Score",
         "rawType": "float64",
         "type": "float"
        },
        {
         "name": "Language",
         "rawType": "object",
         "type": "string"
        }
       ],
       "conversionMethod": "pd.DataFrame",
       "ref": "a81b3628-14da-491a-9f24-7549920149cc",
       "rows": [
        [
         "427",
         "Hen tai fei chang hao",
         "0.001",
         "Chinese"
        ]
       ],
       "shape": {
        "columns": 3,
        "rows": 1
       }
      },
      "text/html": [
       "<div>\n",
       "<style scoped>\n",
       "    .dataframe tbody tr th:only-of-type {\n",
       "        vertical-align: middle;\n",
       "    }\n",
       "\n",
       "    .dataframe tbody tr th {\n",
       "        vertical-align: top;\n",
       "    }\n",
       "\n",
       "    .dataframe thead th {\n",
       "        text-align: right;\n",
       "    }\n",
       "</style>\n",
       "<table border=\"1\" class=\"dataframe\">\n",
       "  <thead>\n",
       "    <tr style=\"text-align: right;\">\n",
       "      <th></th>\n",
       "      <th>Review</th>\n",
       "      <th>Score</th>\n",
       "      <th>Language</th>\n",
       "    </tr>\n",
       "  </thead>\n",
       "  <tbody>\n",
       "    <tr>\n",
       "      <th>427</th>\n",
       "      <td>Hen tai fei chang hao</td>\n",
       "      <td>0.001</td>\n",
       "      <td>Chinese</td>\n",
       "    </tr>\n",
       "  </tbody>\n",
       "</table>\n",
       "</div>"
      ],
      "text/plain": [
       "                    Review  Score Language\n",
       "427  Hen tai fei chang hao  0.001  Chinese"
      ]
     },
     "execution_count": 15,
     "metadata": {},
     "output_type": "execute_result"
    }
   ],
   "source": [
    "## Looking at chinese reviews\n",
    "df[df['Language'] == 'Chinese']"
   ]
  },
  {
   "cell_type": "code",
   "execution_count": 16,
   "id": "02d5d713",
   "metadata": {},
   "outputs": [
    {
     "data": {
      "application/vnd.microsoft.datawrangler.viewer.v0+json": {
       "columns": [
        {
         "name": "index",
         "rawType": "int64",
         "type": "integer"
        },
        {
         "name": "Review",
         "rawType": "object",
         "type": "string"
        },
        {
         "name": "Score",
         "rawType": "float64",
         "type": "float"
        },
        {
         "name": "Language",
         "rawType": "object",
         "type": "string"
        }
       ],
       "conversionMethod": "pd.DataFrame",
       "ref": "2e084d51-33bd-46be-9b8e-3c018ea9fab4",
       "rows": [
        [
         "0",
         "Filem ini hebat! Aksi yang mendebarkan dan plot yang mengejutkan.",
         "0.1",
         "Malay"
        ],
        [
         "1",
         "Filem ini hebat! Aksi yang mendebarkan dan plot yang mengejutkan.",
         "0.9",
         "Malay"
        ],
        [
         "2",
         "Filem ini hebat! Aksi yang mendebarkan dan plot yang mengejutkan.",
         "0.5",
         "Malay"
        ],
        [
         "3",
         "Sayang sekali, pelakon tidak memberikan persembahan terbaik. Kurang puas hati.",
         "0.8",
         "Malay"
        ],
        [
         "4",
         "Jalan cerita yang kompleks dan penuh emosi. Sungguh menghiburkan!",
         "0.2",
         "Malay"
        ],
        [
         "5",
         "Pembuat filem berjaya memberikan pengalaman yang tidak terlupakan. Sungguh memukau!",
         "0.05",
         "Malay"
        ],
        [
         "6",
         "Adegan aksi yang terlalu banyak dan mengejutkan. Terkadang agak terlalu banyak.",
         "0.4",
         "Malay"
        ],
        [
         "7",
         "Saya teruja sepanjang filem. Penceritaan yang menarik!",
         "0.15",
         "Malay"
        ],
        [
         "8",
         "Avengers: Endgame mengecewakan dan membosankan. Terlalu banyak klise.",
         "0.85",
         "Malay"
        ],
        [
         "9",
         "Integrasi elemen fiksyen sains sangat menarik. Saya suka!",
         "0.25",
         "Malay"
        ],
        [
         "10",
         "Filem ini mengujakan dengan nuansa emosi yang mendalam.",
         "0.12",
         "Malay"
        ],
        [
         "11",
         "Secara keseluruhan, pengalaman sinematik yang luar biasa. Saya kagum!",
         "0.08",
         "Malay"
        ],
        [
         "12",
         "Saya kira filem ini tidak sehebat yang diperkatakan. Rasa kurang puas hati.",
         "0.7",
         "Malay"
        ],
        [
         "13",
         "Aksi yang menakjubkan dan plot yang penuh kejutan. Saya kagum!",
         "0.12",
         "Malay"
        ],
        [
         "14",
         "Kualiti visual filem ini sungguh mengagumkan. Saya teruja!",
         "0.15",
         "Malay"
        ],
        [
         "15",
         "Saya kurang suka cara pelakon utama menyampaikan dialog. Kurang menyakinkan.",
         "0.75",
         "Malay"
        ],
        [
         "16",
         "Jalan cerita yang rumit tetapi sangat menarik. Saya suka!",
         "0.2",
         "Malay"
        ],
        [
         "17",
         "Adegan aksi yang terlalu dramatik dan berlebihan. Tidak realistik.",
         "0.6",
         "Malay"
        ],
        [
         "18",
         "Filem ini benar-benar membuat saya terbawa suasana. Saya kagum dengan keseluruhan produksi.",
         "0.1",
         "Malay"
        ],
        [
         "19",
         "Pelakon memberikan persembahan yang hebat. Saya suka cerita ini!",
         "0.15",
         "Malay"
        ],
        [
         "20",
         "Saya tidak faham dengan plot filem ini. Terlalu kompleks.",
         "0.7",
         "Malay"
        ],
        [
         "21",
         "Kejutan besar dalam plot! Aksi yang memukau sepanjang filem.",
         "0.1",
         "Malay"
        ],
        [
         "22",
         "Visual effects hebat tetapi plot kurang menarik. Saya rasa bosan.",
         "0.6",
         "Malay"
        ],
        [
         "23",
         "Saya tidak suka bagaimana filem ini berakhir. Tidak memuaskan.",
         "0.8",
         "Malay"
        ],
        [
         "24",
         "Filem ini membuat saya gelak dan menangis. Suka dengan perasaan yang disampaikan.",
         "0.15",
         "Malay"
        ],
        [
         "25",
         "Pelakon tidak berjaya membawa watak dengan baik. Kurang kredibel.",
         "0.7",
         "Malay"
        ],
        [
         "26",
         "Keseluruhan, filem ini hebat! Saya akan menontonnya lagi.",
         "0.08",
         "Malay"
        ],
        [
         "27",
         "Adegan aksi yang luar biasa. Saya rasa teruja sepanjang masa.",
         "0.12",
         "Malay"
        ],
        [
         "28",
         "Sayang sekali, plot filem ini terlalu terbuka. Tidak ada penyelesaian yang memuaskan.",
         "0.7",
         "Malay"
        ],
        [
         "29",
         "Saya suka cara filem ini menggabungkan komedi dengan aksi. Sangat menghiburkan.",
         "0.15",
         "Malay"
        ],
        [
         "30",
         "Kualiti visual dan efek khas filem ini luar biasa. Saya terkesan!",
         "0.1",
         "Malay"
        ],
        [
         "31",
         "Pelakon memberikan persembahan yang sangat baik. Saya suka jalan ceritanya.",
         "0.15",
         "Malay"
        ],
        [
         "32",
         "Filem ini sangat mengecewakan. Tidak sepadan dengan hype.",
         "0.8",
         "Malay"
        ],
        [
         "33",
         "Plot yang rumit tetapi menarik. Adegan akhir yang epik!",
         "0.1",
         "Malay"
        ],
        [
         "34",
         "Adegan aksi yang terlalu berlebihan. Terlalu banyak efek khas.",
         "0.6",
         "Malay"
        ],
        [
         "35",
         "Saya tidak faham dengan twist dalam plot. Sedikit keliru.",
         "0.7",
         "Malay"
        ],
        [
         "36",
         "Filem ini benar-benar menggetarkan perasaan. Saya suka sekali!",
         "0.12",
         "Malay"
        ],
        [
         "37",
         "Visual effects filem ini luar biasa. Teruja dengan kehebatan teknikal.",
         "0.1",
         "Malay"
        ],
        [
         "38",
         "Kurangnya pengembangan watak membuatkan filem ini lemah. Tidak memuaskan.",
         "0.75",
         "Malay"
        ],
        [
         "39",
         "Saya teruja dengan cara filem ini menggabungkan elemen fiksyen sains.",
         "0.2",
         "Malay"
        ],
        [
         "40",
         "Plot yang menarik dan penuh kejutan. Saya suka twist dalam cerita.",
         "0.15",
         "Malay"
        ],
        [
         "41",
         "Filem ini mempunyai kekuatan emosional yang besar. Menyentuh hati!",
         "0.12",
         "Malay"
        ],
        [
         "42",
         "Pelakon memberikan persembahan yang tidak memuaskan. Tidak kredibel.",
         "0.75",
         "Malay"
        ],
        [
         "43",
         "Jalan cerita yang agak biasa tetapi dihidupkan dengan aksi yang hebat.",
         "0.25",
         "Malay"
        ],
        [
         "44",
         "Adegan akhir yang sangat epik! Saya teruja dengan penutupan trilogi ini.",
         "0.08",
         "Malay"
        ],
        [
         "45",
         "Filem ini hebat! Saya suka dengan pengembangan watak.",
         "0.1",
         "Malay"
        ],
        [
         "46",
         "Saya tidak suka dengan jalan cerita yang terlalu kompleks. Tidak dapat diikuti.",
         "0.7",
         "Malay"
        ],
        [
         "47",
         "Sangat gembira dengan filem ini. Aksi yang mengagumkan!",
         "0.12",
         "Malay"
        ],
        [
         "48",
         "Plot yang rumit tetapi sangat menarik. Kejutan besar di penghujung!",
         "0.08",
         "Malay"
        ],
        [
         "49",
         "Visual effects filem ini benar-benar luar biasa. Saya terkesan!",
         "0.1",
         "Malay"
        ]
       ],
       "shape": {
        "columns": 3,
        "rows": 226
       }
      },
      "text/html": [
       "<div>\n",
       "<style scoped>\n",
       "    .dataframe tbody tr th:only-of-type {\n",
       "        vertical-align: middle;\n",
       "    }\n",
       "\n",
       "    .dataframe tbody tr th {\n",
       "        vertical-align: top;\n",
       "    }\n",
       "\n",
       "    .dataframe thead th {\n",
       "        text-align: right;\n",
       "    }\n",
       "</style>\n",
       "<table border=\"1\" class=\"dataframe\">\n",
       "  <thead>\n",
       "    <tr style=\"text-align: right;\">\n",
       "      <th></th>\n",
       "      <th>Review</th>\n",
       "      <th>Score</th>\n",
       "      <th>Language</th>\n",
       "    </tr>\n",
       "  </thead>\n",
       "  <tbody>\n",
       "    <tr>\n",
       "      <th>0</th>\n",
       "      <td>Filem ini hebat! Aksi yang mendebarkan dan plo...</td>\n",
       "      <td>0.1</td>\n",
       "      <td>Malay</td>\n",
       "    </tr>\n",
       "    <tr>\n",
       "      <th>1</th>\n",
       "      <td>Filem ini hebat! Aksi yang mendebarkan dan plo...</td>\n",
       "      <td>0.9</td>\n",
       "      <td>Malay</td>\n",
       "    </tr>\n",
       "    <tr>\n",
       "      <th>2</th>\n",
       "      <td>Filem ini hebat! Aksi yang mendebarkan dan plo...</td>\n",
       "      <td>0.5</td>\n",
       "      <td>Malay</td>\n",
       "    </tr>\n",
       "    <tr>\n",
       "      <th>3</th>\n",
       "      <td>Sayang sekali, pelakon tidak memberikan persem...</td>\n",
       "      <td>0.8</td>\n",
       "      <td>Malay</td>\n",
       "    </tr>\n",
       "    <tr>\n",
       "      <th>4</th>\n",
       "      <td>Jalan cerita yang kompleks dan penuh emosi. Su...</td>\n",
       "      <td>0.2</td>\n",
       "      <td>Malay</td>\n",
       "    </tr>\n",
       "    <tr>\n",
       "      <th>...</th>\n",
       "      <td>...</td>\n",
       "      <td>...</td>\n",
       "      <td>...</td>\n",
       "    </tr>\n",
       "    <tr>\n",
       "      <th>522</th>\n",
       "      <td>Pening</td>\n",
       "      <td>0.7</td>\n",
       "      <td>Malay</td>\n",
       "    </tr>\n",
       "    <tr>\n",
       "      <th>523</th>\n",
       "      <td>Berkesan</td>\n",
       "      <td>0.2</td>\n",
       "      <td>Malay</td>\n",
       "    </tr>\n",
       "    <tr>\n",
       "      <th>524</th>\n",
       "      <td>Mengujakan</td>\n",
       "      <td>0.1</td>\n",
       "      <td>Malay</td>\n",
       "    </tr>\n",
       "    <tr>\n",
       "      <th>525</th>\n",
       "      <td>Sederhana and teruk</td>\n",
       "      <td>0.6</td>\n",
       "      <td>Malay</td>\n",
       "    </tr>\n",
       "    <tr>\n",
       "      <th>526</th>\n",
       "      <td>Sempurna</td>\n",
       "      <td>0.1</td>\n",
       "      <td>Malay</td>\n",
       "    </tr>\n",
       "  </tbody>\n",
       "</table>\n",
       "<p>226 rows × 3 columns</p>\n",
       "</div>"
      ],
      "text/plain": [
       "                                                Review  Score Language\n",
       "0    Filem ini hebat! Aksi yang mendebarkan dan plo...    0.1    Malay\n",
       "1    Filem ini hebat! Aksi yang mendebarkan dan plo...    0.9    Malay\n",
       "2    Filem ini hebat! Aksi yang mendebarkan dan plo...    0.5    Malay\n",
       "3    Sayang sekali, pelakon tidak memberikan persem...    0.8    Malay\n",
       "4    Jalan cerita yang kompleks dan penuh emosi. Su...    0.2    Malay\n",
       "..                                                 ...    ...      ...\n",
       "522                                             Pening    0.7    Malay\n",
       "523                                           Berkesan    0.2    Malay\n",
       "524                                         Mengujakan    0.1    Malay\n",
       "525                                Sederhana and teruk    0.6    Malay\n",
       "526                                           Sempurna    0.1    Malay\n",
       "\n",
       "[226 rows x 3 columns]"
      ]
     },
     "execution_count": 16,
     "metadata": {},
     "output_type": "execute_result"
    }
   ],
   "source": [
    "df[df['Language'] == 'Malay']"
   ]
  },
  {
   "cell_type": "code",
   "execution_count": 17,
   "id": "7d746af1",
   "metadata": {},
   "outputs": [
    {
     "data": {
      "application/vnd.microsoft.datawrangler.viewer.v0+json": {
       "columns": [
        {
         "name": "index",
         "rawType": "int64",
         "type": "integer"
        },
        {
         "name": "Review",
         "rawType": "object",
         "type": "string"
        },
        {
         "name": "Score",
         "rawType": "float64",
         "type": "float"
        },
        {
         "name": "Language",
         "rawType": "object",
         "type": "string"
        }
       ],
       "conversionMethod": "pd.DataFrame",
       "ref": "392f0dbc-0a8d-4c8f-b4f0-b207c9f79614",
       "rows": [
        [
         "206",
         "This movie is amazing! The action is breathtaking, and the plot is intriguing.",
         "0.08",
         "English"
        ],
        [
         "207",
         "I'm disappointed with the actors' performance. Not satisfying.",
         "0.7",
         "English"
        ],
        [
         "208",
         "The storyline is touching and full of emotion. I love it!",
         "0.12",
         "English"
        ],
        [
         "209",
         "This movie delivers an outstanding experience. Truly captivating!",
         "0.05",
         "English"
        ],
        [
         "210",
         "Too many action scenes, sometimes unnecessary. Too dramatic.",
         "0.4",
         "English"
        ],
        [
         "211",
         "I'm thrilled throughout the movie. Engaging storytelling!",
         "0.15",
         "English"
        ],
        [
         "212",
         "Avengers: Endgame is disappointing and too cliché. Not enjoyable.",
         "0.85",
         "English"
        ],
        [
         "213",
         "I like how this movie combines elements of science fiction. Interesting!",
         "0.25",
         "English"
        ],
        [
         "214",
         "This film is truly impressive with deep emotional tones.",
         "0.12",
         "English"
        ],
        [
         "215",
         "A cinematic experience that is unforgettable. I'm impressed!",
         "0.1",
         "English"
        ],
        [
         "216",
         "I feel this movie didn't meet the expected standards. Not satisfying.",
         "0.75",
         "English"
        ],
        [
         "217",
         "Amazing action and a plot full of surprises. I'm impressed!",
         "0.12",
         "English"
        ],
        [
         "218",
         "The visual quality of this film is astonishing. Excited about its special effects!",
         "0.1",
         "English"
        ],
        [
         "219",
         "I'm not satisfied with how the main actors deliver their lines. Not convincing.",
         "0.8",
         "English"
        ],
        [
         "220",
         "The storyline is complex but very interesting. I like it!",
         "0.2",
         "English"
        ],
        [
         "221",
         "Dramatic and impactful action scenes. Too many special effects.",
         "0.6",
         "English"
        ],
        [
         "222",
         "This film captivates with the atmosphere it creates. I'm impressed!",
         "0.1",
         "English"
        ],
        [
         "223",
         "The actors give excellent performances. I like this story!",
         "0.15",
         "English"
        ],
        [
         "224",
         "I don't understand the plot of this film. Too complex.",
         "0.7",
         "English"
        ],
        [
         "225",
         "A big surprise in the plot! Thrilling action throughout.",
         "0.1",
         "English"
        ],
        [
         "226",
         "The visual effects of this film are truly captivating. I'm impressed!",
         "0.1",
         "English"
        ],
        [
         "227",
         "An open-ended and unsatisfying plot. No satisfying conclusion.",
         "0.7",
         "English"
        ],
        [
         "228",
         "This film makes me laugh and cry. Love the emotions conveyed.",
         "0.15",
         "English"
        ],
        [
         "229",
         "The actors fail to portray their characters well. Not credible.",
         "0.7",
         "English"
        ],
        [
         "230",
         "Overall, this film is great! I would watch it again.",
         "0.08",
         "English"
        ],
        [
         "231",
         "Outstanding action scenes. Excited about the trilogy's conclusion.",
         "0.12",
         "English"
        ],
        [
         "232",
         "Unfortunately, the plot of this film is too open-ended. No satisfying closure.",
         "0.7",
         "English"
        ],
        [
         "233",
         "I like how this film combines comedy with action. Highly entertaining.",
         "0.15",
         "English"
        ],
        [
         "234",
         "The visual effects and animation in this film are amazing. Impressed!",
         "0.1",
         "English"
        ],
        [
         "235",
         "The actors give a very good performance. I like the story.",
         "0.12",
         "English"
        ],
        [
         "236",
         "This film is very disappointing. Not worth the hype.",
         "0.8",
         "English"
        ],
        [
         "237",
         "Complex but very interesting plot. Big twist at the end!",
         "0.1",
         "English"
        ],
        [
         "238",
         "Too many over-the-top action scenes. Too many special effects.",
         "0.6",
         "English"
        ],
        [
         "239",
         "I don't understand the twist in the plot. A bit confusing.",
         "0.7",
         "English"
        ],
        [
         "240",
         "This film is interesting and provides a deep experience. I like it!",
         "0.12",
         "English"
        ],
        [
         "241",
         "The visual effects of this film are outstanding. Excited about the technical brilliance!",
         "0.1",
         "English"
        ],
        [
         "242",
         "Lack of character development makes this film weak. Not satisfying.",
         "0.75",
         "English"
        ],
        [
         "243",
         "I'm thrilled with how this film incorporates elements of science fiction.",
         "0.2",
         "English"
        ],
        [
         "244",
         "Interesting and surprising plot. Love the twist in the story.",
         "0.15",
         "English"
        ],
        [
         "245",
         "This film has a great emotional impact. Touching!",
         "0.12",
         "English"
        ],
        [
         "246",
         "The actors give a very good performance. I like the character development.",
         "0.12",
         "English"
        ],
        [
         "247",
         "The plot is quite ordinary but brought to life with great action.",
         "0.25",
         "English"
        ],
        [
         "248",
         "An extremely epic ending! Thrilled with the trilogy's conclusion.",
         "0.08",
         "English"
        ],
        [
         "249",
         "This film is great! I like the character development.",
         "0.1",
         "English"
        ],
        [
         "250",
         "I don't like the overly complex plot. Hard to follow.",
         "0.7",
         "English"
        ],
        [
         "251",
         "Very pleased with this film. Amazing action!",
         "0.12",
         "English"
        ],
        [
         "252",
         "Complex but very interesting plot. Big surprise at the end!",
         "0.08",
         "English"
        ],
        [
         "253",
         "The visual effects of this film are truly astonishing. Impressed!",
         "0.1",
         "English"
        ],
        [
         "254",
         "Deep emotional impact in this film makes me teary-eyed. I like it!",
         "0.12",
         "English"
        ],
        [
         "255",
         "Lack of tension in the plot makes me bored. No surprising elements.",
         "0.7",
         "English"
        ]
       ],
       "shape": {
        "columns": 3,
        "rows": 297
       }
      },
      "text/html": [
       "<div>\n",
       "<style scoped>\n",
       "    .dataframe tbody tr th:only-of-type {\n",
       "        vertical-align: middle;\n",
       "    }\n",
       "\n",
       "    .dataframe tbody tr th {\n",
       "        vertical-align: top;\n",
       "    }\n",
       "\n",
       "    .dataframe thead th {\n",
       "        text-align: right;\n",
       "    }\n",
       "</style>\n",
       "<table border=\"1\" class=\"dataframe\">\n",
       "  <thead>\n",
       "    <tr style=\"text-align: right;\">\n",
       "      <th></th>\n",
       "      <th>Review</th>\n",
       "      <th>Score</th>\n",
       "      <th>Language</th>\n",
       "    </tr>\n",
       "  </thead>\n",
       "  <tbody>\n",
       "    <tr>\n",
       "      <th>206</th>\n",
       "      <td>This movie is amazing! The action is breathtak...</td>\n",
       "      <td>0.08</td>\n",
       "      <td>English</td>\n",
       "    </tr>\n",
       "    <tr>\n",
       "      <th>207</th>\n",
       "      <td>I'm disappointed with the actors' performance....</td>\n",
       "      <td>0.70</td>\n",
       "      <td>English</td>\n",
       "    </tr>\n",
       "    <tr>\n",
       "      <th>208</th>\n",
       "      <td>The storyline is touching and full of emotion....</td>\n",
       "      <td>0.12</td>\n",
       "      <td>English</td>\n",
       "    </tr>\n",
       "    <tr>\n",
       "      <th>209</th>\n",
       "      <td>This movie delivers an outstanding experience....</td>\n",
       "      <td>0.05</td>\n",
       "      <td>English</td>\n",
       "    </tr>\n",
       "    <tr>\n",
       "      <th>210</th>\n",
       "      <td>Too many action scenes, sometimes unnecessary....</td>\n",
       "      <td>0.40</td>\n",
       "      <td>English</td>\n",
       "    </tr>\n",
       "    <tr>\n",
       "      <th>...</th>\n",
       "      <td>...</td>\n",
       "      <td>...</td>\n",
       "      <td>...</td>\n",
       "    </tr>\n",
       "    <tr>\n",
       "      <th>502</th>\n",
       "      <td>Compelling story, outstanding performances</td>\n",
       "      <td>0.12</td>\n",
       "      <td>English</td>\n",
       "    </tr>\n",
       "    <tr>\n",
       "      <th>503</th>\n",
       "      <td>Intricate plot, unexpected twists</td>\n",
       "      <td>0.10</td>\n",
       "      <td>English</td>\n",
       "    </tr>\n",
       "    <tr>\n",
       "      <th>504</th>\n",
       "      <td>Underwhelming moments, weak characterizations</td>\n",
       "      <td>0.60</td>\n",
       "      <td>English</td>\n",
       "    </tr>\n",
       "    <tr>\n",
       "      <th>505</th>\n",
       "      <td>Breathtaking visuals, engaging narrative</td>\n",
       "      <td>0.08</td>\n",
       "      <td>English</td>\n",
       "    </tr>\n",
       "    <tr>\n",
       "      <th>506</th>\n",
       "      <td>Top-notch effects, captivating storytelling</td>\n",
       "      <td>0.08</td>\n",
       "      <td>English</td>\n",
       "    </tr>\n",
       "  </tbody>\n",
       "</table>\n",
       "<p>297 rows × 3 columns</p>\n",
       "</div>"
      ],
      "text/plain": [
       "                                                Review  Score Language\n",
       "206  This movie is amazing! The action is breathtak...   0.08  English\n",
       "207  I'm disappointed with the actors' performance....   0.70  English\n",
       "208  The storyline is touching and full of emotion....   0.12  English\n",
       "209  This movie delivers an outstanding experience....   0.05  English\n",
       "210  Too many action scenes, sometimes unnecessary....   0.40  English\n",
       "..                                                 ...    ...      ...\n",
       "502         Compelling story, outstanding performances   0.12  English\n",
       "503                  Intricate plot, unexpected twists   0.10  English\n",
       "504      Underwhelming moments, weak characterizations   0.60  English\n",
       "505           Breathtaking visuals, engaging narrative   0.08  English\n",
       "506        Top-notch effects, captivating storytelling   0.08  English\n",
       "\n",
       "[297 rows x 3 columns]"
      ]
     },
     "execution_count": 17,
     "metadata": {},
     "output_type": "execute_result"
    }
   ],
   "source": [
    "df[df['Language'] == 'English']"
   ]
  },
  {
   "cell_type": "markdown",
   "id": "70071f4e",
   "metadata": {},
   "source": [
    "Currently there is insufficient data for Chinese and Japan to effectively train our model, for the sake of it we will **drop both chinese and japan reviews**"
   ]
  },
  {
   "cell_type": "code",
   "execution_count": 18,
   "id": "e18467a9",
   "metadata": {},
   "outputs": [],
   "source": [
    "df = df[~df['Language'].isin(['Chinese', 'Japanese'])]"
   ]
  },
  {
   "cell_type": "code",
   "execution_count": 19,
   "id": "6a0064f2",
   "metadata": {},
   "outputs": [
    {
     "data": {
      "application/vnd.microsoft.datawrangler.viewer.v0+json": {
       "columns": [
        {
         "name": "index",
         "rawType": "int64",
         "type": "integer"
        },
        {
         "name": "Review",
         "rawType": "object",
         "type": "string"
        },
        {
         "name": "Score",
         "rawType": "float64",
         "type": "float"
        },
        {
         "name": "Language",
         "rawType": "object",
         "type": "string"
        }
       ],
       "conversionMethod": "pd.DataFrame",
       "ref": "77addc5d-2e36-493f-8724-57241ff97a5e",
       "rows": [
        [
         "0",
         "Filem ini hebat! Aksi yang mendebarkan dan plot yang mengejutkan.",
         "0.1",
         "Malay"
        ],
        [
         "1",
         "Filem ini hebat! Aksi yang mendebarkan dan plot yang mengejutkan.",
         "0.9",
         "Malay"
        ],
        [
         "2",
         "Filem ini hebat! Aksi yang mendebarkan dan plot yang mengejutkan.",
         "0.5",
         "Malay"
        ],
        [
         "16",
         "Jalan cerita yang rumit tetapi sangat menarik. Saya suka!",
         "0.2",
         "Malay"
        ],
        [
         "18",
         "Filem ini benar-benar membuat saya terbawa suasana. Saya kagum dengan keseluruhan produksi.",
         "0.1",
         "Malay"
        ],
        [
         "19",
         "Pelakon memberikan persembahan yang hebat. Saya suka cerita ini!",
         "0.15",
         "Malay"
        ],
        [
         "20",
         "Saya tidak faham dengan plot filem ini. Terlalu kompleks.",
         "0.7",
         "Malay"
        ],
        [
         "21",
         "Kejutan besar dalam plot! Aksi yang memukau sepanjang filem.",
         "0.1",
         "Malay"
        ],
        [
         "22",
         "Visual effects hebat tetapi plot kurang menarik. Saya rasa bosan.",
         "0.6",
         "Malay"
        ],
        [
         "23",
         "Saya tidak suka bagaimana filem ini berakhir. Tidak memuaskan.",
         "0.8",
         "Malay"
        ],
        [
         "24",
         "Filem ini membuat saya gelak dan menangis. Suka dengan perasaan yang disampaikan.",
         "0.15",
         "Malay"
        ],
        [
         "25",
         "Pelakon tidak berjaya membawa watak dengan baik. Kurang kredibel.",
         "0.7",
         "Malay"
        ],
        [
         "26",
         "Keseluruhan, filem ini hebat! Saya akan menontonnya lagi.",
         "0.08",
         "Malay"
        ],
        [
         "27",
         "Adegan aksi yang luar biasa. Saya rasa teruja sepanjang masa.",
         "0.12",
         "Malay"
        ],
        [
         "28",
         "Sayang sekali, plot filem ini terlalu terbuka. Tidak ada penyelesaian yang memuaskan.",
         "0.7",
         "Malay"
        ],
        [
         "29",
         "Saya suka cara filem ini menggabungkan komedi dengan aksi. Sangat menghiburkan.",
         "0.15",
         "Malay"
        ],
        [
         "30",
         "Kualiti visual dan efek khas filem ini luar biasa. Saya terkesan!",
         "0.1",
         "Malay"
        ],
        [
         "31",
         "Pelakon memberikan persembahan yang sangat baik. Saya suka jalan ceritanya.",
         "0.15",
         "Malay"
        ],
        [
         "32",
         "Filem ini sangat mengecewakan. Tidak sepadan dengan hype.",
         "0.8",
         "Malay"
        ],
        [
         "34",
         "Adegan aksi yang terlalu berlebihan. Terlalu banyak efek khas.",
         "0.6",
         "Malay"
        ],
        [
         "35",
         "Saya tidak faham dengan twist dalam plot. Sedikit keliru.",
         "0.7",
         "Malay"
        ],
        [
         "37",
         "Visual effects filem ini luar biasa. Teruja dengan kehebatan teknikal.",
         "0.1",
         "Malay"
        ],
        [
         "38",
         "Kurangnya pengembangan watak membuatkan filem ini lemah. Tidak memuaskan.",
         "0.75",
         "Malay"
        ],
        [
         "39",
         "Saya teruja dengan cara filem ini menggabungkan elemen fiksyen sains.",
         "0.2",
         "Malay"
        ],
        [
         "40",
         "Plot yang menarik dan penuh kejutan. Saya suka twist dalam cerita.",
         "0.15",
         "Malay"
        ],
        [
         "41",
         "Filem ini mempunyai kekuatan emosional yang besar. Menyentuh hati!",
         "0.12",
         "Malay"
        ],
        [
         "42",
         "Pelakon memberikan persembahan yang tidak memuaskan. Tidak kredibel.",
         "0.75",
         "Malay"
        ],
        [
         "43",
         "Jalan cerita yang agak biasa tetapi dihidupkan dengan aksi yang hebat.",
         "0.25",
         "Malay"
        ],
        [
         "44",
         "Adegan akhir yang sangat epik! Saya teruja dengan penutupan trilogi ini.",
         "0.08",
         "Malay"
        ],
        [
         "45",
         "Filem ini hebat! Saya suka dengan pengembangan watak.",
         "0.1",
         "Malay"
        ],
        [
         "46",
         "Saya tidak suka dengan jalan cerita yang terlalu kompleks. Tidak dapat diikuti.",
         "0.7",
         "Malay"
        ],
        [
         "47",
         "Sangat gembira dengan filem ini. Aksi yang mengagumkan!",
         "0.12",
         "Malay"
        ],
        [
         "48",
         "Plot yang rumit tetapi sangat menarik. Kejutan besar di penghujung!",
         "0.08",
         "Malay"
        ],
        [
         "49",
         "Visual effects filem ini benar-benar luar biasa. Saya terkesan!",
         "0.1",
         "Malay"
        ],
        [
         "50",
         "Perasaan yang mendalam dalam filem ini membuatkan saya terharu. Saya suka!",
         "0.12",
         "Malay"
        ],
        [
         "51",
         "Kurangnya ketegangan dalam plot membuatkan saya bosan. Tidak ada elemen kejutan.",
         "0.7",
         "Malay"
        ],
        [
         "52",
         "Filem ini memberikan jawapan kepada banyak pertanyaan. Saya suka twistnya.",
         "0.15",
         "Malay"
        ],
        [
         "53",
         "Kejutan besar di tengah-tengah filem! Aksi yang mendebarkan!",
         "0.12",
         "Malay"
        ],
        [
         "54",
         "Visual effects dan animasi filem ini sungguh mengagumkan. Terkesan!",
         "0.1",
         "Malay"
        ],
        [
         "55",
         "Pelakon memberikan persembahan yang sangat baik. Saya suka dengan penutupan ceritanya.",
         "0.12",
         "Malay"
        ],
        [
         "56",
         "Filem ini tidak sehebat yang saya jangkakan. Terlalu banyak klise.",
         "0.7",
         "Malay"
        ],
        [
         "57",
         "Aksi yang menegangkan sepanjang filem. Saya teruja!",
         "0.12",
         "Malay"
        ],
        [
         "58",
         "Saya suka dengan cara filem ini menggabungkan aksi dengan unsur komedi.",
         "0.15",
         "Malay"
        ],
        [
         "59",
         "Plot yang rumit dan penuh misteri. Sangat menarik!",
         "0.15",
         "Malay"
        ],
        [
         "60",
         "Pelakon utama memberikan persembahan yang luar biasa. Saya suka karakternya.",
         "0.12",
         "Malay"
        ],
        [
         "61",
         "Filem ini mengecewakan dan tidak sepadan dengan waktu saya. Terlalu biasa.",
         "0.8",
         "Malay"
        ],
        [
         "62",
         "Twist besar di penghujung filem membuat saya terkejut. Suka dengan plot twistnya.",
         "0.1",
         "Malay"
        ],
        [
         "63",
         "Visual effects dan desain produksi filem ini luar biasa. Saya terkesan!",
         "0.1",
         "Malay"
        ],
        [
         "64",
         "Pelakon-pelakon memberikan persembahan yang luar biasa. Saya suka cerita ini!",
         "0.12",
         "Malay"
        ],
        [
         "65",
         "Aksi yang mendebarkan tetapi plot agak lemah. Tidak seimbang.",
         "0.5",
         "Malay"
        ]
       ],
       "shape": {
        "columns": 3,
        "rows": 213
       }
      },
      "text/html": [
       "<div>\n",
       "<style scoped>\n",
       "    .dataframe tbody tr th:only-of-type {\n",
       "        vertical-align: middle;\n",
       "    }\n",
       "\n",
       "    .dataframe tbody tr th {\n",
       "        vertical-align: top;\n",
       "    }\n",
       "\n",
       "    .dataframe thead th {\n",
       "        text-align: right;\n",
       "    }\n",
       "</style>\n",
       "<table border=\"1\" class=\"dataframe\">\n",
       "  <thead>\n",
       "    <tr style=\"text-align: right;\">\n",
       "      <th></th>\n",
       "      <th>Review</th>\n",
       "      <th>Score</th>\n",
       "      <th>Language</th>\n",
       "    </tr>\n",
       "  </thead>\n",
       "  <tbody>\n",
       "    <tr>\n",
       "      <th>0</th>\n",
       "      <td>Filem ini hebat! Aksi yang mendebarkan dan plo...</td>\n",
       "      <td>0.10</td>\n",
       "      <td>Malay</td>\n",
       "    </tr>\n",
       "    <tr>\n",
       "      <th>1</th>\n",
       "      <td>Filem ini hebat! Aksi yang mendebarkan dan plo...</td>\n",
       "      <td>0.90</td>\n",
       "      <td>Malay</td>\n",
       "    </tr>\n",
       "    <tr>\n",
       "      <th>2</th>\n",
       "      <td>Filem ini hebat! Aksi yang mendebarkan dan plo...</td>\n",
       "      <td>0.50</td>\n",
       "      <td>Malay</td>\n",
       "    </tr>\n",
       "    <tr>\n",
       "      <th>16</th>\n",
       "      <td>Jalan cerita yang rumit tetapi sangat menarik....</td>\n",
       "      <td>0.20</td>\n",
       "      <td>Malay</td>\n",
       "    </tr>\n",
       "    <tr>\n",
       "      <th>18</th>\n",
       "      <td>Filem ini benar-benar membuat saya terbawa sua...</td>\n",
       "      <td>0.10</td>\n",
       "      <td>Malay</td>\n",
       "    </tr>\n",
       "    <tr>\n",
       "      <th>...</th>\n",
       "      <td>...</td>\n",
       "      <td>...</td>\n",
       "      <td>...</td>\n",
       "    </tr>\n",
       "    <tr>\n",
       "      <th>433</th>\n",
       "      <td>Impressive</td>\n",
       "      <td>0.08</td>\n",
       "      <td>English</td>\n",
       "    </tr>\n",
       "    <tr>\n",
       "      <th>442</th>\n",
       "      <td>Complex</td>\n",
       "      <td>0.10</td>\n",
       "      <td>English</td>\n",
       "    </tr>\n",
       "    <tr>\n",
       "      <th>446</th>\n",
       "      <td>Intriguing</td>\n",
       "      <td>0.12</td>\n",
       "      <td>English</td>\n",
       "    </tr>\n",
       "    <tr>\n",
       "      <th>447</th>\n",
       "      <td>Moving</td>\n",
       "      <td>0.12</td>\n",
       "      <td>English</td>\n",
       "    </tr>\n",
       "    <tr>\n",
       "      <th>448</th>\n",
       "      <td>Weak</td>\n",
       "      <td>0.50</td>\n",
       "      <td>English</td>\n",
       "    </tr>\n",
       "  </tbody>\n",
       "</table>\n",
       "<p>213 rows × 3 columns</p>\n",
       "</div>"
      ],
      "text/plain": [
       "                                                Review  Score Language\n",
       "0    Filem ini hebat! Aksi yang mendebarkan dan plo...   0.10    Malay\n",
       "1    Filem ini hebat! Aksi yang mendebarkan dan plo...   0.90    Malay\n",
       "2    Filem ini hebat! Aksi yang mendebarkan dan plo...   0.50    Malay\n",
       "16   Jalan cerita yang rumit tetapi sangat menarik....   0.20    Malay\n",
       "18   Filem ini benar-benar membuat saya terbawa sua...   0.10    Malay\n",
       "..                                                 ...    ...      ...\n",
       "433                                         Impressive   0.08  English\n",
       "442                                            Complex   0.10  English\n",
       "446                                         Intriguing   0.12  English\n",
       "447                                             Moving   0.12  English\n",
       "448                                               Weak   0.50  English\n",
       "\n",
       "[213 rows x 3 columns]"
      ]
     },
     "execution_count": 19,
     "metadata": {},
     "output_type": "execute_result"
    }
   ],
   "source": [
    "# View Duplicated Columns\n",
    "df[df.duplicated(subset='Review' , keep=False)]"
   ]
  },
  {
   "cell_type": "markdown",
   "id": "5a5bb173",
   "metadata": {},
   "source": [
    "Since we have both Malay and English, we will **translate the malay reviews to english**\n",
    "\n",
    "It will regress on the scores, trying to predict the sentiment for future/new data"
   ]
  },
  {
   "cell_type": "code",
   "execution_count": null,
   "id": "5876a549",
   "metadata": {},
   "outputs": [],
   "source": [
    "from deep_translator import GoogleTranslator\n",
    "import time\n",
    "\n",
    "def translate_malay_to_english(text, max_retries=3):\n",
    "    for attempt in range(max_retries):\n",
    "        try:\n",
    "            translator = GoogleTranslator(source='ms', target='en')\n",
    "            translated = translator.translate(text)\n",
    "            return translated if translated else text\n",
    "        except:\n",
    "            time.sleep(2)  # Simple delay between retries\n",
    "    return text  # Return original if all retries fail\n",
    "\n",
    "# Apply translation to Malay reviews\n",
    "df_malay = df[df['Language'] == 'Malay'].copy()\n",
    "df_malay['Review'] = df_malay['Review'].apply(translate_malay_to_english)\n",
    "df_malay['Language'] = 'English'\n",
    "\n",
    "# Combine with English reviews\n",
    "df_english = pd.concat([df[df['Language'] == 'English'], df_malay], ignore_index=True)"
   ]
  },
  {
   "cell_type": "markdown",
   "id": "8c8e7c4e",
   "metadata": {},
   "source": [
    "<style>\n",
    "  /*responsive*/\n",
    "  img {\n",
    "    width: 100%;\n",
    "    height: auto;\n",
    "  }\n",
    "  </style>\n",
    "##### What to do with duplicated reviews?\n",
    "\n",
    "Currently there are some reviews (shown earlier in cell 13) where they are the **exact same review but with different scores**\n",
    "\n",
    "**Why not take mean?**\n",
    "\n",
    "As shown below, taking the mean will result in a score of 0.5\n",
    "\n",
    "<img src='./markdown/dup_malay_reviews.png'>\n",
    "\n",
    "<br>\n",
    "\n",
    "This does not reflect on what the actual review means _('This movie is great! Thrilling action and a surprising plot')_\n",
    "\n",
    "##### What do we do?? \n",
    "\n",
    "Simply we can drop all of the duplicated review, this prevents inconsistencies _(like shown above)_ from affecting our data.\n",
    "\n",
    "\n",
    "--- "
   ]
  },
  {
   "cell_type": "code",
   "execution_count": null,
   "id": "31011db6",
   "metadata": {},
   "outputs": [],
   "source": [
    "df_english = df_english.drop_duplicates(subset='Review', keep='first').reset_index(drop=True)"
   ]
  },
  {
   "cell_type": "markdown",
   "id": "8217cbe2",
   "metadata": {},
   "source": [
    "##### Anamoly Detection\n",
    "\n",
    "As nature of language, **sarcasm** exists. \n",
    "\n",
    "To detect this we can cluster the sentiments against the TF-IDF vectorization.\n",
    "\n",
    "This allows us to detect any 'sarcasm' within our dataset."
   ]
  },
  {
   "cell_type": "code",
   "execution_count": null,
   "id": "88547686",
   "metadata": {},
   "outputs": [],
   "source": [
    "tfidf_vectorizer = TfidfVectorizer()\n",
    "tfidf_matrix = tfidf_vectorizer.fit_transform(df_english['Reviews'])"
   ]
  },
  {
   "cell_type": "code",
   "execution_count": null,
   "id": "3d46c51e",
   "metadata": {},
   "outputs": [],
   "source": [
    "features = hstack([tfidf_matrix , df_english['Scores']])"
   ]
  },
  {
   "cell_type": "code",
   "execution_count": null,
   "id": "ba709405",
   "metadata": {},
   "outputs": [],
   "source": [
    "kmeans = KMeans(n_clusters=3 , random_state=42)\n",
    "kmeans.fit(features)"
   ]
  },
  {
   "cell_type": "code",
   "execution_count": null,
   "id": "c8e325b3",
   "metadata": {},
   "outputs": [],
   "source": [
    "# plotting it\n",
    "pca = PCA(n_components=2)\n",
    "features_2d = pca.fit_transform(features)\n",
    "\n",
    "labels = kmeans.labels_\n",
    "\n",
    "\n",
    "plt.figure(figsize=(10, 6))\n",
    "\n",
    "for i in range(3):\n",
    "    cluster_points = features_2d[labels == i]\n",
    "    plt.scatter(cluster_points[:, 0], cluster_points[:, 1], label=f\"Cluster {i}\", alpha=0.6)\n",
    "\n",
    "# Optional: Plot cluster centers\n",
    "centers_2d = pca.transform(kmeans.cluster_centers_)\n",
    "plt.scatter(centers_2d[:, 0], centers_2d[:, 1], c='black', marker='X', s=200, label='Centers')\n",
    "\n",
    "plt.title(\"KMeans Clustering (PCA 2D Projection)\")\n",
    "plt.xlabel(\"PCA Component 1\")\n",
    "plt.ylabel(\"PCA Component 2\")\n",
    "plt.legend()\n",
    "plt.grid(True)\n",
    "plt.show()"
   ]
  },
  {
   "cell_type": "markdown",
   "id": "5ca0f291",
   "metadata": {},
   "source": [
    "##### Data Engineering\n",
    "\n",
    "Currently our data is too little to train a NN. We need to force out more data from this dataset\n",
    "\n",
    "##### How to Force\n",
    "\n",
    "1. We will split sentences into clauses, **usually seperated via punctuation**\n",
    "\n",
    "e.g.\n",
    "\n",
    "> This movie is amazing! The action is breathtaking, and the plot is intriguing.\n",
    "\n",
    "can become:\n",
    "\n",
    "> This movie is amazing! \n",
    "\n",
    "> The action is breathtaking\n",
    "\n",
    "> the plot is intriguing\n",
    "\n",
    "We can assign new scores to each subsentence\n",
    "\n",
    "---\n",
    "\n",
    "2. From the Clauses we can **Join with Conjunctions**\n",
    "\n",
    "e.g. \n",
    "\n",
    "> This movie is amazing! \n",
    "\n",
    "> The action is breathtaking\n",
    "\n",
    "can become: \n",
    "\n",
    "> The movie is amazing and the action is breathtaking. \n",
    "\n",
    "---\n",
    "\n",
    "3. We can perform **sentence shuffling around a conjunction**\n",
    "\n",
    "e.g. \n",
    "\n",
    "> The movie is amazing and the action is breathtaking. \n",
    "\n",
    "can become:\n",
    "\n",
    "> The action is breathtaking and the movie is amazing.\n",
    "\n",
    "---\n",
    "\n",
    "4. We can **shuffle adjective to its synonyms and antonyms**\n",
    "\n",
    "e.g.\n",
    "\n",
    "> The movie is amazing and the action is breathtaking\n",
    "\n",
    "can become: \n",
    "\n",
    "> The movie is astonishing and the action is spectacular\n",
    "\n",
    "--- "
   ]
  },
  {
   "cell_type": "code",
   "execution_count": 1,
   "id": "04bbd8b1",
   "metadata": {},
   "outputs": [],
   "source": [
    "def get_synonym(word):\n",
    "  synonyms = set()\n",
    "  for syn in wordnet.synsets(word, pos=wordnet.ADJ):\n",
    "    for lemma in syn.lemmas():\n",
    "        if lemma.name().lower() != word.lower():\n",
    "            synonyms.add(lemma.name().replace(\"_\", \" \"))\n",
    "  return synonyms.pop() if synonyms else None # popping a set gives something random"
   ]
  },
  {
   "cell_type": "code",
   "execution_count": 2,
   "id": "bb96f6ea",
   "metadata": {},
   "outputs": [],
   "source": [
    "def get_antonym(word):\n",
    "    antonyms = set()\n",
    "    for syn in wordnet.synsets(word, pos=wordnet.ADJ):\n",
    "        for lemma in syn.lemmas():\n",
    "            for ant in lemma.antonyms():             # Check for antonyms\n",
    "                antonyms.add(ant.name().replace(\"_\", \" \"))\n",
    "    return antonyms.pop() if antonyms else None"
   ]
  },
  {
   "cell_type": "code",
   "execution_count": null,
   "id": "0fbf02d9",
   "metadata": {},
   "outputs": [],
   "source": [
    "def adjective_replacement(df):\n",
    "  reviews = df['Review']\n",
    "  scores = df['Score']\n",
    "\n",
    "  results = pd.DataFrame({\n",
    "    'Review': [], 'Score': []\n",
    "  })\n",
    "\n",
    "  for review , score in zip(reviews , scores):\n",
    "    tagged_review = pos_tag(review)\n",
    "    \n",
    "    # synonym and antonym replacement\n",
    "    pos_reviews = []\n",
    "    neg_reviews = []\n",
    "    for word , tag in tagged_review:\n",
    "      if tag.startswith('JJ'):\n",
    "        syns = get_synonym(word.lower())\n",
    "        antys = get_antonym(word.lower())\n",
    "\n",
    "        pos_reviews.append(syns if syns else word)\n",
    "        neg_reviews.append(antys if antys else word)\n",
    "\n",
    "    pos_reviews = TreebankWordDetokenizer().detokenize(pos_reviews)\n",
    "    neg_reviews = TreebankWordDetokenizer().detokenize(neg_reviews)\n",
    "    \n",
    "    results = pd.concat([results,\n",
    "                         pd.DataFrame({\n",
    "                          'Review': [pos_reviews , neg_reviews],\n",
    "                          'Score': [score , 1-score],\n",
    "                         })\n",
    "    ], ignore_index=True)\n",
    "\n",
    "    return results\n",
    "    \n"
   ]
  },
  {
   "cell_type": "code",
   "execution_count": null,
   "id": "5f93bba6",
   "metadata": {},
   "outputs": [],
   "source": [
    "adjective_swaped = adjective_replacement(df_english)"
   ]
  },
  {
   "cell_type": "code",
   "execution_count": 27,
   "id": "be55bff7",
   "metadata": {},
   "outputs": [],
   "source": [
    "def get_clauses(df):\n",
    "  reviews = df['Review']\n",
    "  scores = df['Score']\n",
    "\n",
    "  results = pd.DataFrame({\n",
    "    'Review': [], 'Score': []\n",
    "  })\n",
    "\n",
    "  # sub clauses\n",
    "  for review, score in zip(reviews , scores):\n",
    "\n",
    "    clauses = re.split(r'[.?!,]' , review.strip())\n",
    "\n",
    "    cleaned_clauses = [c.strip() for c in clauses if c != '']\n",
    "\n",
    "    # remove additional 'and'\n",
    "    for i in range(len(cleaned_clauses)):\n",
    "      if cleaned_clauses[i].strip().startswith('and'):\n",
    "        cleaned_clauses[i] = cleaned_clauses[i].strip()[3:]\n",
    "\n",
    "      # This isn't grammatically correct but incase\n",
    "      if cleaned_clauses[i].strip().endswith('and'):\n",
    "        cleaned_clauses[i] = cleaned_clauses[i].strip()[:-3]\n",
    "\n",
    "\n",
    "    \n",
    "    for i , clause in enumerate(cleaned_clauses):\n",
    "      clause = clause.strip() # remove additional whitespace\n",
    "      results = pd.concat([results,\n",
    "                 pd.DataFrame({\n",
    "                    'Review': [clause],\n",
    "                    'Score': [score / len(cleaned_clauses)]            \n",
    "                 })\n",
    "      ], ignore_index=True)\n",
    "                  \n",
    "\n",
    "      # clause join and rotation about conjunction\n",
    "      if i != len(cleaned_clauses) -1:\n",
    "        conjuction_clauses = [f'{clause} and {cleaned_clauses[i + 1]}' ,f'{cleaned_clauses[i + 1]} and {clause}' ]\n",
    "        results = pd.concat([results,\n",
    "                   pd.DataFrame({\n",
    "                      'Review': conjuction_clauses,\n",
    "                      'Score': [2 * (score / len(cleaned_clauses))] * 2           \n",
    "                   })\n",
    "        ], ignore_index=True)\n",
    "  return results\n",
    "  "
   ]
  },
  {
   "cell_type": "code",
   "execution_count": 28,
   "id": "cb1484f7",
   "metadata": {},
   "outputs": [],
   "source": [
    "additional_data_english = get_clauses(df_english)"
   ]
  },
  {
   "cell_type": "code",
   "execution_count": 29,
   "id": "8c82db81",
   "metadata": {},
   "outputs": [
    {
     "data": {
      "application/vnd.microsoft.datawrangler.viewer.v0+json": {
       "columns": [
        {
         "name": "index",
         "rawType": "int64",
         "type": "integer"
        },
        {
         "name": "Review",
         "rawType": "object",
         "type": "string"
        },
        {
         "name": "Score",
         "rawType": "float64",
         "type": "float"
        }
       ],
       "conversionMethod": "pd.DataFrame",
       "ref": "2c5c8b26-0259-45d2-a3ec-0ea8b816aa42",
       "rows": [
        [
         "0",
         "This movie is amazing",
         "0.3066666666666667"
        ],
        [
         "1",
         "This movie is amazing and The action is breathtaking",
         "0.6133333333333334"
        ],
        [
         "2",
         "The action is breathtaking and This movie is amazing",
         "0.6133333333333334"
        ],
        [
         "3",
         "The action is breathtaking",
         "0.3066666666666667"
        ],
        [
         "4",
         "The action is breathtaking and  the plot is intriguing",
         "0.6133333333333334"
        ],
        [
         "5",
         " the plot is intriguing and The action is breathtaking",
         "0.6133333333333334"
        ],
        [
         "6",
         "the plot is intriguing",
         "0.3066666666666667"
        ],
        [
         "7",
         "I'm disappointed with the actors' performance",
         "0.15000000000000002"
        ],
        [
         "8",
         "I'm disappointed with the actors' performance and Not satisfying",
         "0.30000000000000004"
        ],
        [
         "9",
         "Not satisfying and I'm disappointed with the actors' performance",
         "0.30000000000000004"
        ],
        [
         "10",
         "Not satisfying",
         "0.15000000000000002"
        ],
        [
         "11",
         "The storyline is touching and full of emotion",
         "0.44"
        ],
        [
         "12",
         "The storyline is touching and full of emotion and I love it",
         "0.88"
        ],
        [
         "13",
         "I love it and The storyline is touching and full of emotion",
         "0.88"
        ],
        [
         "14",
         "I love it",
         "0.44"
        ],
        [
         "15",
         "This movie delivers an outstanding experience",
         "0.475"
        ],
        [
         "16",
         "This movie delivers an outstanding experience and Truly captivating",
         "0.95"
        ],
        [
         "17",
         "Truly captivating and This movie delivers an outstanding experience",
         "0.95"
        ],
        [
         "18",
         "Truly captivating",
         "0.475"
        ],
        [
         "19",
         "Too many action scenes",
         "0.19999999999999998"
        ],
        [
         "20",
         "Too many action scenes and sometimes unnecessary",
         "0.39999999999999997"
        ],
        [
         "21",
         "sometimes unnecessary and Too many action scenes",
         "0.39999999999999997"
        ],
        [
         "22",
         "sometimes unnecessary",
         "0.19999999999999998"
        ],
        [
         "23",
         "sometimes unnecessary and Too dramatic",
         "0.39999999999999997"
        ],
        [
         "24",
         "Too dramatic and sometimes unnecessary",
         "0.39999999999999997"
        ],
        [
         "25",
         "Too dramatic",
         "0.19999999999999998"
        ],
        [
         "26",
         "I'm thrilled throughout the movie",
         "0.425"
        ],
        [
         "27",
         "I'm thrilled throughout the movie and Engaging storytelling",
         "0.85"
        ],
        [
         "28",
         "Engaging storytelling and I'm thrilled throughout the movie",
         "0.85"
        ],
        [
         "29",
         "Engaging storytelling",
         "0.425"
        ],
        [
         "30",
         "Avengers: Endgame is disappointing and too cliché",
         "0.07500000000000001"
        ],
        [
         "31",
         "Avengers: Endgame is disappointing and too cliché and Not enjoyable",
         "0.15000000000000002"
        ],
        [
         "32",
         "Not enjoyable and Avengers: Endgame is disappointing and too cliché",
         "0.15000000000000002"
        ],
        [
         "33",
         "Not enjoyable",
         "0.07500000000000001"
        ],
        [
         "34",
         "I like how this movie combines elements of science fiction",
         "0.375"
        ],
        [
         "35",
         "I like how this movie combines elements of science fiction and Interesting",
         "0.75"
        ],
        [
         "36",
         "Interesting and I like how this movie combines elements of science fiction",
         "0.75"
        ],
        [
         "37",
         "Interesting",
         "0.375"
        ],
        [
         "38",
         "This film is truly impressive with deep emotional tones",
         "0.88"
        ],
        [
         "39",
         "A cinematic experience that is unforgettable",
         "0.45"
        ],
        [
         "40",
         "A cinematic experience that is unforgettable and I'm impressed",
         "0.9"
        ],
        [
         "41",
         "I'm impressed and A cinematic experience that is unforgettable",
         "0.9"
        ],
        [
         "42",
         "I'm impressed",
         "0.45"
        ],
        [
         "43",
         "I feel this movie didn't meet the expected standards",
         "0.125"
        ],
        [
         "44",
         "I feel this movie didn't meet the expected standards and Not satisfying",
         "0.25"
        ],
        [
         "45",
         "Not satisfying and I feel this movie didn't meet the expected standards",
         "0.25"
        ],
        [
         "46",
         "Not satisfying",
         "0.125"
        ],
        [
         "47",
         "Amazing action and a plot full of surprises",
         "0.44"
        ],
        [
         "48",
         "Amazing action and a plot full of surprises and I'm impressed",
         "0.88"
        ],
        [
         "49",
         "I'm impressed and Amazing action and a plot full of surprises",
         "0.88"
        ]
       ],
       "shape": {
        "columns": 2,
        "rows": 1896
       }
      },
      "text/html": [
       "<div>\n",
       "<style scoped>\n",
       "    .dataframe tbody tr th:only-of-type {\n",
       "        vertical-align: middle;\n",
       "    }\n",
       "\n",
       "    .dataframe tbody tr th {\n",
       "        vertical-align: top;\n",
       "    }\n",
       "\n",
       "    .dataframe thead th {\n",
       "        text-align: right;\n",
       "    }\n",
       "</style>\n",
       "<table border=\"1\" class=\"dataframe\">\n",
       "  <thead>\n",
       "    <tr style=\"text-align: right;\">\n",
       "      <th></th>\n",
       "      <th>Review</th>\n",
       "      <th>Score</th>\n",
       "    </tr>\n",
       "  </thead>\n",
       "  <tbody>\n",
       "    <tr>\n",
       "      <th>0</th>\n",
       "      <td>This movie is amazing</td>\n",
       "      <td>0.306667</td>\n",
       "    </tr>\n",
       "    <tr>\n",
       "      <th>1</th>\n",
       "      <td>This movie is amazing and The action is breath...</td>\n",
       "      <td>0.613333</td>\n",
       "    </tr>\n",
       "    <tr>\n",
       "      <th>2</th>\n",
       "      <td>The action is breathtaking and This movie is a...</td>\n",
       "      <td>0.613333</td>\n",
       "    </tr>\n",
       "    <tr>\n",
       "      <th>3</th>\n",
       "      <td>The action is breathtaking</td>\n",
       "      <td>0.306667</td>\n",
       "    </tr>\n",
       "    <tr>\n",
       "      <th>4</th>\n",
       "      <td>The action is breathtaking and  the plot is in...</td>\n",
       "      <td>0.613333</td>\n",
       "    </tr>\n",
       "    <tr>\n",
       "      <th>...</th>\n",
       "      <td>...</td>\n",
       "      <td>...</td>\n",
       "    </tr>\n",
       "    <tr>\n",
       "      <th>1891</th>\n",
       "      <td>Dizzy</td>\n",
       "      <td>0.300000</td>\n",
       "    </tr>\n",
       "    <tr>\n",
       "      <th>1892</th>\n",
       "      <td>Effective</td>\n",
       "      <td>0.800000</td>\n",
       "    </tr>\n",
       "    <tr>\n",
       "      <th>1893</th>\n",
       "      <td>Exciting</td>\n",
       "      <td>0.900000</td>\n",
       "    </tr>\n",
       "    <tr>\n",
       "      <th>1894</th>\n",
       "      <td>Moderate and severe</td>\n",
       "      <td>0.400000</td>\n",
       "    </tr>\n",
       "    <tr>\n",
       "      <th>1895</th>\n",
       "      <td>Perfect</td>\n",
       "      <td>0.900000</td>\n",
       "    </tr>\n",
       "  </tbody>\n",
       "</table>\n",
       "<p>1896 rows × 2 columns</p>\n",
       "</div>"
      ],
      "text/plain": [
       "                                                 Review     Score\n",
       "0                                 This movie is amazing  0.306667\n",
       "1     This movie is amazing and The action is breath...  0.613333\n",
       "2     The action is breathtaking and This movie is a...  0.613333\n",
       "3                            The action is breathtaking  0.306667\n",
       "4     The action is breathtaking and  the plot is in...  0.613333\n",
       "...                                                 ...       ...\n",
       "1891                                              Dizzy  0.300000\n",
       "1892                                          Effective  0.800000\n",
       "1893                                           Exciting  0.900000\n",
       "1894                                Moderate and severe  0.400000\n",
       "1895                                            Perfect  0.900000\n",
       "\n",
       "[1896 rows x 2 columns]"
      ]
     },
     "execution_count": 29,
     "metadata": {},
     "output_type": "execute_result"
    }
   ],
   "source": [
    "additional_data_english"
   ]
  },
  {
   "cell_type": "code",
   "execution_count": 30,
   "id": "f8476533",
   "metadata": {},
   "outputs": [
    {
     "data": {
      "application/vnd.microsoft.datawrangler.viewer.v0+json": {
       "columns": [
        {
         "name": "index",
         "rawType": "int64",
         "type": "integer"
        },
        {
         "name": "Review",
         "rawType": "object",
         "type": "string"
        },
        {
         "name": "Score",
         "rawType": "float64",
         "type": "float"
        },
        {
         "name": "Language",
         "rawType": "object",
         "type": "unknown"
        }
       ],
       "conversionMethod": "pd.DataFrame",
       "ref": "7015c6cd-735e-4467-82a6-195fbaeb9a4b",
       "rows": [
        [
         "0",
         "This movie is amazing! The action is breathtaking, and the plot is intriguing.",
         "0.92",
         "English"
        ],
        [
         "1",
         "I'm disappointed with the actors' performance. Not satisfying.",
         "0.30000000000000004",
         "English"
        ],
        [
         "2",
         "The storyline is touching and full of emotion. I love it!",
         "0.88",
         "English"
        ],
        [
         "3",
         "This movie delivers an outstanding experience. Truly captivating!",
         "0.95",
         "English"
        ],
        [
         "4",
         "Too many action scenes, sometimes unnecessary. Too dramatic.",
         "0.6",
         "English"
        ],
        [
         "5",
         "I'm thrilled throughout the movie. Engaging storytelling!",
         "0.85",
         "English"
        ],
        [
         "6",
         "Avengers: Endgame is disappointing and too cliché. Not enjoyable.",
         "0.15000000000000002",
         "English"
        ],
        [
         "7",
         "I like how this movie combines elements of science fiction. Interesting!",
         "0.75",
         "English"
        ],
        [
         "8",
         "This film is truly impressive with deep emotional tones.",
         "0.88",
         "English"
        ],
        [
         "9",
         "A cinematic experience that is unforgettable. I'm impressed!",
         "0.9",
         "English"
        ],
        [
         "10",
         "I feel this movie didn't meet the expected standards. Not satisfying.",
         "0.25",
         "English"
        ],
        [
         "11",
         "Amazing action and a plot full of surprises. I'm impressed!",
         "0.88",
         "English"
        ],
        [
         "12",
         "The visual quality of this film is astonishing. Excited about its special effects!",
         "0.9",
         "English"
        ],
        [
         "13",
         "I'm not satisfied with how the main actors deliver their lines. Not convincing.",
         "0.19999999999999996",
         "English"
        ],
        [
         "14",
         "The storyline is complex but very interesting. I like it!",
         "0.8",
         "English"
        ],
        [
         "15",
         "Dramatic and impactful action scenes. Too many special effects.",
         "0.4",
         "English"
        ],
        [
         "16",
         "This film captivates with the atmosphere it creates. I'm impressed!",
         "0.9",
         "English"
        ],
        [
         "17",
         "The actors give excellent performances. I like this story!",
         "0.85",
         "English"
        ],
        [
         "18",
         "I don't understand the plot of this film. Too complex.",
         "0.30000000000000004",
         "English"
        ],
        [
         "19",
         "A big surprise in the plot! Thrilling action throughout.",
         "0.9",
         "English"
        ],
        [
         "20",
         "The visual effects of this film are truly captivating. I'm impressed!",
         "0.9",
         "English"
        ],
        [
         "21",
         "An open-ended and unsatisfying plot. No satisfying conclusion.",
         "0.30000000000000004",
         "English"
        ],
        [
         "22",
         "This film makes me laugh and cry. Love the emotions conveyed.",
         "0.85",
         "English"
        ],
        [
         "23",
         "The actors fail to portray their characters well. Not credible.",
         "0.30000000000000004",
         "English"
        ],
        [
         "24",
         "Overall, this film is great! I would watch it again.",
         "0.92",
         "English"
        ],
        [
         "25",
         "Outstanding action scenes. Excited about the trilogy's conclusion.",
         "0.88",
         "English"
        ],
        [
         "26",
         "Unfortunately, the plot of this film is too open-ended. No satisfying closure.",
         "0.30000000000000004",
         "English"
        ],
        [
         "27",
         "I like how this film combines comedy with action. Highly entertaining.",
         "0.85",
         "English"
        ],
        [
         "28",
         "The visual effects and animation in this film are amazing. Impressed!",
         "0.9",
         "English"
        ],
        [
         "29",
         "The actors give a very good performance. I like the story.",
         "0.88",
         "English"
        ],
        [
         "30",
         "This film is very disappointing. Not worth the hype.",
         "0.19999999999999996",
         "English"
        ],
        [
         "31",
         "Complex but very interesting plot. Big twist at the end!",
         "0.9",
         "English"
        ],
        [
         "32",
         "Too many over-the-top action scenes. Too many special effects.",
         "0.4",
         "English"
        ],
        [
         "33",
         "I don't understand the twist in the plot. A bit confusing.",
         "0.30000000000000004",
         "English"
        ],
        [
         "34",
         "This film is interesting and provides a deep experience. I like it!",
         "0.88",
         "English"
        ],
        [
         "35",
         "The visual effects of this film are outstanding. Excited about the technical brilliance!",
         "0.9",
         "English"
        ],
        [
         "36",
         "Lack of character development makes this film weak. Not satisfying.",
         "0.25",
         "English"
        ],
        [
         "37",
         "I'm thrilled with how this film incorporates elements of science fiction.",
         "0.8",
         "English"
        ],
        [
         "38",
         "Interesting and surprising plot. Love the twist in the story.",
         "0.85",
         "English"
        ],
        [
         "39",
         "This film has a great emotional impact. Touching!",
         "0.88",
         "English"
        ],
        [
         "40",
         "The actors give a very good performance. I like the character development.",
         "0.88",
         "English"
        ],
        [
         "41",
         "The plot is quite ordinary but brought to life with great action.",
         "0.75",
         "English"
        ],
        [
         "42",
         "An extremely epic ending! Thrilled with the trilogy's conclusion.",
         "0.92",
         "English"
        ],
        [
         "43",
         "This film is great! I like the character development.",
         "0.9",
         "English"
        ],
        [
         "44",
         "I don't like the overly complex plot. Hard to follow.",
         "0.30000000000000004",
         "English"
        ],
        [
         "45",
         "Very pleased with this film. Amazing action!",
         "0.88",
         "English"
        ],
        [
         "46",
         "Complex but very interesting plot. Big surprise at the end!",
         "0.92",
         "English"
        ],
        [
         "47",
         "The visual effects of this film are truly astonishing. Impressed!",
         "0.9",
         "English"
        ],
        [
         "48",
         "Deep emotional impact in this film makes me teary-eyed. I like it!",
         "0.88",
         "English"
        ],
        [
         "49",
         "Lack of tension in the plot makes me bored. No surprising elements.",
         "0.30000000000000004",
         "English"
        ]
       ],
       "shape": {
        "columns": 3,
        "rows": 2289
       }
      },
      "text/html": [
       "<div>\n",
       "<style scoped>\n",
       "    .dataframe tbody tr th:only-of-type {\n",
       "        vertical-align: middle;\n",
       "    }\n",
       "\n",
       "    .dataframe tbody tr th {\n",
       "        vertical-align: top;\n",
       "    }\n",
       "\n",
       "    .dataframe thead th {\n",
       "        text-align: right;\n",
       "    }\n",
       "</style>\n",
       "<table border=\"1\" class=\"dataframe\">\n",
       "  <thead>\n",
       "    <tr style=\"text-align: right;\">\n",
       "      <th></th>\n",
       "      <th>Review</th>\n",
       "      <th>Score</th>\n",
       "      <th>Language</th>\n",
       "    </tr>\n",
       "  </thead>\n",
       "  <tbody>\n",
       "    <tr>\n",
       "      <th>0</th>\n",
       "      <td>This movie is amazing! The action is breathtak...</td>\n",
       "      <td>0.92</td>\n",
       "      <td>English</td>\n",
       "    </tr>\n",
       "    <tr>\n",
       "      <th>1</th>\n",
       "      <td>I'm disappointed with the actors' performance....</td>\n",
       "      <td>0.30</td>\n",
       "      <td>English</td>\n",
       "    </tr>\n",
       "    <tr>\n",
       "      <th>2</th>\n",
       "      <td>The storyline is touching and full of emotion....</td>\n",
       "      <td>0.88</td>\n",
       "      <td>English</td>\n",
       "    </tr>\n",
       "    <tr>\n",
       "      <th>3</th>\n",
       "      <td>This movie delivers an outstanding experience....</td>\n",
       "      <td>0.95</td>\n",
       "      <td>English</td>\n",
       "    </tr>\n",
       "    <tr>\n",
       "      <th>4</th>\n",
       "      <td>Too many action scenes, sometimes unnecessary....</td>\n",
       "      <td>0.60</td>\n",
       "      <td>English</td>\n",
       "    </tr>\n",
       "    <tr>\n",
       "      <th>...</th>\n",
       "      <td>...</td>\n",
       "      <td>...</td>\n",
       "      <td>...</td>\n",
       "    </tr>\n",
       "    <tr>\n",
       "      <th>2284</th>\n",
       "      <td>Dizzy</td>\n",
       "      <td>0.30</td>\n",
       "      <td>NaN</td>\n",
       "    </tr>\n",
       "    <tr>\n",
       "      <th>2285</th>\n",
       "      <td>Effective</td>\n",
       "      <td>0.80</td>\n",
       "      <td>NaN</td>\n",
       "    </tr>\n",
       "    <tr>\n",
       "      <th>2286</th>\n",
       "      <td>Exciting</td>\n",
       "      <td>0.90</td>\n",
       "      <td>NaN</td>\n",
       "    </tr>\n",
       "    <tr>\n",
       "      <th>2287</th>\n",
       "      <td>Moderate and severe</td>\n",
       "      <td>0.40</td>\n",
       "      <td>NaN</td>\n",
       "    </tr>\n",
       "    <tr>\n",
       "      <th>2288</th>\n",
       "      <td>Perfect</td>\n",
       "      <td>0.90</td>\n",
       "      <td>NaN</td>\n",
       "    </tr>\n",
       "  </tbody>\n",
       "</table>\n",
       "<p>2289 rows × 3 columns</p>\n",
       "</div>"
      ],
      "text/plain": [
       "                                                 Review  Score Language\n",
       "0     This movie is amazing! The action is breathtak...   0.92  English\n",
       "1     I'm disappointed with the actors' performance....   0.30  English\n",
       "2     The storyline is touching and full of emotion....   0.88  English\n",
       "3     This movie delivers an outstanding experience....   0.95  English\n",
       "4     Too many action scenes, sometimes unnecessary....   0.60  English\n",
       "...                                                 ...    ...      ...\n",
       "2284                                              Dizzy   0.30      NaN\n",
       "2285                                          Effective   0.80      NaN\n",
       "2286                                           Exciting   0.90      NaN\n",
       "2287                                Moderate and severe   0.40      NaN\n",
       "2288                                            Perfect   0.90      NaN\n",
       "\n",
       "[2289 rows x 3 columns]"
      ]
     },
     "execution_count": 30,
     "metadata": {},
     "output_type": "execute_result"
    }
   ],
   "source": [
    "large_review_df_english = pd.concat([df_english , additional_data_english] , ignore_index=True)\n",
    "large_review_df_english"
   ]
  },
  {
   "cell_type": "code",
   "execution_count": 31,
   "id": "1a40f446",
   "metadata": {},
   "outputs": [],
   "source": [
    "# We can now export this data\n",
    "large_review_df_english.to_csv(os.path.join('stored_data' , 'cleaned_data' , 'cleaned_review_data.csv'), index=False)"
   ]
  },
  {
   "cell_type": "code",
   "execution_count": 32,
   "id": "03fbbed8",
   "metadata": {},
   "outputs": [],
   "source": [
    "# in future we can import the data \n",
    "large_review_df_english = pd.read_csv(os.path.join('stored_data' , 'cleaned_data' , 'cleaned_review_data.csv'))"
   ]
  },
  {
   "cell_type": "markdown",
   "id": "7c66fdbd",
   "metadata": {},
   "source": [
    "##### Data Preperation"
   ]
  },
  {
   "cell_type": "code",
   "execution_count": 33,
   "id": "ae0f1dfe",
   "metadata": {},
   "outputs": [],
   "source": [
    "def clean_text(text):\n",
    "  text = text.lower()\n",
    "\n",
    "  # Remove Punctuation\n",
    "  text = re.sub(r'[^a-zA-Z\\s]', '', text)\n",
    "  # Remove whitespace\n",
    "  text = re.sub(r'\\s+', ' ', text).strip()\n",
    "\n",
    "  return text"
   ]
  },
  {
   "cell_type": "code",
   "execution_count": 34,
   "id": "6bdee7ba",
   "metadata": {},
   "outputs": [],
   "source": [
    "large_review_df_english['Review'] = large_review_df_english['Review'].apply(clean_text)"
   ]
  },
  {
   "cell_type": "code",
   "execution_count": 35,
   "id": "b78bfff0",
   "metadata": {},
   "outputs": [
    {
     "data": {
      "application/vnd.microsoft.datawrangler.viewer.v0+json": {
       "columns": [
        {
         "name": "index",
         "rawType": "int64",
         "type": "integer"
        },
        {
         "name": "Review",
         "rawType": "object",
         "type": "string"
        },
        {
         "name": "Score",
         "rawType": "float64",
         "type": "float"
        },
        {
         "name": "Language",
         "rawType": "object",
         "type": "unknown"
        }
       ],
       "conversionMethod": "pd.DataFrame",
       "ref": "5710a70d-fa4f-44ef-94d4-aeb357bd7a65",
       "rows": [
        [
         "0",
         "this movie is amazing the action is breathtaking and the plot is intriguing",
         "0.92",
         "English"
        ],
        [
         "1",
         "im disappointed with the actors performance not satisfying",
         "0.3",
         "English"
        ],
        [
         "2",
         "the storyline is touching and full of emotion i love it",
         "0.88",
         "English"
        ],
        [
         "3",
         "this movie delivers an outstanding experience truly captivating",
         "0.95",
         "English"
        ],
        [
         "4",
         "too many action scenes sometimes unnecessary too dramatic",
         "0.6",
         "English"
        ],
        [
         "5",
         "im thrilled throughout the movie engaging storytelling",
         "0.85",
         "English"
        ],
        [
         "6",
         "avengers endgame is disappointing and too clich not enjoyable",
         "0.15",
         "English"
        ],
        [
         "7",
         "i like how this movie combines elements of science fiction interesting",
         "0.75",
         "English"
        ],
        [
         "8",
         "this film is truly impressive with deep emotional tones",
         "0.88",
         "English"
        ],
        [
         "9",
         "a cinematic experience that is unforgettable im impressed",
         "0.9",
         "English"
        ],
        [
         "10",
         "i feel this movie didnt meet the expected standards not satisfying",
         "0.25",
         "English"
        ],
        [
         "11",
         "amazing action and a plot full of surprises im impressed",
         "0.88",
         "English"
        ],
        [
         "12",
         "the visual quality of this film is astonishing excited about its special effects",
         "0.9",
         "English"
        ],
        [
         "13",
         "im not satisfied with how the main actors deliver their lines not convincing",
         "0.1999999999999999",
         "English"
        ],
        [
         "14",
         "the storyline is complex but very interesting i like it",
         "0.8",
         "English"
        ],
        [
         "15",
         "dramatic and impactful action scenes too many special effects",
         "0.4",
         "English"
        ],
        [
         "16",
         "this film captivates with the atmosphere it creates im impressed",
         "0.9",
         "English"
        ],
        [
         "17",
         "the actors give excellent performances i like this story",
         "0.85",
         "English"
        ],
        [
         "18",
         "i dont understand the plot of this film too complex",
         "0.3",
         "English"
        ],
        [
         "19",
         "a big surprise in the plot thrilling action throughout",
         "0.9",
         "English"
        ],
        [
         "20",
         "the visual effects of this film are truly captivating im impressed",
         "0.9",
         "English"
        ],
        [
         "21",
         "an openended and unsatisfying plot no satisfying conclusion",
         "0.3",
         "English"
        ],
        [
         "22",
         "this film makes me laugh and cry love the emotions conveyed",
         "0.85",
         "English"
        ],
        [
         "23",
         "the actors fail to portray their characters well not credible",
         "0.3",
         "English"
        ],
        [
         "24",
         "overall this film is great i would watch it again",
         "0.92",
         "English"
        ],
        [
         "25",
         "outstanding action scenes excited about the trilogys conclusion",
         "0.88",
         "English"
        ],
        [
         "26",
         "unfortunately the plot of this film is too openended no satisfying closure",
         "0.3",
         "English"
        ],
        [
         "27",
         "i like how this film combines comedy with action highly entertaining",
         "0.85",
         "English"
        ],
        [
         "28",
         "the visual effects and animation in this film are amazing impressed",
         "0.9",
         "English"
        ],
        [
         "29",
         "the actors give a very good performance i like the story",
         "0.88",
         "English"
        ],
        [
         "30",
         "this film is very disappointing not worth the hype",
         "0.1999999999999999",
         "English"
        ],
        [
         "31",
         "complex but very interesting plot big twist at the end",
         "0.9",
         "English"
        ],
        [
         "32",
         "too many overthetop action scenes too many special effects",
         "0.4",
         "English"
        ],
        [
         "33",
         "i dont understand the twist in the plot a bit confusing",
         "0.3",
         "English"
        ],
        [
         "34",
         "this film is interesting and provides a deep experience i like it",
         "0.88",
         "English"
        ],
        [
         "35",
         "the visual effects of this film are outstanding excited about the technical brilliance",
         "0.9",
         "English"
        ],
        [
         "36",
         "lack of character development makes this film weak not satisfying",
         "0.25",
         "English"
        ],
        [
         "37",
         "im thrilled with how this film incorporates elements of science fiction",
         "0.8",
         "English"
        ],
        [
         "38",
         "interesting and surprising plot love the twist in the story",
         "0.85",
         "English"
        ],
        [
         "39",
         "this film has a great emotional impact touching",
         "0.88",
         "English"
        ],
        [
         "40",
         "the actors give a very good performance i like the character development",
         "0.88",
         "English"
        ],
        [
         "41",
         "the plot is quite ordinary but brought to life with great action",
         "0.75",
         "English"
        ],
        [
         "42",
         "an extremely epic ending thrilled with the trilogys conclusion",
         "0.92",
         "English"
        ],
        [
         "43",
         "this film is great i like the character development",
         "0.9",
         "English"
        ],
        [
         "44",
         "i dont like the overly complex plot hard to follow",
         "0.3",
         "English"
        ],
        [
         "45",
         "very pleased with this film amazing action",
         "0.88",
         "English"
        ],
        [
         "46",
         "complex but very interesting plot big surprise at the end",
         "0.92",
         "English"
        ],
        [
         "47",
         "the visual effects of this film are truly astonishing impressed",
         "0.9",
         "English"
        ],
        [
         "48",
         "deep emotional impact in this film makes me tearyeyed i like it",
         "0.88",
         "English"
        ],
        [
         "49",
         "lack of tension in the plot makes me bored no surprising elements",
         "0.3",
         "English"
        ]
       ],
       "shape": {
        "columns": 3,
        "rows": 2289
       }
      },
      "text/html": [
       "<div>\n",
       "<style scoped>\n",
       "    .dataframe tbody tr th:only-of-type {\n",
       "        vertical-align: middle;\n",
       "    }\n",
       "\n",
       "    .dataframe tbody tr th {\n",
       "        vertical-align: top;\n",
       "    }\n",
       "\n",
       "    .dataframe thead th {\n",
       "        text-align: right;\n",
       "    }\n",
       "</style>\n",
       "<table border=\"1\" class=\"dataframe\">\n",
       "  <thead>\n",
       "    <tr style=\"text-align: right;\">\n",
       "      <th></th>\n",
       "      <th>Review</th>\n",
       "      <th>Score</th>\n",
       "      <th>Language</th>\n",
       "    </tr>\n",
       "  </thead>\n",
       "  <tbody>\n",
       "    <tr>\n",
       "      <th>0</th>\n",
       "      <td>this movie is amazing the action is breathtaki...</td>\n",
       "      <td>0.92</td>\n",
       "      <td>English</td>\n",
       "    </tr>\n",
       "    <tr>\n",
       "      <th>1</th>\n",
       "      <td>im disappointed with the actors performance no...</td>\n",
       "      <td>0.30</td>\n",
       "      <td>English</td>\n",
       "    </tr>\n",
       "    <tr>\n",
       "      <th>2</th>\n",
       "      <td>the storyline is touching and full of emotion ...</td>\n",
       "      <td>0.88</td>\n",
       "      <td>English</td>\n",
       "    </tr>\n",
       "    <tr>\n",
       "      <th>3</th>\n",
       "      <td>this movie delivers an outstanding experience ...</td>\n",
       "      <td>0.95</td>\n",
       "      <td>English</td>\n",
       "    </tr>\n",
       "    <tr>\n",
       "      <th>4</th>\n",
       "      <td>too many action scenes sometimes unnecessary t...</td>\n",
       "      <td>0.60</td>\n",
       "      <td>English</td>\n",
       "    </tr>\n",
       "    <tr>\n",
       "      <th>...</th>\n",
       "      <td>...</td>\n",
       "      <td>...</td>\n",
       "      <td>...</td>\n",
       "    </tr>\n",
       "    <tr>\n",
       "      <th>2284</th>\n",
       "      <td>dizzy</td>\n",
       "      <td>0.30</td>\n",
       "      <td>NaN</td>\n",
       "    </tr>\n",
       "    <tr>\n",
       "      <th>2285</th>\n",
       "      <td>effective</td>\n",
       "      <td>0.80</td>\n",
       "      <td>NaN</td>\n",
       "    </tr>\n",
       "    <tr>\n",
       "      <th>2286</th>\n",
       "      <td>exciting</td>\n",
       "      <td>0.90</td>\n",
       "      <td>NaN</td>\n",
       "    </tr>\n",
       "    <tr>\n",
       "      <th>2287</th>\n",
       "      <td>moderate and severe</td>\n",
       "      <td>0.40</td>\n",
       "      <td>NaN</td>\n",
       "    </tr>\n",
       "    <tr>\n",
       "      <th>2288</th>\n",
       "      <td>perfect</td>\n",
       "      <td>0.90</td>\n",
       "      <td>NaN</td>\n",
       "    </tr>\n",
       "  </tbody>\n",
       "</table>\n",
       "<p>2289 rows × 3 columns</p>\n",
       "</div>"
      ],
      "text/plain": [
       "                                                 Review  Score Language\n",
       "0     this movie is amazing the action is breathtaki...   0.92  English\n",
       "1     im disappointed with the actors performance no...   0.30  English\n",
       "2     the storyline is touching and full of emotion ...   0.88  English\n",
       "3     this movie delivers an outstanding experience ...   0.95  English\n",
       "4     too many action scenes sometimes unnecessary t...   0.60  English\n",
       "...                                                 ...    ...      ...\n",
       "2284                                              dizzy   0.30      NaN\n",
       "2285                                          effective   0.80      NaN\n",
       "2286                                           exciting   0.90      NaN\n",
       "2287                                moderate and severe   0.40      NaN\n",
       "2288                                            perfect   0.90      NaN\n",
       "\n",
       "[2289 rows x 3 columns]"
      ]
     },
     "execution_count": 35,
     "metadata": {},
     "output_type": "execute_result"
    }
   ],
   "source": [
    "large_review_df_english"
   ]
  },
  {
   "cell_type": "code",
   "execution_count": 36,
   "id": "862c2ed5",
   "metadata": {},
   "outputs": [],
   "source": [
    "def lemmatize_reviews(x):\n",
    "  lemmatizer = WordNetLemmatizer()\n",
    "  words = word_tokenize(x)\n",
    "  lemmatized_review_words = [lemmatizer.lemmatize(word) for word in words]\n",
    "  return ' '.join(lemmatized_review_words)\n",
    "                  \n",
    "\n"
   ]
  },
  {
   "cell_type": "code",
   "execution_count": 37,
   "id": "fe0d11e6",
   "metadata": {},
   "outputs": [],
   "source": [
    "large_review_df_english['Lemmatized_Reviews'] = large_review_df_english['Review'].apply(lemmatize_reviews)"
   ]
  },
  {
   "cell_type": "code",
   "execution_count": 38,
   "id": "9652ca8a",
   "metadata": {},
   "outputs": [],
   "source": [
    "tokenizer = Tokenizer(oov_token=\"<OOV>\")\n",
    "tokenizer.fit_on_texts(large_review_df_english['Lemmatized_Reviews'])\n",
    "sequences = tokenizer.texts_to_sequences(large_review_df_english['Lemmatized_Reviews'])"
   ]
  },
  {
   "cell_type": "code",
   "execution_count": null,
   "id": "fc6fc999",
   "metadata": {},
   "outputs": [],
   "source": [
    "def create_model(\n",
    "  input_dim,\n",
    "  n,\n",
    "  neurons,\n",
    "  output_dim,\n",
    "  dropout,\n",
    "  input_length,\n",
    "  lr,\n",
    "  recurrent_dropout = 0,\n",
    "):\n",
    "  model = Sequential()\n",
    "  model.add(Embedding(input_dim=input_dim, output_dim=output_dim, input_length=input_length))\n",
    "\n",
    "  for i in range(n):\n",
    "    model.add(LSTM(round(neurons) , return_sequences=(i == n - 1) , dropout=dropout , recurrent_dropout=recurrent_dropout))\n",
    "    neurons /= 2\n",
    "\n",
    "  model.add(Dropout(dropout))\n",
    "  model.add(Dense(1 , activation='sigmoid'))\n",
    "  model.compile(loss='mean_squared_error' , optimizer=Adam(learning_rate = lr), metrics=['mean_absolute_error'])\n",
    "\n",
    "  return model\n"
   ]
  },
  {
   "cell_type": "code",
   "execution_count": null,
   "id": "cd028bd1",
   "metadata": {},
   "outputs": [],
   "source": [
    "hyper_params = {\n",
    "  'max_len': [90 , 95 , 100],  \n",
    "  'n': [1 , 2] ,\n",
    "  'output_dim': [128, 256, 512],\n",
    "  'neurons': [64 , 128 , 256],\n",
    "  'dropout': np.arange(0.5 , 0.9 , 0.1), \n",
    "  'lr': [1e-3 , 3e-3 , 1e-4 , 5e-4 , 1e-5]\n",
    "}"
   ]
  },
  {
   "cell_type": "code",
   "execution_count": 42,
   "id": "29b64610",
   "metadata": {},
   "outputs": [],
   "source": [
    "X_train , X_test , y_train , y_test = train_test_split(sequences, large_review_df_english['Score'], train_size=0.8, random_state =42)"
   ]
  },
  {
   "cell_type": "code",
   "execution_count": 43,
   "id": "fa6f75e8",
   "metadata": {},
   "outputs": [],
   "source": [
    "X_train  , X_val , y_train , y_val = train_test_split(X_train , y_train, train_size=0.75 , random_state=42)"
   ]
  },
  {
   "cell_type": "code",
   "execution_count": 44,
   "id": "121cdd7b",
   "metadata": {},
   "outputs": [],
   "source": [
    "val_losses = []\n",
    "val_maes = []\n",
    "fit_history = []\n",
    "successful_params = []"
   ]
  },
  {
   "cell_type": "code",
   "execution_count": null,
   "id": "dc3dfa04",
   "metadata": {},
   "outputs": [
    {
     "name": "stdout",
     "output_type": "stream",
     "text": [
      "Tuning {'dropout': 0.7, 'max_len': 90, 'n': 1, 'neurons': 256, 'output_dim': 128, 'recurrent_dropout': 0}...\n",
      "15/15 [==============================] - 0s 3ms/step - loss: 0.0326 - mean_absolute_error: 0.1197\n",
      "val loss: 0.032590385526418686 , val mae : 0.1196647360920906\n",
      "Tuning {'dropout': 0.7, 'max_len': 100, 'n': 1, 'neurons': 256, 'output_dim': 128, 'recurrent_dropout': 0}...\n",
      "15/15 [==============================] - 0s 4ms/step - loss: 0.0217 - mean_absolute_error: 0.0973\n",
      "val loss: 0.02173999324440956 , val mae : 0.09725571423768997\n",
      "Tuning {'dropout': 0.6, 'max_len': 90, 'n': 2, 'neurons': 256, 'output_dim': 512, 'recurrent_dropout': 0}...\n",
      "Input 0 of layer \"lstm_3\" is incompatible with the layer: expected ndim=3, found ndim=2. Full shape received: (None, 256)\n",
      "Tuning {'dropout': 0.7999999999999999, 'max_len': 100, 'n': 2, 'neurons': 64, 'output_dim': 128, 'recurrent_dropout': 0}...\n",
      "Input 0 of layer \"lstm_5\" is incompatible with the layer: expected ndim=3, found ndim=2. Full shape received: (None, 64)\n",
      "Tuning {'dropout': 0.5, 'max_len': 90, 'n': 1, 'neurons': 64, 'output_dim': 256, 'recurrent_dropout': 0}...\n",
      "15/15 [==============================] - 0s 3ms/step - loss: 0.0366 - mean_absolute_error: 0.1258\n",
      "val loss: 0.03656771406531334 , val mae : 0.12575159966945648\n",
      "Tuning {'dropout': 0.7999999999999999, 'max_len': 95, 'n': 2, 'neurons': 128, 'output_dim': 512, 'recurrent_dropout': 0}...\n",
      "Input 0 of layer \"lstm_8\" is incompatible with the layer: expected ndim=3, found ndim=2. Full shape received: (None, 128)\n",
      "Tuning {'dropout': 0.7999999999999999, 'max_len': 100, 'n': 1, 'neurons': 256, 'output_dim': 512, 'recurrent_dropout': 0}...\n",
      "15/15 [==============================] - 0s 4ms/step - loss: 0.0279 - mean_absolute_error: 0.1026\n",
      "val loss: 0.02794915810227394 , val mae : 0.10264112800359726\n",
      "Tuning {'dropout': 0.5, 'max_len': 100, 'n': 1, 'neurons': 128, 'output_dim': 256, 'recurrent_dropout': 0}...\n",
      "15/15 [==============================] - 0s 4ms/step - loss: 0.0258 - mean_absolute_error: 0.0943\n",
      "val loss: 0.025806376710534096 , val mae : 0.09432892501354218\n",
      "Tuning {'dropout': 0.7999999999999999, 'max_len': 90, 'n': 2, 'neurons': 256, 'output_dim': 256, 'recurrent_dropout': 0}...\n",
      "Input 0 of layer \"lstm_12\" is incompatible with the layer: expected ndim=3, found ndim=2. Full shape received: (None, 256)\n",
      "Tuning {'dropout': 0.7, 'max_len': 90, 'n': 1, 'neurons': 64, 'output_dim': 128, 'recurrent_dropout': 0}...\n",
      "15/15 [==============================] - 0s 3ms/step - loss: 0.0358 - mean_absolute_error: 0.1276\n",
      "val loss: 0.03575481101870537 , val mae : 0.12764503061771393\n",
      "Tuning {'dropout': 0.6, 'max_len': 95, 'n': 2, 'neurons': 256, 'output_dim': 128, 'recurrent_dropout': 0}...\n",
      "Input 0 of layer \"lstm_15\" is incompatible with the layer: expected ndim=3, found ndim=2. Full shape received: (None, 256)\n",
      "Tuning {'dropout': 0.7999999999999999, 'max_len': 100, 'n': 2, 'neurons': 256, 'output_dim': 128, 'recurrent_dropout': 0}...\n",
      "Input 0 of layer \"lstm_17\" is incompatible with the layer: expected ndim=3, found ndim=2. Full shape received: (None, 256)\n",
      "Tuning {'dropout': 0.5, 'max_len': 100, 'n': 1, 'neurons': 128, 'output_dim': 128, 'recurrent_dropout': 0}...\n",
      "15/15 [==============================] - 0s 4ms/step - loss: 0.0231 - mean_absolute_error: 0.0936\n",
      "val loss: 0.023141006007790565 , val mae : 0.09359361231327057\n",
      "Tuning {'dropout': 0.6, 'max_len': 90, 'n': 1, 'neurons': 64, 'output_dim': 256, 'recurrent_dropout': 0}...\n",
      "15/15 [==============================] - 0s 3ms/step - loss: 0.0350 - mean_absolute_error: 0.1205\n",
      "val loss: 0.034973032772541046 , val mae : 0.12049642205238342\n",
      "Tuning {'dropout': 0.7999999999999999, 'max_len': 95, 'n': 2, 'neurons': 256, 'output_dim': 128, 'recurrent_dropout': 0}...\n",
      "Input 0 of layer \"lstm_21\" is incompatible with the layer: expected ndim=3, found ndim=2. Full shape received: (None, 256)\n",
      "Tuning {'dropout': 0.6, 'max_len': 95, 'n': 2, 'neurons': 128, 'output_dim': 512, 'recurrent_dropout': 0}...\n",
      "Input 0 of layer \"lstm_23\" is incompatible with the layer: expected ndim=3, found ndim=2. Full shape received: (None, 128)\n",
      "Tuning {'dropout': 0.5, 'max_len': 95, 'n': 1, 'neurons': 256, 'output_dim': 512, 'recurrent_dropout': 0}...\n",
      "15/15 [==============================] - 0s 3ms/step - loss: 0.0321 - mean_absolute_error: 0.1123\n",
      "val loss: 0.03208986297249794 , val mae : 0.1123223602771759\n",
      "Tuning {'dropout': 0.5, 'max_len': 95, 'n': 1, 'neurons': 128, 'output_dim': 512, 'recurrent_dropout': 0}...\n",
      "15/15 [==============================] - 0s 3ms/step - loss: 0.0332 - mean_absolute_error: 0.1129\n",
      "val loss: 0.03319835290312767 , val mae : 0.1129411831498146\n",
      "Tuning {'dropout': 0.6, 'max_len': 100, 'n': 1, 'neurons': 256, 'output_dim': 256, 'recurrent_dropout': 0}...\n",
      "15/15 [==============================] - 0s 4ms/step - loss: 0.0311 - mean_absolute_error: 0.1185\n",
      "val loss: 0.031059371307492256 , val mae : 0.11849521100521088\n",
      "Tuning {'dropout': 0.5, 'max_len': 95, 'n': 1, 'neurons': 256, 'output_dim': 128, 'recurrent_dropout': 0}...\n",
      "15/15 [==============================] - 0s 3ms/step - loss: 0.0307 - mean_absolute_error: 0.1140\n",
      "val loss: 0.03071247972548008 , val mae : 0.11402075737714767\n",
      "Tuning {'dropout': 0.6, 'max_len': 100, 'n': 1, 'neurons': 64, 'output_dim': 256, 'recurrent_dropout': 0}...\n",
      "15/15 [==============================] - 0s 4ms/step - loss: 0.0276 - mean_absolute_error: 0.1040\n",
      "val loss: 0.027617596089839935 , val mae : 0.10399625450372696\n",
      "Tuning {'dropout': 0.6, 'max_len': 95, 'n': 2, 'neurons': 256, 'output_dim': 256, 'recurrent_dropout': 0}...\n",
      "Input 0 of layer \"lstm_30\" is incompatible with the layer: expected ndim=3, found ndim=2. Full shape received: (None, 256)\n",
      "Tuning {'dropout': 0.7, 'max_len': 100, 'n': 2, 'neurons': 64, 'output_dim': 256, 'recurrent_dropout': 0}...\n",
      "Input 0 of layer \"lstm_32\" is incompatible with the layer: expected ndim=3, found ndim=2. Full shape received: (None, 64)\n",
      "Tuning {'dropout': 0.6, 'max_len': 90, 'n': 2, 'neurons': 128, 'output_dim': 256, 'recurrent_dropout': 0}...\n",
      "Input 0 of layer \"lstm_34\" is incompatible with the layer: expected ndim=3, found ndim=2. Full shape received: (None, 128)\n",
      "Tuning {'dropout': 0.5, 'max_len': 90, 'n': 2, 'neurons': 64, 'output_dim': 512, 'recurrent_dropout': 0}...\n",
      "Input 0 of layer \"lstm_36\" is incompatible with the layer: expected ndim=3, found ndim=2. Full shape received: (None, 64)\n",
      "Tuning {'dropout': 0.7999999999999999, 'max_len': 95, 'n': 1, 'neurons': 256, 'output_dim': 128, 'recurrent_dropout': 0}...\n",
      "15/15 [==============================] - 0s 3ms/step - loss: 0.0288 - mean_absolute_error: 0.1094\n",
      "val loss: 0.028811432421207428 , val mae : 0.10942685604095459\n",
      "Tuning {'dropout': 0.7, 'max_len': 90, 'n': 2, 'neurons': 64, 'output_dim': 128, 'recurrent_dropout': 0}...\n",
      "Input 0 of layer \"lstm_39\" is incompatible with the layer: expected ndim=3, found ndim=2. Full shape received: (None, 64)\n",
      "Tuning {'dropout': 0.7, 'max_len': 95, 'n': 2, 'neurons': 64, 'output_dim': 512, 'recurrent_dropout': 0}...\n",
      "Input 0 of layer \"lstm_41\" is incompatible with the layer: expected ndim=3, found ndim=2. Full shape received: (None, 64)\n",
      "Tuning {'dropout': 0.5, 'max_len': 95, 'n': 2, 'neurons': 128, 'output_dim': 256, 'recurrent_dropout': 0}...\n",
      "Input 0 of layer \"lstm_43\" is incompatible with the layer: expected ndim=3, found ndim=2. Full shape received: (None, 128)\n",
      "Tuning {'dropout': 0.6, 'max_len': 100, 'n': 1, 'neurons': 256, 'output_dim': 128, 'recurrent_dropout': 0}...\n",
      "15/15 [==============================] - 0s 4ms/step - loss: 0.0234 - mean_absolute_error: 0.0899\n",
      "val loss: 0.023373497650027275 , val mae : 0.08988102525472641\n",
      "Tuning {'dropout': 0.5, 'max_len': 95, 'n': 1, 'neurons': 64, 'output_dim': 512, 'recurrent_dropout': 0}...\n",
      "15/15 [==============================] - 0s 3ms/step - loss: 0.0329 - mean_absolute_error: 0.1149\n",
      "val loss: 0.032867565751075745 , val mae : 0.11494890600442886\n",
      "Tuning {'dropout': 0.7, 'max_len': 95, 'n': 2, 'neurons': 256, 'output_dim': 128, 'recurrent_dropout': 0}...\n",
      "Input 0 of layer \"lstm_47\" is incompatible with the layer: expected ndim=3, found ndim=2. Full shape received: (None, 256)\n",
      "Tuning {'dropout': 0.6, 'max_len': 95, 'n': 1, 'neurons': 128, 'output_dim': 128, 'recurrent_dropout': 0}...\n",
      "15/15 [==============================] - 0s 3ms/step - loss: 0.0306 - mean_absolute_error: 0.1148\n",
      "val loss: 0.030602408573031425 , val mae : 0.11482056975364685\n",
      "Tuning {'dropout': 0.7, 'max_len': 100, 'n': 2, 'neurons': 256, 'output_dim': 256, 'recurrent_dropout': 0}...\n",
      "Input 0 of layer \"lstm_50\" is incompatible with the layer: expected ndim=3, found ndim=2. Full shape received: (None, 256)\n",
      "Tuning {'dropout': 0.7, 'max_len': 100, 'n': 2, 'neurons': 128, 'output_dim': 512, 'recurrent_dropout': 0}...\n",
      "Input 0 of layer \"lstm_52\" is incompatible with the layer: expected ndim=3, found ndim=2. Full shape received: (None, 128)\n",
      "Tuning {'dropout': 0.6, 'max_len': 100, 'n': 1, 'neurons': 64, 'output_dim': 512, 'recurrent_dropout': 0}...\n",
      "15/15 [==============================] - 0s 4ms/step - loss: 0.0264 - mean_absolute_error: 0.0977\n",
      "val loss: 0.02641725353896618 , val mae : 0.09768587350845337\n",
      "Tuning {'dropout': 0.7, 'max_len': 100, 'n': 1, 'neurons': 128, 'output_dim': 128, 'recurrent_dropout': 0}...\n",
      "15/15 [==============================] - 0s 4ms/step - loss: 0.0239 - mean_absolute_error: 0.0960\n",
      "val loss: 0.023874640464782715 , val mae : 0.09600037336349487\n",
      "Tuning {'dropout': 0.5, 'max_len': 100, 'n': 2, 'neurons': 128, 'output_dim': 256, 'recurrent_dropout': 0}...\n",
      "Input 0 of layer \"lstm_56\" is incompatible with the layer: expected ndim=3, found ndim=2. Full shape received: (None, 128)\n",
      "Tuning {'dropout': 0.5, 'max_len': 90, 'n': 2, 'neurons': 256, 'output_dim': 512, 'recurrent_dropout': 0}...\n",
      "Input 0 of layer \"lstm_58\" is incompatible with the layer: expected ndim=3, found ndim=2. Full shape received: (None, 256)\n",
      "Tuning {'dropout': 0.7999999999999999, 'max_len': 95, 'n': 2, 'neurons': 64, 'output_dim': 512, 'recurrent_dropout': 0}...\n",
      "Input 0 of layer \"lstm_60\" is incompatible with the layer: expected ndim=3, found ndim=2. Full shape received: (None, 64)\n",
      "Tuning {'dropout': 0.7999999999999999, 'max_len': 90, 'n': 1, 'neurons': 256, 'output_dim': 256, 'recurrent_dropout': 0}...\n",
      "15/15 [==============================] - 0s 3ms/step - loss: 0.0329 - mean_absolute_error: 0.1185\n",
      "val loss: 0.03292614221572876 , val mae : 0.1185372918844223\n",
      "Tuning {'dropout': 0.6, 'max_len': 90, 'n': 1, 'neurons': 128, 'output_dim': 256, 'recurrent_dropout': 0}...\n",
      "15/15 [==============================] - 0s 3ms/step - loss: 0.0322 - mean_absolute_error: 0.1191\n",
      "val loss: 0.03218069300055504 , val mae : 0.11911246925592422\n",
      "Tuning {'dropout': 0.6, 'max_len': 95, 'n': 1, 'neurons': 64, 'output_dim': 512, 'recurrent_dropout': 0}...\n",
      "15/15 [==============================] - 0s 3ms/step - loss: 0.0334 - mean_absolute_error: 0.1164\n",
      "val loss: 0.033388976007699966 , val mae : 0.1163855642080307\n",
      "Tuning {'dropout': 0.7999999999999999, 'max_len': 95, 'n': 1, 'neurons': 128, 'output_dim': 512, 'recurrent_dropout': 0}...\n",
      "15/15 [==============================] - 0s 3ms/step - loss: 0.0310 - mean_absolute_error: 0.1126\n",
      "val loss: 0.03096320666372776 , val mae : 0.11263459175825119\n",
      "Tuning {'dropout': 0.6, 'max_len': 90, 'n': 1, 'neurons': 128, 'output_dim': 512, 'recurrent_dropout': 0}...\n",
      "15/15 [==============================] - 0s 3ms/step - loss: 0.0348 - mean_absolute_error: 0.1191\n",
      "val loss: 0.034760523587465286 , val mae : 0.11908011138439178\n",
      "Tuning {'dropout': 0.5, 'max_len': 95, 'n': 1, 'neurons': 256, 'output_dim': 256, 'recurrent_dropout': 0}...\n",
      "15/15 [==============================] - 0s 3ms/step - loss: 0.0328 - mean_absolute_error: 0.1112\n",
      "val loss: 0.0327557697892189 , val mae : 0.11123338341712952\n",
      "Tuning {'dropout': 0.7999999999999999, 'max_len': 95, 'n': 2, 'neurons': 256, 'output_dim': 512, 'recurrent_dropout': 0}...\n",
      "Input 0 of layer \"lstm_68\" is incompatible with the layer: expected ndim=3, found ndim=2. Full shape received: (None, 256)\n",
      "Tuning {'dropout': 0.7999999999999999, 'max_len': 100, 'n': 1, 'neurons': 256, 'output_dim': 128, 'recurrent_dropout': 0}...\n",
      "15/15 [==============================] - 0s 4ms/step - loss: 0.0355 - mean_absolute_error: 0.1431\n",
      "val loss: 0.03552587702870369 , val mae : 0.14308662712574005\n",
      "Tuning {'dropout': 0.7, 'max_len': 90, 'n': 1, 'neurons': 256, 'output_dim': 512, 'recurrent_dropout': 0}...\n",
      "15/15 [==============================] - 0s 4ms/step - loss: 0.0313 - mean_absolute_error: 0.1151\n",
      "val loss: 0.03132747486233711 , val mae : 0.11507558077573776\n",
      "Tuning {'dropout': 0.7999999999999999, 'max_len': 90, 'n': 1, 'neurons': 64, 'output_dim': 128, 'recurrent_dropout': 0}...\n",
      "15/15 [==============================] - 0s 3ms/step - loss: 0.0346 - mean_absolute_error: 0.1271\n",
      "val loss: 0.03463604301214218 , val mae : 0.1270608901977539\n",
      "Tuning {'dropout': 0.6, 'max_len': 100, 'n': 1, 'neurons': 128, 'output_dim': 128, 'recurrent_dropout': 0}...\n",
      "15/15 [==============================] - 0s 4ms/step - loss: 0.0245 - mean_absolute_error: 0.0975\n",
      "val loss: 0.02454361692070961 , val mae : 0.09754250198602676\n",
      "Tuning {'dropout': 0.5, 'max_len': 100, 'n': 1, 'neurons': 128, 'output_dim': 512, 'recurrent_dropout': 0}...\n",
      "15/15 [==============================] - 0s 4ms/step - loss: 0.0244 - mean_absolute_error: 0.0932\n",
      "val loss: 0.02443409524857998 , val mae : 0.09322646260261536\n",
      "Tuning {'dropout': 0.6, 'max_len': 100, 'n': 1, 'neurons': 128, 'output_dim': 256, 'recurrent_dropout': 0}...\n",
      "15/15 [==============================] - 0s 4ms/step - loss: 0.0268 - mean_absolute_error: 0.1045\n",
      "val loss: 0.026795847341418266 , val mae : 0.10450320690870285\n",
      "Tuning {'dropout': 0.6, 'max_len': 100, 'n': 1, 'neurons': 64, 'output_dim': 128, 'recurrent_dropout': 0}...\n",
      "15/15 [==============================] - 0s 4ms/step - loss: 0.0282 - mean_absolute_error: 0.1030\n",
      "val loss: 0.028159040957689285 , val mae : 0.10296308249235153\n",
      "Tuning {'dropout': 0.5, 'max_len': 100, 'n': 2, 'neurons': 256, 'output_dim': 512, 'recurrent_dropout': 0}...\n",
      "Input 0 of layer \"lstm_77\" is incompatible with the layer: expected ndim=3, found ndim=2. Full shape received: (None, 256)\n",
      "Tuning {'dropout': 0.6, 'max_len': 90, 'n': 2, 'neurons': 128, 'output_dim': 512, 'recurrent_dropout': 0}...\n",
      "Input 0 of layer \"lstm_79\" is incompatible with the layer: expected ndim=3, found ndim=2. Full shape received: (None, 128)\n",
      "Tuning {'dropout': 0.5, 'max_len': 95, 'n': 1, 'neurons': 64, 'output_dim': 128, 'recurrent_dropout': 0}...\n",
      "15/15 [==============================] - 0s 3ms/step - loss: 0.0313 - mean_absolute_error: 0.1166\n",
      "val loss: 0.03127223625779152 , val mae : 0.11663573980331421\n",
      "Tuning {'dropout': 0.7, 'max_len': 100, 'n': 2, 'neurons': 64, 'output_dim': 512, 'recurrent_dropout': 0}...\n",
      "Input 0 of layer \"lstm_82\" is incompatible with the layer: expected ndim=3, found ndim=2. Full shape received: (None, 64)\n",
      "Tuning {'dropout': 0.5, 'max_len': 100, 'n': 1, 'neurons': 256, 'output_dim': 256, 'recurrent_dropout': 0}...\n",
      "15/15 [==============================] - 0s 5ms/step - loss: 0.0278 - mean_absolute_error: 0.1011\n",
      "val loss: 0.027816735208034515 , val mae : 0.10106908529996872\n",
      "Tuning {'dropout': 0.7, 'max_len': 95, 'n': 2, 'neurons': 64, 'output_dim': 256, 'recurrent_dropout': 0}...\n",
      "Input 0 of layer \"lstm_85\" is incompatible with the layer: expected ndim=3, found ndim=2. Full shape received: (None, 64)\n",
      "Tuning {'dropout': 0.6, 'max_len': 90, 'n': 1, 'neurons': 256, 'output_dim': 512, 'recurrent_dropout': 0}...\n",
      "15/15 [==============================] - 0s 3ms/step - loss: 0.0329 - mean_absolute_error: 0.1148\n",
      "val loss: 0.03294459357857704 , val mae : 0.11478714644908905\n",
      "Tuning {'dropout': 0.7999999999999999, 'max_len': 90, 'n': 1, 'neurons': 64, 'output_dim': 512, 'recurrent_dropout': 0}...\n",
      "15/15 [==============================] - 0s 4ms/step - loss: 0.0370 - mean_absolute_error: 0.1276\n",
      "val loss: 0.03696399927139282 , val mae : 0.12763667106628418\n",
      "Tuning {'dropout': 0.7, 'max_len': 90, 'n': 2, 'neurons': 64, 'output_dim': 256, 'recurrent_dropout': 0}...\n",
      "Input 0 of layer \"lstm_89\" is incompatible with the layer: expected ndim=3, found ndim=2. Full shape received: (None, 64)\n",
      "Tuning {'dropout': 0.7999999999999999, 'max_len': 90, 'n': 2, 'neurons': 128, 'output_dim': 256, 'recurrent_dropout': 0}...\n",
      "Input 0 of layer \"lstm_91\" is incompatible with the layer: expected ndim=3, found ndim=2. Full shape received: (None, 128)\n",
      "Tuning {'dropout': 0.6, 'max_len': 90, 'n': 2, 'neurons': 256, 'output_dim': 128, 'recurrent_dropout': 0}...\n",
      "Input 0 of layer \"lstm_93\" is incompatible with the layer: expected ndim=3, found ndim=2. Full shape received: (None, 256)\n",
      "Tuning {'dropout': 0.7, 'max_len': 95, 'n': 2, 'neurons': 256, 'output_dim': 256, 'recurrent_dropout': 0}...\n",
      "Input 0 of layer \"lstm_95\" is incompatible with the layer: expected ndim=3, found ndim=2. Full shape received: (None, 256)\n",
      "Tuning {'dropout': 0.6, 'max_len': 90, 'n': 1, 'neurons': 64, 'output_dim': 512, 'recurrent_dropout': 0}...\n",
      "15/15 [==============================] - 0s 3ms/step - loss: 0.0368 - mean_absolute_error: 0.1248\n",
      "val loss: 0.03681432828307152 , val mae : 0.12479738891124725\n",
      "Tuning {'dropout': 0.6, 'max_len': 95, 'n': 2, 'neurons': 64, 'output_dim': 512, 'recurrent_dropout': 0}...\n",
      "Input 0 of layer \"lstm_98\" is incompatible with the layer: expected ndim=3, found ndim=2. Full shape received: (None, 64)\n",
      "Tuning {'dropout': 0.5, 'max_len': 90, 'n': 2, 'neurons': 128, 'output_dim': 512, 'recurrent_dropout': 0}...\n",
      "Input 0 of layer \"lstm_100\" is incompatible with the layer: expected ndim=3, found ndim=2. Full shape received: (None, 128)\n",
      "Tuning {'dropout': 0.7999999999999999, 'max_len': 90, 'n': 2, 'neurons': 128, 'output_dim': 128, 'recurrent_dropout': 0}...\n",
      "Input 0 of layer \"lstm_102\" is incompatible with the layer: expected ndim=3, found ndim=2. Full shape received: (None, 128)\n",
      "Tuning {'dropout': 0.5, 'max_len': 90, 'n': 1, 'neurons': 256, 'output_dim': 512, 'recurrent_dropout': 0}...\n",
      "15/15 [==============================] - 0s 3ms/step - loss: 0.0316 - mean_absolute_error: 0.1147\n",
      "val loss: 0.03158339485526085 , val mae : 0.11471313238143921\n",
      "Tuning {'dropout': 0.6, 'max_len': 95, 'n': 1, 'neurons': 256, 'output_dim': 512, 'recurrent_dropout': 0}...\n",
      "15/15 [==============================] - 0s 3ms/step - loss: 0.0310 - mean_absolute_error: 0.1104\n",
      "val loss: 0.031003424897789955 , val mae : 0.11040934920310974\n",
      "Tuning {'dropout': 0.6, 'max_len': 100, 'n': 2, 'neurons': 128, 'output_dim': 128, 'recurrent_dropout': 0}...\n",
      "Input 0 of layer \"lstm_106\" is incompatible with the layer: expected ndim=3, found ndim=2. Full shape received: (None, 128)\n",
      "Tuning {'dropout': 0.7999999999999999, 'max_len': 95, 'n': 1, 'neurons': 64, 'output_dim': 512, 'recurrent_dropout': 0}...\n",
      "15/15 [==============================] - 0s 3ms/step - loss: 0.0355 - mean_absolute_error: 0.1218\n",
      "val loss: 0.035483285784721375 , val mae : 0.1218021959066391\n",
      "Tuning {'dropout': 0.5, 'max_len': 90, 'n': 2, 'neurons': 256, 'output_dim': 256, 'recurrent_dropout': 0}...\n",
      "Input 0 of layer \"lstm_109\" is incompatible with the layer: expected ndim=3, found ndim=2. Full shape received: (None, 256)\n",
      "Tuning {'dropout': 0.6, 'max_len': 90, 'n': 1, 'neurons': 64, 'output_dim': 128, 'recurrent_dropout': 0}...\n",
      "15/15 [==============================] - 0s 3ms/step - loss: 0.0347 - mean_absolute_error: 0.1247\n",
      "val loss: 0.03467085212469101 , val mae : 0.1247125118970871\n",
      "Tuning {'dropout': 0.7, 'max_len': 100, 'n': 1, 'neurons': 64, 'output_dim': 128, 'recurrent_dropout': 0}...\n",
      "15/15 [==============================] - 0s 4ms/step - loss: 0.0311 - mean_absolute_error: 0.1148\n",
      "val loss: 0.031064588576555252 , val mae : 0.11478564888238907\n",
      "Tuning {'dropout': 0.7, 'max_len': 95, 'n': 2, 'neurons': 128, 'output_dim': 512, 'recurrent_dropout': 0}...\n",
      "Input 0 of layer \"lstm_113\" is incompatible with the layer: expected ndim=3, found ndim=2. Full shape received: (None, 128)\n",
      "Tuning {'dropout': 0.7, 'max_len': 95, 'n': 1, 'neurons': 64, 'output_dim': 256, 'recurrent_dropout': 0}...\n",
      "15/15 [==============================] - 0s 4ms/step - loss: 0.0343 - mean_absolute_error: 0.1193\n",
      "val loss: 0.03434687852859497 , val mae : 0.1193230077624321\n",
      "Tuning {'dropout': 0.6, 'max_len': 100, 'n': 2, 'neurons': 64, 'output_dim': 512, 'recurrent_dropout': 0}...\n",
      "Input 0 of layer \"lstm_116\" is incompatible with the layer: expected ndim=3, found ndim=2. Full shape received: (None, 64)\n",
      "Tuning {'dropout': 0.7999999999999999, 'max_len': 95, 'n': 2, 'neurons': 64, 'output_dim': 128, 'recurrent_dropout': 0}...\n",
      "Input 0 of layer \"lstm_118\" is incompatible with the layer: expected ndim=3, found ndim=2. Full shape received: (None, 64)\n",
      "Tuning {'dropout': 0.5, 'max_len': 100, 'n': 1, 'neurons': 64, 'output_dim': 128, 'recurrent_dropout': 0}...\n",
      "15/15 [==============================] - 0s 4ms/step - loss: 0.0262 - mean_absolute_error: 0.1052\n",
      "val loss: 0.02620706893503666 , val mae : 0.10523997992277145\n",
      "Tuning {'dropout': 0.7999999999999999, 'max_len': 95, 'n': 2, 'neurons': 128, 'output_dim': 128, 'recurrent_dropout': 0}...\n",
      "Input 0 of layer \"lstm_121\" is incompatible with the layer: expected ndim=3, found ndim=2. Full shape received: (None, 128)\n",
      "Tuning {'dropout': 0.5, 'max_len': 95, 'n': 2, 'neurons': 256, 'output_dim': 512, 'recurrent_dropout': 0}...\n",
      "Input 0 of layer \"lstm_123\" is incompatible with the layer: expected ndim=3, found ndim=2. Full shape received: (None, 256)\n",
      "Tuning {'dropout': 0.6, 'max_len': 90, 'n': 2, 'neurons': 64, 'output_dim': 128, 'recurrent_dropout': 0}...\n",
      "Input 0 of layer \"lstm_125\" is incompatible with the layer: expected ndim=3, found ndim=2. Full shape received: (None, 64)\n",
      "Tuning {'dropout': 0.7, 'max_len': 95, 'n': 1, 'neurons': 256, 'output_dim': 256, 'recurrent_dropout': 0}...\n",
      "15/15 [==============================] - 0s 3ms/step - loss: 0.0301 - mean_absolute_error: 0.1136\n",
      "val loss: 0.030145961791276932 , val mae : 0.1135796457529068\n",
      "Tuning {'dropout': 0.7, 'max_len': 90, 'n': 1, 'neurons': 64, 'output_dim': 256, 'recurrent_dropout': 0}...\n",
      "15/15 [==============================] - 0s 3ms/step - loss: 0.0369 - mean_absolute_error: 0.1286\n",
      "val loss: 0.03691031038761139 , val mae : 0.12860409915447235\n",
      "Tuning {'dropout': 0.7, 'max_len': 95, 'n': 2, 'neurons': 256, 'output_dim': 512, 'recurrent_dropout': 0}...\n",
      "Input 0 of layer \"lstm_129\" is incompatible with the layer: expected ndim=3, found ndim=2. Full shape received: (None, 256)\n",
      "Tuning {'dropout': 0.7999999999999999, 'max_len': 95, 'n': 1, 'neurons': 64, 'output_dim': 128, 'recurrent_dropout': 0}...\n",
      "15/15 [==============================] - 0s 3ms/step - loss: 0.0331 - mean_absolute_error: 0.1203\n",
      "val loss: 0.03308015689253807 , val mae : 0.12030503153800964\n",
      "Tuning {'dropout': 0.5, 'max_len': 95, 'n': 2, 'neurons': 64, 'output_dim': 256, 'recurrent_dropout': 0}...\n",
      "Input 0 of layer \"lstm_132\" is incompatible with the layer: expected ndim=3, found ndim=2. Full shape received: (None, 64)\n",
      "Tuning {'dropout': 0.7999999999999999, 'max_len': 90, 'n': 2, 'neurons': 256, 'output_dim': 128, 'recurrent_dropout': 0}...\n",
      "Input 0 of layer \"lstm_134\" is incompatible with the layer: expected ndim=3, found ndim=2. Full shape received: (None, 256)\n",
      "Tuning {'dropout': 0.6, 'max_len': 90, 'n': 2, 'neurons': 64, 'output_dim': 512, 'recurrent_dropout': 0}...\n",
      "Input 0 of layer \"lstm_136\" is incompatible with the layer: expected ndim=3, found ndim=2. Full shape received: (None, 64)\n",
      "Tuning {'dropout': 0.7, 'max_len': 95, 'n': 1, 'neurons': 128, 'output_dim': 512, 'recurrent_dropout': 0}...\n",
      "15/15 [==============================] - 0s 3ms/step - loss: 0.0321 - mean_absolute_error: 0.1134\n",
      "val loss: 0.03212422505021095 , val mae : 0.11337047070264816\n",
      "Tuning {'dropout': 0.7999999999999999, 'max_len': 90, 'n': 2, 'neurons': 128, 'output_dim': 512, 'recurrent_dropout': 0}...\n",
      "Input 0 of layer \"lstm_139\" is incompatible with the layer: expected ndim=3, found ndim=2. Full shape received: (None, 128)\n",
      "Tuning {'dropout': 0.7999999999999999, 'max_len': 95, 'n': 2, 'neurons': 64, 'output_dim': 256, 'recurrent_dropout': 0}...\n",
      "Input 0 of layer \"lstm_141\" is incompatible with the layer: expected ndim=3, found ndim=2. Full shape received: (None, 64)\n",
      "Tuning {'dropout': 0.5, 'max_len': 90, 'n': 1, 'neurons': 256, 'output_dim': 128, 'recurrent_dropout': 0}...\n",
      "15/15 [==============================] - 0s 4ms/step - loss: 0.0337 - mean_absolute_error: 0.1229\n",
      "val loss: 0.03365660086274147 , val mae : 0.12294849753379822\n",
      "Tuning {'dropout': 0.7, 'max_len': 90, 'n': 1, 'neurons': 64, 'output_dim': 512, 'recurrent_dropout': 0}...\n",
      "15/15 [==============================] - 0s 3ms/step - loss: 0.0366 - mean_absolute_error: 0.1256\n",
      "val loss: 0.036566849797964096 , val mae : 0.12561668455600739\n",
      "Tuning {'dropout': 0.7999999999999999, 'max_len': 90, 'n': 2, 'neurons': 256, 'output_dim': 512, 'recurrent_dropout': 0}...\n",
      "Input 0 of layer \"lstm_145\" is incompatible with the layer: expected ndim=3, found ndim=2. Full shape received: (None, 256)\n",
      "Tuning {'dropout': 0.5, 'max_len': 95, 'n': 1, 'neurons': 64, 'output_dim': 256, 'recurrent_dropout': 0}...\n",
      "15/15 [==============================] - 0s 3ms/step - loss: 0.0321 - mean_absolute_error: 0.1170\n",
      "val loss: 0.032139066606760025 , val mae : 0.11695459485054016\n",
      "Tuning {'dropout': 0.7, 'max_len': 95, 'n': 2, 'neurons': 128, 'output_dim': 256, 'recurrent_dropout': 0}...\n",
      "Input 0 of layer \"lstm_148\" is incompatible with the layer: expected ndim=3, found ndim=2. Full shape received: (None, 128)\n"
     ]
    }
   ],
   "source": [
    "sequence_lens = [len(s) for s in sequences]\n",
    "vocab_size = len(tokenizer.word_index) + 1\n",
    "\n",
    "for params in list(ParameterGrid(hyper_params)):\n",
    "  try:\n",
    "    max_len = int(np.percentile(sequence_lens , params['max_len']))\n",
    "    print(f'Tuning {params}...')\n",
    "\n",
    "    padded_sequences = pad_sequences(sequences, padding='post', maxlen=max_len)\n",
    "\n",
    "    \n",
    "    X_train , X_test , y_train , y_test = train_test_split(padded_sequences, large_review_df_english['Score'], train_size=0.8, random_state =42)\n",
    "    X_train  , X_val , y_train , y_val = train_test_split(X_train , y_train, train_size=0.75 , random_state=42)\n",
    "\n",
    "    early_stop = EarlyStopping(patience=10 , monitor='val_mean_absolute_error' , mode='min')\n",
    "    model = create_model(**{k:v for k , v in params.items() if k not in ['max_len']} , input_dim=vocab_size, input_length=max_len)\n",
    "\n",
    "    history = model.fit(X_train , y_train,\n",
    "              epochs = 100,\n",
    "              verbose = 0,\n",
    "              validation_data = (X_val , y_val),\n",
    "              callbacks = [ early_stop ] \n",
    "    )\n",
    "\n",
    "    val_loss , val_mae = model.evaluate(X_val , y_val)\n",
    "    print(f'val loss: {val_loss} , val mae : {val_mae}\\n')\n",
    "\n",
    "    val_losses.append(val_loss)\n",
    "    val_maes.append(val_mae)\n",
    "    fit_history.append(history.history)\n",
    "    successful_params.append(params)\n",
    "\n",
    "  except Exception as e:\n",
    "    print(e)\n",
    "    continue\n",
    "\n",
    "\n",
    "  \n",
    "\n"
   ]
  },
  {
   "cell_type": "code",
   "execution_count": 46,
   "id": "f53b5c54",
   "metadata": {},
   "outputs": [],
   "source": [
    "results = pd.DataFrame({\n",
    " 'fit_results': fit_history,\n",
    " 'val_losses': val_losses,\n",
    " 'val_mae': val_maes,\n",
    " 'successful_params': successful_params \n",
    "})"
   ]
  },
  {
   "cell_type": "code",
   "execution_count": 48,
   "id": "5cc621b0",
   "metadata": {},
   "outputs": [],
   "source": [
    "with open(os.path.join('tuning_results' , 'rnn_tuning.pkl') , 'wb') as f:\n",
    "  pickle.dump(results, f)"
   ]
  }
 ],
 "metadata": {
  "kernelspec": {
   "display_name": "gpu_env2",
   "language": "python",
   "name": "python3"
  },
  "language_info": {
   "codemirror_mode": {
    "name": "ipython",
    "version": 3
   },
   "file_extension": ".py",
   "mimetype": "text/x-python",
   "name": "python",
   "nbconvert_exporter": "python",
   "pygments_lexer": "ipython3",
   "version": "3.8.20"
  }
 },
 "nbformat": 4,
 "nbformat_minor": 5
}

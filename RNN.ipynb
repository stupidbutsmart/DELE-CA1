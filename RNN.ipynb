{
 "cells": [
  {
   "cell_type": "markdown",
   "id": "91a774b5",
   "metadata": {},
   "source": [
    "### Section B CA1 RNN\n",
    "\n",
    "Name: Jovan Heng Ghim Hong\n",
    "\n",
    "Class: DAAA/2B/22\n",
    "\n",
    "Admin No: 2401418"
   ]
  },
  {
   "cell_type": "code",
   "execution_count": 1,
   "id": "1bbc81c8",
   "metadata": {},
   "outputs": [],
   "source": [
    "import tensorflow as tf\n",
    "\n",
    "gpus = tf.config.experimental.list_physical_devices('GPU')\n",
    "if gpus:\n",
    "    try:\n",
    "        for gpu in gpus:\n",
    "            tf.config.experimental.set_memory_growth(gpu, True)\n",
    "    except RuntimeError as e:\n",
    "        print(e)"
   ]
  },
  {
   "cell_type": "code",
   "execution_count": 148,
   "id": "6e7e9031",
   "metadata": {},
   "outputs": [],
   "source": [
    "import os\n",
    "import pandas as pd\n",
    "import numpy as np\n",
    "import matplotlib.pyplot as plt\n",
    "import warnings\n",
    "import re\n",
    "import math\n",
    "\n",
    "from tensorflow.keras.preprocessing.sequence import pad_sequences\n",
    "from tensorflow.keras.preprocessing.text import Tokenizer\n",
    "from tensorflow.keras.layers import Dense , Dropout, LSTM, GRU, SimpleRNN, Embedding\n",
    "from tensorflow.keras.models import Sequential\n",
    "from tensorflow.keras import backend as K\n",
    "from sklearn.model_selection import train_test_split, ParameterGrid\n",
    "warnings.filterwarnings('ignore')"
   ]
  },
  {
   "cell_type": "code",
   "execution_count": 58,
   "id": "0f17b707",
   "metadata": {},
   "outputs": [],
   "source": [
    "df = pd.read_csv(os.path.join('datasets' , 'Movie reviews.csv'))"
   ]
  },
  {
   "cell_type": "markdown",
   "id": "67b8cd6a",
   "metadata": {},
   "source": [
    "##### Basic Data Exploration"
   ]
  },
  {
   "cell_type": "code",
   "execution_count": 59,
   "id": "737850fc",
   "metadata": {},
   "outputs": [
    {
     "data": {
      "application/vnd.microsoft.datawrangler.viewer.v0+json": {
       "columns": [
        {
         "name": "index",
         "rawType": "int64",
         "type": "integer"
        },
        {
         "name": "Review",
         "rawType": "object",
         "type": "string"
        },
        {
         "name": "Score",
         "rawType": "float64",
         "type": "float"
        },
        {
         "name": "Are there ways for you to generate more data? Spliting up sentences, would that help?",
         "rawType": "float64",
         "type": "float"
        },
        {
         "name": "Language",
         "rawType": "object",
         "type": "string"
        }
       ],
       "conversionMethod": "pd.DataFrame",
       "ref": "2509ef6a-e4d6-4fa9-b6c8-491019e081f2",
       "rows": [
        [
         "0",
         "Filem ini hebat! Aksi yang mendebarkan dan plot yang mengejutkan.",
         "0.1",
         null,
         "Malay"
        ],
        [
         "1",
         "Filem ini hebat! Aksi yang mendebarkan dan plot yang mengejutkan.",
         "0.9",
         null,
         "Malay"
        ],
        [
         "2",
         "Filem ini hebat! Aksi yang mendebarkan dan plot yang mengejutkan.",
         "0.5",
         null,
         "Malay"
        ],
        [
         "3",
         "Sayang sekali, pelakon tidak memberikan persembahan terbaik. Kurang puas hati.",
         "0.8",
         null,
         "Malay"
        ],
        [
         "4",
         "Jalan cerita yang kompleks dan penuh emosi. Sungguh menghiburkan!",
         "0.2",
         null,
         "Malay"
        ],
        [
         "5",
         "Pembuat filem berjaya memberikan pengalaman yang tidak terlupakan. Sungguh memukau!",
         "0.05",
         null,
         "Malay"
        ],
        [
         "6",
         "Adegan aksi yang terlalu banyak dan mengejutkan. Terkadang agak terlalu banyak.",
         "0.4",
         null,
         "Malay"
        ],
        [
         "7",
         "Saya teruja sepanjang filem. Penceritaan yang menarik!",
         "0.15",
         null,
         "Malay"
        ],
        [
         "8",
         "Avengers: Endgame mengecewakan dan membosankan. Terlalu banyak klise.",
         "0.85",
         null,
         "Malay"
        ],
        [
         "9",
         "Integrasi elemen fiksyen sains sangat menarik. Saya suka!",
         "0.25",
         null,
         "Malay"
        ],
        [
         "10",
         "Filem ini mengujakan dengan nuansa emosi yang mendalam.",
         "0.12",
         null,
         "Malay"
        ],
        [
         "11",
         "Secara keseluruhan, pengalaman sinematik yang luar biasa. Saya kagum!",
         "0.08",
         null,
         "Malay"
        ],
        [
         "12",
         "Saya kira filem ini tidak sehebat yang diperkatakan. Rasa kurang puas hati.",
         "0.7",
         null,
         "Malay"
        ],
        [
         "13",
         "Aksi yang menakjubkan dan plot yang penuh kejutan. Saya kagum!",
         "0.12",
         null,
         "Malay"
        ],
        [
         "14",
         "Kualiti visual filem ini sungguh mengagumkan. Saya teruja!",
         "0.15",
         null,
         "Malay"
        ],
        [
         "15",
         "Saya kurang suka cara pelakon utama menyampaikan dialog. Kurang menyakinkan.",
         "0.75",
         null,
         "Malay"
        ],
        [
         "16",
         "Jalan cerita yang rumit tetapi sangat menarik. Saya suka!",
         "0.2",
         null,
         "Malay"
        ],
        [
         "17",
         "Adegan aksi yang terlalu dramatik dan berlebihan. Tidak realistik.",
         "0.6",
         null,
         "Malay"
        ],
        [
         "18",
         "Filem ini benar-benar membuat saya terbawa suasana. Saya kagum dengan keseluruhan produksi.",
         "0.1",
         null,
         "Malay"
        ],
        [
         "19",
         "Pelakon memberikan persembahan yang hebat. Saya suka cerita ini!",
         "0.15",
         null,
         "Malay"
        ],
        [
         "20",
         "Saya tidak faham dengan plot filem ini. Terlalu kompleks.",
         "0.7",
         null,
         "Malay"
        ],
        [
         "21",
         "Kejutan besar dalam plot! Aksi yang memukau sepanjang filem.",
         "0.1",
         null,
         "Malay"
        ],
        [
         "22",
         "Visual effects hebat tetapi plot kurang menarik. Saya rasa bosan.",
         "0.6",
         null,
         "Malay"
        ],
        [
         "23",
         "Saya tidak suka bagaimana filem ini berakhir. Tidak memuaskan.",
         "0.8",
         null,
         "Malay"
        ],
        [
         "24",
         "Filem ini membuat saya gelak dan menangis. Suka dengan perasaan yang disampaikan.",
         "0.15",
         null,
         "Malay"
        ],
        [
         "25",
         "Pelakon tidak berjaya membawa watak dengan baik. Kurang kredibel.",
         "0.7",
         null,
         "Malay"
        ],
        [
         "26",
         "Keseluruhan, filem ini hebat! Saya akan menontonnya lagi.",
         "0.08",
         null,
         "Malay"
        ],
        [
         "27",
         "Adegan aksi yang luar biasa. Saya rasa teruja sepanjang masa.",
         "0.12",
         null,
         "Malay"
        ],
        [
         "28",
         "Sayang sekali, plot filem ini terlalu terbuka. Tidak ada penyelesaian yang memuaskan.",
         "0.7",
         null,
         "Malay"
        ],
        [
         "29",
         "Saya suka cara filem ini menggabungkan komedi dengan aksi. Sangat menghiburkan.",
         "0.15",
         null,
         "Malay"
        ],
        [
         "30",
         "Kualiti visual dan efek khas filem ini luar biasa. Saya terkesan!",
         "0.1",
         null,
         "Malay"
        ],
        [
         "31",
         "Pelakon memberikan persembahan yang sangat baik. Saya suka jalan ceritanya.",
         "0.15",
         null,
         "Malay"
        ],
        [
         "32",
         "Filem ini sangat mengecewakan. Tidak sepadan dengan hype.",
         "0.8",
         null,
         "Malay"
        ],
        [
         "33",
         "Plot yang rumit tetapi menarik. Adegan akhir yang epik!",
         "0.1",
         null,
         "Malay"
        ],
        [
         "34",
         "Adegan aksi yang terlalu berlebihan. Terlalu banyak efek khas.",
         "0.6",
         null,
         "Malay"
        ],
        [
         "35",
         "Saya tidak faham dengan twist dalam plot. Sedikit keliru.",
         "0.7",
         null,
         "Malay"
        ],
        [
         "36",
         "Filem ini benar-benar menggetarkan perasaan. Saya suka sekali!",
         "0.12",
         null,
         "Malay"
        ],
        [
         "37",
         "Visual effects filem ini luar biasa. Teruja dengan kehebatan teknikal.",
         "0.1",
         null,
         "Malay"
        ],
        [
         "38",
         "Kurangnya pengembangan watak membuatkan filem ini lemah. Tidak memuaskan.",
         "0.75",
         null,
         "Malay"
        ],
        [
         "39",
         "Saya teruja dengan cara filem ini menggabungkan elemen fiksyen sains.",
         "0.2",
         null,
         "Malay"
        ],
        [
         "40",
         "Plot yang menarik dan penuh kejutan. Saya suka twist dalam cerita.",
         "0.15",
         null,
         "Malay"
        ],
        [
         "41",
         "Filem ini mempunyai kekuatan emosional yang besar. Menyentuh hati!",
         "0.12",
         null,
         "Malay"
        ],
        [
         "42",
         "Pelakon memberikan persembahan yang tidak memuaskan. Tidak kredibel.",
         "0.75",
         null,
         "Malay"
        ],
        [
         "43",
         "Jalan cerita yang agak biasa tetapi dihidupkan dengan aksi yang hebat.",
         "0.25",
         null,
         "Malay"
        ],
        [
         "44",
         "Adegan akhir yang sangat epik! Saya teruja dengan penutupan trilogi ini.",
         "0.08",
         null,
         "Malay"
        ],
        [
         "45",
         "Filem ini hebat! Saya suka dengan pengembangan watak.",
         "0.1",
         null,
         "Malay"
        ],
        [
         "46",
         "Saya tidak suka dengan jalan cerita yang terlalu kompleks. Tidak dapat diikuti.",
         "0.7",
         null,
         "Malay"
        ],
        [
         "47",
         "Sangat gembira dengan filem ini. Aksi yang mengagumkan!",
         "0.12",
         null,
         "Malay"
        ],
        [
         "48",
         "Plot yang rumit tetapi sangat menarik. Kejutan besar di penghujung!",
         "0.08",
         null,
         "Malay"
        ],
        [
         "49",
         "Visual effects filem ini benar-benar luar biasa. Saya terkesan!",
         "0.1",
         null,
         "Malay"
        ]
       ],
       "shape": {
        "columns": 4,
        "rows": 527
       }
      },
      "text/html": [
       "<div>\n",
       "<style scoped>\n",
       "    .dataframe tbody tr th:only-of-type {\n",
       "        vertical-align: middle;\n",
       "    }\n",
       "\n",
       "    .dataframe tbody tr th {\n",
       "        vertical-align: top;\n",
       "    }\n",
       "\n",
       "    .dataframe thead th {\n",
       "        text-align: right;\n",
       "    }\n",
       "</style>\n",
       "<table border=\"1\" class=\"dataframe\">\n",
       "  <thead>\n",
       "    <tr style=\"text-align: right;\">\n",
       "      <th></th>\n",
       "      <th>Review</th>\n",
       "      <th>Score</th>\n",
       "      <th>Are there ways for you to generate more data? Spliting up sentences, would that help?</th>\n",
       "      <th>Language</th>\n",
       "    </tr>\n",
       "  </thead>\n",
       "  <tbody>\n",
       "    <tr>\n",
       "      <th>0</th>\n",
       "      <td>Filem ini hebat! Aksi yang mendebarkan dan plo...</td>\n",
       "      <td>0.1</td>\n",
       "      <td>NaN</td>\n",
       "      <td>Malay</td>\n",
       "    </tr>\n",
       "    <tr>\n",
       "      <th>1</th>\n",
       "      <td>Filem ini hebat! Aksi yang mendebarkan dan plo...</td>\n",
       "      <td>0.9</td>\n",
       "      <td>NaN</td>\n",
       "      <td>Malay</td>\n",
       "    </tr>\n",
       "    <tr>\n",
       "      <th>2</th>\n",
       "      <td>Filem ini hebat! Aksi yang mendebarkan dan plo...</td>\n",
       "      <td>0.5</td>\n",
       "      <td>NaN</td>\n",
       "      <td>Malay</td>\n",
       "    </tr>\n",
       "    <tr>\n",
       "      <th>3</th>\n",
       "      <td>Sayang sekali, pelakon tidak memberikan persem...</td>\n",
       "      <td>0.8</td>\n",
       "      <td>NaN</td>\n",
       "      <td>Malay</td>\n",
       "    </tr>\n",
       "    <tr>\n",
       "      <th>4</th>\n",
       "      <td>Jalan cerita yang kompleks dan penuh emosi. Su...</td>\n",
       "      <td>0.2</td>\n",
       "      <td>NaN</td>\n",
       "      <td>Malay</td>\n",
       "    </tr>\n",
       "    <tr>\n",
       "      <th>...</th>\n",
       "      <td>...</td>\n",
       "      <td>...</td>\n",
       "      <td>...</td>\n",
       "      <td>...</td>\n",
       "    </tr>\n",
       "    <tr>\n",
       "      <th>522</th>\n",
       "      <td>Pening</td>\n",
       "      <td>0.7</td>\n",
       "      <td>NaN</td>\n",
       "      <td>Malay</td>\n",
       "    </tr>\n",
       "    <tr>\n",
       "      <th>523</th>\n",
       "      <td>Berkesan</td>\n",
       "      <td>0.2</td>\n",
       "      <td>NaN</td>\n",
       "      <td>Malay</td>\n",
       "    </tr>\n",
       "    <tr>\n",
       "      <th>524</th>\n",
       "      <td>Mengujakan</td>\n",
       "      <td>0.1</td>\n",
       "      <td>NaN</td>\n",
       "      <td>Malay</td>\n",
       "    </tr>\n",
       "    <tr>\n",
       "      <th>525</th>\n",
       "      <td>Sederhana and teruk</td>\n",
       "      <td>0.6</td>\n",
       "      <td>NaN</td>\n",
       "      <td>Malay</td>\n",
       "    </tr>\n",
       "    <tr>\n",
       "      <th>526</th>\n",
       "      <td>Sempurna</td>\n",
       "      <td>0.1</td>\n",
       "      <td>NaN</td>\n",
       "      <td>Malay</td>\n",
       "    </tr>\n",
       "  </tbody>\n",
       "</table>\n",
       "<p>527 rows × 4 columns</p>\n",
       "</div>"
      ],
      "text/plain": [
       "                                                Review  Score  \\\n",
       "0    Filem ini hebat! Aksi yang mendebarkan dan plo...    0.1   \n",
       "1    Filem ini hebat! Aksi yang mendebarkan dan plo...    0.9   \n",
       "2    Filem ini hebat! Aksi yang mendebarkan dan plo...    0.5   \n",
       "3    Sayang sekali, pelakon tidak memberikan persem...    0.8   \n",
       "4    Jalan cerita yang kompleks dan penuh emosi. Su...    0.2   \n",
       "..                                                 ...    ...   \n",
       "522                                             Pening    0.7   \n",
       "523                                           Berkesan    0.2   \n",
       "524                                         Mengujakan    0.1   \n",
       "525                                Sederhana and teruk    0.6   \n",
       "526                                           Sempurna    0.1   \n",
       "\n",
       "     Are there ways for you to generate more data? Spliting up sentences, would that help?  \\\n",
       "0                                                  NaN                                       \n",
       "1                                                  NaN                                       \n",
       "2                                                  NaN                                       \n",
       "3                                                  NaN                                       \n",
       "4                                                  NaN                                       \n",
       "..                                                 ...                                       \n",
       "522                                                NaN                                       \n",
       "523                                                NaN                                       \n",
       "524                                                NaN                                       \n",
       "525                                                NaN                                       \n",
       "526                                                NaN                                       \n",
       "\n",
       "    Language  \n",
       "0      Malay  \n",
       "1      Malay  \n",
       "2      Malay  \n",
       "3      Malay  \n",
       "4      Malay  \n",
       "..       ...  \n",
       "522    Malay  \n",
       "523    Malay  \n",
       "524    Malay  \n",
       "525    Malay  \n",
       "526    Malay  \n",
       "\n",
       "[527 rows x 4 columns]"
      ]
     },
     "execution_count": 59,
     "metadata": {},
     "output_type": "execute_result"
    }
   ],
   "source": [
    "df"
   ]
  },
  {
   "cell_type": "code",
   "execution_count": 60,
   "id": "3faaa598",
   "metadata": {},
   "outputs": [
    {
     "name": "stdout",
     "output_type": "stream",
     "text": [
      "<class 'pandas.core.frame.DataFrame'>\n",
      "RangeIndex: 527 entries, 0 to 526\n",
      "Data columns (total 4 columns):\n",
      " #   Column                                                                                 Non-Null Count  Dtype  \n",
      "---  ------                                                                                 --------------  -----  \n",
      " 0   Review                                                                                 527 non-null    object \n",
      " 1   Score                                                                                  525 non-null    float64\n",
      " 2   Are there ways for you to generate more data? Spliting up sentences, would that help?  0 non-null      float64\n",
      " 3   Language                                                                               527 non-null    object \n",
      "dtypes: float64(2), object(2)\n",
      "memory usage: 16.6+ KB\n"
     ]
    }
   ],
   "source": [
    "df.info()"
   ]
  },
  {
   "cell_type": "markdown",
   "id": "07f2509a",
   "metadata": {},
   "source": [
    "Col index 2 is a hint not actual usable data\n",
    "\n",
    "Hint: **Are there ways for you to generate more data? Spliting up sentences, would that help?**"
   ]
  },
  {
   "cell_type": "code",
   "execution_count": 61,
   "id": "7af6385a",
   "metadata": {},
   "outputs": [],
   "source": [
    "df.drop(columns='Are there ways for you to generate more data? Spliting up sentences, would that help?', inplace=True)"
   ]
  },
  {
   "cell_type": "code",
   "execution_count": 62,
   "id": "ef0044fb",
   "metadata": {},
   "outputs": [
    {
     "data": {
      "text/plain": [
       "array(['Malay', 'English', 'Chinese', 'Nippon'], dtype=object)"
      ]
     },
     "execution_count": 62,
     "metadata": {},
     "output_type": "execute_result"
    }
   ],
   "source": [
    "df['Language'].unique()"
   ]
  },
  {
   "cell_type": "code",
   "execution_count": 63,
   "id": "caf7f3b0",
   "metadata": {},
   "outputs": [
    {
     "data": {
      "application/vnd.microsoft.datawrangler.viewer.v0+json": {
       "columns": [
        {
         "name": "index",
         "rawType": "int64",
         "type": "integer"
        },
        {
         "name": "Review",
         "rawType": "object",
         "type": "string"
        },
        {
         "name": "Score",
         "rawType": "float64",
         "type": "float"
        },
        {
         "name": "Language",
         "rawType": "object",
         "type": "string"
        }
       ],
       "conversionMethod": "pd.DataFrame",
       "ref": "0adea6fb-a785-4145-84ac-bb6081d850b8",
       "rows": [
        [
         "484",
         "Nani kore",
         "0.997413",
         "Nippon"
        ]
       ],
       "shape": {
        "columns": 3,
        "rows": 1
       }
      },
      "text/html": [
       "<div>\n",
       "<style scoped>\n",
       "    .dataframe tbody tr th:only-of-type {\n",
       "        vertical-align: middle;\n",
       "    }\n",
       "\n",
       "    .dataframe tbody tr th {\n",
       "        vertical-align: top;\n",
       "    }\n",
       "\n",
       "    .dataframe thead th {\n",
       "        text-align: right;\n",
       "    }\n",
       "</style>\n",
       "<table border=\"1\" class=\"dataframe\">\n",
       "  <thead>\n",
       "    <tr style=\"text-align: right;\">\n",
       "      <th></th>\n",
       "      <th>Review</th>\n",
       "      <th>Score</th>\n",
       "      <th>Language</th>\n",
       "    </tr>\n",
       "  </thead>\n",
       "  <tbody>\n",
       "    <tr>\n",
       "      <th>484</th>\n",
       "      <td>Nani kore</td>\n",
       "      <td>0.997413</td>\n",
       "      <td>Nippon</td>\n",
       "    </tr>\n",
       "  </tbody>\n",
       "</table>\n",
       "</div>"
      ],
      "text/plain": [
       "        Review     Score Language\n",
       "484  Nani kore  0.997413   Nippon"
      ]
     },
     "execution_count": 63,
     "metadata": {},
     "output_type": "execute_result"
    }
   ],
   "source": [
    "# Note sure what Nippon is\n",
    "df[df['Language'] == 'Nippon']"
   ]
  },
  {
   "cell_type": "markdown",
   "id": "38dd26c4",
   "metadata": {},
   "source": [
    "Looks like **Nippon** is **Japanese**, **Nani Kore** roughly translating to **What's This?** (condescendingly)"
   ]
  },
  {
   "cell_type": "code",
   "execution_count": 65,
   "id": "07ca1b10",
   "metadata": {},
   "outputs": [
    {
     "data": {
      "application/vnd.microsoft.datawrangler.viewer.v0+json": {
       "columns": [
        {
         "name": "index",
         "rawType": "int64",
         "type": "integer"
        },
        {
         "name": "Review",
         "rawType": "object",
         "type": "string"
        },
        {
         "name": "Score",
         "rawType": "float64",
         "type": "float"
        },
        {
         "name": "Language",
         "rawType": "object",
         "type": "string"
        }
       ],
       "conversionMethod": "pd.DataFrame",
       "ref": "a75653b0-334a-4a57-922f-4851eb38eb56",
       "rows": [
        [
         "0",
         "Filem ini hebat! Aksi yang mendebarkan dan plot yang mengejutkan.",
         "0.1",
         "Malay"
        ],
        [
         "1",
         "Filem ini hebat! Aksi yang mendebarkan dan plot yang mengejutkan.",
         "0.9",
         "Malay"
        ],
        [
         "2",
         "Filem ini hebat! Aksi yang mendebarkan dan plot yang mengejutkan.",
         "0.5",
         "Malay"
        ]
       ],
       "shape": {
        "columns": 3,
        "rows": 3
       }
      },
      "text/html": [
       "<div>\n",
       "<style scoped>\n",
       "    .dataframe tbody tr th:only-of-type {\n",
       "        vertical-align: middle;\n",
       "    }\n",
       "\n",
       "    .dataframe tbody tr th {\n",
       "        vertical-align: top;\n",
       "    }\n",
       "\n",
       "    .dataframe thead th {\n",
       "        text-align: right;\n",
       "    }\n",
       "</style>\n",
       "<table border=\"1\" class=\"dataframe\">\n",
       "  <thead>\n",
       "    <tr style=\"text-align: right;\">\n",
       "      <th></th>\n",
       "      <th>Review</th>\n",
       "      <th>Score</th>\n",
       "      <th>Language</th>\n",
       "    </tr>\n",
       "  </thead>\n",
       "  <tbody>\n",
       "    <tr>\n",
       "      <th>0</th>\n",
       "      <td>Filem ini hebat! Aksi yang mendebarkan dan plo...</td>\n",
       "      <td>0.1</td>\n",
       "      <td>Malay</td>\n",
       "    </tr>\n",
       "    <tr>\n",
       "      <th>1</th>\n",
       "      <td>Filem ini hebat! Aksi yang mendebarkan dan plo...</td>\n",
       "      <td>0.9</td>\n",
       "      <td>Malay</td>\n",
       "    </tr>\n",
       "    <tr>\n",
       "      <th>2</th>\n",
       "      <td>Filem ini hebat! Aksi yang mendebarkan dan plo...</td>\n",
       "      <td>0.5</td>\n",
       "      <td>Malay</td>\n",
       "    </tr>\n",
       "  </tbody>\n",
       "</table>\n",
       "</div>"
      ],
      "text/plain": [
       "                                              Review  Score Language\n",
       "0  Filem ini hebat! Aksi yang mendebarkan dan plo...    0.1    Malay\n",
       "1  Filem ini hebat! Aksi yang mendebarkan dan plo...    0.9    Malay\n",
       "2  Filem ini hebat! Aksi yang mendebarkan dan plo...    0.5    Malay"
      ]
     },
     "execution_count": 65,
     "metadata": {},
     "output_type": "execute_result"
    }
   ],
   "source": [
    "df.iloc[0:3]\n",
    "           "
   ]
  },
  {
   "cell_type": "markdown",
   "id": "4fd923bb",
   "metadata": {},
   "source": [
    "These 3 have the same review but different score"
   ]
  },
  {
   "cell_type": "code",
   "execution_count": 66,
   "id": "2144e82e",
   "metadata": {},
   "outputs": [
    {
     "data": {
      "text/plain": [
       "'Filem ini hebat! Aksi yang mendebarkan dan plot yang mengejutkan.'"
      ]
     },
     "execution_count": 66,
     "metadata": {},
     "output_type": "execute_result"
    }
   ],
   "source": [
    "df.iloc[0]['Review']"
   ]
  },
  {
   "cell_type": "markdown",
   "id": "23106c1a",
   "metadata": {},
   "source": [
    "Acoording to **Google Translate** this roughly translates to _This movie is great! Thrilling action and a surprising plot_"
   ]
  },
  {
   "cell_type": "markdown",
   "id": "f475db6a",
   "metadata": {},
   "source": [
    "##### Trying to figure out what **Score** means"
   ]
  },
  {
   "cell_type": "code",
   "execution_count": 67,
   "id": "12d119ab",
   "metadata": {},
   "outputs": [
    {
     "data": {
      "application/vnd.microsoft.datawrangler.viewer.v0+json": {
       "columns": [
        {
         "name": "index",
         "rawType": "int64",
         "type": "integer"
        },
        {
         "name": "Review",
         "rawType": "object",
         "type": "string"
        },
        {
         "name": "Score",
         "rawType": "float64",
         "type": "float"
        },
        {
         "name": "Language",
         "rawType": "object",
         "type": "string"
        }
       ],
       "conversionMethod": "pd.DataFrame",
       "ref": "ce662142-7389-4fc3-bd56-345ada5ec29a",
       "rows": [
        [
         "212",
         "Avengers: Endgame is disappointing and too cliché. Not enjoyable.",
         "0.85",
         "English"
        ],
        [
         "219",
         "I'm not satisfied with how the main actors deliver their lines. Not convincing.",
         "0.8",
         "English"
        ],
        [
         "236",
         "This film is very disappointing. Not worth the hype.",
         "0.8",
         "English"
        ],
        [
         "262",
         "Lack of character development makes this film weak. Not satisfying.",
         "0.8",
         "English"
        ],
        [
         "294",
         "This film is highly disappointing. It fails to live up to the hype.",
         "0.8",
         "English"
        ],
        [
         "430",
         "Disappointing",
         "0.8",
         "English"
        ],
        [
         "472",
         "Disappointing resolution",
         "0.8",
         "English"
        ]
       ],
       "shape": {
        "columns": 3,
        "rows": 7
       }
      },
      "text/html": [
       "<div>\n",
       "<style scoped>\n",
       "    .dataframe tbody tr th:only-of-type {\n",
       "        vertical-align: middle;\n",
       "    }\n",
       "\n",
       "    .dataframe tbody tr th {\n",
       "        vertical-align: top;\n",
       "    }\n",
       "\n",
       "    .dataframe thead th {\n",
       "        text-align: right;\n",
       "    }\n",
       "</style>\n",
       "<table border=\"1\" class=\"dataframe\">\n",
       "  <thead>\n",
       "    <tr style=\"text-align: right;\">\n",
       "      <th></th>\n",
       "      <th>Review</th>\n",
       "      <th>Score</th>\n",
       "      <th>Language</th>\n",
       "    </tr>\n",
       "  </thead>\n",
       "  <tbody>\n",
       "    <tr>\n",
       "      <th>212</th>\n",
       "      <td>Avengers: Endgame is disappointing and too cli...</td>\n",
       "      <td>0.85</td>\n",
       "      <td>English</td>\n",
       "    </tr>\n",
       "    <tr>\n",
       "      <th>219</th>\n",
       "      <td>I'm not satisfied with how the main actors del...</td>\n",
       "      <td>0.80</td>\n",
       "      <td>English</td>\n",
       "    </tr>\n",
       "    <tr>\n",
       "      <th>236</th>\n",
       "      <td>This film is very disappointing. Not worth the...</td>\n",
       "      <td>0.80</td>\n",
       "      <td>English</td>\n",
       "    </tr>\n",
       "    <tr>\n",
       "      <th>262</th>\n",
       "      <td>Lack of character development makes this film ...</td>\n",
       "      <td>0.80</td>\n",
       "      <td>English</td>\n",
       "    </tr>\n",
       "    <tr>\n",
       "      <th>294</th>\n",
       "      <td>This film is highly disappointing. It fails to...</td>\n",
       "      <td>0.80</td>\n",
       "      <td>English</td>\n",
       "    </tr>\n",
       "    <tr>\n",
       "      <th>430</th>\n",
       "      <td>Disappointing</td>\n",
       "      <td>0.80</td>\n",
       "      <td>English</td>\n",
       "    </tr>\n",
       "    <tr>\n",
       "      <th>472</th>\n",
       "      <td>Disappointing resolution</td>\n",
       "      <td>0.80</td>\n",
       "      <td>English</td>\n",
       "    </tr>\n",
       "  </tbody>\n",
       "</table>\n",
       "</div>"
      ],
      "text/plain": [
       "                                                Review  Score Language\n",
       "212  Avengers: Endgame is disappointing and too cli...   0.85  English\n",
       "219  I'm not satisfied with how the main actors del...   0.80  English\n",
       "236  This film is very disappointing. Not worth the...   0.80  English\n",
       "262  Lack of character development makes this film ...   0.80  English\n",
       "294  This film is highly disappointing. It fails to...   0.80  English\n",
       "430                                      Disappointing   0.80  English\n",
       "472                           Disappointing resolution   0.80  English"
      ]
     },
     "execution_count": 67,
     "metadata": {},
     "output_type": "execute_result"
    }
   ],
   "source": [
    "df[(df['Language'] == 'English') & (df['Score'] > 0.75)]"
   ]
  },
  {
   "cell_type": "code",
   "execution_count": 68,
   "id": "e11ef21a",
   "metadata": {},
   "outputs": [
    {
     "data": {
      "application/vnd.microsoft.datawrangler.viewer.v0+json": {
       "columns": [
        {
         "name": "index",
         "rawType": "int64",
         "type": "integer"
        },
        {
         "name": "Review",
         "rawType": "object",
         "type": "string"
        },
        {
         "name": "Score",
         "rawType": "float64",
         "type": "float"
        },
        {
         "name": "Language",
         "rawType": "object",
         "type": "string"
        }
       ],
       "conversionMethod": "pd.DataFrame",
       "ref": "8068d753-8064-4172-8c97-6b57e92f2394",
       "rows": [
        [
         "206",
         "This movie is amazing! The action is breathtaking, and the plot is intriguing.",
         "0.08",
         "English"
        ],
        [
         "208",
         "The storyline is touching and full of emotion. I love it!",
         "0.12",
         "English"
        ],
        [
         "209",
         "This movie delivers an outstanding experience. Truly captivating!",
         "0.05",
         "English"
        ],
        [
         "211",
         "I'm thrilled throughout the movie. Engaging storytelling!",
         "0.15",
         "English"
        ],
        [
         "214",
         "This film is truly impressive with deep emotional tones.",
         "0.12",
         "English"
        ],
        [
         "215",
         "A cinematic experience that is unforgettable. I'm impressed!",
         "0.1",
         "English"
        ],
        [
         "217",
         "Amazing action and a plot full of surprises. I'm impressed!",
         "0.12",
         "English"
        ],
        [
         "218",
         "The visual quality of this film is astonishing. Excited about its special effects!",
         "0.1",
         "English"
        ],
        [
         "220",
         "The storyline is complex but very interesting. I like it!",
         "0.2",
         "English"
        ],
        [
         "222",
         "This film captivates with the atmosphere it creates. I'm impressed!",
         "0.1",
         "English"
        ],
        [
         "223",
         "The actors give excellent performances. I like this story!",
         "0.15",
         "English"
        ],
        [
         "225",
         "A big surprise in the plot! Thrilling action throughout.",
         "0.1",
         "English"
        ],
        [
         "226",
         "The visual effects of this film are truly captivating. I'm impressed!",
         "0.1",
         "English"
        ],
        [
         "228",
         "This film makes me laugh and cry. Love the emotions conveyed.",
         "0.15",
         "English"
        ],
        [
         "230",
         "Overall, this film is great! I would watch it again.",
         "0.08",
         "English"
        ],
        [
         "231",
         "Outstanding action scenes. Excited about the trilogy's conclusion.",
         "0.12",
         "English"
        ],
        [
         "233",
         "I like how this film combines comedy with action. Highly entertaining.",
         "0.15",
         "English"
        ],
        [
         "234",
         "The visual effects and animation in this film are amazing. Impressed!",
         "0.1",
         "English"
        ],
        [
         "235",
         "The actors give a very good performance. I like the story.",
         "0.12",
         "English"
        ],
        [
         "237",
         "Complex but very interesting plot. Big twist at the end!",
         "0.1",
         "English"
        ],
        [
         "240",
         "This film is interesting and provides a deep experience. I like it!",
         "0.12",
         "English"
        ],
        [
         "241",
         "The visual effects of this film are outstanding. Excited about the technical brilliance!",
         "0.1",
         "English"
        ],
        [
         "243",
         "I'm thrilled with how this film incorporates elements of science fiction.",
         "0.2",
         "English"
        ],
        [
         "244",
         "Interesting and surprising plot. Love the twist in the story.",
         "0.15",
         "English"
        ],
        [
         "245",
         "This film has a great emotional impact. Touching!",
         "0.12",
         "English"
        ],
        [
         "246",
         "The actors give a very good performance. I like the character development.",
         "0.12",
         "English"
        ],
        [
         "248",
         "An extremely epic ending! Thrilled with the trilogy's conclusion.",
         "0.08",
         "English"
        ],
        [
         "249",
         "This film is great! I like the character development.",
         "0.1",
         "English"
        ],
        [
         "251",
         "Very pleased with this film. Amazing action!",
         "0.12",
         "English"
        ],
        [
         "252",
         "Complex but very interesting plot. Big surprise at the end!",
         "0.08",
         "English"
        ],
        [
         "253",
         "The visual effects of this film are truly astonishing. Impressed!",
         "0.1",
         "English"
        ],
        [
         "254",
         "Deep emotional impact in this film makes me teary-eyed. I like it!",
         "0.12",
         "English"
        ],
        [
         "256",
         "This film provides answers to many questions. Love the twist!",
         "0.15",
         "English"
        ],
        [
         "257",
         "A big surprise in the middle of the film! Thrilling action!",
         "0.12",
         "English"
        ],
        [
         "258",
         "The visual effects and animation in this film are truly amazing. Impressed!",
         "0.1",
         "English"
        ],
        [
         "259",
         "The actors give an outstanding performance. I like this story!",
         "0.12",
         "English"
        ],
        [
         "261",
         "I'm thrilled with how this film brings back elements from previous movies.",
         "0.15",
         "English"
        ],
        [
         "263",
         "The visual effects and animation in this film are amazing. Impressed!",
         "0.05",
         "English"
        ],
        [
         "264",
         "This film is a masterpiece! The storytelling is exceptional, and the performances are outstanding.",
         "0.05",
         "English"
        ],
        [
         "266",
         "The emotional depth of the characters and the engaging plot make it a must-watch! Highly recommended.",
         "0.1",
         "English"
        ],
        [
         "267",
         "A cinematic marvel! The visuals are breathtaking, and the narrative is spellbinding.",
         "0.08",
         "English"
        ],
        [
         "269",
         "I'm captivated from start to finish. The storytelling is compelling!",
         "0.12",
         "English"
        ],
        [
         "271",
         "The fusion of science fiction elements adds a unique and intriguing dimension. Fascinating!",
         "0.15",
         "English"
        ],
        [
         "272",
         "This film resonates with profound emotions. A truly remarkable experience.",
         "0.1",
         "English"
        ],
        [
         "273",
         "A visual spectacle that leaves a lasting impression. Absolutely mesmerizing!",
         "0.06",
         "English"
        ],
        [
         "275",
         "The action sequences are mind-blowing, and the plot twists keep you on the edge of your seat!",
         "0.1",
         "English"
        ],
        [
         "276",
         "The visual quality is top-notch, creating a visual feast for the audience. Impressive special effects!",
         "0.08",
         "English"
        ],
        [
         "278",
         "The intricate storyline adds depth to the narrative. A genuinely captivating experience!",
         "0.13",
         "English"
        ],
        [
         "280",
         "The film creates an immersive atmosphere that is both captivating and emotionally resonant. Impressive!",
         "0.08",
         "English"
        ],
        [
         "281",
         "Outstanding performances from the cast. The narrative is enriched with character development.",
         "0.12",
         "English"
        ]
       ],
       "shape": {
        "columns": 3,
        "rows": 201
       }
      },
      "text/html": [
       "<div>\n",
       "<style scoped>\n",
       "    .dataframe tbody tr th:only-of-type {\n",
       "        vertical-align: middle;\n",
       "    }\n",
       "\n",
       "    .dataframe tbody tr th {\n",
       "        vertical-align: top;\n",
       "    }\n",
       "\n",
       "    .dataframe thead th {\n",
       "        text-align: right;\n",
       "    }\n",
       "</style>\n",
       "<table border=\"1\" class=\"dataframe\">\n",
       "  <thead>\n",
       "    <tr style=\"text-align: right;\">\n",
       "      <th></th>\n",
       "      <th>Review</th>\n",
       "      <th>Score</th>\n",
       "      <th>Language</th>\n",
       "    </tr>\n",
       "  </thead>\n",
       "  <tbody>\n",
       "    <tr>\n",
       "      <th>206</th>\n",
       "      <td>This movie is amazing! The action is breathtak...</td>\n",
       "      <td>0.08</td>\n",
       "      <td>English</td>\n",
       "    </tr>\n",
       "    <tr>\n",
       "      <th>208</th>\n",
       "      <td>The storyline is touching and full of emotion....</td>\n",
       "      <td>0.12</td>\n",
       "      <td>English</td>\n",
       "    </tr>\n",
       "    <tr>\n",
       "      <th>209</th>\n",
       "      <td>This movie delivers an outstanding experience....</td>\n",
       "      <td>0.05</td>\n",
       "      <td>English</td>\n",
       "    </tr>\n",
       "    <tr>\n",
       "      <th>211</th>\n",
       "      <td>I'm thrilled throughout the movie. Engaging st...</td>\n",
       "      <td>0.15</td>\n",
       "      <td>English</td>\n",
       "    </tr>\n",
       "    <tr>\n",
       "      <th>214</th>\n",
       "      <td>This film is truly impressive with deep emotio...</td>\n",
       "      <td>0.12</td>\n",
       "      <td>English</td>\n",
       "    </tr>\n",
       "    <tr>\n",
       "      <th>...</th>\n",
       "      <td>...</td>\n",
       "      <td>...</td>\n",
       "      <td>...</td>\n",
       "    </tr>\n",
       "    <tr>\n",
       "      <th>501</th>\n",
       "      <td>Visually stunning, emotionally resonant journey</td>\n",
       "      <td>0.08</td>\n",
       "      <td>English</td>\n",
       "    </tr>\n",
       "    <tr>\n",
       "      <th>502</th>\n",
       "      <td>Compelling story, outstanding performances</td>\n",
       "      <td>0.12</td>\n",
       "      <td>English</td>\n",
       "    </tr>\n",
       "    <tr>\n",
       "      <th>503</th>\n",
       "      <td>Intricate plot, unexpected twists</td>\n",
       "      <td>0.10</td>\n",
       "      <td>English</td>\n",
       "    </tr>\n",
       "    <tr>\n",
       "      <th>505</th>\n",
       "      <td>Breathtaking visuals, engaging narrative</td>\n",
       "      <td>0.08</td>\n",
       "      <td>English</td>\n",
       "    </tr>\n",
       "    <tr>\n",
       "      <th>506</th>\n",
       "      <td>Top-notch effects, captivating storytelling</td>\n",
       "      <td>0.08</td>\n",
       "      <td>English</td>\n",
       "    </tr>\n",
       "  </tbody>\n",
       "</table>\n",
       "<p>201 rows × 3 columns</p>\n",
       "</div>"
      ],
      "text/plain": [
       "                                                Review  Score Language\n",
       "206  This movie is amazing! The action is breathtak...   0.08  English\n",
       "208  The storyline is touching and full of emotion....   0.12  English\n",
       "209  This movie delivers an outstanding experience....   0.05  English\n",
       "211  I'm thrilled throughout the movie. Engaging st...   0.15  English\n",
       "214  This film is truly impressive with deep emotio...   0.12  English\n",
       "..                                                 ...    ...      ...\n",
       "501    Visually stunning, emotionally resonant journey   0.08  English\n",
       "502         Compelling story, outstanding performances   0.12  English\n",
       "503                  Intricate plot, unexpected twists   0.10  English\n",
       "505           Breathtaking visuals, engaging narrative   0.08  English\n",
       "506        Top-notch effects, captivating storytelling   0.08  English\n",
       "\n",
       "[201 rows x 3 columns]"
      ]
     },
     "execution_count": 68,
     "metadata": {},
     "output_type": "execute_result"
    }
   ],
   "source": [
    "df[(df['Language'] == 'English') & (df['Score'] < 0.25)]"
   ]
  },
  {
   "cell_type": "markdown",
   "id": "02fcdbc2",
   "metadata": {},
   "source": [
    "Contrary to what may be expected, **a lower score actually represents more positive reviews**\n",
    "\n",
    "\n",
    "Therefore score can roughly be defined as **How much I dislike this movie**.\n",
    "\n",
    "Likewise rows with missing scores can be infered as **un-sentimental review** (like just stopwords or generic words)"
   ]
  },
  {
   "cell_type": "code",
   "execution_count": 69,
   "id": "c8c7009e",
   "metadata": {},
   "outputs": [
    {
     "data": {
      "application/vnd.microsoft.datawrangler.viewer.v0+json": {
       "columns": [
        {
         "name": "index",
         "rawType": "int64",
         "type": "integer"
        },
        {
         "name": "Review",
         "rawType": "object",
         "type": "string"
        },
        {
         "name": "Score",
         "rawType": "float64",
         "type": "float"
        },
        {
         "name": "Language",
         "rawType": "object",
         "type": "string"
        }
       ],
       "conversionMethod": "pd.DataFrame",
       "ref": "5317546f-45dc-4a55-b46c-f28b9b7b975d",
       "rows": [
        [
         "426",
         "Ni hao",
         null,
         "Chinese"
        ],
        [
         "493",
         "Diabolic",
         null,
         "English"
        ]
       ],
       "shape": {
        "columns": 3,
        "rows": 2
       }
      },
      "text/html": [
       "<div>\n",
       "<style scoped>\n",
       "    .dataframe tbody tr th:only-of-type {\n",
       "        vertical-align: middle;\n",
       "    }\n",
       "\n",
       "    .dataframe tbody tr th {\n",
       "        vertical-align: top;\n",
       "    }\n",
       "\n",
       "    .dataframe thead th {\n",
       "        text-align: right;\n",
       "    }\n",
       "</style>\n",
       "<table border=\"1\" class=\"dataframe\">\n",
       "  <thead>\n",
       "    <tr style=\"text-align: right;\">\n",
       "      <th></th>\n",
       "      <th>Review</th>\n",
       "      <th>Score</th>\n",
       "      <th>Language</th>\n",
       "    </tr>\n",
       "  </thead>\n",
       "  <tbody>\n",
       "    <tr>\n",
       "      <th>426</th>\n",
       "      <td>Ni hao</td>\n",
       "      <td>NaN</td>\n",
       "      <td>Chinese</td>\n",
       "    </tr>\n",
       "    <tr>\n",
       "      <th>493</th>\n",
       "      <td>Diabolic</td>\n",
       "      <td>NaN</td>\n",
       "      <td>English</td>\n",
       "    </tr>\n",
       "  </tbody>\n",
       "</table>\n",
       "</div>"
      ],
      "text/plain": [
       "       Review  Score Language\n",
       "426    Ni hao    NaN  Chinese\n",
       "493  Diabolic    NaN  English"
      ]
     },
     "execution_count": 69,
     "metadata": {},
     "output_type": "execute_result"
    }
   ],
   "source": [
    "df[df['Score'].isnull()]"
   ]
  },
  {
   "cell_type": "code",
   "execution_count": 70,
   "id": "7cb3669a",
   "metadata": {},
   "outputs": [
    {
     "name": "stdout",
     "output_type": "stream",
     "text": [
      "<class 'pandas.core.frame.DataFrame'>\n",
      "Index: 525 entries, 0 to 526\n",
      "Data columns (total 3 columns):\n",
      " #   Column    Non-Null Count  Dtype  \n",
      "---  ------    --------------  -----  \n",
      " 0   Review    525 non-null    object \n",
      " 1   Score     525 non-null    float64\n",
      " 2   Language  525 non-null    object \n",
      "dtypes: float64(1), object(2)\n",
      "memory usage: 16.4+ KB\n"
     ]
    }
   ],
   "source": [
    "# We can drop the missing score cols\n",
    "df.dropna(inplace=True)\n",
    "df.info()"
   ]
  },
  {
   "cell_type": "code",
   "execution_count": 71,
   "id": "24761cd8",
   "metadata": {},
   "outputs": [
    {
     "data": {
      "application/vnd.microsoft.datawrangler.viewer.v0+json": {
       "columns": [
        {
         "name": "index",
         "rawType": "int64",
         "type": "integer"
        },
        {
         "name": "Review",
         "rawType": "object",
         "type": "string"
        },
        {
         "name": "Score",
         "rawType": "float64",
         "type": "float"
        },
        {
         "name": "Language",
         "rawType": "object",
         "type": "string"
        }
       ],
       "conversionMethod": "pd.DataFrame",
       "ref": "e72aa210-7532-43a7-a379-e61c398568fa",
       "rows": [
        [
         "427",
         "Hen tai fei chang hao",
         "0.001",
         "Chinese"
        ]
       ],
       "shape": {
        "columns": 3,
        "rows": 1
       }
      },
      "text/html": [
       "<div>\n",
       "<style scoped>\n",
       "    .dataframe tbody tr th:only-of-type {\n",
       "        vertical-align: middle;\n",
       "    }\n",
       "\n",
       "    .dataframe tbody tr th {\n",
       "        vertical-align: top;\n",
       "    }\n",
       "\n",
       "    .dataframe thead th {\n",
       "        text-align: right;\n",
       "    }\n",
       "</style>\n",
       "<table border=\"1\" class=\"dataframe\">\n",
       "  <thead>\n",
       "    <tr style=\"text-align: right;\">\n",
       "      <th></th>\n",
       "      <th>Review</th>\n",
       "      <th>Score</th>\n",
       "      <th>Language</th>\n",
       "    </tr>\n",
       "  </thead>\n",
       "  <tbody>\n",
       "    <tr>\n",
       "      <th>427</th>\n",
       "      <td>Hen tai fei chang hao</td>\n",
       "      <td>0.001</td>\n",
       "      <td>Chinese</td>\n",
       "    </tr>\n",
       "  </tbody>\n",
       "</table>\n",
       "</div>"
      ],
      "text/plain": [
       "                    Review  Score Language\n",
       "427  Hen tai fei chang hao  0.001  Chinese"
      ]
     },
     "execution_count": 71,
     "metadata": {},
     "output_type": "execute_result"
    }
   ],
   "source": [
    "## Looking at chinese reviews\n",
    "df[df['Language'] == 'Chinese']"
   ]
  },
  {
   "cell_type": "code",
   "execution_count": 72,
   "id": "02d5d713",
   "metadata": {},
   "outputs": [
    {
     "data": {
      "application/vnd.microsoft.datawrangler.viewer.v0+json": {
       "columns": [
        {
         "name": "index",
         "rawType": "int64",
         "type": "integer"
        },
        {
         "name": "Review",
         "rawType": "object",
         "type": "string"
        },
        {
         "name": "Score",
         "rawType": "float64",
         "type": "float"
        },
        {
         "name": "Language",
         "rawType": "object",
         "type": "string"
        }
       ],
       "conversionMethod": "pd.DataFrame",
       "ref": "5455f9a5-c417-4b0b-9b98-61127e3e5b66",
       "rows": [
        [
         "0",
         "Filem ini hebat! Aksi yang mendebarkan dan plot yang mengejutkan.",
         "0.1",
         "Malay"
        ],
        [
         "1",
         "Filem ini hebat! Aksi yang mendebarkan dan plot yang mengejutkan.",
         "0.9",
         "Malay"
        ],
        [
         "2",
         "Filem ini hebat! Aksi yang mendebarkan dan plot yang mengejutkan.",
         "0.5",
         "Malay"
        ],
        [
         "3",
         "Sayang sekali, pelakon tidak memberikan persembahan terbaik. Kurang puas hati.",
         "0.8",
         "Malay"
        ],
        [
         "4",
         "Jalan cerita yang kompleks dan penuh emosi. Sungguh menghiburkan!",
         "0.2",
         "Malay"
        ],
        [
         "5",
         "Pembuat filem berjaya memberikan pengalaman yang tidak terlupakan. Sungguh memukau!",
         "0.05",
         "Malay"
        ],
        [
         "6",
         "Adegan aksi yang terlalu banyak dan mengejutkan. Terkadang agak terlalu banyak.",
         "0.4",
         "Malay"
        ],
        [
         "7",
         "Saya teruja sepanjang filem. Penceritaan yang menarik!",
         "0.15",
         "Malay"
        ],
        [
         "8",
         "Avengers: Endgame mengecewakan dan membosankan. Terlalu banyak klise.",
         "0.85",
         "Malay"
        ],
        [
         "9",
         "Integrasi elemen fiksyen sains sangat menarik. Saya suka!",
         "0.25",
         "Malay"
        ],
        [
         "10",
         "Filem ini mengujakan dengan nuansa emosi yang mendalam.",
         "0.12",
         "Malay"
        ],
        [
         "11",
         "Secara keseluruhan, pengalaman sinematik yang luar biasa. Saya kagum!",
         "0.08",
         "Malay"
        ],
        [
         "12",
         "Saya kira filem ini tidak sehebat yang diperkatakan. Rasa kurang puas hati.",
         "0.7",
         "Malay"
        ],
        [
         "13",
         "Aksi yang menakjubkan dan plot yang penuh kejutan. Saya kagum!",
         "0.12",
         "Malay"
        ],
        [
         "14",
         "Kualiti visual filem ini sungguh mengagumkan. Saya teruja!",
         "0.15",
         "Malay"
        ],
        [
         "15",
         "Saya kurang suka cara pelakon utama menyampaikan dialog. Kurang menyakinkan.",
         "0.75",
         "Malay"
        ],
        [
         "16",
         "Jalan cerita yang rumit tetapi sangat menarik. Saya suka!",
         "0.2",
         "Malay"
        ],
        [
         "17",
         "Adegan aksi yang terlalu dramatik dan berlebihan. Tidak realistik.",
         "0.6",
         "Malay"
        ],
        [
         "18",
         "Filem ini benar-benar membuat saya terbawa suasana. Saya kagum dengan keseluruhan produksi.",
         "0.1",
         "Malay"
        ],
        [
         "19",
         "Pelakon memberikan persembahan yang hebat. Saya suka cerita ini!",
         "0.15",
         "Malay"
        ],
        [
         "20",
         "Saya tidak faham dengan plot filem ini. Terlalu kompleks.",
         "0.7",
         "Malay"
        ],
        [
         "21",
         "Kejutan besar dalam plot! Aksi yang memukau sepanjang filem.",
         "0.1",
         "Malay"
        ],
        [
         "22",
         "Visual effects hebat tetapi plot kurang menarik. Saya rasa bosan.",
         "0.6",
         "Malay"
        ],
        [
         "23",
         "Saya tidak suka bagaimana filem ini berakhir. Tidak memuaskan.",
         "0.8",
         "Malay"
        ],
        [
         "24",
         "Filem ini membuat saya gelak dan menangis. Suka dengan perasaan yang disampaikan.",
         "0.15",
         "Malay"
        ],
        [
         "25",
         "Pelakon tidak berjaya membawa watak dengan baik. Kurang kredibel.",
         "0.7",
         "Malay"
        ],
        [
         "26",
         "Keseluruhan, filem ini hebat! Saya akan menontonnya lagi.",
         "0.08",
         "Malay"
        ],
        [
         "27",
         "Adegan aksi yang luar biasa. Saya rasa teruja sepanjang masa.",
         "0.12",
         "Malay"
        ],
        [
         "28",
         "Sayang sekali, plot filem ini terlalu terbuka. Tidak ada penyelesaian yang memuaskan.",
         "0.7",
         "Malay"
        ],
        [
         "29",
         "Saya suka cara filem ini menggabungkan komedi dengan aksi. Sangat menghiburkan.",
         "0.15",
         "Malay"
        ],
        [
         "30",
         "Kualiti visual dan efek khas filem ini luar biasa. Saya terkesan!",
         "0.1",
         "Malay"
        ],
        [
         "31",
         "Pelakon memberikan persembahan yang sangat baik. Saya suka jalan ceritanya.",
         "0.15",
         "Malay"
        ],
        [
         "32",
         "Filem ini sangat mengecewakan. Tidak sepadan dengan hype.",
         "0.8",
         "Malay"
        ],
        [
         "33",
         "Plot yang rumit tetapi menarik. Adegan akhir yang epik!",
         "0.1",
         "Malay"
        ],
        [
         "34",
         "Adegan aksi yang terlalu berlebihan. Terlalu banyak efek khas.",
         "0.6",
         "Malay"
        ],
        [
         "35",
         "Saya tidak faham dengan twist dalam plot. Sedikit keliru.",
         "0.7",
         "Malay"
        ],
        [
         "36",
         "Filem ini benar-benar menggetarkan perasaan. Saya suka sekali!",
         "0.12",
         "Malay"
        ],
        [
         "37",
         "Visual effects filem ini luar biasa. Teruja dengan kehebatan teknikal.",
         "0.1",
         "Malay"
        ],
        [
         "38",
         "Kurangnya pengembangan watak membuatkan filem ini lemah. Tidak memuaskan.",
         "0.75",
         "Malay"
        ],
        [
         "39",
         "Saya teruja dengan cara filem ini menggabungkan elemen fiksyen sains.",
         "0.2",
         "Malay"
        ],
        [
         "40",
         "Plot yang menarik dan penuh kejutan. Saya suka twist dalam cerita.",
         "0.15",
         "Malay"
        ],
        [
         "41",
         "Filem ini mempunyai kekuatan emosional yang besar. Menyentuh hati!",
         "0.12",
         "Malay"
        ],
        [
         "42",
         "Pelakon memberikan persembahan yang tidak memuaskan. Tidak kredibel.",
         "0.75",
         "Malay"
        ],
        [
         "43",
         "Jalan cerita yang agak biasa tetapi dihidupkan dengan aksi yang hebat.",
         "0.25",
         "Malay"
        ],
        [
         "44",
         "Adegan akhir yang sangat epik! Saya teruja dengan penutupan trilogi ini.",
         "0.08",
         "Malay"
        ],
        [
         "45",
         "Filem ini hebat! Saya suka dengan pengembangan watak.",
         "0.1",
         "Malay"
        ],
        [
         "46",
         "Saya tidak suka dengan jalan cerita yang terlalu kompleks. Tidak dapat diikuti.",
         "0.7",
         "Malay"
        ],
        [
         "47",
         "Sangat gembira dengan filem ini. Aksi yang mengagumkan!",
         "0.12",
         "Malay"
        ],
        [
         "48",
         "Plot yang rumit tetapi sangat menarik. Kejutan besar di penghujung!",
         "0.08",
         "Malay"
        ],
        [
         "49",
         "Visual effects filem ini benar-benar luar biasa. Saya terkesan!",
         "0.1",
         "Malay"
        ]
       ],
       "shape": {
        "columns": 3,
        "rows": 226
       }
      },
      "text/html": [
       "<div>\n",
       "<style scoped>\n",
       "    .dataframe tbody tr th:only-of-type {\n",
       "        vertical-align: middle;\n",
       "    }\n",
       "\n",
       "    .dataframe tbody tr th {\n",
       "        vertical-align: top;\n",
       "    }\n",
       "\n",
       "    .dataframe thead th {\n",
       "        text-align: right;\n",
       "    }\n",
       "</style>\n",
       "<table border=\"1\" class=\"dataframe\">\n",
       "  <thead>\n",
       "    <tr style=\"text-align: right;\">\n",
       "      <th></th>\n",
       "      <th>Review</th>\n",
       "      <th>Score</th>\n",
       "      <th>Language</th>\n",
       "    </tr>\n",
       "  </thead>\n",
       "  <tbody>\n",
       "    <tr>\n",
       "      <th>0</th>\n",
       "      <td>Filem ini hebat! Aksi yang mendebarkan dan plo...</td>\n",
       "      <td>0.1</td>\n",
       "      <td>Malay</td>\n",
       "    </tr>\n",
       "    <tr>\n",
       "      <th>1</th>\n",
       "      <td>Filem ini hebat! Aksi yang mendebarkan dan plo...</td>\n",
       "      <td>0.9</td>\n",
       "      <td>Malay</td>\n",
       "    </tr>\n",
       "    <tr>\n",
       "      <th>2</th>\n",
       "      <td>Filem ini hebat! Aksi yang mendebarkan dan plo...</td>\n",
       "      <td>0.5</td>\n",
       "      <td>Malay</td>\n",
       "    </tr>\n",
       "    <tr>\n",
       "      <th>3</th>\n",
       "      <td>Sayang sekali, pelakon tidak memberikan persem...</td>\n",
       "      <td>0.8</td>\n",
       "      <td>Malay</td>\n",
       "    </tr>\n",
       "    <tr>\n",
       "      <th>4</th>\n",
       "      <td>Jalan cerita yang kompleks dan penuh emosi. Su...</td>\n",
       "      <td>0.2</td>\n",
       "      <td>Malay</td>\n",
       "    </tr>\n",
       "    <tr>\n",
       "      <th>...</th>\n",
       "      <td>...</td>\n",
       "      <td>...</td>\n",
       "      <td>...</td>\n",
       "    </tr>\n",
       "    <tr>\n",
       "      <th>522</th>\n",
       "      <td>Pening</td>\n",
       "      <td>0.7</td>\n",
       "      <td>Malay</td>\n",
       "    </tr>\n",
       "    <tr>\n",
       "      <th>523</th>\n",
       "      <td>Berkesan</td>\n",
       "      <td>0.2</td>\n",
       "      <td>Malay</td>\n",
       "    </tr>\n",
       "    <tr>\n",
       "      <th>524</th>\n",
       "      <td>Mengujakan</td>\n",
       "      <td>0.1</td>\n",
       "      <td>Malay</td>\n",
       "    </tr>\n",
       "    <tr>\n",
       "      <th>525</th>\n",
       "      <td>Sederhana and teruk</td>\n",
       "      <td>0.6</td>\n",
       "      <td>Malay</td>\n",
       "    </tr>\n",
       "    <tr>\n",
       "      <th>526</th>\n",
       "      <td>Sempurna</td>\n",
       "      <td>0.1</td>\n",
       "      <td>Malay</td>\n",
       "    </tr>\n",
       "  </tbody>\n",
       "</table>\n",
       "<p>226 rows × 3 columns</p>\n",
       "</div>"
      ],
      "text/plain": [
       "                                                Review  Score Language\n",
       "0    Filem ini hebat! Aksi yang mendebarkan dan plo...    0.1    Malay\n",
       "1    Filem ini hebat! Aksi yang mendebarkan dan plo...    0.9    Malay\n",
       "2    Filem ini hebat! Aksi yang mendebarkan dan plo...    0.5    Malay\n",
       "3    Sayang sekali, pelakon tidak memberikan persem...    0.8    Malay\n",
       "4    Jalan cerita yang kompleks dan penuh emosi. Su...    0.2    Malay\n",
       "..                                                 ...    ...      ...\n",
       "522                                             Pening    0.7    Malay\n",
       "523                                           Berkesan    0.2    Malay\n",
       "524                                         Mengujakan    0.1    Malay\n",
       "525                                Sederhana and teruk    0.6    Malay\n",
       "526                                           Sempurna    0.1    Malay\n",
       "\n",
       "[226 rows x 3 columns]"
      ]
     },
     "execution_count": 72,
     "metadata": {},
     "output_type": "execute_result"
    }
   ],
   "source": [
    "df[df['Language'] == 'Malay']"
   ]
  },
  {
   "cell_type": "code",
   "execution_count": 73,
   "id": "7d746af1",
   "metadata": {},
   "outputs": [
    {
     "data": {
      "application/vnd.microsoft.datawrangler.viewer.v0+json": {
       "columns": [
        {
         "name": "index",
         "rawType": "int64",
         "type": "integer"
        },
        {
         "name": "Review",
         "rawType": "object",
         "type": "string"
        },
        {
         "name": "Score",
         "rawType": "float64",
         "type": "float"
        },
        {
         "name": "Language",
         "rawType": "object",
         "type": "string"
        }
       ],
       "conversionMethod": "pd.DataFrame",
       "ref": "b1c8624a-2472-48c9-b186-df381c9a2723",
       "rows": [
        [
         "206",
         "This movie is amazing! The action is breathtaking, and the plot is intriguing.",
         "0.08",
         "English"
        ],
        [
         "207",
         "I'm disappointed with the actors' performance. Not satisfying.",
         "0.7",
         "English"
        ],
        [
         "208",
         "The storyline is touching and full of emotion. I love it!",
         "0.12",
         "English"
        ],
        [
         "209",
         "This movie delivers an outstanding experience. Truly captivating!",
         "0.05",
         "English"
        ],
        [
         "210",
         "Too many action scenes, sometimes unnecessary. Too dramatic.",
         "0.4",
         "English"
        ],
        [
         "211",
         "I'm thrilled throughout the movie. Engaging storytelling!",
         "0.15",
         "English"
        ],
        [
         "212",
         "Avengers: Endgame is disappointing and too cliché. Not enjoyable.",
         "0.85",
         "English"
        ],
        [
         "213",
         "I like how this movie combines elements of science fiction. Interesting!",
         "0.25",
         "English"
        ],
        [
         "214",
         "This film is truly impressive with deep emotional tones.",
         "0.12",
         "English"
        ],
        [
         "215",
         "A cinematic experience that is unforgettable. I'm impressed!",
         "0.1",
         "English"
        ],
        [
         "216",
         "I feel this movie didn't meet the expected standards. Not satisfying.",
         "0.75",
         "English"
        ],
        [
         "217",
         "Amazing action and a plot full of surprises. I'm impressed!",
         "0.12",
         "English"
        ],
        [
         "218",
         "The visual quality of this film is astonishing. Excited about its special effects!",
         "0.1",
         "English"
        ],
        [
         "219",
         "I'm not satisfied with how the main actors deliver their lines. Not convincing.",
         "0.8",
         "English"
        ],
        [
         "220",
         "The storyline is complex but very interesting. I like it!",
         "0.2",
         "English"
        ],
        [
         "221",
         "Dramatic and impactful action scenes. Too many special effects.",
         "0.6",
         "English"
        ],
        [
         "222",
         "This film captivates with the atmosphere it creates. I'm impressed!",
         "0.1",
         "English"
        ],
        [
         "223",
         "The actors give excellent performances. I like this story!",
         "0.15",
         "English"
        ],
        [
         "224",
         "I don't understand the plot of this film. Too complex.",
         "0.7",
         "English"
        ],
        [
         "225",
         "A big surprise in the plot! Thrilling action throughout.",
         "0.1",
         "English"
        ],
        [
         "226",
         "The visual effects of this film are truly captivating. I'm impressed!",
         "0.1",
         "English"
        ],
        [
         "227",
         "An open-ended and unsatisfying plot. No satisfying conclusion.",
         "0.7",
         "English"
        ],
        [
         "228",
         "This film makes me laugh and cry. Love the emotions conveyed.",
         "0.15",
         "English"
        ],
        [
         "229",
         "The actors fail to portray their characters well. Not credible.",
         "0.7",
         "English"
        ],
        [
         "230",
         "Overall, this film is great! I would watch it again.",
         "0.08",
         "English"
        ],
        [
         "231",
         "Outstanding action scenes. Excited about the trilogy's conclusion.",
         "0.12",
         "English"
        ],
        [
         "232",
         "Unfortunately, the plot of this film is too open-ended. No satisfying closure.",
         "0.7",
         "English"
        ],
        [
         "233",
         "I like how this film combines comedy with action. Highly entertaining.",
         "0.15",
         "English"
        ],
        [
         "234",
         "The visual effects and animation in this film are amazing. Impressed!",
         "0.1",
         "English"
        ],
        [
         "235",
         "The actors give a very good performance. I like the story.",
         "0.12",
         "English"
        ],
        [
         "236",
         "This film is very disappointing. Not worth the hype.",
         "0.8",
         "English"
        ],
        [
         "237",
         "Complex but very interesting plot. Big twist at the end!",
         "0.1",
         "English"
        ],
        [
         "238",
         "Too many over-the-top action scenes. Too many special effects.",
         "0.6",
         "English"
        ],
        [
         "239",
         "I don't understand the twist in the plot. A bit confusing.",
         "0.7",
         "English"
        ],
        [
         "240",
         "This film is interesting and provides a deep experience. I like it!",
         "0.12",
         "English"
        ],
        [
         "241",
         "The visual effects of this film are outstanding. Excited about the technical brilliance!",
         "0.1",
         "English"
        ],
        [
         "242",
         "Lack of character development makes this film weak. Not satisfying.",
         "0.75",
         "English"
        ],
        [
         "243",
         "I'm thrilled with how this film incorporates elements of science fiction.",
         "0.2",
         "English"
        ],
        [
         "244",
         "Interesting and surprising plot. Love the twist in the story.",
         "0.15",
         "English"
        ],
        [
         "245",
         "This film has a great emotional impact. Touching!",
         "0.12",
         "English"
        ],
        [
         "246",
         "The actors give a very good performance. I like the character development.",
         "0.12",
         "English"
        ],
        [
         "247",
         "The plot is quite ordinary but brought to life with great action.",
         "0.25",
         "English"
        ],
        [
         "248",
         "An extremely epic ending! Thrilled with the trilogy's conclusion.",
         "0.08",
         "English"
        ],
        [
         "249",
         "This film is great! I like the character development.",
         "0.1",
         "English"
        ],
        [
         "250",
         "I don't like the overly complex plot. Hard to follow.",
         "0.7",
         "English"
        ],
        [
         "251",
         "Very pleased with this film. Amazing action!",
         "0.12",
         "English"
        ],
        [
         "252",
         "Complex but very interesting plot. Big surprise at the end!",
         "0.08",
         "English"
        ],
        [
         "253",
         "The visual effects of this film are truly astonishing. Impressed!",
         "0.1",
         "English"
        ],
        [
         "254",
         "Deep emotional impact in this film makes me teary-eyed. I like it!",
         "0.12",
         "English"
        ],
        [
         "255",
         "Lack of tension in the plot makes me bored. No surprising elements.",
         "0.7",
         "English"
        ]
       ],
       "shape": {
        "columns": 3,
        "rows": 297
       }
      },
      "text/html": [
       "<div>\n",
       "<style scoped>\n",
       "    .dataframe tbody tr th:only-of-type {\n",
       "        vertical-align: middle;\n",
       "    }\n",
       "\n",
       "    .dataframe tbody tr th {\n",
       "        vertical-align: top;\n",
       "    }\n",
       "\n",
       "    .dataframe thead th {\n",
       "        text-align: right;\n",
       "    }\n",
       "</style>\n",
       "<table border=\"1\" class=\"dataframe\">\n",
       "  <thead>\n",
       "    <tr style=\"text-align: right;\">\n",
       "      <th></th>\n",
       "      <th>Review</th>\n",
       "      <th>Score</th>\n",
       "      <th>Language</th>\n",
       "    </tr>\n",
       "  </thead>\n",
       "  <tbody>\n",
       "    <tr>\n",
       "      <th>206</th>\n",
       "      <td>This movie is amazing! The action is breathtak...</td>\n",
       "      <td>0.08</td>\n",
       "      <td>English</td>\n",
       "    </tr>\n",
       "    <tr>\n",
       "      <th>207</th>\n",
       "      <td>I'm disappointed with the actors' performance....</td>\n",
       "      <td>0.70</td>\n",
       "      <td>English</td>\n",
       "    </tr>\n",
       "    <tr>\n",
       "      <th>208</th>\n",
       "      <td>The storyline is touching and full of emotion....</td>\n",
       "      <td>0.12</td>\n",
       "      <td>English</td>\n",
       "    </tr>\n",
       "    <tr>\n",
       "      <th>209</th>\n",
       "      <td>This movie delivers an outstanding experience....</td>\n",
       "      <td>0.05</td>\n",
       "      <td>English</td>\n",
       "    </tr>\n",
       "    <tr>\n",
       "      <th>210</th>\n",
       "      <td>Too many action scenes, sometimes unnecessary....</td>\n",
       "      <td>0.40</td>\n",
       "      <td>English</td>\n",
       "    </tr>\n",
       "    <tr>\n",
       "      <th>...</th>\n",
       "      <td>...</td>\n",
       "      <td>...</td>\n",
       "      <td>...</td>\n",
       "    </tr>\n",
       "    <tr>\n",
       "      <th>502</th>\n",
       "      <td>Compelling story, outstanding performances</td>\n",
       "      <td>0.12</td>\n",
       "      <td>English</td>\n",
       "    </tr>\n",
       "    <tr>\n",
       "      <th>503</th>\n",
       "      <td>Intricate plot, unexpected twists</td>\n",
       "      <td>0.10</td>\n",
       "      <td>English</td>\n",
       "    </tr>\n",
       "    <tr>\n",
       "      <th>504</th>\n",
       "      <td>Underwhelming moments, weak characterizations</td>\n",
       "      <td>0.60</td>\n",
       "      <td>English</td>\n",
       "    </tr>\n",
       "    <tr>\n",
       "      <th>505</th>\n",
       "      <td>Breathtaking visuals, engaging narrative</td>\n",
       "      <td>0.08</td>\n",
       "      <td>English</td>\n",
       "    </tr>\n",
       "    <tr>\n",
       "      <th>506</th>\n",
       "      <td>Top-notch effects, captivating storytelling</td>\n",
       "      <td>0.08</td>\n",
       "      <td>English</td>\n",
       "    </tr>\n",
       "  </tbody>\n",
       "</table>\n",
       "<p>297 rows × 3 columns</p>\n",
       "</div>"
      ],
      "text/plain": [
       "                                                Review  Score Language\n",
       "206  This movie is amazing! The action is breathtak...   0.08  English\n",
       "207  I'm disappointed with the actors' performance....   0.70  English\n",
       "208  The storyline is touching and full of emotion....   0.12  English\n",
       "209  This movie delivers an outstanding experience....   0.05  English\n",
       "210  Too many action scenes, sometimes unnecessary....   0.40  English\n",
       "..                                                 ...    ...      ...\n",
       "502         Compelling story, outstanding performances   0.12  English\n",
       "503                  Intricate plot, unexpected twists   0.10  English\n",
       "504      Underwhelming moments, weak characterizations   0.60  English\n",
       "505           Breathtaking visuals, engaging narrative   0.08  English\n",
       "506        Top-notch effects, captivating storytelling   0.08  English\n",
       "\n",
       "[297 rows x 3 columns]"
      ]
     },
     "execution_count": 73,
     "metadata": {},
     "output_type": "execute_result"
    }
   ],
   "source": [
    "df[df['Language'] == 'English']"
   ]
  },
  {
   "cell_type": "markdown",
   "id": "70071f4e",
   "metadata": {},
   "source": [
    "Currently there is insufficient data for Chinese and Japan to effectively train our model, for the sake of it we will **drop both chinese and japan reviews**"
   ]
  },
  {
   "cell_type": "code",
   "execution_count": 74,
   "id": "e18467a9",
   "metadata": {},
   "outputs": [],
   "source": [
    "df = df[~df['Language'].isin(['Chinese', 'Japanese'])]"
   ]
  },
  {
   "cell_type": "code",
   "execution_count": 75,
   "id": "6a0064f2",
   "metadata": {},
   "outputs": [
    {
     "data": {
      "application/vnd.microsoft.datawrangler.viewer.v0+json": {
       "columns": [
        {
         "name": "index",
         "rawType": "int64",
         "type": "integer"
        },
        {
         "name": "Review",
         "rawType": "object",
         "type": "string"
        },
        {
         "name": "Score",
         "rawType": "float64",
         "type": "float"
        },
        {
         "name": "Language",
         "rawType": "object",
         "type": "string"
        }
       ],
       "conversionMethod": "pd.DataFrame",
       "ref": "67d98a58-b434-4c70-8ade-45265745ee08",
       "rows": [
        [
         "0",
         "Filem ini hebat! Aksi yang mendebarkan dan plot yang mengejutkan.",
         "0.1",
         "Malay"
        ],
        [
         "1",
         "Filem ini hebat! Aksi yang mendebarkan dan plot yang mengejutkan.",
         "0.9",
         "Malay"
        ],
        [
         "2",
         "Filem ini hebat! Aksi yang mendebarkan dan plot yang mengejutkan.",
         "0.5",
         "Malay"
        ],
        [
         "16",
         "Jalan cerita yang rumit tetapi sangat menarik. Saya suka!",
         "0.2",
         "Malay"
        ],
        [
         "18",
         "Filem ini benar-benar membuat saya terbawa suasana. Saya kagum dengan keseluruhan produksi.",
         "0.1",
         "Malay"
        ],
        [
         "19",
         "Pelakon memberikan persembahan yang hebat. Saya suka cerita ini!",
         "0.15",
         "Malay"
        ],
        [
         "20",
         "Saya tidak faham dengan plot filem ini. Terlalu kompleks.",
         "0.7",
         "Malay"
        ],
        [
         "21",
         "Kejutan besar dalam plot! Aksi yang memukau sepanjang filem.",
         "0.1",
         "Malay"
        ],
        [
         "22",
         "Visual effects hebat tetapi plot kurang menarik. Saya rasa bosan.",
         "0.6",
         "Malay"
        ],
        [
         "23",
         "Saya tidak suka bagaimana filem ini berakhir. Tidak memuaskan.",
         "0.8",
         "Malay"
        ],
        [
         "24",
         "Filem ini membuat saya gelak dan menangis. Suka dengan perasaan yang disampaikan.",
         "0.15",
         "Malay"
        ],
        [
         "25",
         "Pelakon tidak berjaya membawa watak dengan baik. Kurang kredibel.",
         "0.7",
         "Malay"
        ],
        [
         "26",
         "Keseluruhan, filem ini hebat! Saya akan menontonnya lagi.",
         "0.08",
         "Malay"
        ],
        [
         "27",
         "Adegan aksi yang luar biasa. Saya rasa teruja sepanjang masa.",
         "0.12",
         "Malay"
        ],
        [
         "28",
         "Sayang sekali, plot filem ini terlalu terbuka. Tidak ada penyelesaian yang memuaskan.",
         "0.7",
         "Malay"
        ],
        [
         "29",
         "Saya suka cara filem ini menggabungkan komedi dengan aksi. Sangat menghiburkan.",
         "0.15",
         "Malay"
        ],
        [
         "30",
         "Kualiti visual dan efek khas filem ini luar biasa. Saya terkesan!",
         "0.1",
         "Malay"
        ],
        [
         "31",
         "Pelakon memberikan persembahan yang sangat baik. Saya suka jalan ceritanya.",
         "0.15",
         "Malay"
        ],
        [
         "32",
         "Filem ini sangat mengecewakan. Tidak sepadan dengan hype.",
         "0.8",
         "Malay"
        ],
        [
         "34",
         "Adegan aksi yang terlalu berlebihan. Terlalu banyak efek khas.",
         "0.6",
         "Malay"
        ],
        [
         "35",
         "Saya tidak faham dengan twist dalam plot. Sedikit keliru.",
         "0.7",
         "Malay"
        ],
        [
         "37",
         "Visual effects filem ini luar biasa. Teruja dengan kehebatan teknikal.",
         "0.1",
         "Malay"
        ],
        [
         "38",
         "Kurangnya pengembangan watak membuatkan filem ini lemah. Tidak memuaskan.",
         "0.75",
         "Malay"
        ],
        [
         "39",
         "Saya teruja dengan cara filem ini menggabungkan elemen fiksyen sains.",
         "0.2",
         "Malay"
        ],
        [
         "40",
         "Plot yang menarik dan penuh kejutan. Saya suka twist dalam cerita.",
         "0.15",
         "Malay"
        ],
        [
         "41",
         "Filem ini mempunyai kekuatan emosional yang besar. Menyentuh hati!",
         "0.12",
         "Malay"
        ],
        [
         "42",
         "Pelakon memberikan persembahan yang tidak memuaskan. Tidak kredibel.",
         "0.75",
         "Malay"
        ],
        [
         "43",
         "Jalan cerita yang agak biasa tetapi dihidupkan dengan aksi yang hebat.",
         "0.25",
         "Malay"
        ],
        [
         "44",
         "Adegan akhir yang sangat epik! Saya teruja dengan penutupan trilogi ini.",
         "0.08",
         "Malay"
        ],
        [
         "45",
         "Filem ini hebat! Saya suka dengan pengembangan watak.",
         "0.1",
         "Malay"
        ],
        [
         "46",
         "Saya tidak suka dengan jalan cerita yang terlalu kompleks. Tidak dapat diikuti.",
         "0.7",
         "Malay"
        ],
        [
         "47",
         "Sangat gembira dengan filem ini. Aksi yang mengagumkan!",
         "0.12",
         "Malay"
        ],
        [
         "48",
         "Plot yang rumit tetapi sangat menarik. Kejutan besar di penghujung!",
         "0.08",
         "Malay"
        ],
        [
         "49",
         "Visual effects filem ini benar-benar luar biasa. Saya terkesan!",
         "0.1",
         "Malay"
        ],
        [
         "50",
         "Perasaan yang mendalam dalam filem ini membuatkan saya terharu. Saya suka!",
         "0.12",
         "Malay"
        ],
        [
         "51",
         "Kurangnya ketegangan dalam plot membuatkan saya bosan. Tidak ada elemen kejutan.",
         "0.7",
         "Malay"
        ],
        [
         "52",
         "Filem ini memberikan jawapan kepada banyak pertanyaan. Saya suka twistnya.",
         "0.15",
         "Malay"
        ],
        [
         "53",
         "Kejutan besar di tengah-tengah filem! Aksi yang mendebarkan!",
         "0.12",
         "Malay"
        ],
        [
         "54",
         "Visual effects dan animasi filem ini sungguh mengagumkan. Terkesan!",
         "0.1",
         "Malay"
        ],
        [
         "55",
         "Pelakon memberikan persembahan yang sangat baik. Saya suka dengan penutupan ceritanya.",
         "0.12",
         "Malay"
        ],
        [
         "56",
         "Filem ini tidak sehebat yang saya jangkakan. Terlalu banyak klise.",
         "0.7",
         "Malay"
        ],
        [
         "57",
         "Aksi yang menegangkan sepanjang filem. Saya teruja!",
         "0.12",
         "Malay"
        ],
        [
         "58",
         "Saya suka dengan cara filem ini menggabungkan aksi dengan unsur komedi.",
         "0.15",
         "Malay"
        ],
        [
         "59",
         "Plot yang rumit dan penuh misteri. Sangat menarik!",
         "0.15",
         "Malay"
        ],
        [
         "60",
         "Pelakon utama memberikan persembahan yang luar biasa. Saya suka karakternya.",
         "0.12",
         "Malay"
        ],
        [
         "61",
         "Filem ini mengecewakan dan tidak sepadan dengan waktu saya. Terlalu biasa.",
         "0.8",
         "Malay"
        ],
        [
         "62",
         "Twist besar di penghujung filem membuat saya terkejut. Suka dengan plot twistnya.",
         "0.1",
         "Malay"
        ],
        [
         "63",
         "Visual effects dan desain produksi filem ini luar biasa. Saya terkesan!",
         "0.1",
         "Malay"
        ],
        [
         "64",
         "Pelakon-pelakon memberikan persembahan yang luar biasa. Saya suka cerita ini!",
         "0.12",
         "Malay"
        ],
        [
         "65",
         "Aksi yang mendebarkan tetapi plot agak lemah. Tidak seimbang.",
         "0.5",
         "Malay"
        ]
       ],
       "shape": {
        "columns": 3,
        "rows": 213
       }
      },
      "text/html": [
       "<div>\n",
       "<style scoped>\n",
       "    .dataframe tbody tr th:only-of-type {\n",
       "        vertical-align: middle;\n",
       "    }\n",
       "\n",
       "    .dataframe tbody tr th {\n",
       "        vertical-align: top;\n",
       "    }\n",
       "\n",
       "    .dataframe thead th {\n",
       "        text-align: right;\n",
       "    }\n",
       "</style>\n",
       "<table border=\"1\" class=\"dataframe\">\n",
       "  <thead>\n",
       "    <tr style=\"text-align: right;\">\n",
       "      <th></th>\n",
       "      <th>Review</th>\n",
       "      <th>Score</th>\n",
       "      <th>Language</th>\n",
       "    </tr>\n",
       "  </thead>\n",
       "  <tbody>\n",
       "    <tr>\n",
       "      <th>0</th>\n",
       "      <td>Filem ini hebat! Aksi yang mendebarkan dan plo...</td>\n",
       "      <td>0.10</td>\n",
       "      <td>Malay</td>\n",
       "    </tr>\n",
       "    <tr>\n",
       "      <th>1</th>\n",
       "      <td>Filem ini hebat! Aksi yang mendebarkan dan plo...</td>\n",
       "      <td>0.90</td>\n",
       "      <td>Malay</td>\n",
       "    </tr>\n",
       "    <tr>\n",
       "      <th>2</th>\n",
       "      <td>Filem ini hebat! Aksi yang mendebarkan dan plo...</td>\n",
       "      <td>0.50</td>\n",
       "      <td>Malay</td>\n",
       "    </tr>\n",
       "    <tr>\n",
       "      <th>16</th>\n",
       "      <td>Jalan cerita yang rumit tetapi sangat menarik....</td>\n",
       "      <td>0.20</td>\n",
       "      <td>Malay</td>\n",
       "    </tr>\n",
       "    <tr>\n",
       "      <th>18</th>\n",
       "      <td>Filem ini benar-benar membuat saya terbawa sua...</td>\n",
       "      <td>0.10</td>\n",
       "      <td>Malay</td>\n",
       "    </tr>\n",
       "    <tr>\n",
       "      <th>...</th>\n",
       "      <td>...</td>\n",
       "      <td>...</td>\n",
       "      <td>...</td>\n",
       "    </tr>\n",
       "    <tr>\n",
       "      <th>433</th>\n",
       "      <td>Impressive</td>\n",
       "      <td>0.08</td>\n",
       "      <td>English</td>\n",
       "    </tr>\n",
       "    <tr>\n",
       "      <th>442</th>\n",
       "      <td>Complex</td>\n",
       "      <td>0.10</td>\n",
       "      <td>English</td>\n",
       "    </tr>\n",
       "    <tr>\n",
       "      <th>446</th>\n",
       "      <td>Intriguing</td>\n",
       "      <td>0.12</td>\n",
       "      <td>English</td>\n",
       "    </tr>\n",
       "    <tr>\n",
       "      <th>447</th>\n",
       "      <td>Moving</td>\n",
       "      <td>0.12</td>\n",
       "      <td>English</td>\n",
       "    </tr>\n",
       "    <tr>\n",
       "      <th>448</th>\n",
       "      <td>Weak</td>\n",
       "      <td>0.50</td>\n",
       "      <td>English</td>\n",
       "    </tr>\n",
       "  </tbody>\n",
       "</table>\n",
       "<p>213 rows × 3 columns</p>\n",
       "</div>"
      ],
      "text/plain": [
       "                                                Review  Score Language\n",
       "0    Filem ini hebat! Aksi yang mendebarkan dan plo...   0.10    Malay\n",
       "1    Filem ini hebat! Aksi yang mendebarkan dan plo...   0.90    Malay\n",
       "2    Filem ini hebat! Aksi yang mendebarkan dan plo...   0.50    Malay\n",
       "16   Jalan cerita yang rumit tetapi sangat menarik....   0.20    Malay\n",
       "18   Filem ini benar-benar membuat saya terbawa sua...   0.10    Malay\n",
       "..                                                 ...    ...      ...\n",
       "433                                         Impressive   0.08  English\n",
       "442                                            Complex   0.10  English\n",
       "446                                         Intriguing   0.12  English\n",
       "447                                             Moving   0.12  English\n",
       "448                                               Weak   0.50  English\n",
       "\n",
       "[213 rows x 3 columns]"
      ]
     },
     "execution_count": 75,
     "metadata": {},
     "output_type": "execute_result"
    }
   ],
   "source": [
    "# View Duplicated Columns\n",
    "df[df.duplicated(subset='Review' , keep=False)]"
   ]
  },
  {
   "cell_type": "code",
   "execution_count": 76,
   "id": "464d18bd",
   "metadata": {},
   "outputs": [
    {
     "data": {
      "text/plain": [
       "'This movie is amazing! The action is breathtaking, and the plot is intriguing.'"
      ]
     },
     "execution_count": 76,
     "metadata": {},
     "output_type": "execute_result"
    }
   ],
   "source": [
    "df[df['Language'] == 'English']['Review'].values[0]"
   ]
  },
  {
   "cell_type": "markdown",
   "id": "5a5bb173",
   "metadata": {},
   "source": [
    "Since we have both Malay and English, we will crease **2 language specific regression models**. \n",
    "\n",
    "It will regress on the scores, trying to predict the sentiment for future/new data"
   ]
  },
  {
   "cell_type": "markdown",
   "id": "5ca0f291",
   "metadata": {},
   "source": [
    "##### Data Engineering\n",
    "\n",
    "Currently our data is too little to train a NN. We need to force out more data from this dataset\n",
    "\n",
    "##### How to Force\n",
    "\n",
    "1. We will split sentences into clauses, **usually seperated via punctuation**\n",
    "\n",
    "e.g.\n",
    "\n",
    "> This movie is amazing! The action is breathtaking, and the plot is intriguing.\n",
    "\n",
    "can become:\n",
    "\n",
    "> This movie is amazing! \n",
    "\n",
    "> The action is breathtaking\n",
    "\n",
    "> the plot is intriguing\n",
    "\n",
    "We can assign new scores to each subsentence\n",
    "\n",
    "<br> \n",
    "<br> \n",
    "\n",
    "2. From the Clauses we can **Join with Conjunctions**\n",
    "\n",
    "e.g. \n",
    "\n",
    "> This movie is amazing! \n",
    "\n",
    "> The action is breathtaking\n",
    "\n",
    "can become: \n",
    "\n",
    "> The movie is amazing and the action is breathtaking. \n",
    "\n",
    "<br>\n",
    "<br>\n",
    "\n",
    "3. We can perform **sentence shuffling around a conjunction**\n",
    "\n",
    "e.g. \n",
    "\n",
    "> The movie is amazing and the action is breathtaking. \n",
    "\n",
    "can become:\n",
    "\n",
    "> The action is breathtaking and the movie is amazing.\n",
    "\n",
    "<br>\n",
    "<br>\n",
    "\n",
    "4. We can **shuffle adjective to its synonyms**\n",
    "\n",
    "e.g.\n",
    "\n",
    "> The movie is amazing and the action is breathtaking\n",
    "\n",
    "can become: \n",
    "\n",
    "> The movie is astonishing and the action is spectacular\n"
   ]
  },
  {
   "cell_type": "code",
   "execution_count": 77,
   "id": "2cedbc5a",
   "metadata": {},
   "outputs": [],
   "source": [
    "# do 1 - x to 'reverse' the scoring\n",
    "# thereby higher == pos and lower == neg (more intuitive)\n",
    "df['Score'] = df['Score'].apply(lambda x: 1 - x)"
   ]
  },
  {
   "cell_type": "code",
   "execution_count": 78,
   "id": "40db5a16",
   "metadata": {},
   "outputs": [
    {
     "data": {
      "application/vnd.microsoft.datawrangler.viewer.v0+json": {
       "columns": [
        {
         "name": "index",
         "rawType": "int64",
         "type": "integer"
        },
        {
         "name": "Review",
         "rawType": "object",
         "type": "string"
        },
        {
         "name": "Score",
         "rawType": "float64",
         "type": "float"
        },
        {
         "name": "Language",
         "rawType": "object",
         "type": "string"
        }
       ],
       "conversionMethod": "pd.DataFrame",
       "ref": "4b7d2ba7-112b-4365-9fe3-a6b6d7b63998",
       "rows": [
        [
         "206",
         "This movie is amazing! The action is breathtaking, and the plot is intriguing.",
         "0.92",
         "English"
        ],
        [
         "207",
         "I'm disappointed with the actors' performance. Not satisfying.",
         "0.30000000000000004",
         "English"
        ],
        [
         "208",
         "The storyline is touching and full of emotion. I love it!",
         "0.88",
         "English"
        ],
        [
         "209",
         "This movie delivers an outstanding experience. Truly captivating!",
         "0.95",
         "English"
        ],
        [
         "210",
         "Too many action scenes, sometimes unnecessary. Too dramatic.",
         "0.6",
         "English"
        ],
        [
         "211",
         "I'm thrilled throughout the movie. Engaging storytelling!",
         "0.85",
         "English"
        ],
        [
         "212",
         "Avengers: Endgame is disappointing and too cliché. Not enjoyable.",
         "0.15000000000000002",
         "English"
        ],
        [
         "213",
         "I like how this movie combines elements of science fiction. Interesting!",
         "0.75",
         "English"
        ],
        [
         "214",
         "This film is truly impressive with deep emotional tones.",
         "0.88",
         "English"
        ],
        [
         "215",
         "A cinematic experience that is unforgettable. I'm impressed!",
         "0.9",
         "English"
        ],
        [
         "216",
         "I feel this movie didn't meet the expected standards. Not satisfying.",
         "0.25",
         "English"
        ],
        [
         "217",
         "Amazing action and a plot full of surprises. I'm impressed!",
         "0.88",
         "English"
        ],
        [
         "218",
         "The visual quality of this film is astonishing. Excited about its special effects!",
         "0.9",
         "English"
        ],
        [
         "219",
         "I'm not satisfied with how the main actors deliver their lines. Not convincing.",
         "0.19999999999999996",
         "English"
        ],
        [
         "220",
         "The storyline is complex but very interesting. I like it!",
         "0.8",
         "English"
        ],
        [
         "221",
         "Dramatic and impactful action scenes. Too many special effects.",
         "0.4",
         "English"
        ],
        [
         "222",
         "This film captivates with the atmosphere it creates. I'm impressed!",
         "0.9",
         "English"
        ],
        [
         "223",
         "The actors give excellent performances. I like this story!",
         "0.85",
         "English"
        ],
        [
         "224",
         "I don't understand the plot of this film. Too complex.",
         "0.30000000000000004",
         "English"
        ],
        [
         "225",
         "A big surprise in the plot! Thrilling action throughout.",
         "0.9",
         "English"
        ],
        [
         "226",
         "The visual effects of this film are truly captivating. I'm impressed!",
         "0.9",
         "English"
        ],
        [
         "227",
         "An open-ended and unsatisfying plot. No satisfying conclusion.",
         "0.30000000000000004",
         "English"
        ],
        [
         "228",
         "This film makes me laugh and cry. Love the emotions conveyed.",
         "0.85",
         "English"
        ],
        [
         "229",
         "The actors fail to portray their characters well. Not credible.",
         "0.30000000000000004",
         "English"
        ],
        [
         "230",
         "Overall, this film is great! I would watch it again.",
         "0.92",
         "English"
        ],
        [
         "231",
         "Outstanding action scenes. Excited about the trilogy's conclusion.",
         "0.88",
         "English"
        ],
        [
         "232",
         "Unfortunately, the plot of this film is too open-ended. No satisfying closure.",
         "0.30000000000000004",
         "English"
        ],
        [
         "233",
         "I like how this film combines comedy with action. Highly entertaining.",
         "0.85",
         "English"
        ],
        [
         "234",
         "The visual effects and animation in this film are amazing. Impressed!",
         "0.9",
         "English"
        ],
        [
         "235",
         "The actors give a very good performance. I like the story.",
         "0.88",
         "English"
        ],
        [
         "236",
         "This film is very disappointing. Not worth the hype.",
         "0.19999999999999996",
         "English"
        ],
        [
         "237",
         "Complex but very interesting plot. Big twist at the end!",
         "0.9",
         "English"
        ],
        [
         "238",
         "Too many over-the-top action scenes. Too many special effects.",
         "0.4",
         "English"
        ],
        [
         "239",
         "I don't understand the twist in the plot. A bit confusing.",
         "0.30000000000000004",
         "English"
        ],
        [
         "240",
         "This film is interesting and provides a deep experience. I like it!",
         "0.88",
         "English"
        ],
        [
         "241",
         "The visual effects of this film are outstanding. Excited about the technical brilliance!",
         "0.9",
         "English"
        ],
        [
         "242",
         "Lack of character development makes this film weak. Not satisfying.",
         "0.25",
         "English"
        ],
        [
         "243",
         "I'm thrilled with how this film incorporates elements of science fiction.",
         "0.8",
         "English"
        ],
        [
         "244",
         "Interesting and surprising plot. Love the twist in the story.",
         "0.85",
         "English"
        ],
        [
         "245",
         "This film has a great emotional impact. Touching!",
         "0.88",
         "English"
        ],
        [
         "246",
         "The actors give a very good performance. I like the character development.",
         "0.88",
         "English"
        ],
        [
         "247",
         "The plot is quite ordinary but brought to life with great action.",
         "0.75",
         "English"
        ],
        [
         "248",
         "An extremely epic ending! Thrilled with the trilogy's conclusion.",
         "0.92",
         "English"
        ],
        [
         "249",
         "This film is great! I like the character development.",
         "0.9",
         "English"
        ],
        [
         "250",
         "I don't like the overly complex plot. Hard to follow.",
         "0.30000000000000004",
         "English"
        ],
        [
         "251",
         "Very pleased with this film. Amazing action!",
         "0.88",
         "English"
        ],
        [
         "252",
         "Complex but very interesting plot. Big surprise at the end!",
         "0.92",
         "English"
        ],
        [
         "253",
         "The visual effects of this film are truly astonishing. Impressed!",
         "0.9",
         "English"
        ],
        [
         "254",
         "Deep emotional impact in this film makes me teary-eyed. I like it!",
         "0.88",
         "English"
        ],
        [
         "255",
         "Lack of tension in the plot makes me bored. No surprising elements.",
         "0.30000000000000004",
         "English"
        ]
       ],
       "shape": {
        "columns": 3,
        "rows": 297
       }
      },
      "text/html": [
       "<div>\n",
       "<style scoped>\n",
       "    .dataframe tbody tr th:only-of-type {\n",
       "        vertical-align: middle;\n",
       "    }\n",
       "\n",
       "    .dataframe tbody tr th {\n",
       "        vertical-align: top;\n",
       "    }\n",
       "\n",
       "    .dataframe thead th {\n",
       "        text-align: right;\n",
       "    }\n",
       "</style>\n",
       "<table border=\"1\" class=\"dataframe\">\n",
       "  <thead>\n",
       "    <tr style=\"text-align: right;\">\n",
       "      <th></th>\n",
       "      <th>Review</th>\n",
       "      <th>Score</th>\n",
       "      <th>Language</th>\n",
       "    </tr>\n",
       "  </thead>\n",
       "  <tbody>\n",
       "    <tr>\n",
       "      <th>206</th>\n",
       "      <td>This movie is amazing! The action is breathtak...</td>\n",
       "      <td>0.92</td>\n",
       "      <td>English</td>\n",
       "    </tr>\n",
       "    <tr>\n",
       "      <th>207</th>\n",
       "      <td>I'm disappointed with the actors' performance....</td>\n",
       "      <td>0.30</td>\n",
       "      <td>English</td>\n",
       "    </tr>\n",
       "    <tr>\n",
       "      <th>208</th>\n",
       "      <td>The storyline is touching and full of emotion....</td>\n",
       "      <td>0.88</td>\n",
       "      <td>English</td>\n",
       "    </tr>\n",
       "    <tr>\n",
       "      <th>209</th>\n",
       "      <td>This movie delivers an outstanding experience....</td>\n",
       "      <td>0.95</td>\n",
       "      <td>English</td>\n",
       "    </tr>\n",
       "    <tr>\n",
       "      <th>210</th>\n",
       "      <td>Too many action scenes, sometimes unnecessary....</td>\n",
       "      <td>0.60</td>\n",
       "      <td>English</td>\n",
       "    </tr>\n",
       "    <tr>\n",
       "      <th>...</th>\n",
       "      <td>...</td>\n",
       "      <td>...</td>\n",
       "      <td>...</td>\n",
       "    </tr>\n",
       "    <tr>\n",
       "      <th>502</th>\n",
       "      <td>Compelling story, outstanding performances</td>\n",
       "      <td>0.88</td>\n",
       "      <td>English</td>\n",
       "    </tr>\n",
       "    <tr>\n",
       "      <th>503</th>\n",
       "      <td>Intricate plot, unexpected twists</td>\n",
       "      <td>0.90</td>\n",
       "      <td>English</td>\n",
       "    </tr>\n",
       "    <tr>\n",
       "      <th>504</th>\n",
       "      <td>Underwhelming moments, weak characterizations</td>\n",
       "      <td>0.40</td>\n",
       "      <td>English</td>\n",
       "    </tr>\n",
       "    <tr>\n",
       "      <th>505</th>\n",
       "      <td>Breathtaking visuals, engaging narrative</td>\n",
       "      <td>0.92</td>\n",
       "      <td>English</td>\n",
       "    </tr>\n",
       "    <tr>\n",
       "      <th>506</th>\n",
       "      <td>Top-notch effects, captivating storytelling</td>\n",
       "      <td>0.92</td>\n",
       "      <td>English</td>\n",
       "    </tr>\n",
       "  </tbody>\n",
       "</table>\n",
       "<p>297 rows × 3 columns</p>\n",
       "</div>"
      ],
      "text/plain": [
       "                                                Review  Score Language\n",
       "206  This movie is amazing! The action is breathtak...   0.92  English\n",
       "207  I'm disappointed with the actors' performance....   0.30  English\n",
       "208  The storyline is touching and full of emotion....   0.88  English\n",
       "209  This movie delivers an outstanding experience....   0.95  English\n",
       "210  Too many action scenes, sometimes unnecessary....   0.60  English\n",
       "..                                                 ...    ...      ...\n",
       "502         Compelling story, outstanding performances   0.88  English\n",
       "503                  Intricate plot, unexpected twists   0.90  English\n",
       "504      Underwhelming moments, weak characterizations   0.40  English\n",
       "505           Breathtaking visuals, engaging narrative   0.92  English\n",
       "506        Top-notch effects, captivating storytelling   0.92  English\n",
       "\n",
       "[297 rows x 3 columns]"
      ]
     },
     "execution_count": 78,
     "metadata": {},
     "output_type": "execute_result"
    }
   ],
   "source": [
    "df_english = df[df['Language'] == 'English']\n",
    "df_english"
   ]
  },
  {
   "cell_type": "code",
   "execution_count": 142,
   "id": "35a11ad3",
   "metadata": {},
   "outputs": [
    {
     "data": {
      "application/vnd.microsoft.datawrangler.viewer.v0+json": {
       "columns": [
        {
         "name": "index",
         "rawType": "int64",
         "type": "integer"
        },
        {
         "name": "Review",
         "rawType": "object",
         "type": "string"
        },
        {
         "name": "Score",
         "rawType": "float64",
         "type": "float"
        },
        {
         "name": "Language",
         "rawType": "object",
         "type": "string"
        }
       ],
       "conversionMethod": "pd.DataFrame",
       "ref": "62dd8d08-f851-419c-b53e-d276a5ab1ea7",
       "rows": [
        [
         "234",
         "The visual effects and animation in this film are amazing. Impressed!",
         "0.9",
         "English"
        ],
        [
         "242",
         "Lack of character development makes this film weak. Not satisfying.",
         "0.25",
         "English"
        ],
        [
         "262",
         "Lack of character development makes this film weak. Not satisfying.",
         "0.19999999999999996",
         "English"
        ],
        [
         "263",
         "The visual effects and animation in this film are amazing. Impressed!",
         "0.95",
         "English"
        ],
        [
         "359",
         "The time-travel element adds complexity to the plot, creating an intricate and thought-provoking narrative. Avengers: Endgame manages to deliver both spectacle and substance, with the characters' emotional journeys taking center stage. A remarkable conclusion to the Marvel Cinematic Universe.",
         "0.88",
         "English"
        ],
        [
         "360",
         "Avengers: Endgame's visual effects are a technological marvel, pushing the boundaries of what can be achieved in cinema. The film's meticulous attention to detail, especially in the action sequences, showcases the dedication of the filmmaking team. A visual spectacle that leaves a lasting impression.",
         "0.92",
         "English"
        ],
        [
         "361",
         "While the film provides closure to some character arcs, certain plot points are left unresolved, leaving room for future exploration. Avengers: Endgame, however, excels in delivering awe-inspiring action and emotional resonance. A bittersweet farewell to an era of superhero storytelling.",
         "0.7",
         "English"
        ],
        [
         "369",
         "Avengers: Endgame's pacing is a triumph, seamlessly transitioning between high-octane action and character-driven moments. The film's ability to evoke laughter and tears showcases its versatility. A remarkable achievement in cinematic storytelling.",
         "0.94",
         "English"
        ],
        [
         "370",
         "While Avengers: Endgame provides closure to some storylines, certain character arcs feel underdeveloped. The film, however, compensates with epic battles and stunning visuals. A rollercoaster of emotions that serves as a fitting end to an era of superhero storytelling.",
         "0.6",
         "English"
        ],
        [
         "371",
         "The emotional weight of Avengers: Endgame's narrative is felt throughout, with character arcs that tug at the heartstrings. The film successfully weaves together humor, action, and poignancy. A cinematic spectacle that pays homage to the journey of iconic characters.",
         "0.9299999999999999",
         "English"
        ],
        [
         "372",
         "Despite a few narrative hiccups, Avengers: Endgame delivers on the promise of an epic conclusion. The film's visual effects are nothing short of breathtaking, creating a cinematic experience that dazzles. A fitting end to a saga that has defined the superhero genre.",
         "0.88",
         "English"
        ],
        [
         "373",
         "The film's ambitious scope is evident in its grandiose action sequences and intricate plot twists. Avengers: Endgame successfully juggles multiple storylines, providing closure to beloved characters. A visually stunning and emotionally resonant epic that marks the end of an era.",
         "0.9",
         "English"
        ],
        [
         "374",
         "While Avengers: Endgame is a visual spectacle, certain plot twists may feel predictable to keen-eyed viewers. Nevertheless, the film delivers on emotional resonance and epic action sequences. A bittersweet farewell to characters who have become cultural icons.",
         "0.7",
         "English"
        ],
        [
         "375",
         "The time-travel narrative of Avengers: Endgame introduces an intriguing complexity to the plot. The film manages to balance multiple timelines while keeping the audience engaged. A satisfying and visually impressive conclusion to the Marvel Cinematic Universe's Infinity Saga.",
         "0.85",
         "English"
        ],
        [
         "376",
         "Avengers: Endgame's action sequences are a feast for the eyes, with every punch and explosion meticulously choreographed. The film's attention to detail, especially in the visual effects, elevates the viewing experience. A thrilling and visually stunning conclusion to the Marvel Cinematic Universe.",
         "0.92",
         "English"
        ],
        [
         "377",
         "While the film delivers on emotional beats, certain character resolutions may feel rushed. Avengers: Endgame, however, excels in creating epic and memorable action sequences. A rollercoaster of emotions that serves as a fitting end to the Infinity Saga.",
         "0.75",
         "English"
        ],
        [
         "378",
         "The film's intricate plot adds layers of complexity, providing a fresh take on superhero storytelling. Avengers: Endgame seamlessly weaves together various storylines, creating a narrative tapestry that captivates. A visually striking and emotionally charged conclusion to a cinematic era.",
         "0.9",
         "English"
        ],
        [
         "379",
         "Avengers: Endgame's CGI and practical effects work in harmony, creating a visually stunning cinematic experience. The attention to detail in the visual effects enhances the film's overall impact. A testament to the technological achievements in modern filmmaking.",
         "0.92",
         "English"
        ],
        [
         "380",
         "While Avengers: Endgame attempts to provide closure to long-standing storylines, some resolutions may feel rushed. The film, however, compensates with epic battles and visually stunning set pieces. A rollercoaster of emotions that marks the end of a remarkable era in superhero filmmaking.",
         "0.7",
         "English"
        ],
        [
         "381",
         "The emotional depth of Avengers: Endgame's narrative is a standout feature, with characters facing profound challenges. The film's ability to balance intense action with poignant moments is commendable. A fitting and emotionally resonant conclusion to the Marvel Cinematic Universe.",
         "0.9299999999999999",
         "English"
        ],
        [
         "382",
         "The film's pacing is a testament to its storytelling finesse, seamlessly transitioning between action-packed sequences and character-driven moments. Avengers: Endgame's ability to evoke a wide range of emotions showcases its narrative depth. A cinematic triumph that serves as a fitting end to a beloved saga.",
         "0.94",
         "English"
        ],
        [
         "383",
         "Avengers: Endgame's visual effects are a technological marvel, pushing the boundaries of what can be achieved in cinema. The film's meticulous attention to detail, especially in the action sequences, showcases the dedication of the filmmaking team. A visual spectacle that leaves a lasting impression.",
         "0.92",
         "English"
        ],
        [
         "384",
         "While the film provides closure to some character arcs, certain plot points are left unresolved, leaving room for future exploration. Avengers: Endgame, however, excels in delivering awe-inspiring action and emotional resonance. A bittersweet farewell to an era of superhero storytelling.",
         "0.7",
         "English"
        ],
        [
         "385",
         "The time-travel element adds complexity to the plot, creating an intricate and thought-provoking narrative. Avengers: Endgame manages to deliver both spectacle and substance, with the characters' emotional journeys taking center stage. A remarkable conclusion to the Marvel Cinematic Universe.",
         "0.88",
         "English"
        ],
        [
         "386",
         "Avengers: Endgame's pacing is a triumph, seamlessly transitioning between high-octane action and character-driven moments. The film's ability to evoke laughter and tears showcases its versatility. A remarkable achievement in cinematic storytelling.",
         "0.94",
         "English"
        ],
        [
         "387",
         "While Avengers: Endgame provides closure to some storylines, certain character arcs feel underdeveloped. The film, however, compensates with epic battles and stunning visuals. A rollercoaster of emotions that serves as a fitting end to an era of superhero storytelling.",
         "0.6",
         "English"
        ],
        [
         "388",
         "The emotional weight of Avengers: Endgame's narrative is felt throughout, with character arcs that tug at the heartstrings. The film successfully weaves together humor, action, and poignancy. A cinematic spectacle that pays homage to the journey of iconic characters.",
         "0.9299999999999999",
         "English"
        ],
        [
         "389",
         "Despite a few narrative hiccups, Avengers: Endgame delivers on the promise of an epic conclusion. The film's visual effects are nothing short of breathtaking, creating a cinematic experience that dazzles. A fitting end to a saga that has defined the superhero genre.",
         "0.88",
         "English"
        ],
        [
         "390",
         "The film's ambitious scope is evident in its grandiose action sequences and intricate plot twists. Avengers: Endgame successfully juggles multiple storylines, providing closure to beloved characters. A visually stunning and emotionally resonant epic that marks the end of an era.",
         "0.9",
         "English"
        ],
        [
         "391",
         "While Avengers: Endgame is a visual spectacle, certain plot twists may feel predictable to keen-eyed viewers. Nevertheless, the film delivers on emotional resonance and epic action sequences. A bittersweet farewell to characters who have become cultural icons.",
         "0.7",
         "English"
        ],
        [
         "392",
         "The time-travel narrative of Avengers: Endgame introduces an intriguing complexity to the plot. The film manages to balance multiple timelines while keeping the audience engaged. A satisfying and visually impressive conclusion to the Marvel Cinematic Universe's Infinity Saga.",
         "0.85",
         "English"
        ],
        [
         "393",
         "Avengers: Endgame's action sequences are a feast for the eyes, with every punch and explosion meticulously choreographed. The film's attention to detail, especially in the visual effects, elevates the viewing experience. A thrilling and visually stunning conclusion to the Marvel Cinematic Universe.",
         "0.92",
         "English"
        ],
        [
         "394",
         "While the film delivers on emotional beats, certain character resolutions may feel rushed. Avengers: Endgame, however, excels in creating epic and memorable action sequences. A rollercoaster of emotions that serves as a fitting end to the Infinity Saga.",
         "0.75",
         "English"
        ],
        [
         "395",
         "The film's intricate plot adds layers of complexity, providing a fresh take on superhero storytelling. Avengers: Endgame seamlessly weaves together various storylines, creating a narrative tapestry that captivates. A visually striking and emotionally charged conclusion to a cinematic era.",
         "0.9",
         "English"
        ],
        [
         "396",
         "Avengers: Endgame's CGI and practical effects work in harmony, creating a visually stunning cinematic experience. The attention to detail in the visual effects enhances the film's overall impact. A testament to the technological achievements in modern filmmaking.",
         "0.92",
         "English"
        ],
        [
         "397",
         "While Avengers: Endgame attempts to provide closure to long-standing storylines, some resolutions may feel rushed. The film, however, compensates with epic battles and visually stunning set pieces. A rollercoaster of emotions that marks the end of a remarkable era in superhero filmmaking.",
         "0.7",
         "English"
        ],
        [
         "398",
         "The emotional depth of Avengers: Endgame's narrative is a standout feature, with characters facing profound challenges. The film's ability to balance intense action with poignant moments is commendable. A fitting and emotionally resonant conclusion to the Marvel Cinematic Universe.",
         "0.9299999999999999",
         "English"
        ],
        [
         "399",
         "The film's pacing is a testament to its storytelling finesse, seamlessly transitioning between action-packed sequences and character-driven moments. Avengers: Endgame's ability to evoke a wide range of emotions showcases its narrative depth. A cinematic triumph that serves as a fitting end to a beloved saga.",
         "0.94",
         "English"
        ],
        [
         "401",
         "Spectacular",
         "0.92",
         "English"
        ],
        [
         "407",
         "Intriguing",
         "0.85",
         "English"
        ],
        [
         "412",
         "Impressive",
         "0.92",
         "English"
        ],
        [
         "416",
         "Complex",
         "0.35",
         "English"
        ],
        [
         "418",
         "Spectacular",
         "0.92",
         "English"
        ],
        [
         "420",
         "Moving",
         "0.88",
         "English"
        ],
        [
         "422",
         "Weak",
         "0.25",
         "English"
        ],
        [
         "433",
         "Impressive",
         "0.92",
         "English"
        ],
        [
         "442",
         "Complex",
         "0.9",
         "English"
        ],
        [
         "446",
         "Intriguing",
         "0.88",
         "English"
        ],
        [
         "447",
         "Moving",
         "0.88",
         "English"
        ],
        [
         "448",
         "Weak",
         "0.5",
         "English"
        ]
       ],
       "shape": {
        "columns": 3,
        "rows": 50
       }
      },
      "text/html": [
       "<div>\n",
       "<style scoped>\n",
       "    .dataframe tbody tr th:only-of-type {\n",
       "        vertical-align: middle;\n",
       "    }\n",
       "\n",
       "    .dataframe tbody tr th {\n",
       "        vertical-align: top;\n",
       "    }\n",
       "\n",
       "    .dataframe thead th {\n",
       "        text-align: right;\n",
       "    }\n",
       "</style>\n",
       "<table border=\"1\" class=\"dataframe\">\n",
       "  <thead>\n",
       "    <tr style=\"text-align: right;\">\n",
       "      <th></th>\n",
       "      <th>Review</th>\n",
       "      <th>Score</th>\n",
       "      <th>Language</th>\n",
       "    </tr>\n",
       "  </thead>\n",
       "  <tbody>\n",
       "    <tr>\n",
       "      <th>234</th>\n",
       "      <td>The visual effects and animation in this film ...</td>\n",
       "      <td>0.90</td>\n",
       "      <td>English</td>\n",
       "    </tr>\n",
       "    <tr>\n",
       "      <th>242</th>\n",
       "      <td>Lack of character development makes this film ...</td>\n",
       "      <td>0.25</td>\n",
       "      <td>English</td>\n",
       "    </tr>\n",
       "    <tr>\n",
       "      <th>262</th>\n",
       "      <td>Lack of character development makes this film ...</td>\n",
       "      <td>0.20</td>\n",
       "      <td>English</td>\n",
       "    </tr>\n",
       "    <tr>\n",
       "      <th>263</th>\n",
       "      <td>The visual effects and animation in this film ...</td>\n",
       "      <td>0.95</td>\n",
       "      <td>English</td>\n",
       "    </tr>\n",
       "    <tr>\n",
       "      <th>359</th>\n",
       "      <td>The time-travel element adds complexity to the...</td>\n",
       "      <td>0.88</td>\n",
       "      <td>English</td>\n",
       "    </tr>\n",
       "    <tr>\n",
       "      <th>360</th>\n",
       "      <td>Avengers: Endgame's visual effects are a techn...</td>\n",
       "      <td>0.92</td>\n",
       "      <td>English</td>\n",
       "    </tr>\n",
       "    <tr>\n",
       "      <th>361</th>\n",
       "      <td>While the film provides closure to some charac...</td>\n",
       "      <td>0.70</td>\n",
       "      <td>English</td>\n",
       "    </tr>\n",
       "    <tr>\n",
       "      <th>369</th>\n",
       "      <td>Avengers: Endgame's pacing is a triumph, seaml...</td>\n",
       "      <td>0.94</td>\n",
       "      <td>English</td>\n",
       "    </tr>\n",
       "    <tr>\n",
       "      <th>370</th>\n",
       "      <td>While Avengers: Endgame provides closure to so...</td>\n",
       "      <td>0.60</td>\n",
       "      <td>English</td>\n",
       "    </tr>\n",
       "    <tr>\n",
       "      <th>371</th>\n",
       "      <td>The emotional weight of Avengers: Endgame's na...</td>\n",
       "      <td>0.93</td>\n",
       "      <td>English</td>\n",
       "    </tr>\n",
       "    <tr>\n",
       "      <th>372</th>\n",
       "      <td>Despite a few narrative hiccups, Avengers: End...</td>\n",
       "      <td>0.88</td>\n",
       "      <td>English</td>\n",
       "    </tr>\n",
       "    <tr>\n",
       "      <th>373</th>\n",
       "      <td>The film's ambitious scope is evident in its g...</td>\n",
       "      <td>0.90</td>\n",
       "      <td>English</td>\n",
       "    </tr>\n",
       "    <tr>\n",
       "      <th>374</th>\n",
       "      <td>While Avengers: Endgame is a visual spectacle,...</td>\n",
       "      <td>0.70</td>\n",
       "      <td>English</td>\n",
       "    </tr>\n",
       "    <tr>\n",
       "      <th>375</th>\n",
       "      <td>The time-travel narrative of Avengers: Endgame...</td>\n",
       "      <td>0.85</td>\n",
       "      <td>English</td>\n",
       "    </tr>\n",
       "    <tr>\n",
       "      <th>376</th>\n",
       "      <td>Avengers: Endgame's action sequences are a fea...</td>\n",
       "      <td>0.92</td>\n",
       "      <td>English</td>\n",
       "    </tr>\n",
       "    <tr>\n",
       "      <th>377</th>\n",
       "      <td>While the film delivers on emotional beats, ce...</td>\n",
       "      <td>0.75</td>\n",
       "      <td>English</td>\n",
       "    </tr>\n",
       "    <tr>\n",
       "      <th>378</th>\n",
       "      <td>The film's intricate plot adds layers of compl...</td>\n",
       "      <td>0.90</td>\n",
       "      <td>English</td>\n",
       "    </tr>\n",
       "    <tr>\n",
       "      <th>379</th>\n",
       "      <td>Avengers: Endgame's CGI and practical effects ...</td>\n",
       "      <td>0.92</td>\n",
       "      <td>English</td>\n",
       "    </tr>\n",
       "    <tr>\n",
       "      <th>380</th>\n",
       "      <td>While Avengers: Endgame attempts to provide cl...</td>\n",
       "      <td>0.70</td>\n",
       "      <td>English</td>\n",
       "    </tr>\n",
       "    <tr>\n",
       "      <th>381</th>\n",
       "      <td>The emotional depth of Avengers: Endgame's nar...</td>\n",
       "      <td>0.93</td>\n",
       "      <td>English</td>\n",
       "    </tr>\n",
       "    <tr>\n",
       "      <th>382</th>\n",
       "      <td>The film's pacing is a testament to its storyt...</td>\n",
       "      <td>0.94</td>\n",
       "      <td>English</td>\n",
       "    </tr>\n",
       "    <tr>\n",
       "      <th>383</th>\n",
       "      <td>Avengers: Endgame's visual effects are a techn...</td>\n",
       "      <td>0.92</td>\n",
       "      <td>English</td>\n",
       "    </tr>\n",
       "    <tr>\n",
       "      <th>384</th>\n",
       "      <td>While the film provides closure to some charac...</td>\n",
       "      <td>0.70</td>\n",
       "      <td>English</td>\n",
       "    </tr>\n",
       "    <tr>\n",
       "      <th>385</th>\n",
       "      <td>The time-travel element adds complexity to the...</td>\n",
       "      <td>0.88</td>\n",
       "      <td>English</td>\n",
       "    </tr>\n",
       "    <tr>\n",
       "      <th>386</th>\n",
       "      <td>Avengers: Endgame's pacing is a triumph, seaml...</td>\n",
       "      <td>0.94</td>\n",
       "      <td>English</td>\n",
       "    </tr>\n",
       "    <tr>\n",
       "      <th>387</th>\n",
       "      <td>While Avengers: Endgame provides closure to so...</td>\n",
       "      <td>0.60</td>\n",
       "      <td>English</td>\n",
       "    </tr>\n",
       "    <tr>\n",
       "      <th>388</th>\n",
       "      <td>The emotional weight of Avengers: Endgame's na...</td>\n",
       "      <td>0.93</td>\n",
       "      <td>English</td>\n",
       "    </tr>\n",
       "    <tr>\n",
       "      <th>389</th>\n",
       "      <td>Despite a few narrative hiccups, Avengers: End...</td>\n",
       "      <td>0.88</td>\n",
       "      <td>English</td>\n",
       "    </tr>\n",
       "    <tr>\n",
       "      <th>390</th>\n",
       "      <td>The film's ambitious scope is evident in its g...</td>\n",
       "      <td>0.90</td>\n",
       "      <td>English</td>\n",
       "    </tr>\n",
       "    <tr>\n",
       "      <th>391</th>\n",
       "      <td>While Avengers: Endgame is a visual spectacle,...</td>\n",
       "      <td>0.70</td>\n",
       "      <td>English</td>\n",
       "    </tr>\n",
       "    <tr>\n",
       "      <th>392</th>\n",
       "      <td>The time-travel narrative of Avengers: Endgame...</td>\n",
       "      <td>0.85</td>\n",
       "      <td>English</td>\n",
       "    </tr>\n",
       "    <tr>\n",
       "      <th>393</th>\n",
       "      <td>Avengers: Endgame's action sequences are a fea...</td>\n",
       "      <td>0.92</td>\n",
       "      <td>English</td>\n",
       "    </tr>\n",
       "    <tr>\n",
       "      <th>394</th>\n",
       "      <td>While the film delivers on emotional beats, ce...</td>\n",
       "      <td>0.75</td>\n",
       "      <td>English</td>\n",
       "    </tr>\n",
       "    <tr>\n",
       "      <th>395</th>\n",
       "      <td>The film's intricate plot adds layers of compl...</td>\n",
       "      <td>0.90</td>\n",
       "      <td>English</td>\n",
       "    </tr>\n",
       "    <tr>\n",
       "      <th>396</th>\n",
       "      <td>Avengers: Endgame's CGI and practical effects ...</td>\n",
       "      <td>0.92</td>\n",
       "      <td>English</td>\n",
       "    </tr>\n",
       "    <tr>\n",
       "      <th>397</th>\n",
       "      <td>While Avengers: Endgame attempts to provide cl...</td>\n",
       "      <td>0.70</td>\n",
       "      <td>English</td>\n",
       "    </tr>\n",
       "    <tr>\n",
       "      <th>398</th>\n",
       "      <td>The emotional depth of Avengers: Endgame's nar...</td>\n",
       "      <td>0.93</td>\n",
       "      <td>English</td>\n",
       "    </tr>\n",
       "    <tr>\n",
       "      <th>399</th>\n",
       "      <td>The film's pacing is a testament to its storyt...</td>\n",
       "      <td>0.94</td>\n",
       "      <td>English</td>\n",
       "    </tr>\n",
       "    <tr>\n",
       "      <th>401</th>\n",
       "      <td>Spectacular</td>\n",
       "      <td>0.92</td>\n",
       "      <td>English</td>\n",
       "    </tr>\n",
       "    <tr>\n",
       "      <th>407</th>\n",
       "      <td>Intriguing</td>\n",
       "      <td>0.85</td>\n",
       "      <td>English</td>\n",
       "    </tr>\n",
       "    <tr>\n",
       "      <th>412</th>\n",
       "      <td>Impressive</td>\n",
       "      <td>0.92</td>\n",
       "      <td>English</td>\n",
       "    </tr>\n",
       "    <tr>\n",
       "      <th>416</th>\n",
       "      <td>Complex</td>\n",
       "      <td>0.35</td>\n",
       "      <td>English</td>\n",
       "    </tr>\n",
       "    <tr>\n",
       "      <th>418</th>\n",
       "      <td>Spectacular</td>\n",
       "      <td>0.92</td>\n",
       "      <td>English</td>\n",
       "    </tr>\n",
       "    <tr>\n",
       "      <th>420</th>\n",
       "      <td>Moving</td>\n",
       "      <td>0.88</td>\n",
       "      <td>English</td>\n",
       "    </tr>\n",
       "    <tr>\n",
       "      <th>422</th>\n",
       "      <td>Weak</td>\n",
       "      <td>0.25</td>\n",
       "      <td>English</td>\n",
       "    </tr>\n",
       "    <tr>\n",
       "      <th>433</th>\n",
       "      <td>Impressive</td>\n",
       "      <td>0.92</td>\n",
       "      <td>English</td>\n",
       "    </tr>\n",
       "    <tr>\n",
       "      <th>442</th>\n",
       "      <td>Complex</td>\n",
       "      <td>0.90</td>\n",
       "      <td>English</td>\n",
       "    </tr>\n",
       "    <tr>\n",
       "      <th>446</th>\n",
       "      <td>Intriguing</td>\n",
       "      <td>0.88</td>\n",
       "      <td>English</td>\n",
       "    </tr>\n",
       "    <tr>\n",
       "      <th>447</th>\n",
       "      <td>Moving</td>\n",
       "      <td>0.88</td>\n",
       "      <td>English</td>\n",
       "    </tr>\n",
       "    <tr>\n",
       "      <th>448</th>\n",
       "      <td>Weak</td>\n",
       "      <td>0.50</td>\n",
       "      <td>English</td>\n",
       "    </tr>\n",
       "  </tbody>\n",
       "</table>\n",
       "</div>"
      ],
      "text/plain": [
       "                                                Review  Score Language\n",
       "234  The visual effects and animation in this film ...   0.90  English\n",
       "242  Lack of character development makes this film ...   0.25  English\n",
       "262  Lack of character development makes this film ...   0.20  English\n",
       "263  The visual effects and animation in this film ...   0.95  English\n",
       "359  The time-travel element adds complexity to the...   0.88  English\n",
       "360  Avengers: Endgame's visual effects are a techn...   0.92  English\n",
       "361  While the film provides closure to some charac...   0.70  English\n",
       "369  Avengers: Endgame's pacing is a triumph, seaml...   0.94  English\n",
       "370  While Avengers: Endgame provides closure to so...   0.60  English\n",
       "371  The emotional weight of Avengers: Endgame's na...   0.93  English\n",
       "372  Despite a few narrative hiccups, Avengers: End...   0.88  English\n",
       "373  The film's ambitious scope is evident in its g...   0.90  English\n",
       "374  While Avengers: Endgame is a visual spectacle,...   0.70  English\n",
       "375  The time-travel narrative of Avengers: Endgame...   0.85  English\n",
       "376  Avengers: Endgame's action sequences are a fea...   0.92  English\n",
       "377  While the film delivers on emotional beats, ce...   0.75  English\n",
       "378  The film's intricate plot adds layers of compl...   0.90  English\n",
       "379  Avengers: Endgame's CGI and practical effects ...   0.92  English\n",
       "380  While Avengers: Endgame attempts to provide cl...   0.70  English\n",
       "381  The emotional depth of Avengers: Endgame's nar...   0.93  English\n",
       "382  The film's pacing is a testament to its storyt...   0.94  English\n",
       "383  Avengers: Endgame's visual effects are a techn...   0.92  English\n",
       "384  While the film provides closure to some charac...   0.70  English\n",
       "385  The time-travel element adds complexity to the...   0.88  English\n",
       "386  Avengers: Endgame's pacing is a triumph, seaml...   0.94  English\n",
       "387  While Avengers: Endgame provides closure to so...   0.60  English\n",
       "388  The emotional weight of Avengers: Endgame's na...   0.93  English\n",
       "389  Despite a few narrative hiccups, Avengers: End...   0.88  English\n",
       "390  The film's ambitious scope is evident in its g...   0.90  English\n",
       "391  While Avengers: Endgame is a visual spectacle,...   0.70  English\n",
       "392  The time-travel narrative of Avengers: Endgame...   0.85  English\n",
       "393  Avengers: Endgame's action sequences are a fea...   0.92  English\n",
       "394  While the film delivers on emotional beats, ce...   0.75  English\n",
       "395  The film's intricate plot adds layers of compl...   0.90  English\n",
       "396  Avengers: Endgame's CGI and practical effects ...   0.92  English\n",
       "397  While Avengers: Endgame attempts to provide cl...   0.70  English\n",
       "398  The emotional depth of Avengers: Endgame's nar...   0.93  English\n",
       "399  The film's pacing is a testament to its storyt...   0.94  English\n",
       "401                                        Spectacular   0.92  English\n",
       "407                                         Intriguing   0.85  English\n",
       "412                                         Impressive   0.92  English\n",
       "416                                            Complex   0.35  English\n",
       "418                                        Spectacular   0.92  English\n",
       "420                                             Moving   0.88  English\n",
       "422                                               Weak   0.25  English\n",
       "433                                         Impressive   0.92  English\n",
       "442                                            Complex   0.90  English\n",
       "446                                         Intriguing   0.88  English\n",
       "447                                             Moving   0.88  English\n",
       "448                                               Weak   0.50  English"
      ]
     },
     "execution_count": 142,
     "metadata": {},
     "output_type": "execute_result"
    }
   ],
   "source": [
    "df[(df.duplicated(subset='Review' , keep=False)) & (df['Language'] == 'English')]"
   ]
  },
  {
   "cell_type": "code",
   "execution_count": 138,
   "id": "be55bff7",
   "metadata": {},
   "outputs": [],
   "source": [
    "def get_clauses(df):\n",
    "  reviews = df['Review']\n",
    "  scores = df['Score']\n",
    "\n",
    "  results = pd.DataFrame({\n",
    "    'Review': [], 'Score': []\n",
    "  })\n",
    "\n",
    "  # sub clauses\n",
    "  for review, score in zip(reviews , scores):\n",
    "\n",
    "    clauses = re.split(r'[.?!,]' , review.strip())\n",
    "\n",
    "    cleaned_clauses = [c.strip() for c in clauses if c != '']\n",
    "\n",
    "    # remove additional 'and'\n",
    "    for i in range(len(cleaned_clauses)):\n",
    "      if cleaned_clauses[i].strip().startswith('and'):\n",
    "        cleaned_clauses[i] = cleaned_clauses[i].strip()[3:]\n",
    "\n",
    "      # This isn't grammatically correct but incase\n",
    "      if cleaned_clauses[i].strip().endswith('and'):\n",
    "        cleaned_clauses[i] = cleaned_clauses[i].strip()[:-3]\n",
    "\n",
    "\n",
    "    \n",
    "    for i , clause in enumerate(cleaned_clauses):\n",
    "      clause = clause.strip() # remove additional whitespace\n",
    "      results = pd.concat([results,\n",
    "                 pd.DataFrame({\n",
    "                    'Review': [clause],\n",
    "                    'Score': [score / len(cleaned_clauses)]            \n",
    "                 })\n",
    "      ], ignore_index=True)\n",
    "                  \n",
    "\n",
    "      # clause join and rotation about conjunction\n",
    "      if i != len(cleaned_clauses) -1:\n",
    "        conjuction_clauses = [f'{clause} and {cleaned_clauses[i + 1]}' ,f'{cleaned_clauses[i + 1]} and {clause}' ]\n",
    "        results = pd.concat([results,\n",
    "                   pd.DataFrame({\n",
    "                      'Review': conjuction_clauses,\n",
    "                      'Score': [2 * (score / len(cleaned_clauses))] * 2           \n",
    "                   })\n",
    "        ], ignore_index=True)\n",
    "  return results\n",
    "  "
   ]
  },
  {
   "cell_type": "code",
   "execution_count": 139,
   "id": "cb1484f7",
   "metadata": {},
   "outputs": [],
   "source": [
    "additional_data_english = get_clauses(df_english)"
   ]
  },
  {
   "cell_type": "code",
   "execution_count": 140,
   "id": "8c82db81",
   "metadata": {},
   "outputs": [
    {
     "data": {
      "application/vnd.microsoft.datawrangler.viewer.v0+json": {
       "columns": [
        {
         "name": "index",
         "rawType": "int64",
         "type": "integer"
        },
        {
         "name": "Review",
         "rawType": "object",
         "type": "string"
        },
        {
         "name": "Score",
         "rawType": "float64",
         "type": "float"
        }
       ],
       "conversionMethod": "pd.DataFrame",
       "ref": "25e0d3a8-8a7c-40dd-b60f-a57c623947c4",
       "rows": [
        [
         "0",
         "This movie is amazing",
         "0.3066666666666667"
        ],
        [
         "1",
         "This movie is amazing and The action is breathtaking",
         "0.6133333333333334"
        ],
        [
         "2",
         "The action is breathtaking and This movie is amazing",
         "0.6133333333333334"
        ],
        [
         "3",
         "The action is breathtaking",
         "0.3066666666666667"
        ],
        [
         "4",
         "The action is breathtaking and  the plot is intriguing",
         "0.6133333333333334"
        ],
        [
         "5",
         " the plot is intriguing and The action is breathtaking",
         "0.6133333333333334"
        ],
        [
         "6",
         "the plot is intriguing",
         "0.3066666666666667"
        ],
        [
         "7",
         "I'm disappointed with the actors' performance",
         "0.15000000000000002"
        ],
        [
         "8",
         "I'm disappointed with the actors' performance and Not satisfying",
         "0.30000000000000004"
        ],
        [
         "9",
         "Not satisfying and I'm disappointed with the actors' performance",
         "0.30000000000000004"
        ],
        [
         "10",
         "Not satisfying",
         "0.15000000000000002"
        ],
        [
         "11",
         "The storyline is touching and full of emotion",
         "0.44"
        ],
        [
         "12",
         "The storyline is touching and full of emotion and I love it",
         "0.88"
        ],
        [
         "13",
         "I love it and The storyline is touching and full of emotion",
         "0.88"
        ],
        [
         "14",
         "I love it",
         "0.44"
        ],
        [
         "15",
         "This movie delivers an outstanding experience",
         "0.475"
        ],
        [
         "16",
         "This movie delivers an outstanding experience and Truly captivating",
         "0.95"
        ],
        [
         "17",
         "Truly captivating and This movie delivers an outstanding experience",
         "0.95"
        ],
        [
         "18",
         "Truly captivating",
         "0.475"
        ],
        [
         "19",
         "Too many action scenes",
         "0.19999999999999998"
        ],
        [
         "20",
         "Too many action scenes and sometimes unnecessary",
         "0.39999999999999997"
        ],
        [
         "21",
         "sometimes unnecessary and Too many action scenes",
         "0.39999999999999997"
        ],
        [
         "22",
         "sometimes unnecessary",
         "0.19999999999999998"
        ],
        [
         "23",
         "sometimes unnecessary and Too dramatic",
         "0.39999999999999997"
        ],
        [
         "24",
         "Too dramatic and sometimes unnecessary",
         "0.39999999999999997"
        ],
        [
         "25",
         "Too dramatic",
         "0.19999999999999998"
        ],
        [
         "26",
         "I'm thrilled throughout the movie",
         "0.425"
        ],
        [
         "27",
         "I'm thrilled throughout the movie and Engaging storytelling",
         "0.85"
        ],
        [
         "28",
         "Engaging storytelling and I'm thrilled throughout the movie",
         "0.85"
        ],
        [
         "29",
         "Engaging storytelling",
         "0.425"
        ],
        [
         "30",
         "Avengers: Endgame is disappointing and too cliché",
         "0.07500000000000001"
        ],
        [
         "31",
         "Avengers: Endgame is disappointing and too cliché and Not enjoyable",
         "0.15000000000000002"
        ],
        [
         "32",
         "Not enjoyable and Avengers: Endgame is disappointing and too cliché",
         "0.15000000000000002"
        ],
        [
         "33",
         "Not enjoyable",
         "0.07500000000000001"
        ],
        [
         "34",
         "I like how this movie combines elements of science fiction",
         "0.375"
        ],
        [
         "35",
         "I like how this movie combines elements of science fiction and Interesting",
         "0.75"
        ],
        [
         "36",
         "Interesting and I like how this movie combines elements of science fiction",
         "0.75"
        ],
        [
         "37",
         "Interesting",
         "0.375"
        ],
        [
         "38",
         "This film is truly impressive with deep emotional tones",
         "0.88"
        ],
        [
         "39",
         "A cinematic experience that is unforgettable",
         "0.45"
        ],
        [
         "40",
         "A cinematic experience that is unforgettable and I'm impressed",
         "0.9"
        ],
        [
         "41",
         "I'm impressed and A cinematic experience that is unforgettable",
         "0.9"
        ],
        [
         "42",
         "I'm impressed",
         "0.45"
        ],
        [
         "43",
         "I feel this movie didn't meet the expected standards",
         "0.125"
        ],
        [
         "44",
         "I feel this movie didn't meet the expected standards and Not satisfying",
         "0.25"
        ],
        [
         "45",
         "Not satisfying and I feel this movie didn't meet the expected standards",
         "0.25"
        ],
        [
         "46",
         "Not satisfying",
         "0.125"
        ],
        [
         "47",
         "Amazing action and a plot full of surprises",
         "0.44"
        ],
        [
         "48",
         "Amazing action and a plot full of surprises and I'm impressed",
         "0.88"
        ],
        [
         "49",
         "I'm impressed and Amazing action and a plot full of surprises",
         "0.88"
        ]
       ],
       "shape": {
        "columns": 2,
        "rows": 1704
       }
      },
      "text/html": [
       "<div>\n",
       "<style scoped>\n",
       "    .dataframe tbody tr th:only-of-type {\n",
       "        vertical-align: middle;\n",
       "    }\n",
       "\n",
       "    .dataframe tbody tr th {\n",
       "        vertical-align: top;\n",
       "    }\n",
       "\n",
       "    .dataframe thead th {\n",
       "        text-align: right;\n",
       "    }\n",
       "</style>\n",
       "<table border=\"1\" class=\"dataframe\">\n",
       "  <thead>\n",
       "    <tr style=\"text-align: right;\">\n",
       "      <th></th>\n",
       "      <th>Review</th>\n",
       "      <th>Score</th>\n",
       "    </tr>\n",
       "  </thead>\n",
       "  <tbody>\n",
       "    <tr>\n",
       "      <th>0</th>\n",
       "      <td>This movie is amazing</td>\n",
       "      <td>0.306667</td>\n",
       "    </tr>\n",
       "    <tr>\n",
       "      <th>1</th>\n",
       "      <td>This movie is amazing and The action is breath...</td>\n",
       "      <td>0.613333</td>\n",
       "    </tr>\n",
       "    <tr>\n",
       "      <th>2</th>\n",
       "      <td>The action is breathtaking and This movie is a...</td>\n",
       "      <td>0.613333</td>\n",
       "    </tr>\n",
       "    <tr>\n",
       "      <th>3</th>\n",
       "      <td>The action is breathtaking</td>\n",
       "      <td>0.306667</td>\n",
       "    </tr>\n",
       "    <tr>\n",
       "      <th>4</th>\n",
       "      <td>The action is breathtaking and  the plot is in...</td>\n",
       "      <td>0.613333</td>\n",
       "    </tr>\n",
       "    <tr>\n",
       "      <th>...</th>\n",
       "      <td>...</td>\n",
       "      <td>...</td>\n",
       "    </tr>\n",
       "    <tr>\n",
       "      <th>1699</th>\n",
       "      <td>engaging narrative</td>\n",
       "      <td>0.460000</td>\n",
       "    </tr>\n",
       "    <tr>\n",
       "      <th>1700</th>\n",
       "      <td>Top-notch effects</td>\n",
       "      <td>0.460000</td>\n",
       "    </tr>\n",
       "    <tr>\n",
       "      <th>1701</th>\n",
       "      <td>Top-notch effects and captivating storytelling</td>\n",
       "      <td>0.920000</td>\n",
       "    </tr>\n",
       "    <tr>\n",
       "      <th>1702</th>\n",
       "      <td>captivating storytelling and Top-notch effects</td>\n",
       "      <td>0.920000</td>\n",
       "    </tr>\n",
       "    <tr>\n",
       "      <th>1703</th>\n",
       "      <td>captivating storytelling</td>\n",
       "      <td>0.460000</td>\n",
       "    </tr>\n",
       "  </tbody>\n",
       "</table>\n",
       "<p>1704 rows × 2 columns</p>\n",
       "</div>"
      ],
      "text/plain": [
       "                                                 Review     Score\n",
       "0                                 This movie is amazing  0.306667\n",
       "1     This movie is amazing and The action is breath...  0.613333\n",
       "2     The action is breathtaking and This movie is a...  0.613333\n",
       "3                            The action is breathtaking  0.306667\n",
       "4     The action is breathtaking and  the plot is in...  0.613333\n",
       "...                                                 ...       ...\n",
       "1699                                 engaging narrative  0.460000\n",
       "1700                                  Top-notch effects  0.460000\n",
       "1701     Top-notch effects and captivating storytelling  0.920000\n",
       "1702     captivating storytelling and Top-notch effects  0.920000\n",
       "1703                           captivating storytelling  0.460000\n",
       "\n",
       "[1704 rows x 2 columns]"
      ]
     },
     "execution_count": 140,
     "metadata": {},
     "output_type": "execute_result"
    }
   ],
   "source": [
    "additional_data_english"
   ]
  },
  {
   "cell_type": "code",
   "execution_count": 143,
   "id": "f8476533",
   "metadata": {},
   "outputs": [
    {
     "data": {
      "application/vnd.microsoft.datawrangler.viewer.v0+json": {
       "columns": [
        {
         "name": "index",
         "rawType": "int64",
         "type": "integer"
        },
        {
         "name": "Review",
         "rawType": "object",
         "type": "string"
        },
        {
         "name": "Score",
         "rawType": "float64",
         "type": "float"
        },
        {
         "name": "Language",
         "rawType": "object",
         "type": "unknown"
        }
       ],
       "conversionMethod": "pd.DataFrame",
       "ref": "b94ae50d-a674-4f90-8813-f2d4b2890a21",
       "rows": [
        [
         "0",
         "This movie is amazing! The action is breathtaking, and the plot is intriguing.",
         "0.92",
         "English"
        ],
        [
         "1",
         "I'm disappointed with the actors' performance. Not satisfying.",
         "0.30000000000000004",
         "English"
        ],
        [
         "2",
         "The storyline is touching and full of emotion. I love it!",
         "0.88",
         "English"
        ],
        [
         "3",
         "This movie delivers an outstanding experience. Truly captivating!",
         "0.95",
         "English"
        ],
        [
         "4",
         "Too many action scenes, sometimes unnecessary. Too dramatic.",
         "0.6",
         "English"
        ],
        [
         "5",
         "I'm thrilled throughout the movie. Engaging storytelling!",
         "0.85",
         "English"
        ],
        [
         "6",
         "Avengers: Endgame is disappointing and too cliché. Not enjoyable.",
         "0.15000000000000002",
         "English"
        ],
        [
         "7",
         "I like how this movie combines elements of science fiction. Interesting!",
         "0.75",
         "English"
        ],
        [
         "8",
         "This film is truly impressive with deep emotional tones.",
         "0.88",
         "English"
        ],
        [
         "9",
         "A cinematic experience that is unforgettable. I'm impressed!",
         "0.9",
         "English"
        ],
        [
         "10",
         "I feel this movie didn't meet the expected standards. Not satisfying.",
         "0.25",
         "English"
        ],
        [
         "11",
         "Amazing action and a plot full of surprises. I'm impressed!",
         "0.88",
         "English"
        ],
        [
         "12",
         "The visual quality of this film is astonishing. Excited about its special effects!",
         "0.9",
         "English"
        ],
        [
         "13",
         "I'm not satisfied with how the main actors deliver their lines. Not convincing.",
         "0.19999999999999996",
         "English"
        ],
        [
         "14",
         "The storyline is complex but very interesting. I like it!",
         "0.8",
         "English"
        ],
        [
         "15",
         "Dramatic and impactful action scenes. Too many special effects.",
         "0.4",
         "English"
        ],
        [
         "16",
         "This film captivates with the atmosphere it creates. I'm impressed!",
         "0.9",
         "English"
        ],
        [
         "17",
         "The actors give excellent performances. I like this story!",
         "0.85",
         "English"
        ],
        [
         "18",
         "I don't understand the plot of this film. Too complex.",
         "0.30000000000000004",
         "English"
        ],
        [
         "19",
         "A big surprise in the plot! Thrilling action throughout.",
         "0.9",
         "English"
        ],
        [
         "20",
         "The visual effects of this film are truly captivating. I'm impressed!",
         "0.9",
         "English"
        ],
        [
         "21",
         "An open-ended and unsatisfying plot. No satisfying conclusion.",
         "0.30000000000000004",
         "English"
        ],
        [
         "22",
         "This film makes me laugh and cry. Love the emotions conveyed.",
         "0.85",
         "English"
        ],
        [
         "23",
         "The actors fail to portray their characters well. Not credible.",
         "0.30000000000000004",
         "English"
        ],
        [
         "24",
         "Overall, this film is great! I would watch it again.",
         "0.92",
         "English"
        ],
        [
         "25",
         "Outstanding action scenes. Excited about the trilogy's conclusion.",
         "0.88",
         "English"
        ],
        [
         "26",
         "Unfortunately, the plot of this film is too open-ended. No satisfying closure.",
         "0.30000000000000004",
         "English"
        ],
        [
         "27",
         "I like how this film combines comedy with action. Highly entertaining.",
         "0.85",
         "English"
        ],
        [
         "28",
         "The visual effects and animation in this film are amazing. Impressed!",
         "0.9",
         "English"
        ],
        [
         "29",
         "The actors give a very good performance. I like the story.",
         "0.88",
         "English"
        ],
        [
         "30",
         "This film is very disappointing. Not worth the hype.",
         "0.19999999999999996",
         "English"
        ],
        [
         "31",
         "Complex but very interesting plot. Big twist at the end!",
         "0.9",
         "English"
        ],
        [
         "32",
         "Too many over-the-top action scenes. Too many special effects.",
         "0.4",
         "English"
        ],
        [
         "33",
         "I don't understand the twist in the plot. A bit confusing.",
         "0.30000000000000004",
         "English"
        ],
        [
         "34",
         "This film is interesting and provides a deep experience. I like it!",
         "0.88",
         "English"
        ],
        [
         "35",
         "The visual effects of this film are outstanding. Excited about the technical brilliance!",
         "0.9",
         "English"
        ],
        [
         "36",
         "Lack of character development makes this film weak. Not satisfying.",
         "0.25",
         "English"
        ],
        [
         "37",
         "I'm thrilled with how this film incorporates elements of science fiction.",
         "0.8",
         "English"
        ],
        [
         "38",
         "Interesting and surprising plot. Love the twist in the story.",
         "0.85",
         "English"
        ],
        [
         "39",
         "This film has a great emotional impact. Touching!",
         "0.88",
         "English"
        ],
        [
         "40",
         "The actors give a very good performance. I like the character development.",
         "0.88",
         "English"
        ],
        [
         "41",
         "The plot is quite ordinary but brought to life with great action.",
         "0.75",
         "English"
        ],
        [
         "42",
         "An extremely epic ending! Thrilled with the trilogy's conclusion.",
         "0.92",
         "English"
        ],
        [
         "43",
         "This film is great! I like the character development.",
         "0.9",
         "English"
        ],
        [
         "44",
         "I don't like the overly complex plot. Hard to follow.",
         "0.30000000000000004",
         "English"
        ],
        [
         "45",
         "Very pleased with this film. Amazing action!",
         "0.88",
         "English"
        ],
        [
         "46",
         "Complex but very interesting plot. Big surprise at the end!",
         "0.92",
         "English"
        ],
        [
         "47",
         "The visual effects of this film are truly astonishing. Impressed!",
         "0.9",
         "English"
        ],
        [
         "48",
         "Deep emotional impact in this film makes me teary-eyed. I like it!",
         "0.88",
         "English"
        ],
        [
         "49",
         "Lack of tension in the plot makes me bored. No surprising elements.",
         "0.30000000000000004",
         "English"
        ]
       ],
       "shape": {
        "columns": 3,
        "rows": 2001
       }
      },
      "text/html": [
       "<div>\n",
       "<style scoped>\n",
       "    .dataframe tbody tr th:only-of-type {\n",
       "        vertical-align: middle;\n",
       "    }\n",
       "\n",
       "    .dataframe tbody tr th {\n",
       "        vertical-align: top;\n",
       "    }\n",
       "\n",
       "    .dataframe thead th {\n",
       "        text-align: right;\n",
       "    }\n",
       "</style>\n",
       "<table border=\"1\" class=\"dataframe\">\n",
       "  <thead>\n",
       "    <tr style=\"text-align: right;\">\n",
       "      <th></th>\n",
       "      <th>Review</th>\n",
       "      <th>Score</th>\n",
       "      <th>Language</th>\n",
       "    </tr>\n",
       "  </thead>\n",
       "  <tbody>\n",
       "    <tr>\n",
       "      <th>0</th>\n",
       "      <td>This movie is amazing! The action is breathtak...</td>\n",
       "      <td>0.92</td>\n",
       "      <td>English</td>\n",
       "    </tr>\n",
       "    <tr>\n",
       "      <th>1</th>\n",
       "      <td>I'm disappointed with the actors' performance....</td>\n",
       "      <td>0.30</td>\n",
       "      <td>English</td>\n",
       "    </tr>\n",
       "    <tr>\n",
       "      <th>2</th>\n",
       "      <td>The storyline is touching and full of emotion....</td>\n",
       "      <td>0.88</td>\n",
       "      <td>English</td>\n",
       "    </tr>\n",
       "    <tr>\n",
       "      <th>3</th>\n",
       "      <td>This movie delivers an outstanding experience....</td>\n",
       "      <td>0.95</td>\n",
       "      <td>English</td>\n",
       "    </tr>\n",
       "    <tr>\n",
       "      <th>4</th>\n",
       "      <td>Too many action scenes, sometimes unnecessary....</td>\n",
       "      <td>0.60</td>\n",
       "      <td>English</td>\n",
       "    </tr>\n",
       "    <tr>\n",
       "      <th>...</th>\n",
       "      <td>...</td>\n",
       "      <td>...</td>\n",
       "      <td>...</td>\n",
       "    </tr>\n",
       "    <tr>\n",
       "      <th>1996</th>\n",
       "      <td>engaging narrative</td>\n",
       "      <td>0.46</td>\n",
       "      <td>NaN</td>\n",
       "    </tr>\n",
       "    <tr>\n",
       "      <th>1997</th>\n",
       "      <td>Top-notch effects</td>\n",
       "      <td>0.46</td>\n",
       "      <td>NaN</td>\n",
       "    </tr>\n",
       "    <tr>\n",
       "      <th>1998</th>\n",
       "      <td>Top-notch effects and captivating storytelling</td>\n",
       "      <td>0.92</td>\n",
       "      <td>NaN</td>\n",
       "    </tr>\n",
       "    <tr>\n",
       "      <th>1999</th>\n",
       "      <td>captivating storytelling and Top-notch effects</td>\n",
       "      <td>0.92</td>\n",
       "      <td>NaN</td>\n",
       "    </tr>\n",
       "    <tr>\n",
       "      <th>2000</th>\n",
       "      <td>captivating storytelling</td>\n",
       "      <td>0.46</td>\n",
       "      <td>NaN</td>\n",
       "    </tr>\n",
       "  </tbody>\n",
       "</table>\n",
       "<p>2001 rows × 3 columns</p>\n",
       "</div>"
      ],
      "text/plain": [
       "                                                 Review  Score Language\n",
       "0     This movie is amazing! The action is breathtak...   0.92  English\n",
       "1     I'm disappointed with the actors' performance....   0.30  English\n",
       "2     The storyline is touching and full of emotion....   0.88  English\n",
       "3     This movie delivers an outstanding experience....   0.95  English\n",
       "4     Too many action scenes, sometimes unnecessary....   0.60  English\n",
       "...                                                 ...    ...      ...\n",
       "1996                                 engaging narrative   0.46      NaN\n",
       "1997                                  Top-notch effects   0.46      NaN\n",
       "1998     Top-notch effects and captivating storytelling   0.92      NaN\n",
       "1999     captivating storytelling and Top-notch effects   0.92      NaN\n",
       "2000                           captivating storytelling   0.46      NaN\n",
       "\n",
       "[2001 rows x 3 columns]"
      ]
     },
     "execution_count": 143,
     "metadata": {},
     "output_type": "execute_result"
    }
   ],
   "source": [
    "large_review_df_english = pd.concat([df_english , additional_data_english] , ignore_index=True)\n",
    "large_review_df_english"
   ]
  },
  {
   "cell_type": "markdown",
   "id": "7c66fdbd",
   "metadata": {},
   "source": [
    "##### Data Preperation"
   ]
  },
  {
   "cell_type": "code",
   "execution_count": 144,
   "id": "ae0f1dfe",
   "metadata": {},
   "outputs": [],
   "source": [
    "def clean_text(text):\n",
    "  text = text.lower()\n",
    "\n",
    "  # Remove Punctuation\n",
    "  text = re.sub(r'[^a-zA-Z\\s]', '', text)\n",
    "  # Remove whitespace\n",
    "  text = re.sub(r'\\s+', ' ', text).strip()\n",
    "\n",
    "  return text"
   ]
  },
  {
   "cell_type": "code",
   "execution_count": 145,
   "id": "6bdee7ba",
   "metadata": {},
   "outputs": [],
   "source": [
    "large_review_df_english['Review'] = large_review_df_english['Review'].apply(clean_text)"
   ]
  },
  {
   "cell_type": "code",
   "execution_count": 146,
   "id": "b78bfff0",
   "metadata": {},
   "outputs": [
    {
     "data": {
      "application/vnd.microsoft.datawrangler.viewer.v0+json": {
       "columns": [
        {
         "name": "index",
         "rawType": "int64",
         "type": "integer"
        },
        {
         "name": "Review",
         "rawType": "object",
         "type": "string"
        },
        {
         "name": "Score",
         "rawType": "float64",
         "type": "float"
        },
        {
         "name": "Language",
         "rawType": "object",
         "type": "unknown"
        }
       ],
       "conversionMethod": "pd.DataFrame",
       "ref": "25a7caf6-5325-4c32-b257-73ee653e1b40",
       "rows": [
        [
         "0",
         "this movie is amazing the action is breathtaking and the plot is intriguing",
         "0.92",
         "English"
        ],
        [
         "1",
         "im disappointed with the actors performance not satisfying",
         "0.30000000000000004",
         "English"
        ],
        [
         "2",
         "the storyline is touching and full of emotion i love it",
         "0.88",
         "English"
        ],
        [
         "3",
         "this movie delivers an outstanding experience truly captivating",
         "0.95",
         "English"
        ],
        [
         "4",
         "too many action scenes sometimes unnecessary too dramatic",
         "0.6",
         "English"
        ],
        [
         "5",
         "im thrilled throughout the movie engaging storytelling",
         "0.85",
         "English"
        ],
        [
         "6",
         "avengers endgame is disappointing and too clich not enjoyable",
         "0.15000000000000002",
         "English"
        ],
        [
         "7",
         "i like how this movie combines elements of science fiction interesting",
         "0.75",
         "English"
        ],
        [
         "8",
         "this film is truly impressive with deep emotional tones",
         "0.88",
         "English"
        ],
        [
         "9",
         "a cinematic experience that is unforgettable im impressed",
         "0.9",
         "English"
        ],
        [
         "10",
         "i feel this movie didnt meet the expected standards not satisfying",
         "0.25",
         "English"
        ],
        [
         "11",
         "amazing action and a plot full of surprises im impressed",
         "0.88",
         "English"
        ],
        [
         "12",
         "the visual quality of this film is astonishing excited about its special effects",
         "0.9",
         "English"
        ],
        [
         "13",
         "im not satisfied with how the main actors deliver their lines not convincing",
         "0.19999999999999996",
         "English"
        ],
        [
         "14",
         "the storyline is complex but very interesting i like it",
         "0.8",
         "English"
        ],
        [
         "15",
         "dramatic and impactful action scenes too many special effects",
         "0.4",
         "English"
        ],
        [
         "16",
         "this film captivates with the atmosphere it creates im impressed",
         "0.9",
         "English"
        ],
        [
         "17",
         "the actors give excellent performances i like this story",
         "0.85",
         "English"
        ],
        [
         "18",
         "i dont understand the plot of this film too complex",
         "0.30000000000000004",
         "English"
        ],
        [
         "19",
         "a big surprise in the plot thrilling action throughout",
         "0.9",
         "English"
        ],
        [
         "20",
         "the visual effects of this film are truly captivating im impressed",
         "0.9",
         "English"
        ],
        [
         "21",
         "an openended and unsatisfying plot no satisfying conclusion",
         "0.30000000000000004",
         "English"
        ],
        [
         "22",
         "this film makes me laugh and cry love the emotions conveyed",
         "0.85",
         "English"
        ],
        [
         "23",
         "the actors fail to portray their characters well not credible",
         "0.30000000000000004",
         "English"
        ],
        [
         "24",
         "overall this film is great i would watch it again",
         "0.92",
         "English"
        ],
        [
         "25",
         "outstanding action scenes excited about the trilogys conclusion",
         "0.88",
         "English"
        ],
        [
         "26",
         "unfortunately the plot of this film is too openended no satisfying closure",
         "0.30000000000000004",
         "English"
        ],
        [
         "27",
         "i like how this film combines comedy with action highly entertaining",
         "0.85",
         "English"
        ],
        [
         "28",
         "the visual effects and animation in this film are amazing impressed",
         "0.9",
         "English"
        ],
        [
         "29",
         "the actors give a very good performance i like the story",
         "0.88",
         "English"
        ],
        [
         "30",
         "this film is very disappointing not worth the hype",
         "0.19999999999999996",
         "English"
        ],
        [
         "31",
         "complex but very interesting plot big twist at the end",
         "0.9",
         "English"
        ],
        [
         "32",
         "too many overthetop action scenes too many special effects",
         "0.4",
         "English"
        ],
        [
         "33",
         "i dont understand the twist in the plot a bit confusing",
         "0.30000000000000004",
         "English"
        ],
        [
         "34",
         "this film is interesting and provides a deep experience i like it",
         "0.88",
         "English"
        ],
        [
         "35",
         "the visual effects of this film are outstanding excited about the technical brilliance",
         "0.9",
         "English"
        ],
        [
         "36",
         "lack of character development makes this film weak not satisfying",
         "0.25",
         "English"
        ],
        [
         "37",
         "im thrilled with how this film incorporates elements of science fiction",
         "0.8",
         "English"
        ],
        [
         "38",
         "interesting and surprising plot love the twist in the story",
         "0.85",
         "English"
        ],
        [
         "39",
         "this film has a great emotional impact touching",
         "0.88",
         "English"
        ],
        [
         "40",
         "the actors give a very good performance i like the character development",
         "0.88",
         "English"
        ],
        [
         "41",
         "the plot is quite ordinary but brought to life with great action",
         "0.75",
         "English"
        ],
        [
         "42",
         "an extremely epic ending thrilled with the trilogys conclusion",
         "0.92",
         "English"
        ],
        [
         "43",
         "this film is great i like the character development",
         "0.9",
         "English"
        ],
        [
         "44",
         "i dont like the overly complex plot hard to follow",
         "0.30000000000000004",
         "English"
        ],
        [
         "45",
         "very pleased with this film amazing action",
         "0.88",
         "English"
        ],
        [
         "46",
         "complex but very interesting plot big surprise at the end",
         "0.92",
         "English"
        ],
        [
         "47",
         "the visual effects of this film are truly astonishing impressed",
         "0.9",
         "English"
        ],
        [
         "48",
         "deep emotional impact in this film makes me tearyeyed i like it",
         "0.88",
         "English"
        ],
        [
         "49",
         "lack of tension in the plot makes me bored no surprising elements",
         "0.30000000000000004",
         "English"
        ]
       ],
       "shape": {
        "columns": 3,
        "rows": 2001
       }
      },
      "text/html": [
       "<div>\n",
       "<style scoped>\n",
       "    .dataframe tbody tr th:only-of-type {\n",
       "        vertical-align: middle;\n",
       "    }\n",
       "\n",
       "    .dataframe tbody tr th {\n",
       "        vertical-align: top;\n",
       "    }\n",
       "\n",
       "    .dataframe thead th {\n",
       "        text-align: right;\n",
       "    }\n",
       "</style>\n",
       "<table border=\"1\" class=\"dataframe\">\n",
       "  <thead>\n",
       "    <tr style=\"text-align: right;\">\n",
       "      <th></th>\n",
       "      <th>Review</th>\n",
       "      <th>Score</th>\n",
       "      <th>Language</th>\n",
       "    </tr>\n",
       "  </thead>\n",
       "  <tbody>\n",
       "    <tr>\n",
       "      <th>0</th>\n",
       "      <td>this movie is amazing the action is breathtaki...</td>\n",
       "      <td>0.92</td>\n",
       "      <td>English</td>\n",
       "    </tr>\n",
       "    <tr>\n",
       "      <th>1</th>\n",
       "      <td>im disappointed with the actors performance no...</td>\n",
       "      <td>0.30</td>\n",
       "      <td>English</td>\n",
       "    </tr>\n",
       "    <tr>\n",
       "      <th>2</th>\n",
       "      <td>the storyline is touching and full of emotion ...</td>\n",
       "      <td>0.88</td>\n",
       "      <td>English</td>\n",
       "    </tr>\n",
       "    <tr>\n",
       "      <th>3</th>\n",
       "      <td>this movie delivers an outstanding experience ...</td>\n",
       "      <td>0.95</td>\n",
       "      <td>English</td>\n",
       "    </tr>\n",
       "    <tr>\n",
       "      <th>4</th>\n",
       "      <td>too many action scenes sometimes unnecessary t...</td>\n",
       "      <td>0.60</td>\n",
       "      <td>English</td>\n",
       "    </tr>\n",
       "    <tr>\n",
       "      <th>...</th>\n",
       "      <td>...</td>\n",
       "      <td>...</td>\n",
       "      <td>...</td>\n",
       "    </tr>\n",
       "    <tr>\n",
       "      <th>1996</th>\n",
       "      <td>engaging narrative</td>\n",
       "      <td>0.46</td>\n",
       "      <td>NaN</td>\n",
       "    </tr>\n",
       "    <tr>\n",
       "      <th>1997</th>\n",
       "      <td>topnotch effects</td>\n",
       "      <td>0.46</td>\n",
       "      <td>NaN</td>\n",
       "    </tr>\n",
       "    <tr>\n",
       "      <th>1998</th>\n",
       "      <td>topnotch effects and captivating storytelling</td>\n",
       "      <td>0.92</td>\n",
       "      <td>NaN</td>\n",
       "    </tr>\n",
       "    <tr>\n",
       "      <th>1999</th>\n",
       "      <td>captivating storytelling and topnotch effects</td>\n",
       "      <td>0.92</td>\n",
       "      <td>NaN</td>\n",
       "    </tr>\n",
       "    <tr>\n",
       "      <th>2000</th>\n",
       "      <td>captivating storytelling</td>\n",
       "      <td>0.46</td>\n",
       "      <td>NaN</td>\n",
       "    </tr>\n",
       "  </tbody>\n",
       "</table>\n",
       "<p>2001 rows × 3 columns</p>\n",
       "</div>"
      ],
      "text/plain": [
       "                                                 Review  Score Language\n",
       "0     this movie is amazing the action is breathtaki...   0.92  English\n",
       "1     im disappointed with the actors performance no...   0.30  English\n",
       "2     the storyline is touching and full of emotion ...   0.88  English\n",
       "3     this movie delivers an outstanding experience ...   0.95  English\n",
       "4     too many action scenes sometimes unnecessary t...   0.60  English\n",
       "...                                                 ...    ...      ...\n",
       "1996                                 engaging narrative   0.46      NaN\n",
       "1997                                   topnotch effects   0.46      NaN\n",
       "1998      topnotch effects and captivating storytelling   0.92      NaN\n",
       "1999      captivating storytelling and topnotch effects   0.92      NaN\n",
       "2000                           captivating storytelling   0.46      NaN\n",
       "\n",
       "[2001 rows x 3 columns]"
      ]
     },
     "execution_count": 146,
     "metadata": {},
     "output_type": "execute_result"
    }
   ],
   "source": [
    "large_review_df_english"
   ]
  },
  {
   "cell_type": "code",
   "execution_count": null,
   "id": "9652ca8a",
   "metadata": {},
   "outputs": [],
   "source": []
  }
 ],
 "metadata": {
  "kernelspec": {
   "display_name": "gpu_env2",
   "language": "python",
   "name": "python3"
  },
  "language_info": {
   "codemirror_mode": {
    "name": "ipython",
    "version": 3
   },
   "file_extension": ".py",
   "mimetype": "text/x-python",
   "name": "python",
   "nbconvert_exporter": "python",
   "pygments_lexer": "ipython3",
   "version": "3.8.20"
  }
 },
 "nbformat": 4,
 "nbformat_minor": 5
}

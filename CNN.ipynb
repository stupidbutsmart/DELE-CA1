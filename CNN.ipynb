{
  "cells": [
    {
      "cell_type": "markdown",
      "metadata": {
        "colab_type": "text",
        "id": "view-in-github"
      },
      "source": [
        "<a href=\"https://colab.research.google.com/github/stupidbutsmart/DELE-CA1/blob/master/CNN.ipynb\" target=\"_parent\"><img src=\"https://colab.research.google.com/assets/colab-badge.svg\" alt=\"Open In Colab\"/></a>"
      ]
    },
    {
      "cell_type": "markdown",
      "metadata": {},
      "source": [
        "<style>\n",
        "  b {\n",
        "    color: red;\n",
        "  }\n",
        "</style>"
      ]
    },
    {
      "cell_type": "markdown",
      "metadata": {
        "id": "drYdFP8ZjTIU"
      },
      "source": [
        "## Section A CA1 CNN\n",
        "\n",
        "Name: Jovan Heng Ghim Hong\n",
        "\n",
        "Class: DAAA/2B/22\n",
        "\n",
        "Admin No: 2401418"
      ]
    },
    {
      "cell_type": "code",
      "execution_count": 66,
      "metadata": {
        "id": "VlnTAWvYfMzC"
      },
      "outputs": [],
      "source": [
        "# Basic Imports\n",
        "import os\n",
        "import pandas as pd\n",
        "import numpy as np\n",
        "import matplotlib.pyplot as plt\n",
        "import warnings\n",
        "\n",
        "import tensorflow as tf\n",
        "from tensorflow.keras.models import Sequential\n",
        "from tensorflow.keras.layers import Dense, Flatten ,Conv2D, MaxPooling2D , UpSampling2D, Cropping2D\n",
        "from sklearn.model_selection import RandomizedSearchCV\n",
        "from tensorflow.keras.preprocessing import image\n",
        "\n",
        "## for keras classifier i will be using scikeras lib\n",
        "## 2.12+ no longer supports tensorflow.keras.wrappers.scikit_learn\n",
        "## this was coded in across different versions (namely 2.10 and 2.19)\n",
        "from scikeras.wrappers import KerasClassifier\n",
        "\n",
        "\n",
        "tf.random.set_seed(42)\n",
        "warnings.filterwarnings('ignore')"
      ]
    },
    {
      "cell_type": "markdown",
      "metadata": {
        "id": "81N_4zcFl8ql"
      },
      "source": [
        "### Creating UDFs to aid workflow\n",
        "\n",
        "Before i start, i want to create some functions that can help me with my work.\n",
        "\n",
        "basic functions like:\n",
        "1. create model function\n",
        "2. autoencoder function\n",
        "3. data processing functions\n",
        "\n",
        "etc.\n",
        "\n",
        "This can help modularize my code (especially since im working with 2 models) and make it easier for future collaborater to understand"
      ]
    },
    {
      "cell_type": "code",
      "execution_count": 35,
      "metadata": {
        "id": "6uQ3FWgV9FxE"
      },
      "outputs": [],
      "source": [
        "DATASET_PATH = './datasets/'\n",
        "\n",
        "def get_greyscale_data(data_type , size):\n",
        "  targets = [ target for target in os.listdir(DATASET_PATH + data_type)]\n",
        "\n",
        "  rows = []\n",
        "  for target in targets: \n",
        "    for file_name in os.listdir(os.path.join(DATASET_PATH , data_type ,  target)):\n",
        "      # greyscale \n",
        "      img = image.load_img(os.path.join(DATASET_PATH , data_type, target , file_name ) ,color_mode='grayscale' , target_size=size)\n",
        "      img = image.img_to_array(img)\n",
        "      \n",
        "      record = {'sequence' : img}\n",
        "      for t in targets:\n",
        "        record[t] = 1 if t == target else 0\n",
        "\n",
        "      rows.append(record)\n",
        "\n",
        "  return pd.DataFrame(rows , columns=['sequence'] + targets)\n",
        "\n"
      ]
    },
    {
      "cell_type": "code",
      "execution_count": 43,
      "metadata": {},
      "outputs": [],
      "source": [
        "STORED_DATA = './stored_data/'\n",
        "def build_data(size):\n",
        "  \"\"\" size should be a single number n for n x n pixels\n",
        "  \"\"\"\n",
        "  res = []\n",
        "  for file in os.listdir(STORED_DATA):\n",
        "    if file.endswith('.json') and (str (size) in file):\n",
        "      res.append(pd.read_json(os.path.join(STORED_DATA , file)))\n",
        "  return res"
      ]
    },
    {
      "cell_type": "code",
      "execution_count": 44,
      "metadata": {
        "id": "RTynbJChkSH0"
      },
      "outputs": [],
      "source": [
        "def create_model(\n",
        "    number_of_layers=3 , number_of_neurons=128,\n",
        "    optimizer='adam' , activation='relu',\n",
        "    layers=[Conv2D], # incase i want to add more layers\n",
        "    strict_follow_layers = False,\n",
        "    input_shape=(23 , 23 , 3) # follows first layer\n",
        "):\n",
        "  model = Sequential()\n",
        "\n",
        "  # Adding layers\n",
        "  if strict_follow_layers:\n",
        "    for layer in layers:\n",
        "      model.add(layer(number_of_neurons , activation=activation))\n",
        "  else:\n",
        "    for i in range(number_of_layers):\n",
        "      for layer in layers:\n",
        "        model.add(layer(number_of_neurons , activation=activation))\n",
        "\n",
        "  model.add(Flatten())\n",
        "  model.add(Dense(1 , activation='softmax'))\n",
        "  model.compile(optimizer=optimizer , loss='categorical_crossentropy' , metrics=['accuracy'])\n",
        "\n",
        "  return KerasClassifier(model)\n",
        "\n"
      ]
    },
    {
      "cell_type": "markdown",
      "metadata": {},
      "source": [
        "### Data Cleaning and Exploration"
      ]
    },
    {
      "cell_type": "code",
      "execution_count": 38,
      "metadata": {},
      "outputs": [],
      "source": [
        "## NOTE\n",
        "## get_greyscale_data() takes awhile to run\n",
        "## below there is a function that builds the DF from ./stored_data\n",
        "## run if ./stored_data was not provided, otherwise run cell with build_data() below\n",
        "train_data = get_greyscale_data('train' , (23 , 23))"
      ]
    },
    {
      "cell_type": "code",
      "execution_count": 39,
      "metadata": {},
      "outputs": [
        {
          "data": {
            "text/html": [
              "<div>\n",
              "<style scoped>\n",
              "    .dataframe tbody tr th:only-of-type {\n",
              "        vertical-align: middle;\n",
              "    }\n",
              "\n",
              "    .dataframe tbody tr th {\n",
              "        vertical-align: top;\n",
              "    }\n",
              "\n",
              "    .dataframe thead th {\n",
              "        text-align: right;\n",
              "    }\n",
              "</style>\n",
              "<table border=\"1\" class=\"dataframe\">\n",
              "  <thead>\n",
              "    <tr style=\"text-align: right;\">\n",
              "      <th></th>\n",
              "      <th>sequence</th>\n",
              "      <th>Bean</th>\n",
              "      <th>Bitter_Gourd</th>\n",
              "      <th>Brinjal</th>\n",
              "      <th>Cabbage</th>\n",
              "      <th>Capsicum</th>\n",
              "      <th>Cauliflower and Broccoli</th>\n",
              "      <th>Cucumber and Bottle_Gourd</th>\n",
              "      <th>Potato</th>\n",
              "      <th>Pumpkin</th>\n",
              "      <th>Radish and Carrot</th>\n",
              "      <th>Tomato</th>\n",
              "    </tr>\n",
              "  </thead>\n",
              "  <tbody>\n",
              "    <tr>\n",
              "      <th>0</th>\n",
              "      <td>[[[34.0], [107.0], [32.0], [29.0], [34.0], [31...</td>\n",
              "      <td>1</td>\n",
              "      <td>0</td>\n",
              "      <td>0</td>\n",
              "      <td>0</td>\n",
              "      <td>0</td>\n",
              "      <td>0</td>\n",
              "      <td>0</td>\n",
              "      <td>0</td>\n",
              "      <td>0</td>\n",
              "      <td>0</td>\n",
              "      <td>0</td>\n",
              "    </tr>\n",
              "    <tr>\n",
              "      <th>1</th>\n",
              "      <td>[[[189.0], [188.0], [186.0], [185.0], [185.0],...</td>\n",
              "      <td>1</td>\n",
              "      <td>0</td>\n",
              "      <td>0</td>\n",
              "      <td>0</td>\n",
              "      <td>0</td>\n",
              "      <td>0</td>\n",
              "      <td>0</td>\n",
              "      <td>0</td>\n",
              "      <td>0</td>\n",
              "      <td>0</td>\n",
              "      <td>0</td>\n",
              "    </tr>\n",
              "    <tr>\n",
              "      <th>2</th>\n",
              "      <td>[[[114.0], [107.0], [93.0], [85.0], [83.0], [7...</td>\n",
              "      <td>1</td>\n",
              "      <td>0</td>\n",
              "      <td>0</td>\n",
              "      <td>0</td>\n",
              "      <td>0</td>\n",
              "      <td>0</td>\n",
              "      <td>0</td>\n",
              "      <td>0</td>\n",
              "      <td>0</td>\n",
              "      <td>0</td>\n",
              "      <td>0</td>\n",
              "    </tr>\n",
              "    <tr>\n",
              "      <th>3</th>\n",
              "      <td>[[[53.0], [55.0], [42.0], [7.0], [140.0], [149...</td>\n",
              "      <td>1</td>\n",
              "      <td>0</td>\n",
              "      <td>0</td>\n",
              "      <td>0</td>\n",
              "      <td>0</td>\n",
              "      <td>0</td>\n",
              "      <td>0</td>\n",
              "      <td>0</td>\n",
              "      <td>0</td>\n",
              "      <td>0</td>\n",
              "      <td>0</td>\n",
              "    </tr>\n",
              "    <tr>\n",
              "      <th>4</th>\n",
              "      <td>[[[162.0], [165.0], [168.0], [165.0], [167.0],...</td>\n",
              "      <td>1</td>\n",
              "      <td>0</td>\n",
              "      <td>0</td>\n",
              "      <td>0</td>\n",
              "      <td>0</td>\n",
              "      <td>0</td>\n",
              "      <td>0</td>\n",
              "      <td>0</td>\n",
              "      <td>0</td>\n",
              "      <td>0</td>\n",
              "      <td>0</td>\n",
              "    </tr>\n",
              "  </tbody>\n",
              "</table>\n",
              "</div>"
            ],
            "text/plain": [
              "                                            sequence  Bean  Bitter_Gourd  \\\n",
              "0  [[[34.0], [107.0], [32.0], [29.0], [34.0], [31...     1             0   \n",
              "1  [[[189.0], [188.0], [186.0], [185.0], [185.0],...     1             0   \n",
              "2  [[[114.0], [107.0], [93.0], [85.0], [83.0], [7...     1             0   \n",
              "3  [[[53.0], [55.0], [42.0], [7.0], [140.0], [149...     1             0   \n",
              "4  [[[162.0], [165.0], [168.0], [165.0], [167.0],...     1             0   \n",
              "\n",
              "   Brinjal  Cabbage  Capsicum  Cauliflower and Broccoli  \\\n",
              "0        0        0         0                         0   \n",
              "1        0        0         0                         0   \n",
              "2        0        0         0                         0   \n",
              "3        0        0         0                         0   \n",
              "4        0        0         0                         0   \n",
              "\n",
              "   Cucumber and Bottle_Gourd  Potato  Pumpkin  Radish and Carrot  Tomato  \n",
              "0                          0       0        0                  0       0  \n",
              "1                          0       0        0                  0       0  \n",
              "2                          0       0        0                  0       0  \n",
              "3                          0       0        0                  0       0  \n",
              "4                          0       0        0                  0       0  "
            ]
          },
          "execution_count": 39,
          "metadata": {},
          "output_type": "execute_result"
        }
      ],
      "source": [
        "train_data.head()"
      ]
    },
    {
      "cell_type": "markdown",
      "metadata": {},
      "source": [
        "In order to save computional time, we will save the data, allowing us to build our df from it.\n",
        "\n",
        "We are using json format, as integrates seamlessly with my **sequence** column"
      ]
    },
    {
      "cell_type": "code",
      "execution_count": 40,
      "metadata": {},
      "outputs": [],
      "source": [
        "train_data.to_json(os.path.join(STORED_DATA , 'train_23.json') , orient='records')\n",
        "\n",
        "## repeat for test and validation\n",
        "test_data = get_greyscale_data('test' , (23 , 23))\n",
        "validation_data = get_greyscale_data('validation' , (23 , 23))\n",
        "\n",
        "test_data.to_json(os.path.join(STORED_DATA , 'test_23.json') , orient='records')\n",
        "validation_data.to_json(os.path.join(STORED_DATA , 'validation_23.json') , orient='records')"
      ]
    },
    {
      "cell_type": "markdown",
      "metadata": {},
      "source": [
        "With our data exported, we can reimport it "
      ]
    },
    {
      "cell_type": "code",
      "execution_count": 45,
      "metadata": {},
      "outputs": [],
      "source": [
        "test_data , train_data , validation_data = build_data(23)"
      ]
    },
    {
      "cell_type": "code",
      "execution_count": 46,
      "metadata": {},
      "outputs": [
        {
          "data": {
            "text/html": [
              "<div>\n",
              "<style scoped>\n",
              "    .dataframe tbody tr th:only-of-type {\n",
              "        vertical-align: middle;\n",
              "    }\n",
              "\n",
              "    .dataframe tbody tr th {\n",
              "        vertical-align: top;\n",
              "    }\n",
              "\n",
              "    .dataframe thead th {\n",
              "        text-align: right;\n",
              "    }\n",
              "</style>\n",
              "<table border=\"1\" class=\"dataframe\">\n",
              "  <thead>\n",
              "    <tr style=\"text-align: right;\">\n",
              "      <th></th>\n",
              "      <th>sequence</th>\n",
              "      <th>Bean</th>\n",
              "      <th>Bitter_Gourd</th>\n",
              "      <th>Brinjal</th>\n",
              "      <th>Cabbage</th>\n",
              "      <th>Capsicum</th>\n",
              "      <th>Cauliflower and Broccoli</th>\n",
              "      <th>Cucumber and Bottle_Gourd</th>\n",
              "      <th>Potato</th>\n",
              "      <th>Pumpkin</th>\n",
              "      <th>Radish and Carrot</th>\n",
              "      <th>Tomato</th>\n",
              "    </tr>\n",
              "  </thead>\n",
              "  <tbody>\n",
              "    <tr>\n",
              "      <th>0</th>\n",
              "      <td>[[[34.0], [107.0], [32.0], [29.0], [34.0], [31...</td>\n",
              "      <td>1</td>\n",
              "      <td>0</td>\n",
              "      <td>0</td>\n",
              "      <td>0</td>\n",
              "      <td>0</td>\n",
              "      <td>0</td>\n",
              "      <td>0</td>\n",
              "      <td>0</td>\n",
              "      <td>0</td>\n",
              "      <td>0</td>\n",
              "      <td>0</td>\n",
              "    </tr>\n",
              "    <tr>\n",
              "      <th>1</th>\n",
              "      <td>[[[189.0], [188.0], [186.0], [185.0], [185.0],...</td>\n",
              "      <td>1</td>\n",
              "      <td>0</td>\n",
              "      <td>0</td>\n",
              "      <td>0</td>\n",
              "      <td>0</td>\n",
              "      <td>0</td>\n",
              "      <td>0</td>\n",
              "      <td>0</td>\n",
              "      <td>0</td>\n",
              "      <td>0</td>\n",
              "      <td>0</td>\n",
              "    </tr>\n",
              "    <tr>\n",
              "      <th>2</th>\n",
              "      <td>[[[114.0], [107.0], [93.0], [85.0], [83.0], [7...</td>\n",
              "      <td>1</td>\n",
              "      <td>0</td>\n",
              "      <td>0</td>\n",
              "      <td>0</td>\n",
              "      <td>0</td>\n",
              "      <td>0</td>\n",
              "      <td>0</td>\n",
              "      <td>0</td>\n",
              "      <td>0</td>\n",
              "      <td>0</td>\n",
              "      <td>0</td>\n",
              "    </tr>\n",
              "    <tr>\n",
              "      <th>3</th>\n",
              "      <td>[[[53.0], [55.0], [42.0], [7.0], [140.0], [149...</td>\n",
              "      <td>1</td>\n",
              "      <td>0</td>\n",
              "      <td>0</td>\n",
              "      <td>0</td>\n",
              "      <td>0</td>\n",
              "      <td>0</td>\n",
              "      <td>0</td>\n",
              "      <td>0</td>\n",
              "      <td>0</td>\n",
              "      <td>0</td>\n",
              "      <td>0</td>\n",
              "    </tr>\n",
              "    <tr>\n",
              "      <th>4</th>\n",
              "      <td>[[[162.0], [165.0], [168.0], [165.0], [167.0],...</td>\n",
              "      <td>1</td>\n",
              "      <td>0</td>\n",
              "      <td>0</td>\n",
              "      <td>0</td>\n",
              "      <td>0</td>\n",
              "      <td>0</td>\n",
              "      <td>0</td>\n",
              "      <td>0</td>\n",
              "      <td>0</td>\n",
              "      <td>0</td>\n",
              "      <td>0</td>\n",
              "    </tr>\n",
              "  </tbody>\n",
              "</table>\n",
              "</div>"
            ],
            "text/plain": [
              "                                            sequence  Bean  Bitter_Gourd  \\\n",
              "0  [[[34.0], [107.0], [32.0], [29.0], [34.0], [31...     1             0   \n",
              "1  [[[189.0], [188.0], [186.0], [185.0], [185.0],...     1             0   \n",
              "2  [[[114.0], [107.0], [93.0], [85.0], [83.0], [7...     1             0   \n",
              "3  [[[53.0], [55.0], [42.0], [7.0], [140.0], [149...     1             0   \n",
              "4  [[[162.0], [165.0], [168.0], [165.0], [167.0],...     1             0   \n",
              "\n",
              "   Brinjal  Cabbage  Capsicum  Cauliflower and Broccoli  \\\n",
              "0        0        0         0                         0   \n",
              "1        0        0         0                         0   \n",
              "2        0        0         0                         0   \n",
              "3        0        0         0                         0   \n",
              "4        0        0         0                         0   \n",
              "\n",
              "   Cucumber and Bottle_Gourd  Potato  Pumpkin  Radish and Carrot  Tomato  \n",
              "0                          0       0        0                  0       0  \n",
              "1                          0       0        0                  0       0  \n",
              "2                          0       0        0                  0       0  \n",
              "3                          0       0        0                  0       0  \n",
              "4                          0       0        0                  0       0  "
            ]
          },
          "execution_count": 46,
          "metadata": {},
          "output_type": "execute_result"
        }
      ],
      "source": [
        "train_data.head()"
      ]
    },
    {
      "cell_type": "markdown",
      "metadata": {},
      "source": [
        "We can recontruct it and plot it using matplotlib "
      ]
    },
    {
      "cell_type": "code",
      "execution_count": 47,
      "metadata": {},
      "outputs": [
        {
          "data": {
            "image/png": "[encoded data removed]",
            "text/plain": [
              "<Figure size 640x480 with 1 Axes>"
            ]
          },
          "metadata": {},
          "output_type": "display_data"
        }
      ],
      "source": [
        "plt.imshow(train_data['sequence'].iloc[0])\n",
        "plt.axis('off')\n",
        "plt.show()"
      ]
    },
    {
      "cell_type": "markdown",
      "metadata": {},
      "source": [
        "##### Comparing it to its real img counterpart\n",
        "<style>\n",
        ".two_col_row {\n",
        "  display: grid;\n",
        "  grid-template-columns: 1fr 1fr; /* Two equal columns */\n",
        "  gap: 20px; /* Space between items */\n",
        "  padding: 20px\n",
        "}\n",
        "\n",
        "img {\n",
        "  height: auto;\n",
        "  width: 100%;\n",
        "}\n",
        "\n",
        "\n",
        "\n",
        "  </style>\n",
        "<div class='two_col_row'>\n",
        "  <img src='./markdown/bean_1_reconstruction.png'>\n",
        "  <img src='./markdown/bean_1_original.jpg'>\n",
        "</div>\n",
        "\n",
        "\n"
      ]
    },
    {
      "cell_type": "markdown",
      "metadata": {},
      "source": [
        "Simply from the first image of **Bean**, it is already not a bean but a **carrot**\n",
        "\n",
        "Manual Inspection of the **training** data shows that there is a **large majority of beans** in the bean dataset but there are **a small amount of mislabelled vegetables**\n",
        "\n",
        "##### Solution? \n",
        "\n",
        "We are going to **create an autoencoder** and **use the bottleneck to detect abnomalies**"
      ]
    },
    {
      "cell_type": "code",
      "execution_count": 48,
      "metadata": {},
      "outputs": [
        {
          "data": {
            "text/plain": [
              "92520"
            ]
          },
          "execution_count": 48,
          "metadata": {},
          "output_type": "execute_result"
        }
      ],
      "source": [
        "train_data.size"
      ]
    },
    {
      "cell_type": "code",
      "execution_count": 67,
      "metadata": {},
      "outputs": [
        {
          "name": "stdout",
          "output_type": "stream",
          "text": [
            "Model: \"sequential_6\"\n",
            "_________________________________________________________________\n",
            " Layer (type)                Output Shape              Param #   \n",
            "=================================================================\n",
            " conv2d_20 (Conv2D)          (None, 23, 23, 128)       1280      \n",
            "                                                                 \n",
            " max_pooling2d_6 (MaxPooling  (None, 12, 12, 128)      0         \n",
            " 2D)                                                             \n",
            "                                                                 \n",
            " conv2d_21 (Conv2D)          (None, 12, 12, 32)        36896     \n",
            "                                                                 \n",
            " up_sampling2d_6 (UpSampling  (None, 24, 24, 32)       0         \n",
            " 2D)                                                             \n",
            "                                                                 \n",
            " conv2d_22 (Conv2D)          (None, 24, 24, 32)        9248      \n",
            "                                                                 \n",
            " cropping2d (Cropping2D)     (None, 23, 23, 32)        0         \n",
            "                                                                 \n",
            " conv2d_23 (Conv2D)          (None, 23, 23, 1)         289       \n",
            "                                                                 \n",
            "=================================================================\n",
            "Total params: 47,713\n",
            "Trainable params: 47,713\n",
            "Non-trainable params: 0\n",
            "_________________________________________________________________\n"
          ]
        }
      ],
      "source": [
        "# Creating the autoencoder\n",
        "# We do not need to tune this encoder, we want to keep it simple (generalize well)\n",
        "\n",
        "autoencoder = Sequential([\n",
        "  # encoding part\n",
        "  Conv2D(filters=128 , kernel_size=(3 , 3) , activation='relu' , input_shape=(23 , 23 , 1), padding='same'),\n",
        "  MaxPooling2D((2 , 2), padding='same'),\n",
        "  Conv2D(filters=32 , kernel_size=(3 , 3) , activation='relu', padding='same'), # bottleneck / compressed layer (32 features)\n",
        "  # decoding part\n",
        "  UpSampling2D((2 , 2)),\n",
        "  Conv2D(filters=32 , kernel_size=(3 , 3) , activation='relu', padding='same'),\n",
        "  Cropping2D(cropping=((0,1) , (0,1))), # ensures output is 23x23\n",
        "  Conv2D(filters=1 , kernel_size=(3 , 3) , activation='sigmoid', padding='same') # output layer\n",
        "])\n",
        "autoencoder.summary()"
      ]
    },
    {
      "cell_type": "code",
      "execution_count": 68,
      "metadata": {},
      "outputs": [
        {
          "name": "stdout",
          "output_type": "stream",
          "text": [
            "Epoch 1/30\n",
            "241/241 [==============================] - 16s 65ms/step - loss: -41182695424.0000\n",
            "Epoch 2/30\n",
            "241/241 [==============================] - 16s 65ms/step - loss: -2068607664128.0000\n",
            "Epoch 3/30\n",
            "241/241 [==============================] - 15s 64ms/step - loss: -16363092443136.0000\n",
            "Epoch 4/30\n",
            "241/241 [==============================] - 15s 64ms/step - loss: -62373863882752.0000\n",
            "Epoch 5/30\n",
            "241/241 [==============================] - 15s 64ms/step - loss: -165307721187328.0000\n",
            "Epoch 6/30\n",
            "241/241 [==============================] - 15s 63ms/step - loss: -353923323920384.0000\n",
            "Epoch 7/30\n",
            "241/241 [==============================] - 15s 63ms/step - loss: -657200527704064.0000\n",
            "Epoch 8/30\n",
            "241/241 [==============================] - 15s 62ms/step - loss: -1103595940347904.0000\n",
            "Epoch 9/30\n",
            "241/241 [==============================] - 16s 66ms/step - loss: -1720837971378176.0000\n",
            "Epoch 10/30\n",
            "241/241 [==============================] - 19s 78ms/step - loss: -2536271603826688.0000\n",
            "Epoch 11/30\n",
            "241/241 [==============================] - 16s 65ms/step - loss: -3577215178506240.0000\n",
            "Epoch 12/30\n",
            "241/241 [==============================] - 16s 65ms/step - loss: -4868371736690688.0000\n",
            "Epoch 13/30\n",
            "241/241 [==============================] - 15s 62ms/step - loss: -6435892528939008.0000\n",
            "Epoch 14/30\n",
            "241/241 [==============================] - 14s 60ms/step - loss: -8305613125713920.0000\n",
            "Epoch 15/30\n",
            "241/241 [==============================] - 11s 44ms/step - loss: -10504102731579392.0000\n",
            "Epoch 16/30\n",
            "241/241 [==============================] - 10s 43ms/step - loss: -13054643290505216.0000\n",
            "Epoch 17/30\n",
            "241/241 [==============================] - 11s 44ms/step - loss: -15982822070157312.0000\n",
            "Epoch 18/30\n",
            "241/241 [==============================] - 10s 43ms/step - loss: -19315636161216512.0000\n",
            "Epoch 19/30\n",
            "241/241 [==============================] - 11s 45ms/step - loss: -23080069769461760.0000\n",
            "Epoch 20/30\n",
            "241/241 [==============================] - 11s 44ms/step - loss: -27297315337273344.0000\n",
            "Epoch 21/30\n",
            "241/241 [==============================] - 11s 44ms/step - loss: -31996939419516928.0000\n",
            "Epoch 22/30\n",
            "241/241 [==============================] - 10s 43ms/step - loss: -37207911570604032.0000\n",
            "Epoch 23/30\n",
            "241/241 [==============================] - 11s 45ms/step - loss: -42957614354530304.0000\n",
            "Epoch 24/30\n",
            "241/241 [==============================] - 11s 45ms/step - loss: -49268265637117952.0000\n",
            "Epoch 25/30\n",
            "241/241 [==============================] - 13s 52ms/step - loss: -56170359686168576.0000\n",
            "Epoch 26/30\n",
            "241/241 [==============================] - 14s 59ms/step - loss: -63697861103058944.0000\n",
            "Epoch 27/30\n",
            "241/241 [==============================] - 10s 43ms/step - loss: -71876144554573824.0000\n",
            "Epoch 28/30\n",
            "241/241 [==============================] - 10s 43ms/step - loss: -80734493127737344.0000\n",
            "Epoch 29/30\n",
            "241/241 [==============================] - 10s 43ms/step - loss: -90297289351888896.0000\n",
            "Epoch 30/30\n",
            "241/241 [==============================] - 10s 43ms/step - loss: -100605193682419712.0000\n"
          ]
        },
        {
          "data": {
            "text/plain": [
              "<keras.callbacks.History at 0x1f1abeca910>"
            ]
          },
          "execution_count": 68,
          "metadata": {},
          "output_type": "execute_result"
        }
      ],
      "source": [
        "# compile and train\n",
        "autoencoder.compile(loss='binary_crossentropy' , optimizer='adam')\n",
        "\n",
        "X_train = np.stack(train_data['sequence'].values)\n",
        "\n",
        "# X_train for both since we dont actually use the y labels\n",
        "autoencoder.fit(X_train , X_train , epochs=30)"
      ]
    },
    {
      "cell_type": "code",
      "execution_count": null,
      "metadata": {},
      "outputs": [],
      "source": []
    }
  ],
  "metadata": {
    "accelerator": "TPU",
    "colab": {
      "authorship_tag": "ABX9TyMlDngE2wUIKHx1Ai5fv/P6",
      "gpuType": "V28",
      "include_colab_link": true,
      "provenance": []
    },
    "kernelspec": {
      "display_name": "gpu_accel_tensor",
      "language": "python",
      "name": "python3"
    },
    "language_info": {
      "codemirror_mode": {
        "name": "ipython",
        "version": 3
      },
      "file_extension": ".py",
      "mimetype": "text/x-python",
      "name": "python",
      "nbconvert_exporter": "python",
      "pygments_lexer": "ipython3",
      "version": "3.8.18"
    }
  },
  "nbformat": 4,
  "nbformat_minor": 0
}

{
  "nbformat": 4,
  "nbformat_minor": 0,
  "metadata": {
    "colab": {
      "provenance": [],
      "gpuType": "V28",
      "authorship_tag": "ABX9TyMlDngE2wUIKHx1Ai5fv/P6",
      "include_colab_link": true
    },
    "kernelspec": {
      "name": "python3",
      "display_name": "Python 3"
    },
    "language_info": {
      "name": "python"
    },
    "accelerator": "TPU"
  },
  "cells": [
    {
      "cell_type": "markdown",
      "metadata": {
        "id": "view-in-github",
        "colab_type": "text"
      },
      "source": [
        "<a href=\"https://colab.research.google.com/github/stupidbutsmart/DELE-CA1/blob/master/CNN.ipynb\" target=\"_parent\"><img src=\"https://colab.research.google.com/assets/colab-badge.svg\" alt=\"Open In Colab\"/></a>"
      ]
    },
    {
      "cell_type": "markdown",
      "source": [
        "## Section A CA1 CNN\n",
        "\n",
        "Name: Jovan Heng Ghim Hong\n",
        "\n",
        "Class: DAAA/2B/22\n",
        "\n",
        "Admin No: 2401418"
      ],
      "metadata": {
        "id": "drYdFP8ZjTIU"
      }
    },
    {
      "cell_type": "code",
      "execution_count": 34,
      "metadata": {
        "id": "VlnTAWvYfMzC"
      },
      "outputs": [],
      "source": [
        "# Basic Imports\n",
        "import os\n",
        "import pandas as pd\n",
        "import numpy as np\n",
        "import matplotlib.pyplot as plt\n",
        "import warnings\n",
        "\n",
        "import tensorflow as tf\n",
        "from tensorflow.keras.models import Sequential\n",
        "from tensorflow.keras.layers import Dense, Flatten , Conv2D\n",
        "from sklearn.model_selection import RandomizedSearchCV\n",
        "from tensorflow.keras.preprocessing import image\n",
        "\n",
        "## for keras classifier i will be using scikeras lib\n",
        "## 2.12+ no longer supports tensorflow.keras.wrappers.scikit_learn\n",
        "## this was coded in colab, thus 2.19 is used\n",
        "from scikeras.wrappers import KerasClassifier\n",
        "\n",
        "\n",
        "warnings.filterwarnings('ignore');"
      ]
    },
    {
      "cell_type": "markdown",
      "source": [
        "### Creating UDFs to aid workflow\n",
        "\n",
        "Before i start, i want to create some functions that can help me with my work.\n",
        "\n",
        "basic functions like:\n",
        "1. create model function\n",
        "2. autoencoder function\n",
        "3. data processing functions\n",
        "\n",
        "etc.\n",
        "\n",
        "This can help modularize my code (especially since im working with 2 models) and make it easier for future collaborater to understand"
      ],
      "metadata": {
        "id": "81N_4zcFl8ql"
      }
    },
    {
      "cell_type": "code",
      "source": [
        "DATASET_PATH = './datasets/'\n",
        "\n",
        "def get_data(data_type):\n",
        "  data = pd.DataFrame(columns = ['sequence'])\n",
        "\n",
        "  for target in os.listdir(DATASET_PATH + data_type):\n",
        "    # create col for target\n",
        "    data[target] = 0\n",
        "    for file_name in os.listdir(DATASET_PATH + data_type + target):\n",
        "      img = image.load_img(DATASET_PATH + data_type + target + file_name)\n",
        "      img = image.img_to_array(img)\n",
        "      data.append({ 'sequence': img , target: 1})\n",
        "\n",
        "  return data\n",
        "\n",
        ""
      ],
      "metadata": {
        "id": "6uQ3FWgV9FxE"
      },
      "execution_count": 35,
      "outputs": []
    },
    {
      "cell_type": "code",
      "source": [
        "def create_model(\n",
        "    number_of_layers=3 , number_of_neurons=128,\n",
        "    optimizer='adam' , activation='relu',\n",
        "    layers=[Conv2D], # incase i want to add more layers\n",
        "    strict_follow_layers = False,\n",
        "    input_shape=(23 , 23 , 3) # follows first layer\n",
        "):\n",
        "  model = Sequential()\n",
        "\n",
        "  # Adding layers\n",
        "  if strict_follow_layers:\n",
        "    for layer in layers:\n",
        "      model.add(layer(number_of_neurons , activation=activation))\n",
        "  else:\n",
        "    for i in range(number_of_layers):\n",
        "      for layer in layers:\n",
        "        model.add(layer(number_of_neurons , activation=activation))\n",
        "\n",
        "  model.add(Flatten())\n",
        "  model.add(Dense(1 , activation='softmax'))\n",
        "  model.compile(optimizer=optimizer , loss='categorical_crossentropy' , metrics=['accuracy'])\n",
        "\n",
        "  return KerasClassifier(model)\n",
        "\n"
      ],
      "metadata": {
        "id": "RTynbJChkSH0"
      },
      "execution_count": 32,
      "outputs": []
    }
  ]
}
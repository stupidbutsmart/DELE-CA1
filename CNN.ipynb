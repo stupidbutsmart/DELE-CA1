{
  "cells": [
    {
      "cell_type": "markdown",
      "metadata": {
        "colab_type": "text",
        "id": "view-in-github"
      },
      "source": [
        "<a href=\"https://colab.research.google.com/github/stupidbutsmart/DELE-CA1/blob/master/CNN.ipynb\" target=\"_parent\"><img src=\"https://colab.research.google.com/assets/colab-badge.svg\" alt=\"Open In Colab\"/></a>"
      ]
    },
    {
      "cell_type": "markdown",
      "metadata": {
        "id": "drYdFP8ZjTIU"
      },
      "source": [
        "## Section A CA1 CNN\n",
        "\n",
        "Name: Jovan Heng Ghim Hong\n",
        "\n",
        "Class: DAAA/2B/22\n",
        "\n",
        "Admin No: 2401418"
      ]
    },
    {
      "cell_type": "code",
      "execution_count": 5,
      "metadata": {
        "id": "VlnTAWvYfMzC"
      },
      "outputs": [],
      "source": [
        "# Basic Imports\n",
        "import os\n",
        "import pandas as pd\n",
        "import numpy as np\n",
        "import matplotlib.pyplot as plt\n",
        "import warnings\n",
        "\n",
        "import tensorflow as tf\n",
        "from tensorflow.keras.models import Sequential\n",
        "from tensorflow.keras.layers import Dense, Flatten , Conv2D\n",
        "from sklearn.model_selection import RandomizedSearchCV\n",
        "from tensorflow.keras.preprocessing import image\n",
        "\n",
        "## for keras classifier i will be using scikeras lib\n",
        "## 2.12+ no longer supports tensorflow.keras.wrappers.scikit_learn\n",
        "## this was coded in colab, thus 2.19 is used\n",
        "from scikeras.wrappers import KerasClassifier\n",
        "\n",
        "\n",
        "warnings.filterwarnings('ignore');"
      ]
    },
    {
      "cell_type": "markdown",
      "metadata": {
        "id": "81N_4zcFl8ql"
      },
      "source": [
        "### Creating UDFs to aid workflow\n",
        "\n",
        "Before i start, i want to create some functions that can help me with my work.\n",
        "\n",
        "basic functions like:\n",
        "1. create model function\n",
        "2. autoencoder function\n",
        "3. data processing functions\n",
        "\n",
        "etc.\n",
        "\n",
        "This can help modularize my code (especially since im working with 2 models) and make it easier for future collaborater to understand"
      ]
    },
    {
      "cell_type": "code",
      "execution_count": 37,
      "metadata": {
        "id": "6uQ3FWgV9FxE"
      },
      "outputs": [],
      "source": [
        "DATASET_PATH = './datasets/'\n",
        "\n",
        "def get_data(data_type , size):\n",
        "  targets = [ target for target in os.listdir(DATASET_PATH + data_type)]\n",
        "\n",
        "  rows = []\n",
        "  for target in targets: \n",
        "    for file_name in os.listdir(os.path.join(DATASET_PATH , data_type ,  target)):\n",
        "      img = image.load_img(os.path.join(DATASET_PATH , data_type, target , file_name ) , target_size=size)\n",
        "      img = image.img_to_array(img)\n",
        "      \n",
        "      record = {'sequence' : img}\n",
        "      for t in targets:\n",
        "        record[t] = 1 if t == target else 0\n",
        "\n",
        "      rows.append(record)\n",
        "\n",
        "  return pd.DataFrame(rows , columns=['sequence'] + targets)\n",
        "\n"
      ]
    },
    {
      "cell_type": "code",
      "execution_count": 38,
      "metadata": {
        "id": "RTynbJChkSH0"
      },
      "outputs": [],
      "source": [
        "def create_model(\n",
        "    number_of_layers=3 , number_of_neurons=128,\n",
        "    optimizer='adam' , activation='relu',\n",
        "    layers=[Conv2D], # incase i want to add more layers\n",
        "    strict_follow_layers = False,\n",
        "    input_shape=(23 , 23 , 3) # follows first layer\n",
        "):\n",
        "  model = Sequential()\n",
        "\n",
        "  # Adding layers\n",
        "  if strict_follow_layers:\n",
        "    for layer in layers:\n",
        "      model.add(layer(number_of_neurons , activation=activation))\n",
        "  else:\n",
        "    for i in range(number_of_layers):\n",
        "      for layer in layers:\n",
        "        model.add(layer(number_of_neurons , activation=activation))\n",
        "\n",
        "  model.add(Flatten())\n",
        "  model.add(Dense(1 , activation='softmax'))\n",
        "  model.compile(optimizer=optimizer , loss='categorical_crossentropy' , metrics=['accuracy'])\n",
        "\n",
        "  return KerasClassifier(model)\n",
        "\n"
      ]
    },
    {
      "cell_type": "code",
      "execution_count": 39,
      "metadata": {},
      "outputs": [],
      "source": [
        "train_data = get_data('train' , (23 , 23))"
      ]
    },
    {
      "cell_type": "code",
      "execution_count": 41,
      "metadata": {},
      "outputs": [
        {
          "data": {
            "text/html": [
              "<div>\n",
              "<style scoped>\n",
              "    .dataframe tbody tr th:only-of-type {\n",
              "        vertical-align: middle;\n",
              "    }\n",
              "\n",
              "    .dataframe tbody tr th {\n",
              "        vertical-align: top;\n",
              "    }\n",
              "\n",
              "    .dataframe thead th {\n",
              "        text-align: right;\n",
              "    }\n",
              "</style>\n",
              "<table border=\"1\" class=\"dataframe\">\n",
              "  <thead>\n",
              "    <tr style=\"text-align: right;\">\n",
              "      <th></th>\n",
              "      <th>sequence</th>\n",
              "      <th>Bean</th>\n",
              "      <th>Bitter_Gourd</th>\n",
              "      <th>Brinjal</th>\n",
              "      <th>Cabbage</th>\n",
              "      <th>Capsicum</th>\n",
              "      <th>Cauliflower and Broccoli</th>\n",
              "      <th>Cucumber and Bottle_Gourd</th>\n",
              "      <th>Potato</th>\n",
              "      <th>Pumpkin</th>\n",
              "      <th>Radish and Carrot</th>\n",
              "      <th>Tomato</th>\n",
              "    </tr>\n",
              "  </thead>\n",
              "  <tbody>\n",
              "    <tr>\n",
              "      <th>0</th>\n",
              "      <td>[[[21.0, 38.0, 46.0], [90.0, 107.0, 150.0], [2...</td>\n",
              "      <td>1</td>\n",
              "      <td>0</td>\n",
              "      <td>0</td>\n",
              "      <td>0</td>\n",
              "      <td>0</td>\n",
              "      <td>0</td>\n",
              "      <td>0</td>\n",
              "      <td>0</td>\n",
              "      <td>0</td>\n",
              "      <td>0</td>\n",
              "      <td>0</td>\n",
              "    </tr>\n",
              "    <tr>\n",
              "      <th>1</th>\n",
              "      <td>[[[185.0, 189.0, 198.0], [184.0, 188.0, 197.0]...</td>\n",
              "      <td>1</td>\n",
              "      <td>0</td>\n",
              "      <td>0</td>\n",
              "      <td>0</td>\n",
              "      <td>0</td>\n",
              "      <td>0</td>\n",
              "      <td>0</td>\n",
              "      <td>0</td>\n",
              "      <td>0</td>\n",
              "      <td>0</td>\n",
              "      <td>0</td>\n",
              "    </tr>\n",
              "    <tr>\n",
              "      <th>2</th>\n",
              "      <td>[[[173.0, 95.0, 59.0], [160.0, 90.0, 54.0], [1...</td>\n",
              "      <td>1</td>\n",
              "      <td>0</td>\n",
              "      <td>0</td>\n",
              "      <td>0</td>\n",
              "      <td>0</td>\n",
              "      <td>0</td>\n",
              "      <td>0</td>\n",
              "      <td>0</td>\n",
              "      <td>0</td>\n",
              "      <td>0</td>\n",
              "      <td>0</td>\n",
              "    </tr>\n",
              "    <tr>\n",
              "      <th>3</th>\n",
              "      <td>[[[52.0, 53.0, 57.0], [54.0, 55.0, 59.0], [41....</td>\n",
              "      <td>1</td>\n",
              "      <td>0</td>\n",
              "      <td>0</td>\n",
              "      <td>0</td>\n",
              "      <td>0</td>\n",
              "      <td>0</td>\n",
              "      <td>0</td>\n",
              "      <td>0</td>\n",
              "      <td>0</td>\n",
              "      <td>0</td>\n",
              "      <td>0</td>\n",
              "    </tr>\n",
              "    <tr>\n",
              "      <th>4</th>\n",
              "      <td>[[[161.0, 162.0, 167.0], [161.0, 166.0, 170.0]...</td>\n",
              "      <td>1</td>\n",
              "      <td>0</td>\n",
              "      <td>0</td>\n",
              "      <td>0</td>\n",
              "      <td>0</td>\n",
              "      <td>0</td>\n",
              "      <td>0</td>\n",
              "      <td>0</td>\n",
              "      <td>0</td>\n",
              "      <td>0</td>\n",
              "      <td>0</td>\n",
              "    </tr>\n",
              "  </tbody>\n",
              "</table>\n",
              "</div>"
            ],
            "text/plain": [
              "                                            sequence  Bean  Bitter_Gourd  \\\n",
              "0  [[[21.0, 38.0, 46.0], [90.0, 107.0, 150.0], [2...     1             0   \n",
              "1  [[[185.0, 189.0, 198.0], [184.0, 188.0, 197.0]...     1             0   \n",
              "2  [[[173.0, 95.0, 59.0], [160.0, 90.0, 54.0], [1...     1             0   \n",
              "3  [[[52.0, 53.0, 57.0], [54.0, 55.0, 59.0], [41....     1             0   \n",
              "4  [[[161.0, 162.0, 167.0], [161.0, 166.0, 170.0]...     1             0   \n",
              "\n",
              "   Brinjal  Cabbage  Capsicum  Cauliflower and Broccoli  \\\n",
              "0        0        0         0                         0   \n",
              "1        0        0         0                         0   \n",
              "2        0        0         0                         0   \n",
              "3        0        0         0                         0   \n",
              "4        0        0         0                         0   \n",
              "\n",
              "   Cucumber and Bottle_Gourd  Potato  Pumpkin  Radish and Carrot  Tomato  \n",
              "0                          0       0        0                  0       0  \n",
              "1                          0       0        0                  0       0  \n",
              "2                          0       0        0                  0       0  \n",
              "3                          0       0        0                  0       0  \n",
              "4                          0       0        0                  0       0  "
            ]
          },
          "execution_count": 41,
          "metadata": {},
          "output_type": "execute_result"
        }
      ],
      "source": [
        "train_data.head()"
      ]
    },
    {
      "cell_type": "code",
      "execution_count": null,
      "metadata": {},
      "outputs": [],
      "source": []
    }
  ],
  "metadata": {
    "accelerator": "TPU",
    "colab": {
      "authorship_tag": "ABX9TyMlDngE2wUIKHx1Ai5fv/P6",
      "gpuType": "V28",
      "include_colab_link": true,
      "provenance": []
    },
    "kernelspec": {
      "display_name": "gpu_accel_tensor",
      "language": "python",
      "name": "python3"
    },
    "language_info": {
      "codemirror_mode": {
        "name": "ipython",
        "version": 3
      },
      "file_extension": ".py",
      "mimetype": "text/x-python",
      "name": "python",
      "nbconvert_exporter": "python",
      "pygments_lexer": "ipython3",
      "version": "3.8.18"
    }
  },
  "nbformat": 4,
  "nbformat_minor": 0
}
